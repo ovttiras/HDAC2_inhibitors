{
 "cells": [
  {
   "cell_type": "markdown",
   "id": "530dbbf0",
   "metadata": {},
   "source": [
    "# Importing modules and functions"
   ]
  },
  {
   "cell_type": "code",
   "execution_count": 1,
   "id": "f3d61c9c",
   "metadata": {},
   "outputs": [
    {
     "name": "stderr",
     "output_type": "stream",
     "text": [
      "[17:47:42] Initializing Normalizer\n"
     ]
    }
   ],
   "source": [
    "from rdkit import Chem, DataStructs\n",
    "from rdkit.Chem import AllChem, Descriptors\n",
    "from rdkit.ML.Descriptors import MoleculeDescriptors\n",
    "import chembl_structure_pipeline\n",
    "from molvs import standardize_smiles\n",
    "import numpy as np\n",
    "import pandas as pd\n",
    "from copy import deepcopy\n",
    "from sklearn.svm import SVR\n",
    "from sklearn.model_selection import train_test_split,KFold, StratifiedKFold, GridSearchCV\n",
    "from sklearn.model_selection import permutation_test_score\n",
    "from sklearn.preprocessing import StandardScaler\n",
    "from sklearn.model_selection import cross_val_predict\n",
    "from sklearn import metrics\n",
    "from sklearn.metrics import cohen_kappa_score\n",
    "from sklearn.metrics import balanced_accuracy_score\n",
    "from sklearn.metrics import pairwise_distances\n",
    "from sklearn.model_selection import train_test_split\n",
    "from sklearn.ensemble import GradientBoostingRegressor\n",
    "from sklearn.ensemble import RandomForestRegressor\n",
    "from sklearn.metrics import mean_squared_error\n",
    "from sklearn.metrics import mean_absolute_error\n",
    "from sklearn.metrics import r2_score\n",
    "import joblib\n",
    "import pickle\n",
    "from numpy import savetxt\n",
    "from IPython.display import HTML\n",
    "from rdkit.Chem import PandasTools"
   ]
  },
  {
   "cell_type": "code",
   "execution_count": 2,
   "id": "61962cd2",
   "metadata": {},
   "outputs": [],
   "source": [
    "def convert_smi_to_canon_smi(smi):\n",
    "    \n",
    "    try:\n",
    "        canon_smi = Chem.MolToSmiles(Chem.MolFromSmiles(smi),isomericSmiles = False)\n",
    "    except:\n",
    "        canon_smi='wrong_smiles'\n",
    "    return canon_smi"
   ]
  },
  {
   "cell_type": "code",
   "execution_count": 3,
   "id": "0dd6e9df",
   "metadata": {},
   "outputs": [],
   "source": [
    "def standart(smi):\n",
    "    global m\n",
    "    if smi!='wrong_smiles':\n",
    "        try:\n",
    "            smiles=standardize_smiles(smi)\n",
    "            m = Chem.MolFromSmiles(smi)\n",
    "        except:\n",
    "            smi='error kekule'\n",
    "    else:\n",
    "        m = 'check the smiles'\n",
    "    return m"
   ]
  },
  {
   "cell_type": "markdown",
   "id": "5015c4d6",
   "metadata": {},
   "source": [
    "# MORGAN FP_Gradient Boosting Rat oral LD50, mg/kg  "
   ]
  },
  {
   "cell_type": "markdown",
   "id": "df67a941",
   "metadata": {},
   "source": [
    "## Load data and curation work set"
   ]
  },
  {
   "cell_type": "code",
   "execution_count": 4,
   "id": "433f7dd5",
   "metadata": {},
   "outputs": [
    {
     "data": {
      "text/html": [
       "<div>\n",
       "<style scoped>\n",
       "    .dataframe tbody tr th:only-of-type {\n",
       "        vertical-align: middle;\n",
       "    }\n",
       "\n",
       "    .dataframe tbody tr th {\n",
       "        vertical-align: top;\n",
       "    }\n",
       "\n",
       "    .dataframe thead th {\n",
       "        text-align: right;\n",
       "    }\n",
       "</style>\n",
       "<table border=\"1\" class=\"dataframe\">\n",
       "  <thead>\n",
       "    <tr style=\"text-align: right;\">\n",
       "      <th></th>\n",
       "      <th>CAS_Number</th>\n",
       "      <th>SMILES</th>\n",
       "      <th>pLD50</th>\n",
       "      <th>LD50,mg/kg</th>\n",
       "    </tr>\n",
       "  </thead>\n",
       "  <tbody>\n",
       "    <tr>\n",
       "      <th>0</th>\n",
       "      <td>626-48-2</td>\n",
       "      <td>Cc1cc(=O)[nH]c(=O)[nH]1</td>\n",
       "      <td>0.291207</td>\n",
       "      <td>64463.0000</td>\n",
       "    </tr>\n",
       "    <tr>\n",
       "      <th>1</th>\n",
       "      <td>27849-94-1</td>\n",
       "      <td>CC(CCc1ccc2c(c1)OCO2)NN</td>\n",
       "      <td>0.440660</td>\n",
       "      <td>75449.0000</td>\n",
       "    </tr>\n",
       "    <tr>\n",
       "      <th>2</th>\n",
       "      <td>110-54-3</td>\n",
       "      <td>CCCCCC</td>\n",
       "      <td>0.537460</td>\n",
       "      <td>24980.0000</td>\n",
       "    </tr>\n",
       "    <tr>\n",
       "      <th>3</th>\n",
       "      <td>1330-92-3</td>\n",
       "      <td>CCCCC(CC)COC(=O)C1=C(C(=O)OCC(CC)CCCC)CCCC1</td>\n",
       "      <td>0.539250</td>\n",
       "      <td>113917.0000</td>\n",
       "    </tr>\n",
       "    <tr>\n",
       "      <th>4</th>\n",
       "      <td>57-55-6</td>\n",
       "      <td>CC(O)CO</td>\n",
       "      <td>0.580330</td>\n",
       "      <td>19989.0000</td>\n",
       "    </tr>\n",
       "    <tr>\n",
       "      <th>...</th>\n",
       "      <td>...</td>\n",
       "      <td>...</td>\n",
       "      <td>...</td>\n",
       "      <td>...</td>\n",
       "    </tr>\n",
       "    <tr>\n",
       "      <th>7707</th>\n",
       "      <td>56073-10-0</td>\n",
       "      <td>O=c1oc2ccccc2c(O)c1C1CC(c2ccc(-c3ccc(Br)cc3)cc...</td>\n",
       "      <td>6.514700</td>\n",
       "      <td>0.1596</td>\n",
       "    </tr>\n",
       "    <tr>\n",
       "      <th>7708</th>\n",
       "      <td>130209-82-4</td>\n",
       "      <td>CC(C)OC(=O)CCC/C=C/CC1C(O)CC(O)C1CCC(O)CCc1ccccc1</td>\n",
       "      <td>6.937100</td>\n",
       "      <td>0.0500</td>\n",
       "    </tr>\n",
       "    <tr>\n",
       "      <th>7709</th>\n",
       "      <td>83805-11-2</td>\n",
       "      <td>C=C1/C(=C\\C=C2/CCCC3(C)C2CCC3C(C)CCCC(O)(C(F)(...</td>\n",
       "      <td>7.099700</td>\n",
       "      <td>0.0417</td>\n",
       "    </tr>\n",
       "    <tr>\n",
       "      <th>7710</th>\n",
       "      <td>1746-01-6</td>\n",
       "      <td>Clc1cc2c(cc1Cl)Oc1cc(Cl)c(Cl)cc1O2</td>\n",
       "      <td>7.206800</td>\n",
       "      <td>0.0199</td>\n",
       "    </tr>\n",
       "    <tr>\n",
       "      <th>7711</th>\n",
       "      <td>316-42-7</td>\n",
       "      <td>CCC1CN2CCc3cc(OC)c(OC)cc3C2CC1CC1NCCc2cc(OC)c(...</td>\n",
       "      <td>7.602600</td>\n",
       "      <td>0.0120</td>\n",
       "    </tr>\n",
       "  </tbody>\n",
       "</table>\n",
       "<p>7712 rows × 4 columns</p>\n",
       "</div>"
      ],
      "text/plain": [
       "       CAS_Number                                             SMILES  \\\n",
       "0        626-48-2                            Cc1cc(=O)[nH]c(=O)[nH]1   \n",
       "1      27849-94-1                            CC(CCc1ccc2c(c1)OCO2)NN   \n",
       "2        110-54-3                                             CCCCCC   \n",
       "3       1330-92-3        CCCCC(CC)COC(=O)C1=C(C(=O)OCC(CC)CCCC)CCCC1   \n",
       "4         57-55-6                                            CC(O)CO   \n",
       "...           ...                                                ...   \n",
       "7707   56073-10-0  O=c1oc2ccccc2c(O)c1C1CC(c2ccc(-c3ccc(Br)cc3)cc...   \n",
       "7708  130209-82-4  CC(C)OC(=O)CCC/C=C/CC1C(O)CC(O)C1CCC(O)CCc1ccccc1   \n",
       "7709   83805-11-2  C=C1/C(=C\\C=C2/CCCC3(C)C2CCC3C(C)CCCC(O)(C(F)(...   \n",
       "7710    1746-01-6                 Clc1cc2c(cc1Cl)Oc1cc(Cl)c(Cl)cc1O2   \n",
       "7711     316-42-7  CCC1CN2CCc3cc(OC)c(OC)cc3C2CC1CC1NCCc2cc(OC)c(...   \n",
       "\n",
       "         pLD50   LD50,mg/kg  \n",
       "0     0.291207   64463.0000  \n",
       "1     0.440660   75449.0000  \n",
       "2     0.537460   24980.0000  \n",
       "3     0.539250  113917.0000  \n",
       "4     0.580330   19989.0000  \n",
       "...        ...          ...  \n",
       "7707  6.514700       0.1596  \n",
       "7708  6.937100       0.0500  \n",
       "7709  7.099700       0.0417  \n",
       "7710  7.206800       0.0199  \n",
       "7711  7.602600       0.0120  \n",
       "\n",
       "[7712 rows x 4 columns]"
      ]
     },
     "execution_count": 4,
     "metadata": {},
     "output_type": "execute_result"
    }
   ],
   "source": [
    "# Set file path\n",
    "df_ws=pd.read_csv('rat_oral_LD50_WS.csv')\n",
    "df_ws"
   ]
  },
  {
   "cell_type": "markdown",
   "id": "d8f9ce1c",
   "metadata": {},
   "source": [
    " Convert a SMILES string to canonical SMILES"
   ]
  },
  {
   "cell_type": "code",
   "execution_count": 5,
   "id": "3c102c52",
   "metadata": {},
   "outputs": [
    {
     "data": {
      "text/html": [
       "<div>\n",
       "<style scoped>\n",
       "    .dataframe tbody tr th:only-of-type {\n",
       "        vertical-align: middle;\n",
       "    }\n",
       "\n",
       "    .dataframe tbody tr th {\n",
       "        vertical-align: top;\n",
       "    }\n",
       "\n",
       "    .dataframe thead th {\n",
       "        text-align: right;\n",
       "    }\n",
       "</style>\n",
       "<table border=\"1\" class=\"dataframe\">\n",
       "  <thead>\n",
       "    <tr style=\"text-align: right;\">\n",
       "      <th></th>\n",
       "      <th>CAS_Number</th>\n",
       "      <th>SMILES</th>\n",
       "      <th>pLD50</th>\n",
       "      <th>LD50,mg/kg</th>\n",
       "    </tr>\n",
       "  </thead>\n",
       "  <tbody>\n",
       "    <tr>\n",
       "      <th>0</th>\n",
       "      <td>626-48-2</td>\n",
       "      <td>Cc1cc(=O)[nH]c(=O)[nH]1</td>\n",
       "      <td>0.291207</td>\n",
       "      <td>64463.0000</td>\n",
       "    </tr>\n",
       "    <tr>\n",
       "      <th>1</th>\n",
       "      <td>27849-94-1</td>\n",
       "      <td>CC(CCc1ccc2c(c1)OCO2)NN</td>\n",
       "      <td>0.440660</td>\n",
       "      <td>75449.0000</td>\n",
       "    </tr>\n",
       "    <tr>\n",
       "      <th>2</th>\n",
       "      <td>110-54-3</td>\n",
       "      <td>CCCCCC</td>\n",
       "      <td>0.537460</td>\n",
       "      <td>24980.0000</td>\n",
       "    </tr>\n",
       "    <tr>\n",
       "      <th>3</th>\n",
       "      <td>1330-92-3</td>\n",
       "      <td>CCCCC(CC)COC(=O)C1=C(C(=O)OCC(CC)CCCC)CCCC1</td>\n",
       "      <td>0.539250</td>\n",
       "      <td>113917.0000</td>\n",
       "    </tr>\n",
       "    <tr>\n",
       "      <th>4</th>\n",
       "      <td>57-55-6</td>\n",
       "      <td>CC(O)CO</td>\n",
       "      <td>0.580330</td>\n",
       "      <td>19989.0000</td>\n",
       "    </tr>\n",
       "    <tr>\n",
       "      <th>...</th>\n",
       "      <td>...</td>\n",
       "      <td>...</td>\n",
       "      <td>...</td>\n",
       "      <td>...</td>\n",
       "    </tr>\n",
       "    <tr>\n",
       "      <th>7707</th>\n",
       "      <td>56073-10-0</td>\n",
       "      <td>O=c1oc2ccccc2c(O)c1C1CC(c2ccc(-c3ccc(Br)cc3)cc...</td>\n",
       "      <td>6.514700</td>\n",
       "      <td>0.1596</td>\n",
       "    </tr>\n",
       "    <tr>\n",
       "      <th>7708</th>\n",
       "      <td>130209-82-4</td>\n",
       "      <td>CC(C)OC(=O)CCCC=CCC1C(O)CC(O)C1CCC(O)CCc1ccccc1</td>\n",
       "      <td>6.937100</td>\n",
       "      <td>0.0500</td>\n",
       "    </tr>\n",
       "    <tr>\n",
       "      <th>7709</th>\n",
       "      <td>83805-11-2</td>\n",
       "      <td>C=C1C(=CC=C2CCCC3(C)C2CCC3C(C)CCCC(O)(C(F)(F)F...</td>\n",
       "      <td>7.099700</td>\n",
       "      <td>0.0417</td>\n",
       "    </tr>\n",
       "    <tr>\n",
       "      <th>7710</th>\n",
       "      <td>1746-01-6</td>\n",
       "      <td>Clc1cc2c(cc1Cl)Oc1cc(Cl)c(Cl)cc1O2</td>\n",
       "      <td>7.206800</td>\n",
       "      <td>0.0199</td>\n",
       "    </tr>\n",
       "    <tr>\n",
       "      <th>7711</th>\n",
       "      <td>316-42-7</td>\n",
       "      <td>CCC1CN2CCc3cc(OC)c(OC)cc3C2CC1CC1NCCc2cc(OC)c(...</td>\n",
       "      <td>7.602600</td>\n",
       "      <td>0.0120</td>\n",
       "    </tr>\n",
       "  </tbody>\n",
       "</table>\n",
       "<p>7712 rows × 4 columns</p>\n",
       "</div>"
      ],
      "text/plain": [
       "       CAS_Number                                             SMILES  \\\n",
       "0        626-48-2                            Cc1cc(=O)[nH]c(=O)[nH]1   \n",
       "1      27849-94-1                            CC(CCc1ccc2c(c1)OCO2)NN   \n",
       "2        110-54-3                                             CCCCCC   \n",
       "3       1330-92-3        CCCCC(CC)COC(=O)C1=C(C(=O)OCC(CC)CCCC)CCCC1   \n",
       "4         57-55-6                                            CC(O)CO   \n",
       "...           ...                                                ...   \n",
       "7707   56073-10-0  O=c1oc2ccccc2c(O)c1C1CC(c2ccc(-c3ccc(Br)cc3)cc...   \n",
       "7708  130209-82-4    CC(C)OC(=O)CCCC=CCC1C(O)CC(O)C1CCC(O)CCc1ccccc1   \n",
       "7709   83805-11-2  C=C1C(=CC=C2CCCC3(C)C2CCC3C(C)CCCC(O)(C(F)(F)F...   \n",
       "7710    1746-01-6                 Clc1cc2c(cc1Cl)Oc1cc(Cl)c(Cl)cc1O2   \n",
       "7711     316-42-7  CCC1CN2CCc3cc(OC)c(OC)cc3C2CC1CC1NCCc2cc(OC)c(...   \n",
       "\n",
       "         pLD50   LD50,mg/kg  \n",
       "0     0.291207   64463.0000  \n",
       "1     0.440660   75449.0000  \n",
       "2     0.537460   24980.0000  \n",
       "3     0.539250  113917.0000  \n",
       "4     0.580330   19989.0000  \n",
       "...        ...          ...  \n",
       "7707  6.514700       0.1596  \n",
       "7708  6.937100       0.0500  \n",
       "7709  7.099700       0.0417  \n",
       "7710  7.206800       0.0199  \n",
       "7711  7.602600       0.0120  \n",
       "\n",
       "[7712 rows x 4 columns]"
      ]
     },
     "execution_count": 5,
     "metadata": {},
     "output_type": "execute_result"
    }
   ],
   "source": [
    "df_ws1 = deepcopy(df_ws)\n",
    "df_ws1[\"SMILES\"] = df_ws1.apply(lambda x: convert_smi_to_canon_smi(x.SMILES), axis=1)\n",
    "df_ws1"
   ]
  },
  {
   "cell_type": "code",
   "execution_count": 6,
   "id": "55f11f4c",
   "metadata": {},
   "outputs": [
    {
     "name": "stdout",
     "output_type": "stream",
     "text": [
      "Original data:  7712 molecules\n",
      "Failed data:  0 molecules\n"
     ]
    }
   ],
   "source": [
    "print('Original data: ', len(df_ws), 'molecules')\n",
    "print('Failed data: ', len(df_ws1[df_ws1['SMILES']=='wrong_smiles']), 'molecules')"
   ]
  },
  {
   "cell_type": "code",
   "execution_count": 7,
   "id": "767116e0",
   "metadata": {
    "scrolled": true
   },
   "outputs": [
    {
     "data": {
      "text/html": [
       "<div>\n",
       "<style scoped>\n",
       "    .dataframe tbody tr th:only-of-type {\n",
       "        vertical-align: middle;\n",
       "    }\n",
       "\n",
       "    .dataframe tbody tr th {\n",
       "        vertical-align: top;\n",
       "    }\n",
       "\n",
       "    .dataframe thead th {\n",
       "        text-align: right;\n",
       "    }\n",
       "</style>\n",
       "<table border=\"1\" class=\"dataframe\">\n",
       "  <thead>\n",
       "    <tr style=\"text-align: right;\">\n",
       "      <th></th>\n",
       "      <th>SMILES of wrong structure:</th>\n",
       "    </tr>\n",
       "    <tr>\n",
       "      <th>No. failed smiles in original set</th>\n",
       "      <th></th>\n",
       "    </tr>\n",
       "  </thead>\n",
       "  <tbody>\n",
       "  </tbody>\n",
       "</table>\n",
       "</div>"
      ],
      "text/plain": [
       "Empty DataFrame\n",
       "Columns: [SMILES of wrong structure: ]\n",
       "Index: []"
      ]
     },
     "execution_count": 7,
     "metadata": {},
     "output_type": "execute_result"
    }
   ],
   "source": [
    "index=df_ws1.index[df_ws1['SMILES']=='wrong_smiles'].tolist()\n",
    "wrong_smiles=df_ws.iloc[index]\n",
    "wrong_smiles=wrong_smiles.SMILES\n",
    "number=[x+1 for x in index]\n",
    "bad_molecules = pd.DataFrame({'No. failed smiles in original set': number, 'SMILES of wrong structure: ': wrong_smiles}, index=None)\n",
    "bad_molecules = bad_molecules.set_index('No. failed smiles in original set')\n",
    "bad_molecules"
   ]
  },
  {
   "cell_type": "markdown",
   "id": "f17375a3",
   "metadata": {},
   "source": [
    "##  Standardization  for work set"
   ]
  },
  {
   "cell_type": "code",
   "execution_count": 8,
   "id": "5a6a143c",
   "metadata": {},
   "outputs": [
    {
     "name": "stdout",
     "output_type": "stream",
     "text": [
      "Kept data:  7712 molecules\n"
     ]
    }
   ],
   "source": [
    "df_ws1[\"Molecule\"] = df_ws1.apply(lambda x: standart(x.SMILES), axis=1)\n",
    "moldf_ws=df_ws1[df_ws1['SMILES']!='wrong_smiles']\n",
    "print('Kept data: ', len(moldf_ws), 'molecules')"
   ]
  },
  {
   "cell_type": "code",
   "execution_count": 9,
   "id": "0da101d6",
   "metadata": {},
   "outputs": [
    {
     "data": {
      "text/html": [
       "<div>\n",
       "<style scoped>\n",
       "    .dataframe tbody tr th:only-of-type {\n",
       "        vertical-align: middle;\n",
       "    }\n",
       "\n",
       "    .dataframe tbody tr th {\n",
       "        vertical-align: top;\n",
       "    }\n",
       "\n",
       "    .dataframe thead th {\n",
       "        text-align: right;\n",
       "    }\n",
       "</style>\n",
       "<table border=\"1\" class=\"dataframe\">\n",
       "  <thead>\n",
       "    <tr style=\"text-align: right;\">\n",
       "      <th></th>\n",
       "      <th>CAS_Number</th>\n",
       "      <th>SMILES</th>\n",
       "      <th>pLD50</th>\n",
       "      <th>LD50,mg/kg</th>\n",
       "      <th>Molecule</th>\n",
       "    </tr>\n",
       "  </thead>\n",
       "  <tbody>\n",
       "    <tr>\n",
       "      <th>0</th>\n",
       "      <td>626-48-2</td>\n",
       "      <td>Cc1cc(=O)[nH]c(=O)[nH]1</td>\n",
       "      <td>0.291207</td>\n",
       "      <td>64463.0000</td>\n",
       "      <td>&lt;rdkit.Chem.rdchem.Mol object at 0x000001FB6BA...</td>\n",
       "    </tr>\n",
       "    <tr>\n",
       "      <th>1</th>\n",
       "      <td>27849-94-1</td>\n",
       "      <td>CC(CCc1ccc2c(c1)OCO2)NN</td>\n",
       "      <td>0.440660</td>\n",
       "      <td>75449.0000</td>\n",
       "      <td>&lt;rdkit.Chem.rdchem.Mol object at 0x000001FB6BA...</td>\n",
       "    </tr>\n",
       "    <tr>\n",
       "      <th>2</th>\n",
       "      <td>110-54-3</td>\n",
       "      <td>CCCCCC</td>\n",
       "      <td>0.537460</td>\n",
       "      <td>24980.0000</td>\n",
       "      <td>&lt;rdkit.Chem.rdchem.Mol object at 0x000001FB6BA...</td>\n",
       "    </tr>\n",
       "    <tr>\n",
       "      <th>3</th>\n",
       "      <td>1330-92-3</td>\n",
       "      <td>CCCCC(CC)COC(=O)C1=C(C(=O)OCC(CC)CCCC)CCCC1</td>\n",
       "      <td>0.539250</td>\n",
       "      <td>113917.0000</td>\n",
       "      <td>&lt;rdkit.Chem.rdchem.Mol object at 0x000001FB6BA...</td>\n",
       "    </tr>\n",
       "    <tr>\n",
       "      <th>4</th>\n",
       "      <td>57-55-6</td>\n",
       "      <td>CC(O)CO</td>\n",
       "      <td>0.580330</td>\n",
       "      <td>19989.0000</td>\n",
       "      <td>&lt;rdkit.Chem.rdchem.Mol object at 0x000001FB6BA...</td>\n",
       "    </tr>\n",
       "    <tr>\n",
       "      <th>...</th>\n",
       "      <td>...</td>\n",
       "      <td>...</td>\n",
       "      <td>...</td>\n",
       "      <td>...</td>\n",
       "      <td>...</td>\n",
       "    </tr>\n",
       "    <tr>\n",
       "      <th>7707</th>\n",
       "      <td>56073-10-0</td>\n",
       "      <td>O=c1oc2ccccc2c(O)c1C1CC(c2ccc(-c3ccc(Br)cc3)cc...</td>\n",
       "      <td>6.514700</td>\n",
       "      <td>0.1596</td>\n",
       "      <td>&lt;rdkit.Chem.rdchem.Mol object at 0x000001FB6FB...</td>\n",
       "    </tr>\n",
       "    <tr>\n",
       "      <th>7708</th>\n",
       "      <td>130209-82-4</td>\n",
       "      <td>CC(C)OC(=O)CCCC=CCC1C(O)CC(O)C1CCC(O)CCc1ccccc1</td>\n",
       "      <td>6.937100</td>\n",
       "      <td>0.0500</td>\n",
       "      <td>&lt;rdkit.Chem.rdchem.Mol object at 0x000001FB6FB...</td>\n",
       "    </tr>\n",
       "    <tr>\n",
       "      <th>7709</th>\n",
       "      <td>83805-11-2</td>\n",
       "      <td>C=C1C(=CC=C2CCCC3(C)C2CCC3C(C)CCCC(O)(C(F)(F)F...</td>\n",
       "      <td>7.099700</td>\n",
       "      <td>0.0417</td>\n",
       "      <td>&lt;rdkit.Chem.rdchem.Mol object at 0x000001FB6FB...</td>\n",
       "    </tr>\n",
       "    <tr>\n",
       "      <th>7710</th>\n",
       "      <td>1746-01-6</td>\n",
       "      <td>Clc1cc2c(cc1Cl)Oc1cc(Cl)c(Cl)cc1O2</td>\n",
       "      <td>7.206800</td>\n",
       "      <td>0.0199</td>\n",
       "      <td>&lt;rdkit.Chem.rdchem.Mol object at 0x000001FB6FB...</td>\n",
       "    </tr>\n",
       "    <tr>\n",
       "      <th>7711</th>\n",
       "      <td>316-42-7</td>\n",
       "      <td>CCC1CN2CCc3cc(OC)c(OC)cc3C2CC1CC1NCCc2cc(OC)c(...</td>\n",
       "      <td>7.602600</td>\n",
       "      <td>0.0120</td>\n",
       "      <td>&lt;rdkit.Chem.rdchem.Mol object at 0x000001FB6FB...</td>\n",
       "    </tr>\n",
       "  </tbody>\n",
       "</table>\n",
       "<p>7712 rows × 5 columns</p>\n",
       "</div>"
      ],
      "text/plain": [
       "       CAS_Number                                             SMILES  \\\n",
       "0        626-48-2                            Cc1cc(=O)[nH]c(=O)[nH]1   \n",
       "1      27849-94-1                            CC(CCc1ccc2c(c1)OCO2)NN   \n",
       "2        110-54-3                                             CCCCCC   \n",
       "3       1330-92-3        CCCCC(CC)COC(=O)C1=C(C(=O)OCC(CC)CCCC)CCCC1   \n",
       "4         57-55-6                                            CC(O)CO   \n",
       "...           ...                                                ...   \n",
       "7707   56073-10-0  O=c1oc2ccccc2c(O)c1C1CC(c2ccc(-c3ccc(Br)cc3)cc...   \n",
       "7708  130209-82-4    CC(C)OC(=O)CCCC=CCC1C(O)CC(O)C1CCC(O)CCc1ccccc1   \n",
       "7709   83805-11-2  C=C1C(=CC=C2CCCC3(C)C2CCC3C(C)CCCC(O)(C(F)(F)F...   \n",
       "7710    1746-01-6                 Clc1cc2c(cc1Cl)Oc1cc(Cl)c(Cl)cc1O2   \n",
       "7711     316-42-7  CCC1CN2CCc3cc(OC)c(OC)cc3C2CC1CC1NCCc2cc(OC)c(...   \n",
       "\n",
       "         pLD50   LD50,mg/kg                                           Molecule  \n",
       "0     0.291207   64463.0000  <rdkit.Chem.rdchem.Mol object at 0x000001FB6BA...  \n",
       "1     0.440660   75449.0000  <rdkit.Chem.rdchem.Mol object at 0x000001FB6BA...  \n",
       "2     0.537460   24980.0000  <rdkit.Chem.rdchem.Mol object at 0x000001FB6BA...  \n",
       "3     0.539250  113917.0000  <rdkit.Chem.rdchem.Mol object at 0x000001FB6BA...  \n",
       "4     0.580330   19989.0000  <rdkit.Chem.rdchem.Mol object at 0x000001FB6BA...  \n",
       "...        ...          ...                                                ...  \n",
       "7707  6.514700       0.1596  <rdkit.Chem.rdchem.Mol object at 0x000001FB6FB...  \n",
       "7708  6.937100       0.0500  <rdkit.Chem.rdchem.Mol object at 0x000001FB6FB...  \n",
       "7709  7.099700       0.0417  <rdkit.Chem.rdchem.Mol object at 0x000001FB6FB...  \n",
       "7710  7.206800       0.0199  <rdkit.Chem.rdchem.Mol object at 0x000001FB6FB...  \n",
       "7711  7.602600       0.0120  <rdkit.Chem.rdchem.Mol object at 0x000001FB6FB...  \n",
       "\n",
       "[7712 rows x 5 columns]"
      ]
     },
     "execution_count": 9,
     "metadata": {},
     "output_type": "execute_result"
    }
   ],
   "source": [
    "moldf_ws"
   ]
  },
  {
   "cell_type": "code",
   "execution_count": 10,
   "id": "487e9136",
   "metadata": {},
   "outputs": [
    {
     "data": {
      "text/plain": [
       "0       0.291207\n",
       "1       0.440660\n",
       "2       0.537460\n",
       "3       0.539250\n",
       "4       0.580330\n",
       "          ...   \n",
       "7707    6.514700\n",
       "7708    6.937100\n",
       "7709    7.099700\n",
       "7710    7.206800\n",
       "7711    7.602600\n",
       "Name: pLD50, Length: 7712, dtype: float64"
      ]
     },
     "execution_count": 10,
     "metadata": {},
     "output_type": "execute_result"
    }
   ],
   "source": [
    "y_tr=moldf_ws.pLD50\n",
    "y_tr"
   ]
  },
  {
   "cell_type": "code",
   "execution_count": 11,
   "id": "65b4c274",
   "metadata": {},
   "outputs": [],
   "source": [
    "moldf_ws=moldf_ws.Molecule"
   ]
  },
  {
   "cell_type": "markdown",
   "id": "8a6b433e",
   "metadata": {},
   "source": [
    "##  Load data and curation test set"
   ]
  },
  {
   "cell_type": "code",
   "execution_count": 12,
   "id": "bc58b9f5",
   "metadata": {
    "scrolled": true
   },
   "outputs": [
    {
     "data": {
      "text/html": [
       "<div>\n",
       "<style scoped>\n",
       "    .dataframe tbody tr th:only-of-type {\n",
       "        vertical-align: middle;\n",
       "    }\n",
       "\n",
       "    .dataframe tbody tr th {\n",
       "        vertical-align: top;\n",
       "    }\n",
       "\n",
       "    .dataframe thead th {\n",
       "        text-align: right;\n",
       "    }\n",
       "</style>\n",
       "<table border=\"1\" class=\"dataframe\">\n",
       "  <thead>\n",
       "    <tr style=\"text-align: right;\">\n",
       "      <th></th>\n",
       "      <th>CAS_Number</th>\n",
       "      <th>SMILES</th>\n",
       "      <th>pLD50</th>\n",
       "      <th>LD50,mg/kg</th>\n",
       "    </tr>\n",
       "  </thead>\n",
       "  <tbody>\n",
       "    <tr>\n",
       "      <th>0</th>\n",
       "      <td>7782-40-3</td>\n",
       "      <td>C</td>\n",
       "      <td>0.017765</td>\n",
       "      <td>15388.8000</td>\n",
       "    </tr>\n",
       "    <tr>\n",
       "      <th>1</th>\n",
       "      <td>2842-38-8</td>\n",
       "      <td>OCCNC1CCCCC1</td>\n",
       "      <td>0.572840</td>\n",
       "      <td>38274.0000</td>\n",
       "    </tr>\n",
       "    <tr>\n",
       "      <th>2</th>\n",
       "      <td>66257-53-2</td>\n",
       "      <td>NC(=O)C(=O)O</td>\n",
       "      <td>0.624490</td>\n",
       "      <td>21133.0000</td>\n",
       "    </tr>\n",
       "    <tr>\n",
       "      <th>3</th>\n",
       "      <td>2173-56-0</td>\n",
       "      <td>CCCCCOC(=O)CCCC</td>\n",
       "      <td>0.686960</td>\n",
       "      <td>35395.0000</td>\n",
       "    </tr>\n",
       "    <tr>\n",
       "      <th>4</th>\n",
       "      <td>4726-93-6</td>\n",
       "      <td>O=C1CCCCC(=O)N1</td>\n",
       "      <td>0.750180</td>\n",
       "      <td>22586.0000</td>\n",
       "    </tr>\n",
       "    <tr>\n",
       "      <th>...</th>\n",
       "      <td>...</td>\n",
       "      <td>...</td>\n",
       "      <td>...</td>\n",
       "      <td>...</td>\n",
       "    </tr>\n",
       "    <tr>\n",
       "      <th>1924</th>\n",
       "      <td>3385-03-3</td>\n",
       "      <td>CC1(C)OC2CC3C4CC(F)C5=CC(=O)C=CC5(C)C4C(O)CC3(...</td>\n",
       "      <td>5.939000</td>\n",
       "      <td>0.4997</td>\n",
       "    </tr>\n",
       "    <tr>\n",
       "      <th>1925</th>\n",
       "      <td>2338-29-6</td>\n",
       "      <td>FC(F)(F)c1nc2c(Cl)c(Cl)c(Cl)c(Cl)c2[nH]1</td>\n",
       "      <td>6.121300</td>\n",
       "      <td>0.2435</td>\n",
       "    </tr>\n",
       "    <tr>\n",
       "      <th>1926</th>\n",
       "      <td>128606-48-4</td>\n",
       "      <td>CCOP(=S)(OCC)O/C(C)=C/C(=O)OC</td>\n",
       "      <td>6.282400</td>\n",
       "      <td>0.1399</td>\n",
       "    </tr>\n",
       "    <tr>\n",
       "      <th>1927</th>\n",
       "      <td>50585-41-6</td>\n",
       "      <td>Brc1cc2c(cc1Br)Oc1cc(Br)c(Br)cc1O2</td>\n",
       "      <td>6.698800</td>\n",
       "      <td>0.0992</td>\n",
       "    </tr>\n",
       "    <tr>\n",
       "      <th>1928</th>\n",
       "      <td>75605-85-5</td>\n",
       "      <td>CC(=O)C1=CCC2C3(C)CCC4C(C)(C)CCCC4(C)C3CC(OC(=...</td>\n",
       "      <td>9.541100</td>\n",
       "      <td>0.0001</td>\n",
       "    </tr>\n",
       "  </tbody>\n",
       "</table>\n",
       "<p>1929 rows × 4 columns</p>\n",
       "</div>"
      ],
      "text/plain": [
       "       CAS_Number                                             SMILES  \\\n",
       "0       7782-40-3                                                  C   \n",
       "1       2842-38-8                                       OCCNC1CCCCC1   \n",
       "2      66257-53-2                                       NC(=O)C(=O)O   \n",
       "3       2173-56-0                                    CCCCCOC(=O)CCCC   \n",
       "4       4726-93-6                                    O=C1CCCCC(=O)N1   \n",
       "...           ...                                                ...   \n",
       "1924    3385-03-3  CC1(C)OC2CC3C4CC(F)C5=CC(=O)C=CC5(C)C4C(O)CC3(...   \n",
       "1925    2338-29-6           FC(F)(F)c1nc2c(Cl)c(Cl)c(Cl)c(Cl)c2[nH]1   \n",
       "1926  128606-48-4                      CCOP(=S)(OCC)O/C(C)=C/C(=O)OC   \n",
       "1927   50585-41-6                 Brc1cc2c(cc1Br)Oc1cc(Br)c(Br)cc1O2   \n",
       "1928   75605-85-5  CC(=O)C1=CCC2C3(C)CCC4C(C)(C)CCCC4(C)C3CC(OC(=...   \n",
       "\n",
       "         pLD50  LD50,mg/kg  \n",
       "0     0.017765  15388.8000  \n",
       "1     0.572840  38274.0000  \n",
       "2     0.624490  21133.0000  \n",
       "3     0.686960  35395.0000  \n",
       "4     0.750180  22586.0000  \n",
       "...        ...         ...  \n",
       "1924  5.939000      0.4997  \n",
       "1925  6.121300      0.2435  \n",
       "1926  6.282400      0.1399  \n",
       "1927  6.698800      0.0992  \n",
       "1928  9.541100      0.0001  \n",
       "\n",
       "[1929 rows x 4 columns]"
      ]
     },
     "execution_count": 12,
     "metadata": {},
     "output_type": "execute_result"
    }
   ],
   "source": [
    "df_ts=pd.read_csv('rat_oral_LD50_TS.csv')\n",
    "df_ts"
   ]
  },
  {
   "cell_type": "markdown",
   "id": "a8136259",
   "metadata": {},
   "source": [
    " Convert a SMILES string to canonical SMILES"
   ]
  },
  {
   "cell_type": "code",
   "execution_count": 13,
   "id": "e552b5f9",
   "metadata": {},
   "outputs": [
    {
     "data": {
      "text/html": [
       "<div>\n",
       "<style scoped>\n",
       "    .dataframe tbody tr th:only-of-type {\n",
       "        vertical-align: middle;\n",
       "    }\n",
       "\n",
       "    .dataframe tbody tr th {\n",
       "        vertical-align: top;\n",
       "    }\n",
       "\n",
       "    .dataframe thead th {\n",
       "        text-align: right;\n",
       "    }\n",
       "</style>\n",
       "<table border=\"1\" class=\"dataframe\">\n",
       "  <thead>\n",
       "    <tr style=\"text-align: right;\">\n",
       "      <th></th>\n",
       "      <th>CAS_Number</th>\n",
       "      <th>SMILES</th>\n",
       "      <th>pLD50</th>\n",
       "      <th>LD50,mg/kg</th>\n",
       "    </tr>\n",
       "  </thead>\n",
       "  <tbody>\n",
       "    <tr>\n",
       "      <th>0</th>\n",
       "      <td>7782-40-3</td>\n",
       "      <td>C</td>\n",
       "      <td>0.017765</td>\n",
       "      <td>15388.8000</td>\n",
       "    </tr>\n",
       "    <tr>\n",
       "      <th>1</th>\n",
       "      <td>2842-38-8</td>\n",
       "      <td>OCCNC1CCCCC1</td>\n",
       "      <td>0.572840</td>\n",
       "      <td>38274.0000</td>\n",
       "    </tr>\n",
       "    <tr>\n",
       "      <th>2</th>\n",
       "      <td>66257-53-2</td>\n",
       "      <td>NC(=O)C(=O)O</td>\n",
       "      <td>0.624490</td>\n",
       "      <td>21133.0000</td>\n",
       "    </tr>\n",
       "    <tr>\n",
       "      <th>3</th>\n",
       "      <td>2173-56-0</td>\n",
       "      <td>CCCCCOC(=O)CCCC</td>\n",
       "      <td>0.686960</td>\n",
       "      <td>35395.0000</td>\n",
       "    </tr>\n",
       "    <tr>\n",
       "      <th>4</th>\n",
       "      <td>4726-93-6</td>\n",
       "      <td>O=C1CCCCC(=O)N1</td>\n",
       "      <td>0.750180</td>\n",
       "      <td>22586.0000</td>\n",
       "    </tr>\n",
       "    <tr>\n",
       "      <th>...</th>\n",
       "      <td>...</td>\n",
       "      <td>...</td>\n",
       "      <td>...</td>\n",
       "      <td>...</td>\n",
       "    </tr>\n",
       "    <tr>\n",
       "      <th>1924</th>\n",
       "      <td>3385-03-3</td>\n",
       "      <td>CC1(C)OC2CC3C4CC(F)C5=CC(=O)C=CC5(C)C4C(O)CC3(...</td>\n",
       "      <td>5.939000</td>\n",
       "      <td>0.4997</td>\n",
       "    </tr>\n",
       "    <tr>\n",
       "      <th>1925</th>\n",
       "      <td>2338-29-6</td>\n",
       "      <td>FC(F)(F)c1nc2c(Cl)c(Cl)c(Cl)c(Cl)c2[nH]1</td>\n",
       "      <td>6.121300</td>\n",
       "      <td>0.2435</td>\n",
       "    </tr>\n",
       "    <tr>\n",
       "      <th>1926</th>\n",
       "      <td>128606-48-4</td>\n",
       "      <td>CCOP(=S)(OCC)OC(C)=CC(=O)OC</td>\n",
       "      <td>6.282400</td>\n",
       "      <td>0.1399</td>\n",
       "    </tr>\n",
       "    <tr>\n",
       "      <th>1927</th>\n",
       "      <td>50585-41-6</td>\n",
       "      <td>Brc1cc2c(cc1Br)Oc1cc(Br)c(Br)cc1O2</td>\n",
       "      <td>6.698800</td>\n",
       "      <td>0.0992</td>\n",
       "    </tr>\n",
       "    <tr>\n",
       "      <th>1928</th>\n",
       "      <td>75605-85-5</td>\n",
       "      <td>CC(=O)C1=CCC2C3(C)CCC4C(C)(C)CCCC4(C)C3CC(OC(=...</td>\n",
       "      <td>9.541100</td>\n",
       "      <td>0.0001</td>\n",
       "    </tr>\n",
       "  </tbody>\n",
       "</table>\n",
       "<p>1929 rows × 4 columns</p>\n",
       "</div>"
      ],
      "text/plain": [
       "       CAS_Number                                             SMILES  \\\n",
       "0       7782-40-3                                                  C   \n",
       "1       2842-38-8                                       OCCNC1CCCCC1   \n",
       "2      66257-53-2                                       NC(=O)C(=O)O   \n",
       "3       2173-56-0                                    CCCCCOC(=O)CCCC   \n",
       "4       4726-93-6                                    O=C1CCCCC(=O)N1   \n",
       "...           ...                                                ...   \n",
       "1924    3385-03-3  CC1(C)OC2CC3C4CC(F)C5=CC(=O)C=CC5(C)C4C(O)CC3(...   \n",
       "1925    2338-29-6           FC(F)(F)c1nc2c(Cl)c(Cl)c(Cl)c(Cl)c2[nH]1   \n",
       "1926  128606-48-4                        CCOP(=S)(OCC)OC(C)=CC(=O)OC   \n",
       "1927   50585-41-6                 Brc1cc2c(cc1Br)Oc1cc(Br)c(Br)cc1O2   \n",
       "1928   75605-85-5  CC(=O)C1=CCC2C3(C)CCC4C(C)(C)CCCC4(C)C3CC(OC(=...   \n",
       "\n",
       "         pLD50  LD50,mg/kg  \n",
       "0     0.017765  15388.8000  \n",
       "1     0.572840  38274.0000  \n",
       "2     0.624490  21133.0000  \n",
       "3     0.686960  35395.0000  \n",
       "4     0.750180  22586.0000  \n",
       "...        ...         ...  \n",
       "1924  5.939000      0.4997  \n",
       "1925  6.121300      0.2435  \n",
       "1926  6.282400      0.1399  \n",
       "1927  6.698800      0.0992  \n",
       "1928  9.541100      0.0001  \n",
       "\n",
       "[1929 rows x 4 columns]"
      ]
     },
     "execution_count": 13,
     "metadata": {},
     "output_type": "execute_result"
    }
   ],
   "source": [
    "df_ts1 = deepcopy(df_ts)\n",
    "df_ts1[\"SMILES\"] = df_ts1.apply(lambda x: convert_smi_to_canon_smi(x.SMILES), axis=1)\n",
    "df_ts1"
   ]
  },
  {
   "cell_type": "code",
   "execution_count": 14,
   "id": "9632ef02",
   "metadata": {},
   "outputs": [
    {
     "name": "stdout",
     "output_type": "stream",
     "text": [
      "Original data:  1929 molecules\n",
      "Failed data:  0 molecules\n"
     ]
    }
   ],
   "source": [
    "print('Original data: ', len(df_ts), 'molecules')\n",
    "print('Failed data: ', len(df_ts1[df_ts1['SMILES']=='wrong_smiles']), 'molecules')"
   ]
  },
  {
   "cell_type": "code",
   "execution_count": 15,
   "id": "29434b96",
   "metadata": {
    "scrolled": true
   },
   "outputs": [
    {
     "data": {
      "text/html": [
       "<div>\n",
       "<style scoped>\n",
       "    .dataframe tbody tr th:only-of-type {\n",
       "        vertical-align: middle;\n",
       "    }\n",
       "\n",
       "    .dataframe tbody tr th {\n",
       "        vertical-align: top;\n",
       "    }\n",
       "\n",
       "    .dataframe thead th {\n",
       "        text-align: right;\n",
       "    }\n",
       "</style>\n",
       "<table border=\"1\" class=\"dataframe\">\n",
       "  <thead>\n",
       "    <tr style=\"text-align: right;\">\n",
       "      <th></th>\n",
       "      <th>SMILES of wrong structure:</th>\n",
       "    </tr>\n",
       "    <tr>\n",
       "      <th>No. failed smiles in original set</th>\n",
       "      <th></th>\n",
       "    </tr>\n",
       "  </thead>\n",
       "  <tbody>\n",
       "  </tbody>\n",
       "</table>\n",
       "</div>"
      ],
      "text/plain": [
       "Empty DataFrame\n",
       "Columns: [SMILES of wrong structure: ]\n",
       "Index: []"
      ]
     },
     "execution_count": 15,
     "metadata": {},
     "output_type": "execute_result"
    }
   ],
   "source": [
    "index=df_ts1.index[df_ts1['SMILES']=='wrong_smiles'].tolist()\n",
    "wrong_smiles=df_ts.iloc[index]\n",
    "wrong_smiles=wrong_smiles.SMILES\n",
    "number=[x+1 for x in index]\n",
    "bad_molecules = pd.DataFrame({'No. failed smiles in original set': number, 'SMILES of wrong structure: ': wrong_smiles}, index=None)\n",
    "bad_molecules = bad_molecules.set_index('No. failed smiles in original set')\n",
    "bad_molecules"
   ]
  },
  {
   "cell_type": "markdown",
   "id": "a58a6f9f",
   "metadata": {},
   "source": [
    "##  Standardization  for test set"
   ]
  },
  {
   "cell_type": "code",
   "execution_count": 16,
   "id": "778d89ce",
   "metadata": {},
   "outputs": [
    {
     "name": "stdout",
     "output_type": "stream",
     "text": [
      "Kept data:  1929 molecules\n"
     ]
    }
   ],
   "source": [
    "df_ts1[\"Molecule\"] = df_ts1.apply(lambda x: standart(x.SMILES), axis=1)\n",
    "moldf_ts=df_ts1[df_ts1['SMILES']!='wrong_smiles']\n",
    "print('Kept data: ', len(moldf_ts), 'molecules')"
   ]
  },
  {
   "cell_type": "code",
   "execution_count": 17,
   "id": "4b1d809e",
   "metadata": {},
   "outputs": [
    {
     "data": {
      "text/html": [
       "<div>\n",
       "<style scoped>\n",
       "    .dataframe tbody tr th:only-of-type {\n",
       "        vertical-align: middle;\n",
       "    }\n",
       "\n",
       "    .dataframe tbody tr th {\n",
       "        vertical-align: top;\n",
       "    }\n",
       "\n",
       "    .dataframe thead th {\n",
       "        text-align: right;\n",
       "    }\n",
       "</style>\n",
       "<table border=\"1\" class=\"dataframe\">\n",
       "  <thead>\n",
       "    <tr style=\"text-align: right;\">\n",
       "      <th></th>\n",
       "      <th>CAS_Number</th>\n",
       "      <th>SMILES</th>\n",
       "      <th>pLD50</th>\n",
       "      <th>LD50,mg/kg</th>\n",
       "      <th>Molecule</th>\n",
       "    </tr>\n",
       "  </thead>\n",
       "  <tbody>\n",
       "    <tr>\n",
       "      <th>0</th>\n",
       "      <td>7782-40-3</td>\n",
       "      <td>C</td>\n",
       "      <td>0.017765</td>\n",
       "      <td>15388.8000</td>\n",
       "      <td>&lt;rdkit.Chem.rdchem.Mol object at 0x000001FB6FB...</td>\n",
       "    </tr>\n",
       "    <tr>\n",
       "      <th>1</th>\n",
       "      <td>2842-38-8</td>\n",
       "      <td>OCCNC1CCCCC1</td>\n",
       "      <td>0.572840</td>\n",
       "      <td>38274.0000</td>\n",
       "      <td>&lt;rdkit.Chem.rdchem.Mol object at 0x000001FB6B8...</td>\n",
       "    </tr>\n",
       "    <tr>\n",
       "      <th>2</th>\n",
       "      <td>66257-53-2</td>\n",
       "      <td>NC(=O)C(=O)O</td>\n",
       "      <td>0.624490</td>\n",
       "      <td>21133.0000</td>\n",
       "      <td>&lt;rdkit.Chem.rdchem.Mol object at 0x000001FB6FA...</td>\n",
       "    </tr>\n",
       "    <tr>\n",
       "      <th>3</th>\n",
       "      <td>2173-56-0</td>\n",
       "      <td>CCCCCOC(=O)CCCC</td>\n",
       "      <td>0.686960</td>\n",
       "      <td>35395.0000</td>\n",
       "      <td>&lt;rdkit.Chem.rdchem.Mol object at 0x000001FB6FA...</td>\n",
       "    </tr>\n",
       "    <tr>\n",
       "      <th>4</th>\n",
       "      <td>4726-93-6</td>\n",
       "      <td>O=C1CCCCC(=O)N1</td>\n",
       "      <td>0.750180</td>\n",
       "      <td>22586.0000</td>\n",
       "      <td>&lt;rdkit.Chem.rdchem.Mol object at 0x000001FB6FA...</td>\n",
       "    </tr>\n",
       "    <tr>\n",
       "      <th>...</th>\n",
       "      <td>...</td>\n",
       "      <td>...</td>\n",
       "      <td>...</td>\n",
       "      <td>...</td>\n",
       "      <td>...</td>\n",
       "    </tr>\n",
       "    <tr>\n",
       "      <th>1924</th>\n",
       "      <td>3385-03-3</td>\n",
       "      <td>CC1(C)OC2CC3C4CC(F)C5=CC(=O)C=CC5(C)C4C(O)CC3(...</td>\n",
       "      <td>5.939000</td>\n",
       "      <td>0.4997</td>\n",
       "      <td>&lt;rdkit.Chem.rdchem.Mol object at 0x000001FB6FB...</td>\n",
       "    </tr>\n",
       "    <tr>\n",
       "      <th>1925</th>\n",
       "      <td>2338-29-6</td>\n",
       "      <td>FC(F)(F)c1nc2c(Cl)c(Cl)c(Cl)c(Cl)c2[nH]1</td>\n",
       "      <td>6.121300</td>\n",
       "      <td>0.2435</td>\n",
       "      <td>&lt;rdkit.Chem.rdchem.Mol object at 0x000001FB6FB...</td>\n",
       "    </tr>\n",
       "    <tr>\n",
       "      <th>1926</th>\n",
       "      <td>128606-48-4</td>\n",
       "      <td>CCOP(=S)(OCC)OC(C)=CC(=O)OC</td>\n",
       "      <td>6.282400</td>\n",
       "      <td>0.1399</td>\n",
       "      <td>&lt;rdkit.Chem.rdchem.Mol object at 0x000001FB6FB...</td>\n",
       "    </tr>\n",
       "    <tr>\n",
       "      <th>1927</th>\n",
       "      <td>50585-41-6</td>\n",
       "      <td>Brc1cc2c(cc1Br)Oc1cc(Br)c(Br)cc1O2</td>\n",
       "      <td>6.698800</td>\n",
       "      <td>0.0992</td>\n",
       "      <td>&lt;rdkit.Chem.rdchem.Mol object at 0x000001FB6FB...</td>\n",
       "    </tr>\n",
       "    <tr>\n",
       "      <th>1928</th>\n",
       "      <td>75605-85-5</td>\n",
       "      <td>CC(=O)C1=CCC2C3(C)CCC4C(C)(C)CCCC4(C)C3CC(OC(=...</td>\n",
       "      <td>9.541100</td>\n",
       "      <td>0.0001</td>\n",
       "      <td>&lt;rdkit.Chem.rdchem.Mol object at 0x000001FB6FB...</td>\n",
       "    </tr>\n",
       "  </tbody>\n",
       "</table>\n",
       "<p>1929 rows × 5 columns</p>\n",
       "</div>"
      ],
      "text/plain": [
       "       CAS_Number                                             SMILES  \\\n",
       "0       7782-40-3                                                  C   \n",
       "1       2842-38-8                                       OCCNC1CCCCC1   \n",
       "2      66257-53-2                                       NC(=O)C(=O)O   \n",
       "3       2173-56-0                                    CCCCCOC(=O)CCCC   \n",
       "4       4726-93-6                                    O=C1CCCCC(=O)N1   \n",
       "...           ...                                                ...   \n",
       "1924    3385-03-3  CC1(C)OC2CC3C4CC(F)C5=CC(=O)C=CC5(C)C4C(O)CC3(...   \n",
       "1925    2338-29-6           FC(F)(F)c1nc2c(Cl)c(Cl)c(Cl)c(Cl)c2[nH]1   \n",
       "1926  128606-48-4                        CCOP(=S)(OCC)OC(C)=CC(=O)OC   \n",
       "1927   50585-41-6                 Brc1cc2c(cc1Br)Oc1cc(Br)c(Br)cc1O2   \n",
       "1928   75605-85-5  CC(=O)C1=CCC2C3(C)CCC4C(C)(C)CCCC4(C)C3CC(OC(=...   \n",
       "\n",
       "         pLD50  LD50,mg/kg                                           Molecule  \n",
       "0     0.017765  15388.8000  <rdkit.Chem.rdchem.Mol object at 0x000001FB6FB...  \n",
       "1     0.572840  38274.0000  <rdkit.Chem.rdchem.Mol object at 0x000001FB6B8...  \n",
       "2     0.624490  21133.0000  <rdkit.Chem.rdchem.Mol object at 0x000001FB6FA...  \n",
       "3     0.686960  35395.0000  <rdkit.Chem.rdchem.Mol object at 0x000001FB6FA...  \n",
       "4     0.750180  22586.0000  <rdkit.Chem.rdchem.Mol object at 0x000001FB6FA...  \n",
       "...        ...         ...                                                ...  \n",
       "1924  5.939000      0.4997  <rdkit.Chem.rdchem.Mol object at 0x000001FB6FB...  \n",
       "1925  6.121300      0.2435  <rdkit.Chem.rdchem.Mol object at 0x000001FB6FB...  \n",
       "1926  6.282400      0.1399  <rdkit.Chem.rdchem.Mol object at 0x000001FB6FB...  \n",
       "1927  6.698800      0.0992  <rdkit.Chem.rdchem.Mol object at 0x000001FB6FB...  \n",
       "1928  9.541100      0.0001  <rdkit.Chem.rdchem.Mol object at 0x000001FB6FB...  \n",
       "\n",
       "[1929 rows x 5 columns]"
      ]
     },
     "execution_count": 17,
     "metadata": {},
     "output_type": "execute_result"
    }
   ],
   "source": [
    "moldf_ts"
   ]
  },
  {
   "cell_type": "code",
   "execution_count": 18,
   "id": "ff0da297",
   "metadata": {},
   "outputs": [
    {
     "data": {
      "text/plain": [
       "0       0.017765\n",
       "1       0.572840\n",
       "2       0.624490\n",
       "3       0.686960\n",
       "4       0.750180\n",
       "          ...   \n",
       "1924    5.939000\n",
       "1925    6.121300\n",
       "1926    6.282400\n",
       "1927    6.698800\n",
       "1928    9.541100\n",
       "Name: pLD50, Length: 1929, dtype: float64"
      ]
     },
     "execution_count": 18,
     "metadata": {},
     "output_type": "execute_result"
    }
   ],
   "source": [
    "y_ts=moldf_ts.pLD50\n",
    "y_ts"
   ]
  },
  {
   "cell_type": "code",
   "execution_count": 19,
   "id": "055e91a3",
   "metadata": {},
   "outputs": [],
   "source": [
    "moldf_ts=moldf_ts.Molecule"
   ]
  },
  {
   "cell_type": "markdown",
   "id": "51bb77bd",
   "metadata": {},
   "source": [
    "## Calculation MorganFingerprint for work set"
   ]
  },
  {
   "cell_type": "code",
   "execution_count": 20,
   "id": "4c7922c3",
   "metadata": {},
   "outputs": [],
   "source": [
    "fp_tr = [AllChem.GetMorganFingerprintAsBitVect(m, radius=2,nBits=1024,useFeatures=False,useChirality = False) for m in moldf_ws]"
   ]
  },
  {
   "cell_type": "code",
   "execution_count": 21,
   "id": "87354284",
   "metadata": {},
   "outputs": [],
   "source": [
    "def rdkit_numpy_convert(fp_tr):\n",
    "    output = []\n",
    "    for f in fp_tr:\n",
    "        arr = np.zeros((1,))\n",
    "        DataStructs.ConvertToNumpyArray(f, arr)\n",
    "        output.append(arr)\n",
    "    return np.asarray(output)"
   ]
  },
  {
   "cell_type": "code",
   "execution_count": 22,
   "id": "c1c2b642",
   "metadata": {},
   "outputs": [],
   "source": [
    "from numpy import savetxt\n",
    "x_tr = rdkit_numpy_convert(fp_tr)"
   ]
  },
  {
   "cell_type": "code",
   "execution_count": 23,
   "id": "3c46a542",
   "metadata": {},
   "outputs": [],
   "source": [
    "savetxt('Models/MorganFingerprint/x_tr.csv', x_tr, delimiter=',')"
   ]
  },
  {
   "cell_type": "code",
   "execution_count": 24,
   "id": "e2a117bd",
   "metadata": {},
   "outputs": [
    {
     "data": {
      "text/plain": [
       "(7712, 1024)"
      ]
     },
     "execution_count": 24,
     "metadata": {},
     "output_type": "execute_result"
    }
   ],
   "source": [
    "x_tr.shape"
   ]
  },
  {
   "cell_type": "markdown",
   "id": "c4554dc9",
   "metadata": {},
   "source": [
    "## Calculation MorganFingerprint for test set"
   ]
  },
  {
   "cell_type": "code",
   "execution_count": 25,
   "id": "21ea7c5d",
   "metadata": {},
   "outputs": [],
   "source": [
    "fp_ts = [AllChem.GetMorganFingerprintAsBitVect(m, radius=2,nBits=1024,useFeatures=False,useChirality = False) for m in moldf_ts]"
   ]
  },
  {
   "cell_type": "code",
   "execution_count": 26,
   "id": "3d122617",
   "metadata": {},
   "outputs": [],
   "source": [
    "def rdkit_numpy_convert(fp_ts):\n",
    "    output = []\n",
    "    for f in fp_ts:\n",
    "        arr = np.zeros((1,))\n",
    "        DataStructs.ConvertToNumpyArray(f, arr)\n",
    "        output.append(arr)\n",
    "    return np.asarray(output)"
   ]
  },
  {
   "cell_type": "code",
   "execution_count": 27,
   "id": "6bb72e1b",
   "metadata": {},
   "outputs": [],
   "source": [
    "x_ts = rdkit_numpy_convert(fp_ts)"
   ]
  },
  {
   "cell_type": "code",
   "execution_count": 28,
   "id": "06a2cc73",
   "metadata": {},
   "outputs": [
    {
     "data": {
      "text/plain": [
       "(1929, 1024)"
      ]
     },
     "execution_count": 28,
     "metadata": {},
     "output_type": "execute_result"
    }
   ],
   "source": [
    "x_ts.shape"
   ]
  },
  {
   "cell_type": "code",
   "execution_count": 29,
   "id": "a739d1d4",
   "metadata": {},
   "outputs": [],
   "source": [
    "x_tr = np.array(x_tr, dtype=np.float32)\n",
    "y_tr = np.array(y_tr, dtype=np.float32)"
   ]
  },
  {
   "cell_type": "markdown",
   "id": "c8bf4fd4-adf5-400a-8f3e-8cc23bb6bef9",
   "metadata": {},
   "source": [
    "## GradientBoostingRegressor model building and validation"
   ]
  },
  {
   "cell_type": "code",
   "execution_count": 30,
   "id": "1308b656",
   "metadata": {},
   "outputs": [],
   "source": [
    "seed = 42"
   ]
  },
  {
   "cell_type": "code",
   "execution_count": 31,
   "id": "25c319bb",
   "metadata": {},
   "outputs": [],
   "source": [
    "cv=KFold(n_splits=5, random_state=seed, shuffle=True)"
   ]
  },
  {
   "cell_type": "code",
   "execution_count": 75,
   "id": "82e42d05",
   "metadata": {},
   "outputs": [],
   "source": [
    "param_grid = {'learning_rate': [0.01,0.02,0.03,0.04],\n",
    "                  'subsample'    : [0.9, 0.5, 0.2, 0.1],\n",
    "                  'n_estimators' : [100,500,1000, 1500],\n",
    "                  'max_depth'    : [4,6,8,10]\n",
    "                 }"
   ]
  },
  {
   "cell_type": "code",
   "execution_count": 76,
   "id": "878b7f69",
   "metadata": {},
   "outputs": [],
   "source": [
    "m = GridSearchCV(GradientBoostingRegressor(), param_grid, n_jobs=-1, cv=cv, verbose=1)"
   ]
  },
  {
   "cell_type": "code",
   "execution_count": 77,
   "id": "4cd839e8",
   "metadata": {},
   "outputs": [
    {
     "name": "stdout",
     "output_type": "stream",
     "text": [
      "Fitting 5 folds for each of 256 candidates, totalling 1280 fits\n"
     ]
    },
    {
     "data": {
      "text/plain": [
       "GridSearchCV(cv=KFold(n_splits=5, random_state=42, shuffle=True),\n",
       "             estimator=GradientBoostingRegressor(), n_jobs=-1,\n",
       "             param_grid={'learning_rate': [0.01, 0.02, 0.03, 0.04],\n",
       "                         'max_depth': [4, 6, 8, 10],\n",
       "                         'n_estimators': [100, 500, 1000, 1500],\n",
       "                         'subsample': [0.9, 0.5, 0.2, 0.1]},\n",
       "             verbose=1)"
      ]
     },
     "execution_count": 77,
     "metadata": {},
     "output_type": "execute_result"
    }
   ],
   "source": [
    "m.fit(x_tr, y_tr)"
   ]
  },
  {
   "cell_type": "code",
   "execution_count": 78,
   "id": "6185baab",
   "metadata": {},
   "outputs": [],
   "source": [
    "m.best_params_\n",
    "best_GBR = m.best_estimator_"
   ]
  },
  {
   "cell_type": "code",
   "execution_count": 79,
   "id": "deeeb955",
   "metadata": {},
   "outputs": [
    {
     "data": {
      "text/plain": [
       "{'learning_rate': 0.02,\n",
       " 'max_depth': 10,\n",
       " 'n_estimators': 1500,\n",
       " 'subsample': 0.5}"
      ]
     },
     "execution_count": 79,
     "metadata": {},
     "output_type": "execute_result"
    }
   ],
   "source": [
    "m.best_params_"
   ]
  },
  {
   "cell_type": "code",
   "execution_count": 80,
   "id": "e962fe8f",
   "metadata": {},
   "outputs": [],
   "source": [
    "y_pred_CV_GBR = cross_val_predict(best_GBR, x_tr, y_tr, cv=cv)"
   ]
  },
  {
   "cell_type": "code",
   "execution_count": 83,
   "id": "cd3d8ac7",
   "metadata": {},
   "outputs": [
    {
     "data": {
      "text/plain": [
       "0.55"
      ]
     },
     "execution_count": 83,
     "metadata": {},
     "output_type": "execute_result"
    }
   ],
   "source": [
    "Q2_CV = round(r2_score(y_tr, y_pred_CV_GBR), 2)\n",
    "Q2_CV"
   ]
  },
  {
   "cell_type": "code",
   "execution_count": 82,
   "id": "b9a8ea8c",
   "metadata": {},
   "outputs": [
    {
     "data": {
      "text/plain": [
       "0.66"
      ]
     },
     "execution_count": 82,
     "metadata": {},
     "output_type": "execute_result"
    }
   ],
   "source": [
    "RMSE_CV=round(np.sqrt(mean_absolute_error(y_tr, y_pred_CV_GBR)), 2)\n",
    "RMSE_CV"
   ]
  },
  {
   "cell_type": "markdown",
   "id": "02143e16",
   "metadata": {},
   "source": [
    "##  Prediction for test set's molecules"
   ]
  },
  {
   "cell_type": "code",
   "execution_count": 84,
   "id": "29162e20",
   "metadata": {},
   "outputs": [],
   "source": [
    "x_ts = np.array(x_ts, dtype=np.float32)\n",
    "y_ts = np.array(y_ts, dtype=np.float32)"
   ]
  },
  {
   "cell_type": "code",
   "execution_count": 85,
   "id": "b3b95348",
   "metadata": {},
   "outputs": [
    {
     "data": {
      "text/plain": [
       "1929"
      ]
     },
     "execution_count": 85,
     "metadata": {},
     "output_type": "execute_result"
    }
   ],
   "source": [
    "len(y_ts)"
   ]
  },
  {
   "cell_type": "code",
   "execution_count": 86,
   "id": "f39d9f7b",
   "metadata": {},
   "outputs": [],
   "source": [
    "y_pred_GBR = best_GBR.predict(x_ts)"
   ]
  },
  {
   "cell_type": "code",
   "execution_count": 87,
   "id": "4f926f5f",
   "metadata": {},
   "outputs": [
    {
     "data": {
      "text/plain": [
       "0.57"
      ]
     },
     "execution_count": 87,
     "metadata": {},
     "output_type": "execute_result"
    }
   ],
   "source": [
    "Q2_TS = round(r2_score(y_ts, y_pred_GBR), 2)\n",
    "Q2_TS"
   ]
  },
  {
   "cell_type": "code",
   "execution_count": 88,
   "id": "19323385",
   "metadata": {},
   "outputs": [
    {
     "data": {
      "text/plain": [
       "0.64"
      ]
     },
     "execution_count": 88,
     "metadata": {},
     "output_type": "execute_result"
    }
   ],
   "source": [
    "RMSE_TS=round(np.sqrt(mean_absolute_error(y_ts, y_pred_GBR)), 2)\n",
    "RMSE_TS"
   ]
  },
  {
   "cell_type": "markdown",
   "id": "849f39f6",
   "metadata": {},
   "source": [
    "## save the model to disk"
   ]
  },
  {
   "cell_type": "code",
   "execution_count": 89,
   "id": "08647610",
   "metadata": {},
   "outputs": [],
   "source": [
    "pickle.dump(best_GBR, open('Models/MorganFingerprint/LD50_rat_oral_GBR_MFP.pkl', 'wb'))"
   ]
  },
  {
   "cell_type": "markdown",
   "id": "8c9dd32e",
   "metadata": {},
   "source": [
    "## load the model from disk"
   ]
  },
  {
   "cell_type": "code",
   "execution_count": 307,
   "id": "1d9f55a2",
   "metadata": {},
   "outputs": [],
   "source": [
    "best_GBR = pickle.load(open('Models/MorganFingerprint/LD50_rat_oral_GBR_MFP.pkl', 'rb'))"
   ]
  },
  {
   "cell_type": "markdown",
   "id": "79f4df76",
   "metadata": {},
   "source": [
    "##  Y-randomization GBR model"
   ]
  },
  {
   "cell_type": "code",
   "execution_count": 163,
   "id": "fc18fc12-4afb-43b7-879f-ebc01d94a9d8",
   "metadata": {},
   "outputs": [
    {
     "name": "stderr",
     "output_type": "stream",
     "text": [
      "[Parallel(n_jobs=10)]: Using backend LokyBackend with 10 concurrent workers.\n",
      "[Parallel(n_jobs=10)]: Done  30 tasks      | elapsed: 228.7min\n"
     ]
    },
    {
     "name": "stdout",
     "output_type": "stream",
     "text": [
      "True score =  0.55 \n",
      "Y-randomization =  -0.19 \n",
      "p-value =  0.0196\n"
     ]
    },
    {
     "name": "stderr",
     "output_type": "stream",
     "text": [
      "[Parallel(n_jobs=10)]: Done  50 out of  50 | elapsed: 378.7min finished\n"
     ]
    }
   ],
   "source": [
    "permutations = 50\n",
    "score, permutation_scores, pvalue = permutation_test_score(best_GBR, x_tr, y_tr,\n",
    "                                                           cv=cv, scoring='r2',\n",
    "                                                           n_permutations=permutations,\n",
    "                                                           n_jobs=10,\n",
    "                                                           verbose=1,\n",
    "                                                           random_state=24)\n",
    "print('True score = ', score.round(2),\n",
    "      '\\nY-randomization = ', np.mean(permutation_scores).round(2),\n",
    "      '\\np-value = ', pvalue.round(4))"
   ]
  },
  {
   "cell_type": "markdown",
   "id": "21a8c21d",
   "metadata": {},
   "source": [
    "##  Estimating applicability domain. Method - Euclidian distances, K=1"
   ]
  },
  {
   "cell_type": "code",
   "execution_count": 90,
   "id": "dc574aa2",
   "metadata": {},
   "outputs": [],
   "source": [
    "neighbors_k= pairwise_distances(x_tr, n_jobs=-1)\n",
    "neighbors_k.sort(0)"
   ]
  },
  {
   "cell_type": "code",
   "execution_count": 91,
   "id": "0ca32e4c",
   "metadata": {},
   "outputs": [
    {
     "data": {
      "text/html": [
       "<div>\n",
       "<style scoped>\n",
       "    .dataframe tbody tr th:only-of-type {\n",
       "        vertical-align: middle;\n",
       "    }\n",
       "\n",
       "    .dataframe tbody tr th {\n",
       "        vertical-align: top;\n",
       "    }\n",
       "\n",
       "    .dataframe thead th {\n",
       "        text-align: right;\n",
       "    }\n",
       "</style>\n",
       "<table border=\"1\" class=\"dataframe\">\n",
       "  <thead>\n",
       "    <tr style=\"text-align: right;\">\n",
       "      <th></th>\n",
       "      <th>0</th>\n",
       "      <th>1</th>\n",
       "      <th>2</th>\n",
       "      <th>3</th>\n",
       "      <th>4</th>\n",
       "      <th>5</th>\n",
       "      <th>6</th>\n",
       "      <th>7</th>\n",
       "      <th>8</th>\n",
       "      <th>9</th>\n",
       "      <th>...</th>\n",
       "      <th>7702</th>\n",
       "      <th>7703</th>\n",
       "      <th>7704</th>\n",
       "      <th>7705</th>\n",
       "      <th>7706</th>\n",
       "      <th>7707</th>\n",
       "      <th>7708</th>\n",
       "      <th>7709</th>\n",
       "      <th>7710</th>\n",
       "      <th>7711</th>\n",
       "    </tr>\n",
       "  </thead>\n",
       "  <tbody>\n",
       "    <tr>\n",
       "      <th>0</th>\n",
       "      <td>0.000000</td>\n",
       "      <td>0.000000</td>\n",
       "      <td>0.000000</td>\n",
       "      <td>0.000000</td>\n",
       "      <td>0.000000</td>\n",
       "      <td>0.000000</td>\n",
       "      <td>0.000000</td>\n",
       "      <td>0.000000</td>\n",
       "      <td>0.000000</td>\n",
       "      <td>0.000000</td>\n",
       "      <td>...</td>\n",
       "      <td>0.000000</td>\n",
       "      <td>0.000000</td>\n",
       "      <td>0.000000</td>\n",
       "      <td>0.000000</td>\n",
       "      <td>0.000000</td>\n",
       "      <td>0.000000</td>\n",
       "      <td>0.000000</td>\n",
       "      <td>0.000000</td>\n",
       "      <td>0.000000</td>\n",
       "      <td>0.000000</td>\n",
       "    </tr>\n",
       "    <tr>\n",
       "      <th>1</th>\n",
       "      <td>3.162278</td>\n",
       "      <td>4.000000</td>\n",
       "      <td>1.414214</td>\n",
       "      <td>3.741657</td>\n",
       "      <td>2.236068</td>\n",
       "      <td>3.464102</td>\n",
       "      <td>3.316625</td>\n",
       "      <td>6.000000</td>\n",
       "      <td>0.000000</td>\n",
       "      <td>2.000000</td>\n",
       "      <td>...</td>\n",
       "      <td>2.449490</td>\n",
       "      <td>3.316625</td>\n",
       "      <td>4.000000</td>\n",
       "      <td>4.795832</td>\n",
       "      <td>4.358899</td>\n",
       "      <td>2.645751</td>\n",
       "      <td>6.557438</td>\n",
       "      <td>3.316625</td>\n",
       "      <td>2.645751</td>\n",
       "      <td>5.567764</td>\n",
       "    </tr>\n",
       "    <tr>\n",
       "      <th>2</th>\n",
       "      <td>3.464102</td>\n",
       "      <td>4.690416</td>\n",
       "      <td>2.236068</td>\n",
       "      <td>3.872983</td>\n",
       "      <td>2.449490</td>\n",
       "      <td>3.464102</td>\n",
       "      <td>3.605551</td>\n",
       "      <td>6.082763</td>\n",
       "      <td>0.000000</td>\n",
       "      <td>2.449490</td>\n",
       "      <td>...</td>\n",
       "      <td>2.645751</td>\n",
       "      <td>3.464102</td>\n",
       "      <td>4.690416</td>\n",
       "      <td>5.099020</td>\n",
       "      <td>5.477226</td>\n",
       "      <td>4.472136</td>\n",
       "      <td>6.557438</td>\n",
       "      <td>4.242640</td>\n",
       "      <td>2.645751</td>\n",
       "      <td>5.916080</td>\n",
       "    </tr>\n",
       "    <tr>\n",
       "      <th>3</th>\n",
       "      <td>3.872983</td>\n",
       "      <td>4.795832</td>\n",
       "      <td>2.449490</td>\n",
       "      <td>3.872983</td>\n",
       "      <td>2.449490</td>\n",
       "      <td>3.464102</td>\n",
       "      <td>3.741657</td>\n",
       "      <td>6.082763</td>\n",
       "      <td>0.000000</td>\n",
       "      <td>2.449490</td>\n",
       "      <td>...</td>\n",
       "      <td>2.828427</td>\n",
       "      <td>4.000000</td>\n",
       "      <td>6.164414</td>\n",
       "      <td>6.164414</td>\n",
       "      <td>5.477226</td>\n",
       "      <td>5.099020</td>\n",
       "      <td>6.633250</td>\n",
       "      <td>5.099020</td>\n",
       "      <td>2.828427</td>\n",
       "      <td>6.244998</td>\n",
       "    </tr>\n",
       "    <tr>\n",
       "      <th>4</th>\n",
       "      <td>3.872983</td>\n",
       "      <td>5.099020</td>\n",
       "      <td>2.449490</td>\n",
       "      <td>4.000000</td>\n",
       "      <td>2.449490</td>\n",
       "      <td>3.464102</td>\n",
       "      <td>3.741657</td>\n",
       "      <td>6.082763</td>\n",
       "      <td>1.732051</td>\n",
       "      <td>2.645751</td>\n",
       "      <td>...</td>\n",
       "      <td>3.741657</td>\n",
       "      <td>4.242640</td>\n",
       "      <td>6.244998</td>\n",
       "      <td>6.782330</td>\n",
       "      <td>5.477226</td>\n",
       "      <td>5.099020</td>\n",
       "      <td>6.633250</td>\n",
       "      <td>7.416198</td>\n",
       "      <td>3.316625</td>\n",
       "      <td>6.324555</td>\n",
       "    </tr>\n",
       "    <tr>\n",
       "      <th>...</th>\n",
       "      <td>...</td>\n",
       "      <td>...</td>\n",
       "      <td>...</td>\n",
       "      <td>...</td>\n",
       "      <td>...</td>\n",
       "      <td>...</td>\n",
       "      <td>...</td>\n",
       "      <td>...</td>\n",
       "      <td>...</td>\n",
       "      <td>...</td>\n",
       "      <td>...</td>\n",
       "      <td>...</td>\n",
       "      <td>...</td>\n",
       "      <td>...</td>\n",
       "      <td>...</td>\n",
       "      <td>...</td>\n",
       "      <td>...</td>\n",
       "      <td>...</td>\n",
       "      <td>...</td>\n",
       "      <td>...</td>\n",
       "      <td>...</td>\n",
       "    </tr>\n",
       "    <tr>\n",
       "      <th>7707</th>\n",
       "      <td>10.630146</td>\n",
       "      <td>10.816654</td>\n",
       "      <td>10.583005</td>\n",
       "      <td>10.723805</td>\n",
       "      <td>10.246951</td>\n",
       "      <td>10.344080</td>\n",
       "      <td>10.677078</td>\n",
       "      <td>10.723805</td>\n",
       "      <td>10.677078</td>\n",
       "      <td>10.816654</td>\n",
       "      <td>...</td>\n",
       "      <td>10.954452</td>\n",
       "      <td>11.224972</td>\n",
       "      <td>11.224972</td>\n",
       "      <td>11.916375</td>\n",
       "      <td>11.357817</td>\n",
       "      <td>11.661903</td>\n",
       "      <td>11.224972</td>\n",
       "      <td>11.832160</td>\n",
       "      <td>10.677078</td>\n",
       "      <td>11.489125</td>\n",
       "    </tr>\n",
       "    <tr>\n",
       "      <th>7708</th>\n",
       "      <td>11.180340</td>\n",
       "      <td>11.045361</td>\n",
       "      <td>11.224972</td>\n",
       "      <td>11.445523</td>\n",
       "      <td>10.908712</td>\n",
       "      <td>11.090536</td>\n",
       "      <td>10.862781</td>\n",
       "      <td>11.224972</td>\n",
       "      <td>11.313708</td>\n",
       "      <td>11.357817</td>\n",
       "      <td>...</td>\n",
       "      <td>11.045361</td>\n",
       "      <td>11.747340</td>\n",
       "      <td>11.401754</td>\n",
       "      <td>12.206555</td>\n",
       "      <td>11.532562</td>\n",
       "      <td>11.958261</td>\n",
       "      <td>11.618950</td>\n",
       "      <td>12.247449</td>\n",
       "      <td>10.770329</td>\n",
       "      <td>11.832160</td>\n",
       "    </tr>\n",
       "    <tr>\n",
       "      <th>7709</th>\n",
       "      <td>11.704700</td>\n",
       "      <td>11.832160</td>\n",
       "      <td>11.747340</td>\n",
       "      <td>12.041595</td>\n",
       "      <td>11.357817</td>\n",
       "      <td>11.445523</td>\n",
       "      <td>11.401754</td>\n",
       "      <td>11.747340</td>\n",
       "      <td>11.747340</td>\n",
       "      <td>11.789826</td>\n",
       "      <td>...</td>\n",
       "      <td>12.000000</td>\n",
       "      <td>12.083046</td>\n",
       "      <td>11.832160</td>\n",
       "      <td>12.767145</td>\n",
       "      <td>12.124355</td>\n",
       "      <td>12.529964</td>\n",
       "      <td>12.206555</td>\n",
       "      <td>12.328828</td>\n",
       "      <td>11.747340</td>\n",
       "      <td>12.727922</td>\n",
       "    </tr>\n",
       "    <tr>\n",
       "      <th>7710</th>\n",
       "      <td>11.874342</td>\n",
       "      <td>11.916375</td>\n",
       "      <td>11.747340</td>\n",
       "      <td>12.124355</td>\n",
       "      <td>11.532562</td>\n",
       "      <td>11.532562</td>\n",
       "      <td>11.489125</td>\n",
       "      <td>11.916375</td>\n",
       "      <td>11.832160</td>\n",
       "      <td>11.958261</td>\n",
       "      <td>...</td>\n",
       "      <td>12.000000</td>\n",
       "      <td>12.165525</td>\n",
       "      <td>12.083046</td>\n",
       "      <td>13.000000</td>\n",
       "      <td>12.288206</td>\n",
       "      <td>12.688578</td>\n",
       "      <td>12.369317</td>\n",
       "      <td>12.569805</td>\n",
       "      <td>11.832160</td>\n",
       "      <td>12.884099</td>\n",
       "    </tr>\n",
       "    <tr>\n",
       "      <th>7711</th>\n",
       "      <td>11.874342</td>\n",
       "      <td>12.247449</td>\n",
       "      <td>11.916375</td>\n",
       "      <td>12.206555</td>\n",
       "      <td>11.618950</td>\n",
       "      <td>11.874342</td>\n",
       "      <td>12.000000</td>\n",
       "      <td>12.000000</td>\n",
       "      <td>12.083046</td>\n",
       "      <td>12.041595</td>\n",
       "      <td>...</td>\n",
       "      <td>12.165525</td>\n",
       "      <td>12.409674</td>\n",
       "      <td>12.409674</td>\n",
       "      <td>13.076696</td>\n",
       "      <td>12.288206</td>\n",
       "      <td>12.767145</td>\n",
       "      <td>12.688578</td>\n",
       "      <td>12.649111</td>\n",
       "      <td>11.832160</td>\n",
       "      <td>12.961481</td>\n",
       "    </tr>\n",
       "  </tbody>\n",
       "</table>\n",
       "<p>7712 rows × 7712 columns</p>\n",
       "</div>"
      ],
      "text/plain": [
       "           0          1          2          3          4          5     \\\n",
       "0      0.000000   0.000000   0.000000   0.000000   0.000000   0.000000   \n",
       "1      3.162278   4.000000   1.414214   3.741657   2.236068   3.464102   \n",
       "2      3.464102   4.690416   2.236068   3.872983   2.449490   3.464102   \n",
       "3      3.872983   4.795832   2.449490   3.872983   2.449490   3.464102   \n",
       "4      3.872983   5.099020   2.449490   4.000000   2.449490   3.464102   \n",
       "...         ...        ...        ...        ...        ...        ...   \n",
       "7707  10.630146  10.816654  10.583005  10.723805  10.246951  10.344080   \n",
       "7708  11.180340  11.045361  11.224972  11.445523  10.908712  11.090536   \n",
       "7709  11.704700  11.832160  11.747340  12.041595  11.357817  11.445523   \n",
       "7710  11.874342  11.916375  11.747340  12.124355  11.532562  11.532562   \n",
       "7711  11.874342  12.247449  11.916375  12.206555  11.618950  11.874342   \n",
       "\n",
       "           6          7          8          9     ...       7702       7703  \\\n",
       "0      0.000000   0.000000   0.000000   0.000000  ...   0.000000   0.000000   \n",
       "1      3.316625   6.000000   0.000000   2.000000  ...   2.449490   3.316625   \n",
       "2      3.605551   6.082763   0.000000   2.449490  ...   2.645751   3.464102   \n",
       "3      3.741657   6.082763   0.000000   2.449490  ...   2.828427   4.000000   \n",
       "4      3.741657   6.082763   1.732051   2.645751  ...   3.741657   4.242640   \n",
       "...         ...        ...        ...        ...  ...        ...        ...   \n",
       "7707  10.677078  10.723805  10.677078  10.816654  ...  10.954452  11.224972   \n",
       "7708  10.862781  11.224972  11.313708  11.357817  ...  11.045361  11.747340   \n",
       "7709  11.401754  11.747340  11.747340  11.789826  ...  12.000000  12.083046   \n",
       "7710  11.489125  11.916375  11.832160  11.958261  ...  12.000000  12.165525   \n",
       "7711  12.000000  12.000000  12.083046  12.041595  ...  12.165525  12.409674   \n",
       "\n",
       "           7704       7705       7706       7707       7708       7709  \\\n",
       "0      0.000000   0.000000   0.000000   0.000000   0.000000   0.000000   \n",
       "1      4.000000   4.795832   4.358899   2.645751   6.557438   3.316625   \n",
       "2      4.690416   5.099020   5.477226   4.472136   6.557438   4.242640   \n",
       "3      6.164414   6.164414   5.477226   5.099020   6.633250   5.099020   \n",
       "4      6.244998   6.782330   5.477226   5.099020   6.633250   7.416198   \n",
       "...         ...        ...        ...        ...        ...        ...   \n",
       "7707  11.224972  11.916375  11.357817  11.661903  11.224972  11.832160   \n",
       "7708  11.401754  12.206555  11.532562  11.958261  11.618950  12.247449   \n",
       "7709  11.832160  12.767145  12.124355  12.529964  12.206555  12.328828   \n",
       "7710  12.083046  13.000000  12.288206  12.688578  12.369317  12.569805   \n",
       "7711  12.409674  13.076696  12.288206  12.767145  12.688578  12.649111   \n",
       "\n",
       "           7710       7711  \n",
       "0      0.000000   0.000000  \n",
       "1      2.645751   5.567764  \n",
       "2      2.645751   5.916080  \n",
       "3      2.828427   6.244998  \n",
       "4      3.316625   6.324555  \n",
       "...         ...        ...  \n",
       "7707  10.677078  11.489125  \n",
       "7708  10.770329  11.832160  \n",
       "7709  11.747340  12.727922  \n",
       "7710  11.832160  12.884099  \n",
       "7711  11.832160  12.961481  \n",
       "\n",
       "[7712 rows x 7712 columns]"
      ]
     },
     "execution_count": 91,
     "metadata": {},
     "output_type": "execute_result"
    }
   ],
   "source": [
    "df_tr=pd.DataFrame(neighbors_k)\n",
    "df_tr"
   ]
  },
  {
   "cell_type": "code",
   "execution_count": 92,
   "id": "6d42882a",
   "metadata": {},
   "outputs": [],
   "source": [
    "similarity= neighbors_k"
   ]
  },
  {
   "cell_type": "code",
   "execution_count": 93,
   "id": "32c64632",
   "metadata": {},
   "outputs": [],
   "source": [
    "Dmean=np.mean(similarity[1,:])"
   ]
  },
  {
   "cell_type": "code",
   "execution_count": 94,
   "id": "3c840f9d",
   "metadata": {},
   "outputs": [
    {
     "data": {
      "text/plain": [
       "3.63"
      ]
     },
     "execution_count": 94,
     "metadata": {},
     "output_type": "execute_result"
    }
   ],
   "source": [
    "round(Dmean, 2)"
   ]
  },
  {
   "cell_type": "code",
   "execution_count": 95,
   "id": "b36811be",
   "metadata": {},
   "outputs": [],
   "source": [
    "std=np.std(similarity[1,:])"
   ]
  },
  {
   "cell_type": "code",
   "execution_count": 96,
   "id": "c8230456",
   "metadata": {},
   "outputs": [
    {
     "data": {
      "text/plain": [
       "1.23"
      ]
     },
     "execution_count": 96,
     "metadata": {},
     "output_type": "execute_result"
    }
   ],
   "source": [
    "round(std, 2)"
   ]
  },
  {
   "cell_type": "code",
   "execution_count": 97,
   "id": "c48814e0",
   "metadata": {},
   "outputs": [
    {
     "name": "stdout",
     "output_type": "stream",
     "text": [
      "4.25\n"
     ]
    }
   ],
   "source": [
    "model_AD_limit=Dmean+std*0.5\n",
    "print(np.round(model_AD_limit, 2))"
   ]
  },
  {
   "cell_type": "code",
   "execution_count": 98,
   "id": "cd9dbece",
   "metadata": {},
   "outputs": [],
   "source": [
    "neighbors_k_ts= pairwise_distances(x_tr,Y=x_ts, n_jobs=-1)\n",
    "neighbors_k_ts.sort(0)"
   ]
  },
  {
   "cell_type": "code",
   "execution_count": 99,
   "id": "cec8d4fa",
   "metadata": {},
   "outputs": [
    {
     "data": {
      "text/html": [
       "<div>\n",
       "<style scoped>\n",
       "    .dataframe tbody tr th:only-of-type {\n",
       "        vertical-align: middle;\n",
       "    }\n",
       "\n",
       "    .dataframe tbody tr th {\n",
       "        vertical-align: top;\n",
       "    }\n",
       "\n",
       "    .dataframe thead th {\n",
       "        text-align: right;\n",
       "    }\n",
       "</style>\n",
       "<table border=\"1\" class=\"dataframe\">\n",
       "  <thead>\n",
       "    <tr style=\"text-align: right;\">\n",
       "      <th></th>\n",
       "      <th>0</th>\n",
       "      <th>1</th>\n",
       "      <th>2</th>\n",
       "      <th>3</th>\n",
       "      <th>4</th>\n",
       "      <th>5</th>\n",
       "      <th>6</th>\n",
       "      <th>7</th>\n",
       "      <th>8</th>\n",
       "      <th>9</th>\n",
       "      <th>...</th>\n",
       "      <th>1919</th>\n",
       "      <th>1920</th>\n",
       "      <th>1921</th>\n",
       "      <th>1922</th>\n",
       "      <th>1923</th>\n",
       "      <th>1924</th>\n",
       "      <th>1925</th>\n",
       "      <th>1926</th>\n",
       "      <th>1927</th>\n",
       "      <th>1928</th>\n",
       "    </tr>\n",
       "  </thead>\n",
       "  <tbody>\n",
       "    <tr>\n",
       "      <th>0</th>\n",
       "      <td>2.000000</td>\n",
       "      <td>3.464102</td>\n",
       "      <td>2.000000</td>\n",
       "      <td>1.414214</td>\n",
       "      <td>2.000000</td>\n",
       "      <td>2.645751</td>\n",
       "      <td>3.162278</td>\n",
       "      <td>0.000000</td>\n",
       "      <td>2.449490</td>\n",
       "      <td>4.358899</td>\n",
       "      <td>...</td>\n",
       "      <td>6.855655</td>\n",
       "      <td>4.690416</td>\n",
       "      <td>2.828427</td>\n",
       "      <td>3.741657</td>\n",
       "      <td>3.162278</td>\n",
       "      <td>4.898980</td>\n",
       "      <td>2.645751</td>\n",
       "      <td>4.123106</td>\n",
       "      <td>3.162278</td>\n",
       "      <td>7.071068</td>\n",
       "    </tr>\n",
       "    <tr>\n",
       "      <th>1</th>\n",
       "      <td>2.000000</td>\n",
       "      <td>3.464102</td>\n",
       "      <td>2.236068</td>\n",
       "      <td>1.732051</td>\n",
       "      <td>3.162278</td>\n",
       "      <td>2.828427</td>\n",
       "      <td>3.605551</td>\n",
       "      <td>2.449490</td>\n",
       "      <td>2.449490</td>\n",
       "      <td>4.690416</td>\n",
       "      <td>...</td>\n",
       "      <td>7.071068</td>\n",
       "      <td>6.000000</td>\n",
       "      <td>3.316625</td>\n",
       "      <td>3.872983</td>\n",
       "      <td>3.162278</td>\n",
       "      <td>5.916080</td>\n",
       "      <td>2.828427</td>\n",
       "      <td>4.358899</td>\n",
       "      <td>3.605551</td>\n",
       "      <td>7.280110</td>\n",
       "    </tr>\n",
       "    <tr>\n",
       "      <th>2</th>\n",
       "      <td>2.000000</td>\n",
       "      <td>3.605551</td>\n",
       "      <td>2.236068</td>\n",
       "      <td>1.732051</td>\n",
       "      <td>3.162278</td>\n",
       "      <td>2.828427</td>\n",
       "      <td>3.872983</td>\n",
       "      <td>2.449490</td>\n",
       "      <td>2.449490</td>\n",
       "      <td>4.795832</td>\n",
       "      <td>...</td>\n",
       "      <td>7.280110</td>\n",
       "      <td>6.782330</td>\n",
       "      <td>3.316625</td>\n",
       "      <td>4.795832</td>\n",
       "      <td>3.162278</td>\n",
       "      <td>6.082763</td>\n",
       "      <td>2.828427</td>\n",
       "      <td>4.582576</td>\n",
       "      <td>3.741657</td>\n",
       "      <td>7.348469</td>\n",
       "    </tr>\n",
       "    <tr>\n",
       "      <th>3</th>\n",
       "      <td>2.000000</td>\n",
       "      <td>3.872983</td>\n",
       "      <td>2.645751</td>\n",
       "      <td>2.000000</td>\n",
       "      <td>3.464102</td>\n",
       "      <td>2.828427</td>\n",
       "      <td>4.000000</td>\n",
       "      <td>2.449490</td>\n",
       "      <td>2.449490</td>\n",
       "      <td>5.196152</td>\n",
       "      <td>...</td>\n",
       "      <td>7.280110</td>\n",
       "      <td>6.855655</td>\n",
       "      <td>3.464102</td>\n",
       "      <td>4.795832</td>\n",
       "      <td>3.316625</td>\n",
       "      <td>6.082763</td>\n",
       "      <td>2.828427</td>\n",
       "      <td>4.690416</td>\n",
       "      <td>3.741657</td>\n",
       "      <td>7.348469</td>\n",
       "    </tr>\n",
       "    <tr>\n",
       "      <th>4</th>\n",
       "      <td>2.000000</td>\n",
       "      <td>4.000000</td>\n",
       "      <td>2.828427</td>\n",
       "      <td>2.236068</td>\n",
       "      <td>3.605551</td>\n",
       "      <td>2.828427</td>\n",
       "      <td>4.242640</td>\n",
       "      <td>2.449490</td>\n",
       "      <td>2.645751</td>\n",
       "      <td>5.196152</td>\n",
       "      <td>...</td>\n",
       "      <td>7.416198</td>\n",
       "      <td>6.855655</td>\n",
       "      <td>3.605551</td>\n",
       "      <td>4.898980</td>\n",
       "      <td>3.605551</td>\n",
       "      <td>6.480741</td>\n",
       "      <td>3.000000</td>\n",
       "      <td>4.690416</td>\n",
       "      <td>3.872983</td>\n",
       "      <td>7.416198</td>\n",
       "    </tr>\n",
       "    <tr>\n",
       "      <th>...</th>\n",
       "      <td>...</td>\n",
       "      <td>...</td>\n",
       "      <td>...</td>\n",
       "      <td>...</td>\n",
       "      <td>...</td>\n",
       "      <td>...</td>\n",
       "      <td>...</td>\n",
       "      <td>...</td>\n",
       "      <td>...</td>\n",
       "      <td>...</td>\n",
       "      <td>...</td>\n",
       "      <td>...</td>\n",
       "      <td>...</td>\n",
       "      <td>...</td>\n",
       "      <td>...</td>\n",
       "      <td>...</td>\n",
       "      <td>...</td>\n",
       "      <td>...</td>\n",
       "      <td>...</td>\n",
       "      <td>...</td>\n",
       "      <td>...</td>\n",
       "    </tr>\n",
       "    <tr>\n",
       "      <th>7707</th>\n",
       "      <td>10.583005</td>\n",
       "      <td>10.583005</td>\n",
       "      <td>10.295630</td>\n",
       "      <td>10.770329</td>\n",
       "      <td>10.246951</td>\n",
       "      <td>10.344080</td>\n",
       "      <td>11.000000</td>\n",
       "      <td>10.488089</td>\n",
       "      <td>10.535654</td>\n",
       "      <td>10.954452</td>\n",
       "      <td>...</td>\n",
       "      <td>11.789826</td>\n",
       "      <td>11.618950</td>\n",
       "      <td>11.401754</td>\n",
       "      <td>11.180340</td>\n",
       "      <td>11.269427</td>\n",
       "      <td>11.789826</td>\n",
       "      <td>11.357817</td>\n",
       "      <td>11.224972</td>\n",
       "      <td>10.770329</td>\n",
       "      <td>11.489125</td>\n",
       "    </tr>\n",
       "    <tr>\n",
       "      <th>7708</th>\n",
       "      <td>11.135529</td>\n",
       "      <td>11.135529</td>\n",
       "      <td>10.954452</td>\n",
       "      <td>11.313708</td>\n",
       "      <td>11.045361</td>\n",
       "      <td>11.000000</td>\n",
       "      <td>11.618950</td>\n",
       "      <td>11.135529</td>\n",
       "      <td>11.000000</td>\n",
       "      <td>11.224972</td>\n",
       "      <td>...</td>\n",
       "      <td>12.124355</td>\n",
       "      <td>12.124355</td>\n",
       "      <td>11.661903</td>\n",
       "      <td>11.445523</td>\n",
       "      <td>11.618950</td>\n",
       "      <td>11.874342</td>\n",
       "      <td>11.704700</td>\n",
       "      <td>11.661903</td>\n",
       "      <td>10.954452</td>\n",
       "      <td>12.083046</td>\n",
       "    </tr>\n",
       "    <tr>\n",
       "      <th>7709</th>\n",
       "      <td>11.575837</td>\n",
       "      <td>11.661903</td>\n",
       "      <td>11.575837</td>\n",
       "      <td>11.832160</td>\n",
       "      <td>11.575837</td>\n",
       "      <td>11.532562</td>\n",
       "      <td>11.704700</td>\n",
       "      <td>11.661903</td>\n",
       "      <td>11.618950</td>\n",
       "      <td>11.747340</td>\n",
       "      <td>...</td>\n",
       "      <td>12.449900</td>\n",
       "      <td>12.609520</td>\n",
       "      <td>12.165525</td>\n",
       "      <td>12.124355</td>\n",
       "      <td>11.958261</td>\n",
       "      <td>12.206555</td>\n",
       "      <td>12.124355</td>\n",
       "      <td>12.083046</td>\n",
       "      <td>11.832160</td>\n",
       "      <td>12.165525</td>\n",
       "    </tr>\n",
       "    <tr>\n",
       "      <th>7710</th>\n",
       "      <td>11.661903</td>\n",
       "      <td>11.661903</td>\n",
       "      <td>11.575837</td>\n",
       "      <td>11.916375</td>\n",
       "      <td>11.661903</td>\n",
       "      <td>11.532562</td>\n",
       "      <td>11.789826</td>\n",
       "      <td>11.661903</td>\n",
       "      <td>11.704700</td>\n",
       "      <td>12.000000</td>\n",
       "      <td>...</td>\n",
       "      <td>12.845233</td>\n",
       "      <td>12.688578</td>\n",
       "      <td>12.247449</td>\n",
       "      <td>12.124355</td>\n",
       "      <td>12.041595</td>\n",
       "      <td>12.369317</td>\n",
       "      <td>12.206555</td>\n",
       "      <td>12.247449</td>\n",
       "      <td>11.832160</td>\n",
       "      <td>12.247449</td>\n",
       "    </tr>\n",
       "    <tr>\n",
       "      <th>7711</th>\n",
       "      <td>11.661903</td>\n",
       "      <td>12.000000</td>\n",
       "      <td>11.661903</td>\n",
       "      <td>12.000000</td>\n",
       "      <td>11.832160</td>\n",
       "      <td>11.789826</td>\n",
       "      <td>12.041595</td>\n",
       "      <td>11.747340</td>\n",
       "      <td>11.874342</td>\n",
       "      <td>12.083046</td>\n",
       "      <td>...</td>\n",
       "      <td>12.922848</td>\n",
       "      <td>12.688578</td>\n",
       "      <td>12.328828</td>\n",
       "      <td>12.288206</td>\n",
       "      <td>12.288206</td>\n",
       "      <td>12.449900</td>\n",
       "      <td>12.288206</td>\n",
       "      <td>12.247449</td>\n",
       "      <td>11.916375</td>\n",
       "      <td>12.489996</td>\n",
       "    </tr>\n",
       "  </tbody>\n",
       "</table>\n",
       "<p>7712 rows × 1929 columns</p>\n",
       "</div>"
      ],
      "text/plain": [
       "           0          1          2          3          4          5     \\\n",
       "0      2.000000   3.464102   2.000000   1.414214   2.000000   2.645751   \n",
       "1      2.000000   3.464102   2.236068   1.732051   3.162278   2.828427   \n",
       "2      2.000000   3.605551   2.236068   1.732051   3.162278   2.828427   \n",
       "3      2.000000   3.872983   2.645751   2.000000   3.464102   2.828427   \n",
       "4      2.000000   4.000000   2.828427   2.236068   3.605551   2.828427   \n",
       "...         ...        ...        ...        ...        ...        ...   \n",
       "7707  10.583005  10.583005  10.295630  10.770329  10.246951  10.344080   \n",
       "7708  11.135529  11.135529  10.954452  11.313708  11.045361  11.000000   \n",
       "7709  11.575837  11.661903  11.575837  11.832160  11.575837  11.532562   \n",
       "7710  11.661903  11.661903  11.575837  11.916375  11.661903  11.532562   \n",
       "7711  11.661903  12.000000  11.661903  12.000000  11.832160  11.789826   \n",
       "\n",
       "           6          7          8          9     ...       1919       1920  \\\n",
       "0      3.162278   0.000000   2.449490   4.358899  ...   6.855655   4.690416   \n",
       "1      3.605551   2.449490   2.449490   4.690416  ...   7.071068   6.000000   \n",
       "2      3.872983   2.449490   2.449490   4.795832  ...   7.280110   6.782330   \n",
       "3      4.000000   2.449490   2.449490   5.196152  ...   7.280110   6.855655   \n",
       "4      4.242640   2.449490   2.645751   5.196152  ...   7.416198   6.855655   \n",
       "...         ...        ...        ...        ...  ...        ...        ...   \n",
       "7707  11.000000  10.488089  10.535654  10.954452  ...  11.789826  11.618950   \n",
       "7708  11.618950  11.135529  11.000000  11.224972  ...  12.124355  12.124355   \n",
       "7709  11.704700  11.661903  11.618950  11.747340  ...  12.449900  12.609520   \n",
       "7710  11.789826  11.661903  11.704700  12.000000  ...  12.845233  12.688578   \n",
       "7711  12.041595  11.747340  11.874342  12.083046  ...  12.922848  12.688578   \n",
       "\n",
       "           1921       1922       1923       1924       1925       1926  \\\n",
       "0      2.828427   3.741657   3.162278   4.898980   2.645751   4.123106   \n",
       "1      3.316625   3.872983   3.162278   5.916080   2.828427   4.358899   \n",
       "2      3.316625   4.795832   3.162278   6.082763   2.828427   4.582576   \n",
       "3      3.464102   4.795832   3.316625   6.082763   2.828427   4.690416   \n",
       "4      3.605551   4.898980   3.605551   6.480741   3.000000   4.690416   \n",
       "...         ...        ...        ...        ...        ...        ...   \n",
       "7707  11.401754  11.180340  11.269427  11.789826  11.357817  11.224972   \n",
       "7708  11.661903  11.445523  11.618950  11.874342  11.704700  11.661903   \n",
       "7709  12.165525  12.124355  11.958261  12.206555  12.124355  12.083046   \n",
       "7710  12.247449  12.124355  12.041595  12.369317  12.206555  12.247449   \n",
       "7711  12.328828  12.288206  12.288206  12.449900  12.288206  12.247449   \n",
       "\n",
       "           1927       1928  \n",
       "0      3.162278   7.071068  \n",
       "1      3.605551   7.280110  \n",
       "2      3.741657   7.348469  \n",
       "3      3.741657   7.348469  \n",
       "4      3.872983   7.416198  \n",
       "...         ...        ...  \n",
       "7707  10.770329  11.489125  \n",
       "7708  10.954452  12.083046  \n",
       "7709  11.832160  12.165525  \n",
       "7710  11.832160  12.247449  \n",
       "7711  11.916375  12.489996  \n",
       "\n",
       "[7712 rows x 1929 columns]"
      ]
     },
     "execution_count": 99,
     "metadata": {},
     "output_type": "execute_result"
    }
   ],
   "source": [
    "x_ts_AD=pd.DataFrame(neighbors_k_ts)\n",
    "x_ts_AD"
   ]
  },
  {
   "cell_type": "code",
   "execution_count": 100,
   "id": "d248d248",
   "metadata": {},
   "outputs": [
    {
     "name": "stdout",
     "output_type": "stream",
     "text": [
      "[2.    3.464 2.    ... 4.123 3.162 7.071]\n"
     ]
    }
   ],
   "source": [
    "similarity_ts= neighbors_k_ts\n",
    "cpd_AD=similarity_ts[0,:]\n",
    "cpd_value = np.round(cpd_AD, 3)\n",
    "print(cpd_value)"
   ]
  },
  {
   "cell_type": "code",
   "execution_count": 101,
   "id": "af363792",
   "metadata": {},
   "outputs": [
    {
     "name": "stdout",
     "output_type": "stream",
     "text": [
      "[ True  True  True ...  True  True False]\n"
     ]
    }
   ],
   "source": [
    "cpd_AD = np.where(cpd_value <= model_AD_limit, True, False)\n",
    "print(cpd_AD)"
   ]
  },
  {
   "cell_type": "code",
   "execution_count": 102,
   "id": "8f8dcfd2",
   "metadata": {},
   "outputs": [
    {
     "name": "stdout",
     "output_type": "stream",
     "text": [
      "Coverage =  0.74\n"
     ]
    }
   ],
   "source": [
    "print(\"Coverage = \", round(sum(cpd_AD) / len(cpd_AD),2))"
   ]
  },
  {
   "cell_type": "code",
   "execution_count": 103,
   "id": "3bcd3235",
   "metadata": {},
   "outputs": [
    {
     "name": "stdout",
     "output_type": "stream",
     "text": [
      "Indices of substances included in AD =  [   0    1    2 ... 1925 1926 1927]\n"
     ]
    }
   ],
   "source": [
    "print(\"Indices of substances included in AD = \", np.where(cpd_AD != 0)[0])"
   ]
  },
  {
   "cell_type": "code",
   "execution_count": 104,
   "id": "f847327f",
   "metadata": {},
   "outputs": [],
   "source": [
    "out_Ad=list(np.where(cpd_AD == 0)[0])"
   ]
  },
  {
   "cell_type": "markdown",
   "id": "6da6f18e",
   "metadata": {},
   "source": [
    "## Prediction only for molecules included in  AD"
   ]
  },
  {
   "cell_type": "code",
   "execution_count": 105,
   "id": "17717750",
   "metadata": {},
   "outputs": [],
   "source": [
    "y_pred_GBR_ad=list(y_pred_GBR)"
   ]
  },
  {
   "cell_type": "code",
   "execution_count": 106,
   "id": "83e26e47",
   "metadata": {},
   "outputs": [],
   "source": [
    "y_pred_GBR_ad[:] = [x for i,x in enumerate(y_pred_GBR_ad) if i not in out_Ad]"
   ]
  },
  {
   "cell_type": "code",
   "execution_count": 107,
   "id": "821bcec6",
   "metadata": {},
   "outputs": [
    {
     "data": {
      "text/plain": [
       "1429"
      ]
     },
     "execution_count": 107,
     "metadata": {},
     "output_type": "execute_result"
    }
   ],
   "source": [
    "len(y_pred_GBR_ad)"
   ]
  },
  {
   "cell_type": "code",
   "execution_count": 108,
   "id": "de8a231f",
   "metadata": {},
   "outputs": [],
   "source": [
    "y_ts_ad=list(y_ts)"
   ]
  },
  {
   "cell_type": "code",
   "execution_count": 109,
   "id": "3bdd78df",
   "metadata": {},
   "outputs": [],
   "source": [
    "y_ts_ad[:] = [x for i,x in enumerate(y_ts_ad) if i not in out_Ad]"
   ]
  },
  {
   "cell_type": "code",
   "execution_count": 110,
   "id": "ef90013f",
   "metadata": {},
   "outputs": [
    {
     "data": {
      "text/plain": [
       "1429"
      ]
     },
     "execution_count": 110,
     "metadata": {},
     "output_type": "execute_result"
    }
   ],
   "source": [
    "len(y_ts_ad)"
   ]
  },
  {
   "cell_type": "code",
   "execution_count": 111,
   "id": "522e1d4b",
   "metadata": {},
   "outputs": [
    {
     "data": {
      "text/plain": [
       "0.65"
      ]
     },
     "execution_count": 111,
     "metadata": {},
     "output_type": "execute_result"
    }
   ],
   "source": [
    "Q2_TS = round(r2_score(y_ts_ad, y_pred_GBR_ad), 2)\n",
    "Q2_TS"
   ]
  },
  {
   "cell_type": "code",
   "execution_count": 112,
   "id": "13c99d21",
   "metadata": {},
   "outputs": [
    {
     "data": {
      "text/plain": [
       "0.63"
      ]
     },
     "execution_count": 112,
     "metadata": {},
     "output_type": "execute_result"
    }
   ],
   "source": [
    "RMSE_TS=round(np.sqrt(mean_absolute_error(y_ts_ad, y_pred_GBR_ad)), 2)\n",
    "RMSE_TS"
   ]
  },
  {
   "cell_type": "code",
   "execution_count": null,
   "id": "385c7886",
   "metadata": {},
   "outputs": [],
   "source": []
  },
  {
   "cell_type": "markdown",
   "id": "085b09a5",
   "metadata": {},
   "source": [
    "# MORGAN FP_SVM model building and validation"
   ]
  },
  {
   "cell_type": "code",
   "execution_count": 38,
   "id": "00a0c5f9",
   "metadata": {},
   "outputs": [],
   "source": [
    "param_grid = {\"C\": [10 ** i for i in range(0, 5)],\n",
    "              \"gamma\": [10 ** i for i in range(-6, 0)]}"
   ]
  },
  {
   "cell_type": "code",
   "execution_count": 39,
   "id": "8f740f20",
   "metadata": {},
   "outputs": [],
   "source": [
    "seed = 42\n",
    "cv=KFold(n_splits=5, random_state=seed, shuffle=True)"
   ]
  },
  {
   "cell_type": "code",
   "execution_count": 40,
   "id": "b57f55a3",
   "metadata": {},
   "outputs": [],
   "source": [
    "svm = GridSearchCV(SVR(C=1.0, epsilon=0.2), param_grid, n_jobs=2, cv=cv, verbose=1)"
   ]
  },
  {
   "cell_type": "code",
   "execution_count": 41,
   "id": "72d27355",
   "metadata": {},
   "outputs": [
    {
     "name": "stdout",
     "output_type": "stream",
     "text": [
      "Fitting 5 folds for each of 30 candidates, totalling 150 fits\n"
     ]
    },
    {
     "data": {
      "text/plain": [
       "GridSearchCV(cv=KFold(n_splits=5, random_state=42, shuffle=True),\n",
       "             estimator=SVR(epsilon=0.2), n_jobs=2,\n",
       "             param_grid={'C': [1, 10, 100, 1000, 10000],\n",
       "                         'gamma': [1e-06, 1e-05, 0.0001, 0.001, 0.01, 0.1]},\n",
       "             verbose=1)"
      ]
     },
     "execution_count": 41,
     "metadata": {},
     "output_type": "execute_result"
    }
   ],
   "source": [
    "svm.fit(x_tr, y_tr)"
   ]
  },
  {
   "cell_type": "code",
   "execution_count": 42,
   "id": "3769da5a",
   "metadata": {},
   "outputs": [],
   "source": [
    "svm.best_params_\n",
    "best_svm = svm.best_estimator_"
   ]
  },
  {
   "cell_type": "code",
   "execution_count": 43,
   "id": "4eb13ae3",
   "metadata": {},
   "outputs": [],
   "source": [
    "y_pred_CV_svm = cross_val_predict(best_svm, x_tr, y_tr, cv=cv)"
   ]
  },
  {
   "cell_type": "code",
   "execution_count": 44,
   "id": "5ecbf3b5",
   "metadata": {},
   "outputs": [
    {
     "data": {
      "text/plain": [
       "0.5"
      ]
     },
     "execution_count": 44,
     "metadata": {},
     "output_type": "execute_result"
    }
   ],
   "source": [
    "Q2_CV = round(r2_score(y_tr, y_pred_CV_svm), 2)\n",
    "Q2_CV"
   ]
  },
  {
   "cell_type": "code",
   "execution_count": 45,
   "id": "4e65b62c",
   "metadata": {},
   "outputs": [
    {
     "data": {
      "text/plain": [
       "0.68"
      ]
     },
     "execution_count": 45,
     "metadata": {},
     "output_type": "execute_result"
    }
   ],
   "source": [
    "RMSE_CV=round(np.sqrt(mean_absolute_error(y_tr, y_pred_CV_svm)), 2)\n",
    "RMSE_CV"
   ]
  },
  {
   "cell_type": "markdown",
   "id": "79000e50",
   "metadata": {},
   "source": [
    "## Prediction for test set's molecules"
   ]
  },
  {
   "cell_type": "code",
   "execution_count": 46,
   "id": "da06ba53",
   "metadata": {},
   "outputs": [],
   "source": [
    "x_ts = np.array(x_ts, dtype=np.float32)\n",
    "y_ts = np.array(y_ts, dtype=np.float32)"
   ]
  },
  {
   "cell_type": "code",
   "execution_count": 47,
   "id": "5d920bab",
   "metadata": {},
   "outputs": [],
   "source": [
    "y_pred_svm = best_svm.predict(x_ts)"
   ]
  },
  {
   "cell_type": "code",
   "execution_count": 48,
   "id": "dff520c6",
   "metadata": {},
   "outputs": [
    {
     "data": {
      "text/plain": [
       "0.55"
      ]
     },
     "execution_count": 48,
     "metadata": {},
     "output_type": "execute_result"
    }
   ],
   "source": [
    "Q2_TS = round(r2_score(y_ts, y_pred_svm), 2)\n",
    "Q2_TS"
   ]
  },
  {
   "cell_type": "code",
   "execution_count": 50,
   "id": "cb6678bc",
   "metadata": {},
   "outputs": [
    {
     "data": {
      "text/plain": [
       "0.66"
      ]
     },
     "execution_count": 50,
     "metadata": {},
     "output_type": "execute_result"
    }
   ],
   "source": [
    "RMSE_TS=round(np.sqrt(mean_absolute_error(y_ts, y_pred_svm)), 2)\n",
    "RMSE_TS"
   ]
  },
  {
   "cell_type": "markdown",
   "id": "a3245b3b",
   "metadata": {},
   "source": [
    "save the model to disk"
   ]
  },
  {
   "cell_type": "code",
   "execution_count": 52,
   "id": "007bcf1d",
   "metadata": {},
   "outputs": [],
   "source": [
    "pickle.dump(best_svm, open('Models/MorganFingerprint/LD50_rat_oral_SVM_MF.pkl', 'wb'))"
   ]
  },
  {
   "cell_type": "markdown",
   "id": "112a2831",
   "metadata": {},
   "source": [
    "load the model from disk"
   ]
  },
  {
   "cell_type": "code",
   "execution_count": 53,
   "id": "8b94473c",
   "metadata": {},
   "outputs": [],
   "source": [
    "best_svm = pickle.load(open('Models/MorganFingerprint/LD50_rat_oral_SVM_MF.pkl', 'rb'))"
   ]
  },
  {
   "cell_type": "markdown",
   "id": "d411189a",
   "metadata": {},
   "source": [
    "## Y-randomization SVM model"
   ]
  },
  {
   "cell_type": "code",
   "execution_count": 77,
   "id": "f1fdbdd8",
   "metadata": {},
   "outputs": [
    {
     "name": "stderr",
     "output_type": "stream",
     "text": [
      "[Parallel(n_jobs=-1)]: Using backend LokyBackend with 4 concurrent workers.\n",
      "[Parallel(n_jobs=-1)]: Done  42 tasks      | elapsed: 80.6min\n",
      "[Parallel(n_jobs=-1)]: Done 100 out of 100 | elapsed: 180.5min finished\n"
     ]
    },
    {
     "name": "stdout",
     "output_type": "stream",
     "text": [
      "True score =  0.5 \n",
      "Y-randomization =  -0.19 \n",
      "p-value =  0.0099\n"
     ]
    }
   ],
   "source": [
    "permutations = 50\n",
    "score, permutation_scores, pvalue = permutation_test_score(best_svm, x_tr, y_tr,\n",
    "                                                           cv=cv, scoring='r2',\n",
    "                                                           n_permutations=permutations,\n",
    "                                                           n_jobs=-1,\n",
    "                                                           verbose=1,\n",
    "                                                           random_state=24)\n",
    "print('True score = ', score.round(2),\n",
    "      '\\nY-randomization = ', np.mean(permutation_scores).round(2),\n",
    "      '\\np-value = ', pvalue.round(4))"
   ]
  },
  {
   "cell_type": "markdown",
   "id": "7404674b",
   "metadata": {},
   "source": [
    "## Estimating applicability domain. Method - Euclidian distances, K=1"
   ]
  },
  {
   "cell_type": "code",
   "execution_count": 78,
   "id": "9d092032",
   "metadata": {},
   "outputs": [],
   "source": [
    "neighbors_k= pairwise_distances(x_tr, n_jobs=-1)\n",
    "neighbors_k.sort(0)"
   ]
  },
  {
   "cell_type": "code",
   "execution_count": 79,
   "id": "720a29e9",
   "metadata": {},
   "outputs": [
    {
     "data": {
      "text/html": [
       "<div>\n",
       "<style scoped>\n",
       "    .dataframe tbody tr th:only-of-type {\n",
       "        vertical-align: middle;\n",
       "    }\n",
       "\n",
       "    .dataframe tbody tr th {\n",
       "        vertical-align: top;\n",
       "    }\n",
       "\n",
       "    .dataframe thead th {\n",
       "        text-align: right;\n",
       "    }\n",
       "</style>\n",
       "<table border=\"1\" class=\"dataframe\">\n",
       "  <thead>\n",
       "    <tr style=\"text-align: right;\">\n",
       "      <th></th>\n",
       "      <th>0</th>\n",
       "      <th>1</th>\n",
       "      <th>2</th>\n",
       "      <th>3</th>\n",
       "      <th>4</th>\n",
       "      <th>5</th>\n",
       "      <th>6</th>\n",
       "      <th>7</th>\n",
       "      <th>8</th>\n",
       "      <th>9</th>\n",
       "      <th>...</th>\n",
       "      <th>7702</th>\n",
       "      <th>7703</th>\n",
       "      <th>7704</th>\n",
       "      <th>7705</th>\n",
       "      <th>7706</th>\n",
       "      <th>7707</th>\n",
       "      <th>7708</th>\n",
       "      <th>7709</th>\n",
       "      <th>7710</th>\n",
       "      <th>7711</th>\n",
       "    </tr>\n",
       "  </thead>\n",
       "  <tbody>\n",
       "    <tr>\n",
       "      <th>0</th>\n",
       "      <td>0.000000</td>\n",
       "      <td>0.000000</td>\n",
       "      <td>0.000000</td>\n",
       "      <td>0.000000</td>\n",
       "      <td>0.000000</td>\n",
       "      <td>0.000000</td>\n",
       "      <td>0.000000</td>\n",
       "      <td>0.000000</td>\n",
       "      <td>0.000000</td>\n",
       "      <td>0.000000</td>\n",
       "      <td>...</td>\n",
       "      <td>0.000000</td>\n",
       "      <td>0.000000</td>\n",
       "      <td>0.000000</td>\n",
       "      <td>0.000000</td>\n",
       "      <td>0.000000</td>\n",
       "      <td>0.000000</td>\n",
       "      <td>0.000000</td>\n",
       "      <td>0.000000</td>\n",
       "      <td>0.000000</td>\n",
       "      <td>0.000000</td>\n",
       "    </tr>\n",
       "    <tr>\n",
       "      <th>1</th>\n",
       "      <td>3.162278</td>\n",
       "      <td>4.000000</td>\n",
       "      <td>1.414214</td>\n",
       "      <td>3.741657</td>\n",
       "      <td>2.236068</td>\n",
       "      <td>3.464102</td>\n",
       "      <td>3.316625</td>\n",
       "      <td>6.000000</td>\n",
       "      <td>0.000000</td>\n",
       "      <td>2.000000</td>\n",
       "      <td>...</td>\n",
       "      <td>2.449490</td>\n",
       "      <td>3.316625</td>\n",
       "      <td>4.000000</td>\n",
       "      <td>4.795832</td>\n",
       "      <td>4.358899</td>\n",
       "      <td>2.645751</td>\n",
       "      <td>6.557438</td>\n",
       "      <td>3.316625</td>\n",
       "      <td>2.645751</td>\n",
       "      <td>5.567764</td>\n",
       "    </tr>\n",
       "    <tr>\n",
       "      <th>2</th>\n",
       "      <td>3.464102</td>\n",
       "      <td>4.690416</td>\n",
       "      <td>2.236068</td>\n",
       "      <td>3.872983</td>\n",
       "      <td>2.449490</td>\n",
       "      <td>3.464102</td>\n",
       "      <td>3.605551</td>\n",
       "      <td>6.082763</td>\n",
       "      <td>0.000000</td>\n",
       "      <td>2.449490</td>\n",
       "      <td>...</td>\n",
       "      <td>2.645751</td>\n",
       "      <td>3.464102</td>\n",
       "      <td>4.690416</td>\n",
       "      <td>5.099020</td>\n",
       "      <td>5.477226</td>\n",
       "      <td>4.472136</td>\n",
       "      <td>6.557438</td>\n",
       "      <td>4.242640</td>\n",
       "      <td>2.645751</td>\n",
       "      <td>5.916080</td>\n",
       "    </tr>\n",
       "    <tr>\n",
       "      <th>3</th>\n",
       "      <td>3.872983</td>\n",
       "      <td>4.795832</td>\n",
       "      <td>2.449490</td>\n",
       "      <td>3.872983</td>\n",
       "      <td>2.449490</td>\n",
       "      <td>3.464102</td>\n",
       "      <td>3.741657</td>\n",
       "      <td>6.082763</td>\n",
       "      <td>0.000000</td>\n",
       "      <td>2.449490</td>\n",
       "      <td>...</td>\n",
       "      <td>2.828427</td>\n",
       "      <td>4.000000</td>\n",
       "      <td>6.164414</td>\n",
       "      <td>6.164414</td>\n",
       "      <td>5.477226</td>\n",
       "      <td>5.099020</td>\n",
       "      <td>6.633250</td>\n",
       "      <td>5.099020</td>\n",
       "      <td>2.828427</td>\n",
       "      <td>6.244998</td>\n",
       "    </tr>\n",
       "    <tr>\n",
       "      <th>4</th>\n",
       "      <td>3.872983</td>\n",
       "      <td>5.099020</td>\n",
       "      <td>2.449490</td>\n",
       "      <td>4.000000</td>\n",
       "      <td>2.449490</td>\n",
       "      <td>3.464102</td>\n",
       "      <td>3.741657</td>\n",
       "      <td>6.082763</td>\n",
       "      <td>1.732051</td>\n",
       "      <td>2.645751</td>\n",
       "      <td>...</td>\n",
       "      <td>3.741657</td>\n",
       "      <td>4.242640</td>\n",
       "      <td>6.244998</td>\n",
       "      <td>6.782330</td>\n",
       "      <td>5.477226</td>\n",
       "      <td>5.099020</td>\n",
       "      <td>6.633250</td>\n",
       "      <td>7.416198</td>\n",
       "      <td>3.316625</td>\n",
       "      <td>6.324555</td>\n",
       "    </tr>\n",
       "    <tr>\n",
       "      <th>...</th>\n",
       "      <td>...</td>\n",
       "      <td>...</td>\n",
       "      <td>...</td>\n",
       "      <td>...</td>\n",
       "      <td>...</td>\n",
       "      <td>...</td>\n",
       "      <td>...</td>\n",
       "      <td>...</td>\n",
       "      <td>...</td>\n",
       "      <td>...</td>\n",
       "      <td>...</td>\n",
       "      <td>...</td>\n",
       "      <td>...</td>\n",
       "      <td>...</td>\n",
       "      <td>...</td>\n",
       "      <td>...</td>\n",
       "      <td>...</td>\n",
       "      <td>...</td>\n",
       "      <td>...</td>\n",
       "      <td>...</td>\n",
       "      <td>...</td>\n",
       "    </tr>\n",
       "    <tr>\n",
       "      <th>7707</th>\n",
       "      <td>10.630146</td>\n",
       "      <td>10.816654</td>\n",
       "      <td>10.583005</td>\n",
       "      <td>10.723805</td>\n",
       "      <td>10.246951</td>\n",
       "      <td>10.344080</td>\n",
       "      <td>10.677078</td>\n",
       "      <td>10.723805</td>\n",
       "      <td>10.677078</td>\n",
       "      <td>10.816654</td>\n",
       "      <td>...</td>\n",
       "      <td>10.954452</td>\n",
       "      <td>11.224972</td>\n",
       "      <td>11.224972</td>\n",
       "      <td>11.916375</td>\n",
       "      <td>11.357817</td>\n",
       "      <td>11.661903</td>\n",
       "      <td>11.224972</td>\n",
       "      <td>11.832160</td>\n",
       "      <td>10.677078</td>\n",
       "      <td>11.489125</td>\n",
       "    </tr>\n",
       "    <tr>\n",
       "      <th>7708</th>\n",
       "      <td>11.180340</td>\n",
       "      <td>11.045361</td>\n",
       "      <td>11.224972</td>\n",
       "      <td>11.445523</td>\n",
       "      <td>10.908712</td>\n",
       "      <td>11.090536</td>\n",
       "      <td>10.862781</td>\n",
       "      <td>11.224972</td>\n",
       "      <td>11.313708</td>\n",
       "      <td>11.357817</td>\n",
       "      <td>...</td>\n",
       "      <td>11.045361</td>\n",
       "      <td>11.747340</td>\n",
       "      <td>11.401754</td>\n",
       "      <td>12.206555</td>\n",
       "      <td>11.532562</td>\n",
       "      <td>11.958261</td>\n",
       "      <td>11.618950</td>\n",
       "      <td>12.247449</td>\n",
       "      <td>10.770329</td>\n",
       "      <td>11.832160</td>\n",
       "    </tr>\n",
       "    <tr>\n",
       "      <th>7709</th>\n",
       "      <td>11.704700</td>\n",
       "      <td>11.832160</td>\n",
       "      <td>11.747340</td>\n",
       "      <td>12.041595</td>\n",
       "      <td>11.357817</td>\n",
       "      <td>11.445523</td>\n",
       "      <td>11.401754</td>\n",
       "      <td>11.747340</td>\n",
       "      <td>11.747340</td>\n",
       "      <td>11.789826</td>\n",
       "      <td>...</td>\n",
       "      <td>12.000000</td>\n",
       "      <td>12.083046</td>\n",
       "      <td>11.832160</td>\n",
       "      <td>12.767145</td>\n",
       "      <td>12.124355</td>\n",
       "      <td>12.529964</td>\n",
       "      <td>12.206555</td>\n",
       "      <td>12.328828</td>\n",
       "      <td>11.747340</td>\n",
       "      <td>12.727922</td>\n",
       "    </tr>\n",
       "    <tr>\n",
       "      <th>7710</th>\n",
       "      <td>11.874342</td>\n",
       "      <td>11.916375</td>\n",
       "      <td>11.747340</td>\n",
       "      <td>12.124355</td>\n",
       "      <td>11.532562</td>\n",
       "      <td>11.532562</td>\n",
       "      <td>11.489125</td>\n",
       "      <td>11.916375</td>\n",
       "      <td>11.832160</td>\n",
       "      <td>11.958261</td>\n",
       "      <td>...</td>\n",
       "      <td>12.000000</td>\n",
       "      <td>12.165525</td>\n",
       "      <td>12.083046</td>\n",
       "      <td>13.000000</td>\n",
       "      <td>12.288206</td>\n",
       "      <td>12.688578</td>\n",
       "      <td>12.369317</td>\n",
       "      <td>12.569805</td>\n",
       "      <td>11.832160</td>\n",
       "      <td>12.884099</td>\n",
       "    </tr>\n",
       "    <tr>\n",
       "      <th>7711</th>\n",
       "      <td>11.874342</td>\n",
       "      <td>12.247449</td>\n",
       "      <td>11.916375</td>\n",
       "      <td>12.206555</td>\n",
       "      <td>11.618950</td>\n",
       "      <td>11.874342</td>\n",
       "      <td>12.000000</td>\n",
       "      <td>12.000000</td>\n",
       "      <td>12.083046</td>\n",
       "      <td>12.041595</td>\n",
       "      <td>...</td>\n",
       "      <td>12.165525</td>\n",
       "      <td>12.409674</td>\n",
       "      <td>12.409674</td>\n",
       "      <td>13.076696</td>\n",
       "      <td>12.288206</td>\n",
       "      <td>12.767145</td>\n",
       "      <td>12.688578</td>\n",
       "      <td>12.649111</td>\n",
       "      <td>11.832160</td>\n",
       "      <td>12.961481</td>\n",
       "    </tr>\n",
       "  </tbody>\n",
       "</table>\n",
       "<p>7712 rows × 7712 columns</p>\n",
       "</div>"
      ],
      "text/plain": [
       "           0          1          2          3          4          5     \\\n",
       "0      0.000000   0.000000   0.000000   0.000000   0.000000   0.000000   \n",
       "1      3.162278   4.000000   1.414214   3.741657   2.236068   3.464102   \n",
       "2      3.464102   4.690416   2.236068   3.872983   2.449490   3.464102   \n",
       "3      3.872983   4.795832   2.449490   3.872983   2.449490   3.464102   \n",
       "4      3.872983   5.099020   2.449490   4.000000   2.449490   3.464102   \n",
       "...         ...        ...        ...        ...        ...        ...   \n",
       "7707  10.630146  10.816654  10.583005  10.723805  10.246951  10.344080   \n",
       "7708  11.180340  11.045361  11.224972  11.445523  10.908712  11.090536   \n",
       "7709  11.704700  11.832160  11.747340  12.041595  11.357817  11.445523   \n",
       "7710  11.874342  11.916375  11.747340  12.124355  11.532562  11.532562   \n",
       "7711  11.874342  12.247449  11.916375  12.206555  11.618950  11.874342   \n",
       "\n",
       "           6          7          8          9     ...       7702       7703  \\\n",
       "0      0.000000   0.000000   0.000000   0.000000  ...   0.000000   0.000000   \n",
       "1      3.316625   6.000000   0.000000   2.000000  ...   2.449490   3.316625   \n",
       "2      3.605551   6.082763   0.000000   2.449490  ...   2.645751   3.464102   \n",
       "3      3.741657   6.082763   0.000000   2.449490  ...   2.828427   4.000000   \n",
       "4      3.741657   6.082763   1.732051   2.645751  ...   3.741657   4.242640   \n",
       "...         ...        ...        ...        ...  ...        ...        ...   \n",
       "7707  10.677078  10.723805  10.677078  10.816654  ...  10.954452  11.224972   \n",
       "7708  10.862781  11.224972  11.313708  11.357817  ...  11.045361  11.747340   \n",
       "7709  11.401754  11.747340  11.747340  11.789826  ...  12.000000  12.083046   \n",
       "7710  11.489125  11.916375  11.832160  11.958261  ...  12.000000  12.165525   \n",
       "7711  12.000000  12.000000  12.083046  12.041595  ...  12.165525  12.409674   \n",
       "\n",
       "           7704       7705       7706       7707       7708       7709  \\\n",
       "0      0.000000   0.000000   0.000000   0.000000   0.000000   0.000000   \n",
       "1      4.000000   4.795832   4.358899   2.645751   6.557438   3.316625   \n",
       "2      4.690416   5.099020   5.477226   4.472136   6.557438   4.242640   \n",
       "3      6.164414   6.164414   5.477226   5.099020   6.633250   5.099020   \n",
       "4      6.244998   6.782330   5.477226   5.099020   6.633250   7.416198   \n",
       "...         ...        ...        ...        ...        ...        ...   \n",
       "7707  11.224972  11.916375  11.357817  11.661903  11.224972  11.832160   \n",
       "7708  11.401754  12.206555  11.532562  11.958261  11.618950  12.247449   \n",
       "7709  11.832160  12.767145  12.124355  12.529964  12.206555  12.328828   \n",
       "7710  12.083046  13.000000  12.288206  12.688578  12.369317  12.569805   \n",
       "7711  12.409674  13.076696  12.288206  12.767145  12.688578  12.649111   \n",
       "\n",
       "           7710       7711  \n",
       "0      0.000000   0.000000  \n",
       "1      2.645751   5.567764  \n",
       "2      2.645751   5.916080  \n",
       "3      2.828427   6.244998  \n",
       "4      3.316625   6.324555  \n",
       "...         ...        ...  \n",
       "7707  10.677078  11.489125  \n",
       "7708  10.770329  11.832160  \n",
       "7709  11.747340  12.727922  \n",
       "7710  11.832160  12.884099  \n",
       "7711  11.832160  12.961481  \n",
       "\n",
       "[7712 rows x 7712 columns]"
      ]
     },
     "execution_count": 79,
     "metadata": {},
     "output_type": "execute_result"
    }
   ],
   "source": [
    "df_tr=pd.DataFrame(neighbors_k)\n",
    "df_tr"
   ]
  },
  {
   "cell_type": "code",
   "execution_count": 80,
   "id": "39a18bc9",
   "metadata": {},
   "outputs": [],
   "source": [
    "similarity= neighbors_k"
   ]
  },
  {
   "cell_type": "code",
   "execution_count": 81,
   "id": "e6544478",
   "metadata": {},
   "outputs": [],
   "source": [
    "Dmean=np.mean(similarity[1,:])"
   ]
  },
  {
   "cell_type": "code",
   "execution_count": 82,
   "id": "5e08ac8c",
   "metadata": {},
   "outputs": [
    {
     "data": {
      "text/plain": [
       "3.63"
      ]
     },
     "execution_count": 82,
     "metadata": {},
     "output_type": "execute_result"
    }
   ],
   "source": [
    "round(Dmean, 2)"
   ]
  },
  {
   "cell_type": "code",
   "execution_count": 83,
   "id": "809a809a",
   "metadata": {},
   "outputs": [],
   "source": [
    "std=np.std(similarity[1,:])"
   ]
  },
  {
   "cell_type": "code",
   "execution_count": 84,
   "id": "8cdc7c87",
   "metadata": {},
   "outputs": [
    {
     "data": {
      "text/plain": [
       "1.23"
      ]
     },
     "execution_count": 84,
     "metadata": {},
     "output_type": "execute_result"
    }
   ],
   "source": [
    "round(std, 2)"
   ]
  },
  {
   "cell_type": "code",
   "execution_count": 85,
   "id": "834c1626",
   "metadata": {},
   "outputs": [
    {
     "name": "stdout",
     "output_type": "stream",
     "text": [
      "4.25\n"
     ]
    }
   ],
   "source": [
    "model_AD_limit=Dmean+std*0.5\n",
    "print(np.round(model_AD_limit, 2))"
   ]
  },
  {
   "cell_type": "code",
   "execution_count": 86,
   "id": "7b9849d2",
   "metadata": {},
   "outputs": [],
   "source": [
    "neighbors_k_ts= pairwise_distances(x_tr,Y=x_ts, n_jobs=-1)\n",
    "neighbors_k_ts.sort(0)"
   ]
  },
  {
   "cell_type": "code",
   "execution_count": 87,
   "id": "93faa6fb",
   "metadata": {},
   "outputs": [
    {
     "data": {
      "text/html": [
       "<div>\n",
       "<style scoped>\n",
       "    .dataframe tbody tr th:only-of-type {\n",
       "        vertical-align: middle;\n",
       "    }\n",
       "\n",
       "    .dataframe tbody tr th {\n",
       "        vertical-align: top;\n",
       "    }\n",
       "\n",
       "    .dataframe thead th {\n",
       "        text-align: right;\n",
       "    }\n",
       "</style>\n",
       "<table border=\"1\" class=\"dataframe\">\n",
       "  <thead>\n",
       "    <tr style=\"text-align: right;\">\n",
       "      <th></th>\n",
       "      <th>0</th>\n",
       "      <th>1</th>\n",
       "      <th>2</th>\n",
       "      <th>3</th>\n",
       "      <th>4</th>\n",
       "      <th>5</th>\n",
       "      <th>6</th>\n",
       "      <th>7</th>\n",
       "      <th>8</th>\n",
       "      <th>9</th>\n",
       "      <th>...</th>\n",
       "      <th>1919</th>\n",
       "      <th>1920</th>\n",
       "      <th>1921</th>\n",
       "      <th>1922</th>\n",
       "      <th>1923</th>\n",
       "      <th>1924</th>\n",
       "      <th>1925</th>\n",
       "      <th>1926</th>\n",
       "      <th>1927</th>\n",
       "      <th>1928</th>\n",
       "    </tr>\n",
       "  </thead>\n",
       "  <tbody>\n",
       "    <tr>\n",
       "      <th>0</th>\n",
       "      <td>2.000000</td>\n",
       "      <td>3.464102</td>\n",
       "      <td>2.000000</td>\n",
       "      <td>1.414214</td>\n",
       "      <td>2.000000</td>\n",
       "      <td>2.645751</td>\n",
       "      <td>3.162278</td>\n",
       "      <td>0.000000</td>\n",
       "      <td>2.449490</td>\n",
       "      <td>4.358899</td>\n",
       "      <td>...</td>\n",
       "      <td>6.855655</td>\n",
       "      <td>4.690416</td>\n",
       "      <td>2.828427</td>\n",
       "      <td>3.741657</td>\n",
       "      <td>3.162278</td>\n",
       "      <td>4.898980</td>\n",
       "      <td>2.645751</td>\n",
       "      <td>4.123106</td>\n",
       "      <td>3.162278</td>\n",
       "      <td>7.071068</td>\n",
       "    </tr>\n",
       "    <tr>\n",
       "      <th>1</th>\n",
       "      <td>2.000000</td>\n",
       "      <td>3.464102</td>\n",
       "      <td>2.236068</td>\n",
       "      <td>1.732051</td>\n",
       "      <td>3.162278</td>\n",
       "      <td>2.828427</td>\n",
       "      <td>3.605551</td>\n",
       "      <td>2.449490</td>\n",
       "      <td>2.449490</td>\n",
       "      <td>4.690416</td>\n",
       "      <td>...</td>\n",
       "      <td>7.071068</td>\n",
       "      <td>6.000000</td>\n",
       "      <td>3.316625</td>\n",
       "      <td>3.872983</td>\n",
       "      <td>3.162278</td>\n",
       "      <td>5.916080</td>\n",
       "      <td>2.828427</td>\n",
       "      <td>4.358899</td>\n",
       "      <td>3.605551</td>\n",
       "      <td>7.280110</td>\n",
       "    </tr>\n",
       "    <tr>\n",
       "      <th>2</th>\n",
       "      <td>2.000000</td>\n",
       "      <td>3.605551</td>\n",
       "      <td>2.236068</td>\n",
       "      <td>1.732051</td>\n",
       "      <td>3.162278</td>\n",
       "      <td>2.828427</td>\n",
       "      <td>3.872983</td>\n",
       "      <td>2.449490</td>\n",
       "      <td>2.449490</td>\n",
       "      <td>4.795832</td>\n",
       "      <td>...</td>\n",
       "      <td>7.280110</td>\n",
       "      <td>6.782330</td>\n",
       "      <td>3.316625</td>\n",
       "      <td>4.795832</td>\n",
       "      <td>3.162278</td>\n",
       "      <td>6.082763</td>\n",
       "      <td>2.828427</td>\n",
       "      <td>4.582576</td>\n",
       "      <td>3.741657</td>\n",
       "      <td>7.348469</td>\n",
       "    </tr>\n",
       "    <tr>\n",
       "      <th>3</th>\n",
       "      <td>2.000000</td>\n",
       "      <td>3.872983</td>\n",
       "      <td>2.645751</td>\n",
       "      <td>2.000000</td>\n",
       "      <td>3.464102</td>\n",
       "      <td>2.828427</td>\n",
       "      <td>4.000000</td>\n",
       "      <td>2.449490</td>\n",
       "      <td>2.449490</td>\n",
       "      <td>5.196152</td>\n",
       "      <td>...</td>\n",
       "      <td>7.280110</td>\n",
       "      <td>6.855655</td>\n",
       "      <td>3.464102</td>\n",
       "      <td>4.795832</td>\n",
       "      <td>3.316625</td>\n",
       "      <td>6.082763</td>\n",
       "      <td>2.828427</td>\n",
       "      <td>4.690416</td>\n",
       "      <td>3.741657</td>\n",
       "      <td>7.348469</td>\n",
       "    </tr>\n",
       "    <tr>\n",
       "      <th>4</th>\n",
       "      <td>2.000000</td>\n",
       "      <td>4.000000</td>\n",
       "      <td>2.828427</td>\n",
       "      <td>2.236068</td>\n",
       "      <td>3.605551</td>\n",
       "      <td>2.828427</td>\n",
       "      <td>4.242640</td>\n",
       "      <td>2.449490</td>\n",
       "      <td>2.645751</td>\n",
       "      <td>5.196152</td>\n",
       "      <td>...</td>\n",
       "      <td>7.416198</td>\n",
       "      <td>6.855655</td>\n",
       "      <td>3.605551</td>\n",
       "      <td>4.898980</td>\n",
       "      <td>3.605551</td>\n",
       "      <td>6.480741</td>\n",
       "      <td>3.000000</td>\n",
       "      <td>4.690416</td>\n",
       "      <td>3.872983</td>\n",
       "      <td>7.416198</td>\n",
       "    </tr>\n",
       "    <tr>\n",
       "      <th>...</th>\n",
       "      <td>...</td>\n",
       "      <td>...</td>\n",
       "      <td>...</td>\n",
       "      <td>...</td>\n",
       "      <td>...</td>\n",
       "      <td>...</td>\n",
       "      <td>...</td>\n",
       "      <td>...</td>\n",
       "      <td>...</td>\n",
       "      <td>...</td>\n",
       "      <td>...</td>\n",
       "      <td>...</td>\n",
       "      <td>...</td>\n",
       "      <td>...</td>\n",
       "      <td>...</td>\n",
       "      <td>...</td>\n",
       "      <td>...</td>\n",
       "      <td>...</td>\n",
       "      <td>...</td>\n",
       "      <td>...</td>\n",
       "      <td>...</td>\n",
       "    </tr>\n",
       "    <tr>\n",
       "      <th>7707</th>\n",
       "      <td>10.583005</td>\n",
       "      <td>10.583005</td>\n",
       "      <td>10.295630</td>\n",
       "      <td>10.770329</td>\n",
       "      <td>10.246951</td>\n",
       "      <td>10.344080</td>\n",
       "      <td>11.000000</td>\n",
       "      <td>10.488089</td>\n",
       "      <td>10.535654</td>\n",
       "      <td>10.954452</td>\n",
       "      <td>...</td>\n",
       "      <td>11.789826</td>\n",
       "      <td>11.618950</td>\n",
       "      <td>11.401754</td>\n",
       "      <td>11.180340</td>\n",
       "      <td>11.269427</td>\n",
       "      <td>11.789826</td>\n",
       "      <td>11.357817</td>\n",
       "      <td>11.224972</td>\n",
       "      <td>10.770329</td>\n",
       "      <td>11.489125</td>\n",
       "    </tr>\n",
       "    <tr>\n",
       "      <th>7708</th>\n",
       "      <td>11.135529</td>\n",
       "      <td>11.135529</td>\n",
       "      <td>10.954452</td>\n",
       "      <td>11.313708</td>\n",
       "      <td>11.045361</td>\n",
       "      <td>11.000000</td>\n",
       "      <td>11.618950</td>\n",
       "      <td>11.135529</td>\n",
       "      <td>11.000000</td>\n",
       "      <td>11.224972</td>\n",
       "      <td>...</td>\n",
       "      <td>12.124355</td>\n",
       "      <td>12.124355</td>\n",
       "      <td>11.661903</td>\n",
       "      <td>11.445523</td>\n",
       "      <td>11.618950</td>\n",
       "      <td>11.874342</td>\n",
       "      <td>11.704700</td>\n",
       "      <td>11.661903</td>\n",
       "      <td>10.954452</td>\n",
       "      <td>12.083046</td>\n",
       "    </tr>\n",
       "    <tr>\n",
       "      <th>7709</th>\n",
       "      <td>11.575837</td>\n",
       "      <td>11.661903</td>\n",
       "      <td>11.575837</td>\n",
       "      <td>11.832160</td>\n",
       "      <td>11.575837</td>\n",
       "      <td>11.532562</td>\n",
       "      <td>11.704700</td>\n",
       "      <td>11.661903</td>\n",
       "      <td>11.618950</td>\n",
       "      <td>11.747340</td>\n",
       "      <td>...</td>\n",
       "      <td>12.449900</td>\n",
       "      <td>12.609520</td>\n",
       "      <td>12.165525</td>\n",
       "      <td>12.124355</td>\n",
       "      <td>11.958261</td>\n",
       "      <td>12.206555</td>\n",
       "      <td>12.124355</td>\n",
       "      <td>12.083046</td>\n",
       "      <td>11.832160</td>\n",
       "      <td>12.165525</td>\n",
       "    </tr>\n",
       "    <tr>\n",
       "      <th>7710</th>\n",
       "      <td>11.661903</td>\n",
       "      <td>11.661903</td>\n",
       "      <td>11.575837</td>\n",
       "      <td>11.916375</td>\n",
       "      <td>11.661903</td>\n",
       "      <td>11.532562</td>\n",
       "      <td>11.789826</td>\n",
       "      <td>11.661903</td>\n",
       "      <td>11.704700</td>\n",
       "      <td>12.000000</td>\n",
       "      <td>...</td>\n",
       "      <td>12.845233</td>\n",
       "      <td>12.688578</td>\n",
       "      <td>12.247449</td>\n",
       "      <td>12.124355</td>\n",
       "      <td>12.041595</td>\n",
       "      <td>12.369317</td>\n",
       "      <td>12.206555</td>\n",
       "      <td>12.247449</td>\n",
       "      <td>11.832160</td>\n",
       "      <td>12.247449</td>\n",
       "    </tr>\n",
       "    <tr>\n",
       "      <th>7711</th>\n",
       "      <td>11.661903</td>\n",
       "      <td>12.000000</td>\n",
       "      <td>11.661903</td>\n",
       "      <td>12.000000</td>\n",
       "      <td>11.832160</td>\n",
       "      <td>11.789826</td>\n",
       "      <td>12.041595</td>\n",
       "      <td>11.747340</td>\n",
       "      <td>11.874342</td>\n",
       "      <td>12.083046</td>\n",
       "      <td>...</td>\n",
       "      <td>12.922848</td>\n",
       "      <td>12.688578</td>\n",
       "      <td>12.328828</td>\n",
       "      <td>12.288206</td>\n",
       "      <td>12.288206</td>\n",
       "      <td>12.449900</td>\n",
       "      <td>12.288206</td>\n",
       "      <td>12.247449</td>\n",
       "      <td>11.916375</td>\n",
       "      <td>12.489996</td>\n",
       "    </tr>\n",
       "  </tbody>\n",
       "</table>\n",
       "<p>7712 rows × 1929 columns</p>\n",
       "</div>"
      ],
      "text/plain": [
       "           0          1          2          3          4          5     \\\n",
       "0      2.000000   3.464102   2.000000   1.414214   2.000000   2.645751   \n",
       "1      2.000000   3.464102   2.236068   1.732051   3.162278   2.828427   \n",
       "2      2.000000   3.605551   2.236068   1.732051   3.162278   2.828427   \n",
       "3      2.000000   3.872983   2.645751   2.000000   3.464102   2.828427   \n",
       "4      2.000000   4.000000   2.828427   2.236068   3.605551   2.828427   \n",
       "...         ...        ...        ...        ...        ...        ...   \n",
       "7707  10.583005  10.583005  10.295630  10.770329  10.246951  10.344080   \n",
       "7708  11.135529  11.135529  10.954452  11.313708  11.045361  11.000000   \n",
       "7709  11.575837  11.661903  11.575837  11.832160  11.575837  11.532562   \n",
       "7710  11.661903  11.661903  11.575837  11.916375  11.661903  11.532562   \n",
       "7711  11.661903  12.000000  11.661903  12.000000  11.832160  11.789826   \n",
       "\n",
       "           6          7          8          9     ...       1919       1920  \\\n",
       "0      3.162278   0.000000   2.449490   4.358899  ...   6.855655   4.690416   \n",
       "1      3.605551   2.449490   2.449490   4.690416  ...   7.071068   6.000000   \n",
       "2      3.872983   2.449490   2.449490   4.795832  ...   7.280110   6.782330   \n",
       "3      4.000000   2.449490   2.449490   5.196152  ...   7.280110   6.855655   \n",
       "4      4.242640   2.449490   2.645751   5.196152  ...   7.416198   6.855655   \n",
       "...         ...        ...        ...        ...  ...        ...        ...   \n",
       "7707  11.000000  10.488089  10.535654  10.954452  ...  11.789826  11.618950   \n",
       "7708  11.618950  11.135529  11.000000  11.224972  ...  12.124355  12.124355   \n",
       "7709  11.704700  11.661903  11.618950  11.747340  ...  12.449900  12.609520   \n",
       "7710  11.789826  11.661903  11.704700  12.000000  ...  12.845233  12.688578   \n",
       "7711  12.041595  11.747340  11.874342  12.083046  ...  12.922848  12.688578   \n",
       "\n",
       "           1921       1922       1923       1924       1925       1926  \\\n",
       "0      2.828427   3.741657   3.162278   4.898980   2.645751   4.123106   \n",
       "1      3.316625   3.872983   3.162278   5.916080   2.828427   4.358899   \n",
       "2      3.316625   4.795832   3.162278   6.082763   2.828427   4.582576   \n",
       "3      3.464102   4.795832   3.316625   6.082763   2.828427   4.690416   \n",
       "4      3.605551   4.898980   3.605551   6.480741   3.000000   4.690416   \n",
       "...         ...        ...        ...        ...        ...        ...   \n",
       "7707  11.401754  11.180340  11.269427  11.789826  11.357817  11.224972   \n",
       "7708  11.661903  11.445523  11.618950  11.874342  11.704700  11.661903   \n",
       "7709  12.165525  12.124355  11.958261  12.206555  12.124355  12.083046   \n",
       "7710  12.247449  12.124355  12.041595  12.369317  12.206555  12.247449   \n",
       "7711  12.328828  12.288206  12.288206  12.449900  12.288206  12.247449   \n",
       "\n",
       "           1927       1928  \n",
       "0      3.162278   7.071068  \n",
       "1      3.605551   7.280110  \n",
       "2      3.741657   7.348469  \n",
       "3      3.741657   7.348469  \n",
       "4      3.872983   7.416198  \n",
       "...         ...        ...  \n",
       "7707  10.770329  11.489125  \n",
       "7708  10.954452  12.083046  \n",
       "7709  11.832160  12.165525  \n",
       "7710  11.832160  12.247449  \n",
       "7711  11.916375  12.489996  \n",
       "\n",
       "[7712 rows x 1929 columns]"
      ]
     },
     "execution_count": 87,
     "metadata": {},
     "output_type": "execute_result"
    }
   ],
   "source": [
    "x_ts_AD=pd.DataFrame(neighbors_k_ts)\n",
    "x_ts_AD"
   ]
  },
  {
   "cell_type": "code",
   "execution_count": 88,
   "id": "d4d73a8d",
   "metadata": {},
   "outputs": [
    {
     "name": "stdout",
     "output_type": "stream",
     "text": [
      "[2.    3.464 2.    ... 4.123 3.162 7.071]\n"
     ]
    }
   ],
   "source": [
    "similarity_ts= neighbors_k_ts\n",
    "cpd_AD=similarity_ts[0,:]\n",
    "cpd_value = np.round(cpd_AD, 3)\n",
    "print(cpd_value)"
   ]
  },
  {
   "cell_type": "code",
   "execution_count": 89,
   "id": "c24d4bf6",
   "metadata": {},
   "outputs": [
    {
     "name": "stdout",
     "output_type": "stream",
     "text": [
      "[ True  True  True ...  True  True False]\n"
     ]
    }
   ],
   "source": [
    "cpd_AD = np.where(cpd_value <= model_AD_limit, True, False)\n",
    "print(cpd_AD)"
   ]
  },
  {
   "cell_type": "code",
   "execution_count": 90,
   "id": "5f20e347",
   "metadata": {},
   "outputs": [
    {
     "name": "stdout",
     "output_type": "stream",
     "text": [
      "Coverage =  0.7407983411093831\n"
     ]
    }
   ],
   "source": [
    "print(\"Coverage = \", sum(cpd_AD) / len(cpd_AD))"
   ]
  },
  {
   "cell_type": "code",
   "execution_count": 91,
   "id": "3cc71cb6",
   "metadata": {},
   "outputs": [
    {
     "name": "stdout",
     "output_type": "stream",
     "text": [
      "Indices of substances included in AD =  [   0    1    2 ... 1925 1926 1927]\n"
     ]
    }
   ],
   "source": [
    "print(\"Indices of substances included in AD = \", np.where(cpd_AD != 0)[0])"
   ]
  },
  {
   "cell_type": "code",
   "execution_count": 92,
   "id": "61627c86",
   "metadata": {},
   "outputs": [],
   "source": [
    "out_Ad=list(np.where(cpd_AD == 0)[0])"
   ]
  },
  {
   "cell_type": "markdown",
   "id": "60f6be23",
   "metadata": {},
   "source": [
    "##  Prediction only for molecules included in  AD"
   ]
  },
  {
   "cell_type": "code",
   "execution_count": 93,
   "id": "70315690",
   "metadata": {},
   "outputs": [],
   "source": [
    "y_pred_svm_ad=list(y_pred_svm)"
   ]
  },
  {
   "cell_type": "code",
   "execution_count": 94,
   "id": "6da82b04",
   "metadata": {},
   "outputs": [],
   "source": [
    "y_pred_svm_ad[:] = [x for i,x in enumerate(y_pred_svm_ad) if i not in out_Ad]"
   ]
  },
  {
   "cell_type": "code",
   "execution_count": 95,
   "id": "3e645db5",
   "metadata": {},
   "outputs": [
    {
     "data": {
      "text/plain": [
       "1429"
      ]
     },
     "execution_count": 95,
     "metadata": {},
     "output_type": "execute_result"
    }
   ],
   "source": [
    "len(y_pred_svm_ad)"
   ]
  },
  {
   "cell_type": "code",
   "execution_count": 96,
   "id": "d35b0a93",
   "metadata": {},
   "outputs": [],
   "source": [
    "y_ts_ad=list(y_ts)"
   ]
  },
  {
   "cell_type": "code",
   "execution_count": 97,
   "id": "36d18299",
   "metadata": {},
   "outputs": [],
   "source": [
    "y_ts_ad[:] = [x for i,x in enumerate(y_ts_ad) if i not in out_Ad]"
   ]
  },
  {
   "cell_type": "code",
   "execution_count": 98,
   "id": "0e7e7a68",
   "metadata": {},
   "outputs": [
    {
     "data": {
      "text/plain": [
       "1429"
      ]
     },
     "execution_count": 98,
     "metadata": {},
     "output_type": "execute_result"
    }
   ],
   "source": [
    "len(y_ts_ad)"
   ]
  },
  {
   "cell_type": "code",
   "execution_count": 99,
   "id": "02eb905d",
   "metadata": {},
   "outputs": [
    {
     "data": {
      "text/plain": [
       "0.64"
      ]
     },
     "execution_count": 99,
     "metadata": {},
     "output_type": "execute_result"
    }
   ],
   "source": [
    "Q2_TS = round(r2_score(y_ts_ad, y_pred_svm_ad), 2)\n",
    "Q2_TS"
   ]
  },
  {
   "cell_type": "code",
   "execution_count": 100,
   "id": "f2722fd8",
   "metadata": {},
   "outputs": [
    {
     "data": {
      "text/plain": [
       "0.64"
      ]
     },
     "execution_count": 100,
     "metadata": {},
     "output_type": "execute_result"
    }
   ],
   "source": [
    "RMSE_TS=round(np.sqrt(mean_absolute_error(y_ts_ad, y_pred_svm_ad)), 2)\n",
    "RMSE_TS"
   ]
  },
  {
   "cell_type": "markdown",
   "id": "09bddf36",
   "metadata": {},
   "source": [
    "# Consensus"
   ]
  },
  {
   "cell_type": "markdown",
   "id": "10909d92",
   "metadata": {},
   "source": [
    "##  load the models from disk"
   ]
  },
  {
   "cell_type": "code",
   "execution_count": 32,
   "id": "442ca0bf",
   "metadata": {},
   "outputs": [],
   "source": [
    "best_svm = pickle.load(open('Models/MorganFingerprint/LD50_rat_oral_SVM_MF.pkl', 'rb'))"
   ]
  },
  {
   "cell_type": "code",
   "execution_count": 33,
   "id": "88cbb56e",
   "metadata": {},
   "outputs": [],
   "source": [
    "best_GBR = pickle.load(open('Models/MorganFingerprint/LD50_rat_oral_GBR_MFP.pkl', 'rb'))"
   ]
  },
  {
   "cell_type": "markdown",
   "id": "83fe99dd",
   "metadata": {},
   "source": [
    "## Prediction for CV"
   ]
  },
  {
   "cell_type": "code",
   "execution_count": 34,
   "id": "7d91dd50",
   "metadata": {},
   "outputs": [],
   "source": [
    "seed = 42\n",
    "cv=KFold(n_splits=5, random_state=seed, shuffle=True)"
   ]
  },
  {
   "cell_type": "code",
   "execution_count": 35,
   "id": "6c741912",
   "metadata": {},
   "outputs": [],
   "source": [
    "y_pred_CV_svm = cross_val_predict(best_svm, x_tr, y_tr, cv=cv)"
   ]
  },
  {
   "cell_type": "code",
   "execution_count": 40,
   "id": "829dc3a1",
   "metadata": {},
   "outputs": [],
   "source": [
    "y_pred_CV_GBR = cross_val_predict(best_GBR, x_tr, y_tr, cv=cv)"
   ]
  },
  {
   "cell_type": "code",
   "execution_count": 41,
   "id": "640cec8f",
   "metadata": {},
   "outputs": [],
   "source": [
    "y_pred_con=(y_pred_CV_svm+y_pred_CV_GBR)/2"
   ]
  },
  {
   "cell_type": "code",
   "execution_count": 42,
   "id": "ecc482f9",
   "metadata": {},
   "outputs": [
    {
     "data": {
      "text/plain": [
       "0.54"
      ]
     },
     "execution_count": 42,
     "metadata": {},
     "output_type": "execute_result"
    }
   ],
   "source": [
    "Q2_CV = round(r2_score(y_tr, y_pred_con), 2)\n",
    "Q2_CV"
   ]
  },
  {
   "cell_type": "code",
   "execution_count": 43,
   "id": "9566efdc",
   "metadata": {},
   "outputs": [
    {
     "data": {
      "text/plain": [
       "0.66"
      ]
     },
     "execution_count": 43,
     "metadata": {},
     "output_type": "execute_result"
    }
   ],
   "source": [
    "RMSE_CV=round(np.sqrt(mean_absolute_error(y_tr, y_pred_con)),2)\n",
    "RMSE_CV"
   ]
  },
  {
   "cell_type": "markdown",
   "id": "8c15c977",
   "metadata": {},
   "source": [
    "## Prediction for test set's molecules"
   ]
  },
  {
   "cell_type": "code",
   "execution_count": 47,
   "id": "8bb7fd18",
   "metadata": {},
   "outputs": [],
   "source": [
    "x_ts = np.array(x_ts, dtype=np.float32)\n",
    "y_ts = np.array(y_ts, dtype=np.float32)"
   ]
  },
  {
   "cell_type": "code",
   "execution_count": 48,
   "id": "5f286a3b",
   "metadata": {},
   "outputs": [],
   "source": [
    "y_pred_svm = best_svm.predict(x_ts)"
   ]
  },
  {
   "cell_type": "code",
   "execution_count": 49,
   "id": "a3ffa8da",
   "metadata": {},
   "outputs": [],
   "source": [
    "y_pred_GBR = best_GBR.predict(x_ts)"
   ]
  },
  {
   "cell_type": "code",
   "execution_count": 50,
   "id": "a24bc8f8",
   "metadata": {},
   "outputs": [
    {
     "data": {
      "text/plain": [
       "array([1.9637962 , 1.87628529, 1.75086946, ..., 3.5637255 , 3.08896394,\n",
       "       2.15346429])"
      ]
     },
     "execution_count": 50,
     "metadata": {},
     "output_type": "execute_result"
    }
   ],
   "source": [
    "y_pred_GBR"
   ]
  },
  {
   "cell_type": "code",
   "execution_count": 51,
   "id": "34261969",
   "metadata": {},
   "outputs": [],
   "source": [
    "y_pred_con=(y_pred_svm+y_pred_GBR)/2"
   ]
  },
  {
   "cell_type": "code",
   "execution_count": 52,
   "id": "9daa0063",
   "metadata": {},
   "outputs": [
    {
     "data": {
      "text/plain": [
       "0.57"
      ]
     },
     "execution_count": 52,
     "metadata": {},
     "output_type": "execute_result"
    }
   ],
   "source": [
    "Q2_TS = round(r2_score(y_ts, y_pred_con), 2)\n",
    "Q2_TS"
   ]
  },
  {
   "cell_type": "code",
   "execution_count": 53,
   "id": "354f0394",
   "metadata": {},
   "outputs": [
    {
     "data": {
      "text/plain": [
       "0.64"
      ]
     },
     "execution_count": 53,
     "metadata": {},
     "output_type": "execute_result"
    }
   ],
   "source": [
    "RMSE_TS=round(np.sqrt(mean_absolute_error(y_ts, y_pred_con)), 2)\n",
    "RMSE_TS"
   ]
  },
  {
   "cell_type": "markdown",
   "id": "4d5cb0d4",
   "metadata": {},
   "source": [
    "## Estimating applicability domain. Method - Euclidian distances, K=1"
   ]
  },
  {
   "cell_type": "code",
   "execution_count": 54,
   "id": "0c732101",
   "metadata": {},
   "outputs": [],
   "source": [
    "neighbors_k= pairwise_distances(x_tr, n_jobs=-1)\n",
    "neighbors_k.sort(0)"
   ]
  },
  {
   "cell_type": "code",
   "execution_count": 55,
   "id": "b455bb85",
   "metadata": {},
   "outputs": [
    {
     "data": {
      "text/html": [
       "<div>\n",
       "<style scoped>\n",
       "    .dataframe tbody tr th:only-of-type {\n",
       "        vertical-align: middle;\n",
       "    }\n",
       "\n",
       "    .dataframe tbody tr th {\n",
       "        vertical-align: top;\n",
       "    }\n",
       "\n",
       "    .dataframe thead th {\n",
       "        text-align: right;\n",
       "    }\n",
       "</style>\n",
       "<table border=\"1\" class=\"dataframe\">\n",
       "  <thead>\n",
       "    <tr style=\"text-align: right;\">\n",
       "      <th></th>\n",
       "      <th>0</th>\n",
       "      <th>1</th>\n",
       "      <th>2</th>\n",
       "      <th>3</th>\n",
       "      <th>4</th>\n",
       "      <th>5</th>\n",
       "      <th>6</th>\n",
       "      <th>7</th>\n",
       "      <th>8</th>\n",
       "      <th>9</th>\n",
       "      <th>...</th>\n",
       "      <th>7702</th>\n",
       "      <th>7703</th>\n",
       "      <th>7704</th>\n",
       "      <th>7705</th>\n",
       "      <th>7706</th>\n",
       "      <th>7707</th>\n",
       "      <th>7708</th>\n",
       "      <th>7709</th>\n",
       "      <th>7710</th>\n",
       "      <th>7711</th>\n",
       "    </tr>\n",
       "  </thead>\n",
       "  <tbody>\n",
       "    <tr>\n",
       "      <th>0</th>\n",
       "      <td>0.000000</td>\n",
       "      <td>0.000000</td>\n",
       "      <td>0.000000</td>\n",
       "      <td>0.000000</td>\n",
       "      <td>0.000000</td>\n",
       "      <td>0.000000</td>\n",
       "      <td>0.000000</td>\n",
       "      <td>0.000000</td>\n",
       "      <td>0.000000</td>\n",
       "      <td>0.000000</td>\n",
       "      <td>...</td>\n",
       "      <td>0.000000</td>\n",
       "      <td>0.000000</td>\n",
       "      <td>0.000000</td>\n",
       "      <td>0.000000</td>\n",
       "      <td>0.000000</td>\n",
       "      <td>0.000000</td>\n",
       "      <td>0.000000</td>\n",
       "      <td>0.000000</td>\n",
       "      <td>0.000000</td>\n",
       "      <td>0.000000</td>\n",
       "    </tr>\n",
       "    <tr>\n",
       "      <th>1</th>\n",
       "      <td>3.162278</td>\n",
       "      <td>4.000000</td>\n",
       "      <td>1.414214</td>\n",
       "      <td>3.741657</td>\n",
       "      <td>2.236068</td>\n",
       "      <td>3.464102</td>\n",
       "      <td>3.316625</td>\n",
       "      <td>6.000000</td>\n",
       "      <td>0.000000</td>\n",
       "      <td>2.000000</td>\n",
       "      <td>...</td>\n",
       "      <td>2.449490</td>\n",
       "      <td>3.316625</td>\n",
       "      <td>4.000000</td>\n",
       "      <td>4.795832</td>\n",
       "      <td>4.358899</td>\n",
       "      <td>2.645751</td>\n",
       "      <td>6.557438</td>\n",
       "      <td>3.316625</td>\n",
       "      <td>2.645751</td>\n",
       "      <td>5.567764</td>\n",
       "    </tr>\n",
       "    <tr>\n",
       "      <th>2</th>\n",
       "      <td>3.464102</td>\n",
       "      <td>4.690416</td>\n",
       "      <td>2.236068</td>\n",
       "      <td>3.872983</td>\n",
       "      <td>2.449490</td>\n",
       "      <td>3.464102</td>\n",
       "      <td>3.605551</td>\n",
       "      <td>6.082763</td>\n",
       "      <td>0.000000</td>\n",
       "      <td>2.449490</td>\n",
       "      <td>...</td>\n",
       "      <td>2.645751</td>\n",
       "      <td>3.464102</td>\n",
       "      <td>4.690416</td>\n",
       "      <td>5.099020</td>\n",
       "      <td>5.477226</td>\n",
       "      <td>4.472136</td>\n",
       "      <td>6.557438</td>\n",
       "      <td>4.242640</td>\n",
       "      <td>2.645751</td>\n",
       "      <td>5.916080</td>\n",
       "    </tr>\n",
       "    <tr>\n",
       "      <th>3</th>\n",
       "      <td>3.872983</td>\n",
       "      <td>4.795832</td>\n",
       "      <td>2.449490</td>\n",
       "      <td>3.872983</td>\n",
       "      <td>2.449490</td>\n",
       "      <td>3.464102</td>\n",
       "      <td>3.741657</td>\n",
       "      <td>6.082763</td>\n",
       "      <td>0.000000</td>\n",
       "      <td>2.449490</td>\n",
       "      <td>...</td>\n",
       "      <td>2.828427</td>\n",
       "      <td>4.000000</td>\n",
       "      <td>6.164414</td>\n",
       "      <td>6.164414</td>\n",
       "      <td>5.477226</td>\n",
       "      <td>5.099020</td>\n",
       "      <td>6.633250</td>\n",
       "      <td>5.099020</td>\n",
       "      <td>2.828427</td>\n",
       "      <td>6.244998</td>\n",
       "    </tr>\n",
       "    <tr>\n",
       "      <th>4</th>\n",
       "      <td>3.872983</td>\n",
       "      <td>5.099020</td>\n",
       "      <td>2.449490</td>\n",
       "      <td>4.000000</td>\n",
       "      <td>2.449490</td>\n",
       "      <td>3.464102</td>\n",
       "      <td>3.741657</td>\n",
       "      <td>6.082763</td>\n",
       "      <td>1.732051</td>\n",
       "      <td>2.645751</td>\n",
       "      <td>...</td>\n",
       "      <td>3.741657</td>\n",
       "      <td>4.242640</td>\n",
       "      <td>6.244998</td>\n",
       "      <td>6.782330</td>\n",
       "      <td>5.477226</td>\n",
       "      <td>5.099020</td>\n",
       "      <td>6.633250</td>\n",
       "      <td>7.416198</td>\n",
       "      <td>3.316625</td>\n",
       "      <td>6.324555</td>\n",
       "    </tr>\n",
       "    <tr>\n",
       "      <th>...</th>\n",
       "      <td>...</td>\n",
       "      <td>...</td>\n",
       "      <td>...</td>\n",
       "      <td>...</td>\n",
       "      <td>...</td>\n",
       "      <td>...</td>\n",
       "      <td>...</td>\n",
       "      <td>...</td>\n",
       "      <td>...</td>\n",
       "      <td>...</td>\n",
       "      <td>...</td>\n",
       "      <td>...</td>\n",
       "      <td>...</td>\n",
       "      <td>...</td>\n",
       "      <td>...</td>\n",
       "      <td>...</td>\n",
       "      <td>...</td>\n",
       "      <td>...</td>\n",
       "      <td>...</td>\n",
       "      <td>...</td>\n",
       "      <td>...</td>\n",
       "    </tr>\n",
       "    <tr>\n",
       "      <th>7707</th>\n",
       "      <td>10.630146</td>\n",
       "      <td>10.816654</td>\n",
       "      <td>10.583005</td>\n",
       "      <td>10.723805</td>\n",
       "      <td>10.246951</td>\n",
       "      <td>10.344080</td>\n",
       "      <td>10.677078</td>\n",
       "      <td>10.723805</td>\n",
       "      <td>10.677078</td>\n",
       "      <td>10.816654</td>\n",
       "      <td>...</td>\n",
       "      <td>10.954452</td>\n",
       "      <td>11.224972</td>\n",
       "      <td>11.224972</td>\n",
       "      <td>11.916375</td>\n",
       "      <td>11.357817</td>\n",
       "      <td>11.661903</td>\n",
       "      <td>11.224972</td>\n",
       "      <td>11.832160</td>\n",
       "      <td>10.677078</td>\n",
       "      <td>11.489125</td>\n",
       "    </tr>\n",
       "    <tr>\n",
       "      <th>7708</th>\n",
       "      <td>11.180340</td>\n",
       "      <td>11.045361</td>\n",
       "      <td>11.224972</td>\n",
       "      <td>11.445523</td>\n",
       "      <td>10.908712</td>\n",
       "      <td>11.090536</td>\n",
       "      <td>10.862781</td>\n",
       "      <td>11.224972</td>\n",
       "      <td>11.313708</td>\n",
       "      <td>11.357817</td>\n",
       "      <td>...</td>\n",
       "      <td>11.045361</td>\n",
       "      <td>11.747340</td>\n",
       "      <td>11.401754</td>\n",
       "      <td>12.206555</td>\n",
       "      <td>11.532562</td>\n",
       "      <td>11.958261</td>\n",
       "      <td>11.618950</td>\n",
       "      <td>12.247449</td>\n",
       "      <td>10.770329</td>\n",
       "      <td>11.832160</td>\n",
       "    </tr>\n",
       "    <tr>\n",
       "      <th>7709</th>\n",
       "      <td>11.704700</td>\n",
       "      <td>11.832160</td>\n",
       "      <td>11.747340</td>\n",
       "      <td>12.041595</td>\n",
       "      <td>11.357817</td>\n",
       "      <td>11.445523</td>\n",
       "      <td>11.401754</td>\n",
       "      <td>11.747340</td>\n",
       "      <td>11.747340</td>\n",
       "      <td>11.789826</td>\n",
       "      <td>...</td>\n",
       "      <td>12.000000</td>\n",
       "      <td>12.083046</td>\n",
       "      <td>11.832160</td>\n",
       "      <td>12.767145</td>\n",
       "      <td>12.124355</td>\n",
       "      <td>12.529964</td>\n",
       "      <td>12.206555</td>\n",
       "      <td>12.328828</td>\n",
       "      <td>11.747340</td>\n",
       "      <td>12.727922</td>\n",
       "    </tr>\n",
       "    <tr>\n",
       "      <th>7710</th>\n",
       "      <td>11.874342</td>\n",
       "      <td>11.916375</td>\n",
       "      <td>11.747340</td>\n",
       "      <td>12.124355</td>\n",
       "      <td>11.532562</td>\n",
       "      <td>11.532562</td>\n",
       "      <td>11.489125</td>\n",
       "      <td>11.916375</td>\n",
       "      <td>11.832160</td>\n",
       "      <td>11.958261</td>\n",
       "      <td>...</td>\n",
       "      <td>12.000000</td>\n",
       "      <td>12.165525</td>\n",
       "      <td>12.083046</td>\n",
       "      <td>13.000000</td>\n",
       "      <td>12.288206</td>\n",
       "      <td>12.688578</td>\n",
       "      <td>12.369317</td>\n",
       "      <td>12.569805</td>\n",
       "      <td>11.832160</td>\n",
       "      <td>12.884099</td>\n",
       "    </tr>\n",
       "    <tr>\n",
       "      <th>7711</th>\n",
       "      <td>11.874342</td>\n",
       "      <td>12.247449</td>\n",
       "      <td>11.916375</td>\n",
       "      <td>12.206555</td>\n",
       "      <td>11.618950</td>\n",
       "      <td>11.874342</td>\n",
       "      <td>12.000000</td>\n",
       "      <td>12.000000</td>\n",
       "      <td>12.083046</td>\n",
       "      <td>12.041595</td>\n",
       "      <td>...</td>\n",
       "      <td>12.165525</td>\n",
       "      <td>12.409674</td>\n",
       "      <td>12.409674</td>\n",
       "      <td>13.076696</td>\n",
       "      <td>12.288206</td>\n",
       "      <td>12.767145</td>\n",
       "      <td>12.688578</td>\n",
       "      <td>12.649111</td>\n",
       "      <td>11.832160</td>\n",
       "      <td>12.961481</td>\n",
       "    </tr>\n",
       "  </tbody>\n",
       "</table>\n",
       "<p>7712 rows × 7712 columns</p>\n",
       "</div>"
      ],
      "text/plain": [
       "           0          1          2          3          4          5     \\\n",
       "0      0.000000   0.000000   0.000000   0.000000   0.000000   0.000000   \n",
       "1      3.162278   4.000000   1.414214   3.741657   2.236068   3.464102   \n",
       "2      3.464102   4.690416   2.236068   3.872983   2.449490   3.464102   \n",
       "3      3.872983   4.795832   2.449490   3.872983   2.449490   3.464102   \n",
       "4      3.872983   5.099020   2.449490   4.000000   2.449490   3.464102   \n",
       "...         ...        ...        ...        ...        ...        ...   \n",
       "7707  10.630146  10.816654  10.583005  10.723805  10.246951  10.344080   \n",
       "7708  11.180340  11.045361  11.224972  11.445523  10.908712  11.090536   \n",
       "7709  11.704700  11.832160  11.747340  12.041595  11.357817  11.445523   \n",
       "7710  11.874342  11.916375  11.747340  12.124355  11.532562  11.532562   \n",
       "7711  11.874342  12.247449  11.916375  12.206555  11.618950  11.874342   \n",
       "\n",
       "           6          7          8          9     ...       7702       7703  \\\n",
       "0      0.000000   0.000000   0.000000   0.000000  ...   0.000000   0.000000   \n",
       "1      3.316625   6.000000   0.000000   2.000000  ...   2.449490   3.316625   \n",
       "2      3.605551   6.082763   0.000000   2.449490  ...   2.645751   3.464102   \n",
       "3      3.741657   6.082763   0.000000   2.449490  ...   2.828427   4.000000   \n",
       "4      3.741657   6.082763   1.732051   2.645751  ...   3.741657   4.242640   \n",
       "...         ...        ...        ...        ...  ...        ...        ...   \n",
       "7707  10.677078  10.723805  10.677078  10.816654  ...  10.954452  11.224972   \n",
       "7708  10.862781  11.224972  11.313708  11.357817  ...  11.045361  11.747340   \n",
       "7709  11.401754  11.747340  11.747340  11.789826  ...  12.000000  12.083046   \n",
       "7710  11.489125  11.916375  11.832160  11.958261  ...  12.000000  12.165525   \n",
       "7711  12.000000  12.000000  12.083046  12.041595  ...  12.165525  12.409674   \n",
       "\n",
       "           7704       7705       7706       7707       7708       7709  \\\n",
       "0      0.000000   0.000000   0.000000   0.000000   0.000000   0.000000   \n",
       "1      4.000000   4.795832   4.358899   2.645751   6.557438   3.316625   \n",
       "2      4.690416   5.099020   5.477226   4.472136   6.557438   4.242640   \n",
       "3      6.164414   6.164414   5.477226   5.099020   6.633250   5.099020   \n",
       "4      6.244998   6.782330   5.477226   5.099020   6.633250   7.416198   \n",
       "...         ...        ...        ...        ...        ...        ...   \n",
       "7707  11.224972  11.916375  11.357817  11.661903  11.224972  11.832160   \n",
       "7708  11.401754  12.206555  11.532562  11.958261  11.618950  12.247449   \n",
       "7709  11.832160  12.767145  12.124355  12.529964  12.206555  12.328828   \n",
       "7710  12.083046  13.000000  12.288206  12.688578  12.369317  12.569805   \n",
       "7711  12.409674  13.076696  12.288206  12.767145  12.688578  12.649111   \n",
       "\n",
       "           7710       7711  \n",
       "0      0.000000   0.000000  \n",
       "1      2.645751   5.567764  \n",
       "2      2.645751   5.916080  \n",
       "3      2.828427   6.244998  \n",
       "4      3.316625   6.324555  \n",
       "...         ...        ...  \n",
       "7707  10.677078  11.489125  \n",
       "7708  10.770329  11.832160  \n",
       "7709  11.747340  12.727922  \n",
       "7710  11.832160  12.884099  \n",
       "7711  11.832160  12.961481  \n",
       "\n",
       "[7712 rows x 7712 columns]"
      ]
     },
     "execution_count": 55,
     "metadata": {},
     "output_type": "execute_result"
    }
   ],
   "source": [
    "df_tr=pd.DataFrame(neighbors_k)\n",
    "df_tr"
   ]
  },
  {
   "cell_type": "code",
   "execution_count": 56,
   "id": "eb9774c9",
   "metadata": {},
   "outputs": [],
   "source": [
    "similarity= neighbors_k"
   ]
  },
  {
   "cell_type": "code",
   "execution_count": 57,
   "id": "d54091b4",
   "metadata": {},
   "outputs": [],
   "source": [
    "Dmean=np.mean(similarity[1,:])"
   ]
  },
  {
   "cell_type": "code",
   "execution_count": 58,
   "id": "7a36847d",
   "metadata": {},
   "outputs": [
    {
     "data": {
      "text/plain": [
       "3.63"
      ]
     },
     "execution_count": 58,
     "metadata": {},
     "output_type": "execute_result"
    }
   ],
   "source": [
    "round(Dmean, 2)"
   ]
  },
  {
   "cell_type": "code",
   "execution_count": 59,
   "id": "7ac76a1b",
   "metadata": {},
   "outputs": [],
   "source": [
    "std=np.std(similarity[1,:])"
   ]
  },
  {
   "cell_type": "code",
   "execution_count": 60,
   "id": "e370d07e",
   "metadata": {},
   "outputs": [
    {
     "data": {
      "text/plain": [
       "1.23"
      ]
     },
     "execution_count": 60,
     "metadata": {},
     "output_type": "execute_result"
    }
   ],
   "source": [
    "round(std, 2)"
   ]
  },
  {
   "cell_type": "code",
   "execution_count": 61,
   "id": "996fc254",
   "metadata": {},
   "outputs": [
    {
     "name": "stdout",
     "output_type": "stream",
     "text": [
      "4.25\n"
     ]
    }
   ],
   "source": [
    "model_AD_limit=Dmean+std*0.5\n",
    "print(np.round(model_AD_limit, 2))"
   ]
  },
  {
   "cell_type": "code",
   "execution_count": 62,
   "id": "9c44df78",
   "metadata": {},
   "outputs": [],
   "source": [
    "neighbors_k_ts= pairwise_distances(x_tr,Y=x_ts, n_jobs=-1)\n",
    "neighbors_k_ts.sort(0)"
   ]
  },
  {
   "cell_type": "code",
   "execution_count": 63,
   "id": "bca6a07a",
   "metadata": {},
   "outputs": [
    {
     "data": {
      "text/html": [
       "<div>\n",
       "<style scoped>\n",
       "    .dataframe tbody tr th:only-of-type {\n",
       "        vertical-align: middle;\n",
       "    }\n",
       "\n",
       "    .dataframe tbody tr th {\n",
       "        vertical-align: top;\n",
       "    }\n",
       "\n",
       "    .dataframe thead th {\n",
       "        text-align: right;\n",
       "    }\n",
       "</style>\n",
       "<table border=\"1\" class=\"dataframe\">\n",
       "  <thead>\n",
       "    <tr style=\"text-align: right;\">\n",
       "      <th></th>\n",
       "      <th>0</th>\n",
       "      <th>1</th>\n",
       "      <th>2</th>\n",
       "      <th>3</th>\n",
       "      <th>4</th>\n",
       "      <th>5</th>\n",
       "      <th>6</th>\n",
       "      <th>7</th>\n",
       "      <th>8</th>\n",
       "      <th>9</th>\n",
       "      <th>...</th>\n",
       "      <th>1919</th>\n",
       "      <th>1920</th>\n",
       "      <th>1921</th>\n",
       "      <th>1922</th>\n",
       "      <th>1923</th>\n",
       "      <th>1924</th>\n",
       "      <th>1925</th>\n",
       "      <th>1926</th>\n",
       "      <th>1927</th>\n",
       "      <th>1928</th>\n",
       "    </tr>\n",
       "  </thead>\n",
       "  <tbody>\n",
       "    <tr>\n",
       "      <th>0</th>\n",
       "      <td>2.000000</td>\n",
       "      <td>3.464102</td>\n",
       "      <td>2.000000</td>\n",
       "      <td>1.414214</td>\n",
       "      <td>2.000000</td>\n",
       "      <td>2.645751</td>\n",
       "      <td>3.162278</td>\n",
       "      <td>0.000000</td>\n",
       "      <td>2.449490</td>\n",
       "      <td>4.358899</td>\n",
       "      <td>...</td>\n",
       "      <td>6.855655</td>\n",
       "      <td>4.690416</td>\n",
       "      <td>2.828427</td>\n",
       "      <td>3.741657</td>\n",
       "      <td>3.162278</td>\n",
       "      <td>4.898980</td>\n",
       "      <td>2.645751</td>\n",
       "      <td>4.123106</td>\n",
       "      <td>3.162278</td>\n",
       "      <td>7.071068</td>\n",
       "    </tr>\n",
       "    <tr>\n",
       "      <th>1</th>\n",
       "      <td>2.000000</td>\n",
       "      <td>3.464102</td>\n",
       "      <td>2.236068</td>\n",
       "      <td>1.732051</td>\n",
       "      <td>3.162278</td>\n",
       "      <td>2.828427</td>\n",
       "      <td>3.605551</td>\n",
       "      <td>2.449490</td>\n",
       "      <td>2.449490</td>\n",
       "      <td>4.690416</td>\n",
       "      <td>...</td>\n",
       "      <td>7.071068</td>\n",
       "      <td>6.000000</td>\n",
       "      <td>3.316625</td>\n",
       "      <td>3.872983</td>\n",
       "      <td>3.162278</td>\n",
       "      <td>5.916080</td>\n",
       "      <td>2.828427</td>\n",
       "      <td>4.358899</td>\n",
       "      <td>3.605551</td>\n",
       "      <td>7.280110</td>\n",
       "    </tr>\n",
       "    <tr>\n",
       "      <th>2</th>\n",
       "      <td>2.000000</td>\n",
       "      <td>3.605551</td>\n",
       "      <td>2.236068</td>\n",
       "      <td>1.732051</td>\n",
       "      <td>3.162278</td>\n",
       "      <td>2.828427</td>\n",
       "      <td>3.872983</td>\n",
       "      <td>2.449490</td>\n",
       "      <td>2.449490</td>\n",
       "      <td>4.795832</td>\n",
       "      <td>...</td>\n",
       "      <td>7.280110</td>\n",
       "      <td>6.782330</td>\n",
       "      <td>3.316625</td>\n",
       "      <td>4.795832</td>\n",
       "      <td>3.162278</td>\n",
       "      <td>6.082763</td>\n",
       "      <td>2.828427</td>\n",
       "      <td>4.582576</td>\n",
       "      <td>3.741657</td>\n",
       "      <td>7.348469</td>\n",
       "    </tr>\n",
       "    <tr>\n",
       "      <th>3</th>\n",
       "      <td>2.000000</td>\n",
       "      <td>3.872983</td>\n",
       "      <td>2.645751</td>\n",
       "      <td>2.000000</td>\n",
       "      <td>3.464102</td>\n",
       "      <td>2.828427</td>\n",
       "      <td>4.000000</td>\n",
       "      <td>2.449490</td>\n",
       "      <td>2.449490</td>\n",
       "      <td>5.196152</td>\n",
       "      <td>...</td>\n",
       "      <td>7.280110</td>\n",
       "      <td>6.855655</td>\n",
       "      <td>3.464102</td>\n",
       "      <td>4.795832</td>\n",
       "      <td>3.316625</td>\n",
       "      <td>6.082763</td>\n",
       "      <td>2.828427</td>\n",
       "      <td>4.690416</td>\n",
       "      <td>3.741657</td>\n",
       "      <td>7.348469</td>\n",
       "    </tr>\n",
       "    <tr>\n",
       "      <th>4</th>\n",
       "      <td>2.000000</td>\n",
       "      <td>4.000000</td>\n",
       "      <td>2.828427</td>\n",
       "      <td>2.236068</td>\n",
       "      <td>3.605551</td>\n",
       "      <td>2.828427</td>\n",
       "      <td>4.242640</td>\n",
       "      <td>2.449490</td>\n",
       "      <td>2.645751</td>\n",
       "      <td>5.196152</td>\n",
       "      <td>...</td>\n",
       "      <td>7.416198</td>\n",
       "      <td>6.855655</td>\n",
       "      <td>3.605551</td>\n",
       "      <td>4.898980</td>\n",
       "      <td>3.605551</td>\n",
       "      <td>6.480741</td>\n",
       "      <td>3.000000</td>\n",
       "      <td>4.690416</td>\n",
       "      <td>3.872983</td>\n",
       "      <td>7.416198</td>\n",
       "    </tr>\n",
       "    <tr>\n",
       "      <th>...</th>\n",
       "      <td>...</td>\n",
       "      <td>...</td>\n",
       "      <td>...</td>\n",
       "      <td>...</td>\n",
       "      <td>...</td>\n",
       "      <td>...</td>\n",
       "      <td>...</td>\n",
       "      <td>...</td>\n",
       "      <td>...</td>\n",
       "      <td>...</td>\n",
       "      <td>...</td>\n",
       "      <td>...</td>\n",
       "      <td>...</td>\n",
       "      <td>...</td>\n",
       "      <td>...</td>\n",
       "      <td>...</td>\n",
       "      <td>...</td>\n",
       "      <td>...</td>\n",
       "      <td>...</td>\n",
       "      <td>...</td>\n",
       "      <td>...</td>\n",
       "    </tr>\n",
       "    <tr>\n",
       "      <th>7707</th>\n",
       "      <td>10.583005</td>\n",
       "      <td>10.583005</td>\n",
       "      <td>10.295630</td>\n",
       "      <td>10.770329</td>\n",
       "      <td>10.246951</td>\n",
       "      <td>10.344080</td>\n",
       "      <td>11.000000</td>\n",
       "      <td>10.488089</td>\n",
       "      <td>10.535654</td>\n",
       "      <td>10.954452</td>\n",
       "      <td>...</td>\n",
       "      <td>11.789826</td>\n",
       "      <td>11.618950</td>\n",
       "      <td>11.401754</td>\n",
       "      <td>11.180340</td>\n",
       "      <td>11.269427</td>\n",
       "      <td>11.789826</td>\n",
       "      <td>11.357817</td>\n",
       "      <td>11.224972</td>\n",
       "      <td>10.770329</td>\n",
       "      <td>11.489125</td>\n",
       "    </tr>\n",
       "    <tr>\n",
       "      <th>7708</th>\n",
       "      <td>11.135529</td>\n",
       "      <td>11.135529</td>\n",
       "      <td>10.954452</td>\n",
       "      <td>11.313708</td>\n",
       "      <td>11.045361</td>\n",
       "      <td>11.000000</td>\n",
       "      <td>11.618950</td>\n",
       "      <td>11.135529</td>\n",
       "      <td>11.000000</td>\n",
       "      <td>11.224972</td>\n",
       "      <td>...</td>\n",
       "      <td>12.124355</td>\n",
       "      <td>12.124355</td>\n",
       "      <td>11.661903</td>\n",
       "      <td>11.445523</td>\n",
       "      <td>11.618950</td>\n",
       "      <td>11.874342</td>\n",
       "      <td>11.704700</td>\n",
       "      <td>11.661903</td>\n",
       "      <td>10.954452</td>\n",
       "      <td>12.083046</td>\n",
       "    </tr>\n",
       "    <tr>\n",
       "      <th>7709</th>\n",
       "      <td>11.575837</td>\n",
       "      <td>11.661903</td>\n",
       "      <td>11.575837</td>\n",
       "      <td>11.832160</td>\n",
       "      <td>11.575837</td>\n",
       "      <td>11.532562</td>\n",
       "      <td>11.704700</td>\n",
       "      <td>11.661903</td>\n",
       "      <td>11.618950</td>\n",
       "      <td>11.747340</td>\n",
       "      <td>...</td>\n",
       "      <td>12.449900</td>\n",
       "      <td>12.609520</td>\n",
       "      <td>12.165525</td>\n",
       "      <td>12.124355</td>\n",
       "      <td>11.958261</td>\n",
       "      <td>12.206555</td>\n",
       "      <td>12.124355</td>\n",
       "      <td>12.083046</td>\n",
       "      <td>11.832160</td>\n",
       "      <td>12.165525</td>\n",
       "    </tr>\n",
       "    <tr>\n",
       "      <th>7710</th>\n",
       "      <td>11.661903</td>\n",
       "      <td>11.661903</td>\n",
       "      <td>11.575837</td>\n",
       "      <td>11.916375</td>\n",
       "      <td>11.661903</td>\n",
       "      <td>11.532562</td>\n",
       "      <td>11.789826</td>\n",
       "      <td>11.661903</td>\n",
       "      <td>11.704700</td>\n",
       "      <td>12.000000</td>\n",
       "      <td>...</td>\n",
       "      <td>12.845233</td>\n",
       "      <td>12.688578</td>\n",
       "      <td>12.247449</td>\n",
       "      <td>12.124355</td>\n",
       "      <td>12.041595</td>\n",
       "      <td>12.369317</td>\n",
       "      <td>12.206555</td>\n",
       "      <td>12.247449</td>\n",
       "      <td>11.832160</td>\n",
       "      <td>12.247449</td>\n",
       "    </tr>\n",
       "    <tr>\n",
       "      <th>7711</th>\n",
       "      <td>11.661903</td>\n",
       "      <td>12.000000</td>\n",
       "      <td>11.661903</td>\n",
       "      <td>12.000000</td>\n",
       "      <td>11.832160</td>\n",
       "      <td>11.789826</td>\n",
       "      <td>12.041595</td>\n",
       "      <td>11.747340</td>\n",
       "      <td>11.874342</td>\n",
       "      <td>12.083046</td>\n",
       "      <td>...</td>\n",
       "      <td>12.922848</td>\n",
       "      <td>12.688578</td>\n",
       "      <td>12.328828</td>\n",
       "      <td>12.288206</td>\n",
       "      <td>12.288206</td>\n",
       "      <td>12.449900</td>\n",
       "      <td>12.288206</td>\n",
       "      <td>12.247449</td>\n",
       "      <td>11.916375</td>\n",
       "      <td>12.489996</td>\n",
       "    </tr>\n",
       "  </tbody>\n",
       "</table>\n",
       "<p>7712 rows × 1929 columns</p>\n",
       "</div>"
      ],
      "text/plain": [
       "           0          1          2          3          4          5     \\\n",
       "0      2.000000   3.464102   2.000000   1.414214   2.000000   2.645751   \n",
       "1      2.000000   3.464102   2.236068   1.732051   3.162278   2.828427   \n",
       "2      2.000000   3.605551   2.236068   1.732051   3.162278   2.828427   \n",
       "3      2.000000   3.872983   2.645751   2.000000   3.464102   2.828427   \n",
       "4      2.000000   4.000000   2.828427   2.236068   3.605551   2.828427   \n",
       "...         ...        ...        ...        ...        ...        ...   \n",
       "7707  10.583005  10.583005  10.295630  10.770329  10.246951  10.344080   \n",
       "7708  11.135529  11.135529  10.954452  11.313708  11.045361  11.000000   \n",
       "7709  11.575837  11.661903  11.575837  11.832160  11.575837  11.532562   \n",
       "7710  11.661903  11.661903  11.575837  11.916375  11.661903  11.532562   \n",
       "7711  11.661903  12.000000  11.661903  12.000000  11.832160  11.789826   \n",
       "\n",
       "           6          7          8          9     ...       1919       1920  \\\n",
       "0      3.162278   0.000000   2.449490   4.358899  ...   6.855655   4.690416   \n",
       "1      3.605551   2.449490   2.449490   4.690416  ...   7.071068   6.000000   \n",
       "2      3.872983   2.449490   2.449490   4.795832  ...   7.280110   6.782330   \n",
       "3      4.000000   2.449490   2.449490   5.196152  ...   7.280110   6.855655   \n",
       "4      4.242640   2.449490   2.645751   5.196152  ...   7.416198   6.855655   \n",
       "...         ...        ...        ...        ...  ...        ...        ...   \n",
       "7707  11.000000  10.488089  10.535654  10.954452  ...  11.789826  11.618950   \n",
       "7708  11.618950  11.135529  11.000000  11.224972  ...  12.124355  12.124355   \n",
       "7709  11.704700  11.661903  11.618950  11.747340  ...  12.449900  12.609520   \n",
       "7710  11.789826  11.661903  11.704700  12.000000  ...  12.845233  12.688578   \n",
       "7711  12.041595  11.747340  11.874342  12.083046  ...  12.922848  12.688578   \n",
       "\n",
       "           1921       1922       1923       1924       1925       1926  \\\n",
       "0      2.828427   3.741657   3.162278   4.898980   2.645751   4.123106   \n",
       "1      3.316625   3.872983   3.162278   5.916080   2.828427   4.358899   \n",
       "2      3.316625   4.795832   3.162278   6.082763   2.828427   4.582576   \n",
       "3      3.464102   4.795832   3.316625   6.082763   2.828427   4.690416   \n",
       "4      3.605551   4.898980   3.605551   6.480741   3.000000   4.690416   \n",
       "...         ...        ...        ...        ...        ...        ...   \n",
       "7707  11.401754  11.180340  11.269427  11.789826  11.357817  11.224972   \n",
       "7708  11.661903  11.445523  11.618950  11.874342  11.704700  11.661903   \n",
       "7709  12.165525  12.124355  11.958261  12.206555  12.124355  12.083046   \n",
       "7710  12.247449  12.124355  12.041595  12.369317  12.206555  12.247449   \n",
       "7711  12.328828  12.288206  12.288206  12.449900  12.288206  12.247449   \n",
       "\n",
       "           1927       1928  \n",
       "0      3.162278   7.071068  \n",
       "1      3.605551   7.280110  \n",
       "2      3.741657   7.348469  \n",
       "3      3.741657   7.348469  \n",
       "4      3.872983   7.416198  \n",
       "...         ...        ...  \n",
       "7707  10.770329  11.489125  \n",
       "7708  10.954452  12.083046  \n",
       "7709  11.832160  12.165525  \n",
       "7710  11.832160  12.247449  \n",
       "7711  11.916375  12.489996  \n",
       "\n",
       "[7712 rows x 1929 columns]"
      ]
     },
     "execution_count": 63,
     "metadata": {},
     "output_type": "execute_result"
    }
   ],
   "source": [
    "x_ts_AD=pd.DataFrame(neighbors_k_ts)\n",
    "x_ts_AD"
   ]
  },
  {
   "cell_type": "code",
   "execution_count": 64,
   "id": "b6cacf39",
   "metadata": {},
   "outputs": [
    {
     "name": "stdout",
     "output_type": "stream",
     "text": [
      "[2.    3.464 2.    ... 4.123 3.162 7.071]\n"
     ]
    }
   ],
   "source": [
    "similarity_ts= neighbors_k_ts\n",
    "cpd_AD=similarity_ts[0,:]\n",
    "cpd_value = np.round(cpd_AD, 3)\n",
    "print(cpd_value)"
   ]
  },
  {
   "cell_type": "code",
   "execution_count": 65,
   "id": "b316abb2",
   "metadata": {},
   "outputs": [
    {
     "name": "stdout",
     "output_type": "stream",
     "text": [
      "[ True  True  True ...  True  True False]\n"
     ]
    }
   ],
   "source": [
    "cpd_AD = np.where(cpd_value <= model_AD_limit, True, False)\n",
    "print(cpd_AD)"
   ]
  },
  {
   "cell_type": "code",
   "execution_count": 66,
   "id": "e977095b",
   "metadata": {},
   "outputs": [
    {
     "name": "stdout",
     "output_type": "stream",
     "text": [
      "Coverage =  0.7407983411093831\n"
     ]
    }
   ],
   "source": [
    "print(\"Coverage = \", sum(cpd_AD) / len(cpd_AD))"
   ]
  },
  {
   "cell_type": "code",
   "execution_count": 67,
   "id": "72dd9f6a",
   "metadata": {},
   "outputs": [
    {
     "name": "stdout",
     "output_type": "stream",
     "text": [
      "Indices of substances included in AD =  [   0    1    2 ... 1925 1926 1927]\n"
     ]
    }
   ],
   "source": [
    "print(\"Indices of substances included in AD = \", np.where(cpd_AD != 0)[0])"
   ]
  },
  {
   "cell_type": "code",
   "execution_count": 68,
   "id": "027b6964",
   "metadata": {},
   "outputs": [],
   "source": [
    "out_Ad=list(np.where(cpd_AD == 0)[0])"
   ]
  },
  {
   "cell_type": "markdown",
   "id": "630bc151",
   "metadata": {},
   "source": [
    "## Prediction only for molecules included in  AD"
   ]
  },
  {
   "cell_type": "code",
   "execution_count": 69,
   "id": "ea564892",
   "metadata": {},
   "outputs": [],
   "source": [
    "y_pred_con_ad=list(y_pred_con)"
   ]
  },
  {
   "cell_type": "code",
   "execution_count": 70,
   "id": "d02baef7",
   "metadata": {},
   "outputs": [],
   "source": [
    "y_pred_con_ad[:] = [x for i,x in enumerate(y_pred_con_ad) if i not in out_Ad]"
   ]
  },
  {
   "cell_type": "code",
   "execution_count": 71,
   "id": "fd45d8b8",
   "metadata": {},
   "outputs": [
    {
     "data": {
      "text/plain": [
       "1429"
      ]
     },
     "execution_count": 71,
     "metadata": {},
     "output_type": "execute_result"
    }
   ],
   "source": [
    "len(y_pred_con_ad)"
   ]
  },
  {
   "cell_type": "code",
   "execution_count": 72,
   "id": "d4d13d08",
   "metadata": {},
   "outputs": [],
   "source": [
    "y_ts_ad=list(y_ts)"
   ]
  },
  {
   "cell_type": "code",
   "execution_count": 73,
   "id": "7116e83a",
   "metadata": {},
   "outputs": [],
   "source": [
    "y_ts_ad[:] = [x for i,x in enumerate(y_ts_ad) if i not in out_Ad]"
   ]
  },
  {
   "cell_type": "code",
   "execution_count": 74,
   "id": "d2815d43",
   "metadata": {},
   "outputs": [
    {
     "data": {
      "text/plain": [
       "1429"
      ]
     },
     "execution_count": 74,
     "metadata": {},
     "output_type": "execute_result"
    }
   ],
   "source": [
    "len(y_ts_ad)"
   ]
  },
  {
   "cell_type": "code",
   "execution_count": 75,
   "id": "3612ac23",
   "metadata": {},
   "outputs": [
    {
     "data": {
      "text/plain": [
       "0.65"
      ]
     },
     "execution_count": 75,
     "metadata": {},
     "output_type": "execute_result"
    }
   ],
   "source": [
    "Q2_TS = round(r2_score(y_ts_ad, y_pred_con_ad), 2)\n",
    "Q2_TS"
   ]
  },
  {
   "cell_type": "code",
   "execution_count": 76,
   "id": "d6fe6a5b",
   "metadata": {},
   "outputs": [
    {
     "data": {
      "text/plain": [
       "0.63"
      ]
     },
     "execution_count": 76,
     "metadata": {},
     "output_type": "execute_result"
    }
   ],
   "source": [
    "RMSE_TS=round(np.sqrt(mean_absolute_error(y_ts_ad, y_pred_con_ad)), 2)\n",
    "RMSE_TS"
   ]
  },
  {
   "cell_type": "markdown",
   "id": "9c231825",
   "metadata": {},
   "source": [
    "# MACCS -RF"
   ]
  },
  {
   "cell_type": "markdown",
   "id": "54767dec",
   "metadata": {},
   "source": [
    "## Calculation MACCS Fingerprints for work set"
   ]
  },
  {
   "cell_type": "code",
   "execution_count": 148,
   "id": "a00a1d6e",
   "metadata": {},
   "outputs": [],
   "source": [
    "from rdkit.Chem import MACCSkeys"
   ]
  },
  {
   "cell_type": "code",
   "execution_count": 149,
   "id": "497974db",
   "metadata": {},
   "outputs": [],
   "source": [
    "fp_tr = [MACCSkeys.GenMACCSKeys(m) for m in moldf_ws]"
   ]
  },
  {
   "cell_type": "code",
   "execution_count": 152,
   "id": "12324890",
   "metadata": {},
   "outputs": [],
   "source": [
    "def rdkit_numpy_convert(fp_tr):\n",
    "    output = []\n",
    "    for f in fp_tr:\n",
    "        arr = np.zeros((1,))\n",
    "        DataStructs.ConvertToNumpyArray(f, arr)\n",
    "        output.append(arr)\n",
    "    return np.asarray(output)"
   ]
  },
  {
   "cell_type": "code",
   "execution_count": 153,
   "id": "3b5343f6",
   "metadata": {},
   "outputs": [],
   "source": [
    "from numpy import savetxt\n",
    "x_tr = rdkit_numpy_convert(fp_tr)"
   ]
  },
  {
   "cell_type": "code",
   "execution_count": 154,
   "id": "c033392e",
   "metadata": {},
   "outputs": [],
   "source": [
    "savetxt('Models/MACCS/x_tr_MACCS.csv', x_tr, delimiter=',')"
   ]
  },
  {
   "cell_type": "code",
   "execution_count": 155,
   "id": "ea6963b3",
   "metadata": {},
   "outputs": [
    {
     "data": {
      "text/plain": [
       "(7712, 167)"
      ]
     },
     "execution_count": 155,
     "metadata": {},
     "output_type": "execute_result"
    }
   ],
   "source": [
    "x_tr.shape"
   ]
  },
  {
   "cell_type": "markdown",
   "id": "3ec36c2a",
   "metadata": {},
   "source": [
    "## Calculation  MACCS Fingerprint for test set"
   ]
  },
  {
   "cell_type": "code",
   "execution_count": 156,
   "id": "1e568a0f",
   "metadata": {},
   "outputs": [],
   "source": [
    "fp_ts = [MACCSkeys.GenMACCSKeys(m) for m in moldf_ts]"
   ]
  },
  {
   "cell_type": "code",
   "execution_count": 157,
   "id": "1f5f2b73",
   "metadata": {},
   "outputs": [],
   "source": [
    "def rdkit_numpy_convert(fp_ts):\n",
    "    output = []\n",
    "    for f in fp_ts:\n",
    "        arr = np.zeros((1,))\n",
    "        DataStructs.ConvertToNumpyArray(f, arr)\n",
    "        output.append(arr)\n",
    "    return np.asarray(output)"
   ]
  },
  {
   "cell_type": "code",
   "execution_count": 158,
   "id": "b812f748",
   "metadata": {},
   "outputs": [],
   "source": [
    "x_ts = rdkit_numpy_convert(fp_ts)"
   ]
  },
  {
   "cell_type": "code",
   "execution_count": 159,
   "id": "229537ed",
   "metadata": {},
   "outputs": [
    {
     "data": {
      "text/plain": [
       "(1929, 167)"
      ]
     },
     "execution_count": 159,
     "metadata": {},
     "output_type": "execute_result"
    }
   ],
   "source": [
    "x_ts.shape"
   ]
  },
  {
   "cell_type": "code",
   "execution_count": 160,
   "id": "382652e3",
   "metadata": {},
   "outputs": [],
   "source": [
    "x_tr = np.array(x_tr, dtype=np.float32)\n",
    "y_tr = np.array(y_tr, dtype=np.float32)"
   ]
  },
  {
   "cell_type": "markdown",
   "id": "13e12910",
   "metadata": {},
   "source": [
    "##  Random forest model building and validation¶"
   ]
  },
  {
   "cell_type": "code",
   "execution_count": 161,
   "id": "017b9483",
   "metadata": {},
   "outputs": [],
   "source": [
    "seed = 42"
   ]
  },
  {
   "cell_type": "code",
   "execution_count": 162,
   "id": "2b9feb96",
   "metadata": {},
   "outputs": [],
   "source": [
    "cv=KFold(n_splits=5, random_state=seed, shuffle=True)"
   ]
  },
  {
   "cell_type": "code",
   "execution_count": 163,
   "id": "360500ba",
   "metadata": {},
   "outputs": [],
   "source": [
    "param_grid = {\"max_features\": [x_tr.shape[1] // 10, x_tr.shape[1] // 7, x_tr.shape[1] // 5, x_tr.shape[1] // 3, x_tr.shape[1] // 2],\n",
    "              \"n_estimators\": [100, 250, 500, 1000]}"
   ]
  },
  {
   "cell_type": "code",
   "execution_count": 164,
   "id": "b13029a3",
   "metadata": {},
   "outputs": [],
   "source": [
    "m = GridSearchCV(RandomForestRegressor(), param_grid, n_jobs=2, cv=cv, verbose=1)"
   ]
  },
  {
   "cell_type": "code",
   "execution_count": 165,
   "id": "37aff82f",
   "metadata": {},
   "outputs": [
    {
     "name": "stdout",
     "output_type": "stream",
     "text": [
      "Fitting 5 folds for each of 20 candidates, totalling 100 fits\n"
     ]
    },
    {
     "data": {
      "text/plain": [
       "GridSearchCV(cv=KFold(n_splits=5, random_state=42, shuffle=True),\n",
       "             estimator=RandomForestRegressor(), n_jobs=2,\n",
       "             param_grid={'max_features': [16, 23, 33, 55, 83],\n",
       "                         'n_estimators': [100, 250, 500, 1000]},\n",
       "             verbose=1)"
      ]
     },
     "execution_count": 165,
     "metadata": {},
     "output_type": "execute_result"
    }
   ],
   "source": [
    "m.fit(x_tr, y_tr)"
   ]
  },
  {
   "cell_type": "code",
   "execution_count": 166,
   "id": "4e328aa8",
   "metadata": {},
   "outputs": [],
   "source": [
    "m.best_params_\n",
    "best_RF = m.best_estimator_"
   ]
  },
  {
   "cell_type": "code",
   "execution_count": 167,
   "id": "effc91b6",
   "metadata": {},
   "outputs": [
    {
     "data": {
      "text/plain": [
       "{'max_features': 33, 'n_estimators': 1000}"
      ]
     },
     "execution_count": 167,
     "metadata": {},
     "output_type": "execute_result"
    }
   ],
   "source": [
    "m.best_params_"
   ]
  },
  {
   "cell_type": "code",
   "execution_count": 168,
   "id": "dadb149d",
   "metadata": {},
   "outputs": [],
   "source": [
    "y_pred_CV_RF = cross_val_predict(best_RF, x_tr, y_tr, cv=cv)"
   ]
  },
  {
   "cell_type": "code",
   "execution_count": 171,
   "id": "5e780b69",
   "metadata": {},
   "outputs": [
    {
     "data": {
      "text/plain": [
       "0.58"
      ]
     },
     "execution_count": 171,
     "metadata": {},
     "output_type": "execute_result"
    }
   ],
   "source": [
    "Q2_CV = round(r2_score(y_tr, y_pred_CV_RF), 2)\n",
    "Q2_CV"
   ]
  },
  {
   "cell_type": "code",
   "execution_count": 172,
   "id": "003d34a4",
   "metadata": {},
   "outputs": [
    {
     "data": {
      "text/plain": [
       "0.65"
      ]
     },
     "execution_count": 172,
     "metadata": {},
     "output_type": "execute_result"
    }
   ],
   "source": [
    "RMSE_CV=round(np.sqrt(mean_absolute_error(y_tr, y_pred_CV_RF)), 2)\n",
    "RMSE_CV"
   ]
  },
  {
   "cell_type": "markdown",
   "id": "8a65f9a0",
   "metadata": {},
   "source": [
    "##  Prediction for test set's molecules"
   ]
  },
  {
   "cell_type": "code",
   "execution_count": 173,
   "id": "12345908",
   "metadata": {},
   "outputs": [],
   "source": [
    "x_ts = np.array(x_ts, dtype=np.float32)\n",
    "y_ts = np.array(y_ts, dtype=np.float32)"
   ]
  },
  {
   "cell_type": "code",
   "execution_count": 174,
   "id": "17094652",
   "metadata": {},
   "outputs": [
    {
     "data": {
      "text/plain": [
       "1929"
      ]
     },
     "execution_count": 174,
     "metadata": {},
     "output_type": "execute_result"
    }
   ],
   "source": [
    "len(y_ts)"
   ]
  },
  {
   "cell_type": "code",
   "execution_count": 175,
   "id": "b4f412ec",
   "metadata": {},
   "outputs": [],
   "source": [
    "y_pred_rf = best_RF.predict(x_ts)"
   ]
  },
  {
   "cell_type": "code",
   "execution_count": 176,
   "id": "dac61efd",
   "metadata": {},
   "outputs": [
    {
     "data": {
      "text/plain": [
       "0.59"
      ]
     },
     "execution_count": 176,
     "metadata": {},
     "output_type": "execute_result"
    }
   ],
   "source": [
    "Q2_TS = round(r2_score(y_ts, y_pred_rf), 2)\n",
    "Q2_TS"
   ]
  },
  {
   "cell_type": "code",
   "execution_count": 177,
   "id": "a180a5f3",
   "metadata": {},
   "outputs": [
    {
     "data": {
      "text/plain": [
       "0.63"
      ]
     },
     "execution_count": 177,
     "metadata": {},
     "output_type": "execute_result"
    }
   ],
   "source": [
    "RMSE_TS=round(np.sqrt(mean_absolute_error(y_ts, y_pred_rf)), 2)\n",
    "RMSE_TS"
   ]
  },
  {
   "cell_type": "markdown",
   "id": "e6a165f0",
   "metadata": {},
   "source": [
    "## save the model to disk"
   ]
  },
  {
   "cell_type": "code",
   "execution_count": 179,
   "id": "ca007e3f",
   "metadata": {},
   "outputs": [],
   "source": [
    "pickle.dump(best_RF, open('Models/MACCS/LD50_rat_oral_RF_MACCS.pkl', 'wb'))"
   ]
  },
  {
   "cell_type": "markdown",
   "id": "2e6ace6e",
   "metadata": {},
   "source": [
    "## load the model from disk"
   ]
  },
  {
   "cell_type": "code",
   "execution_count": 180,
   "id": "96d5254e",
   "metadata": {},
   "outputs": [],
   "source": [
    "best_RF = pickle.load(open('Models/MACCS/LD50_rat_oral_RF_MACCS.pkl', 'rb'))"
   ]
  },
  {
   "cell_type": "markdown",
   "id": "efcfcef5",
   "metadata": {},
   "source": [
    "##  Y-randomization RF model"
   ]
  },
  {
   "cell_type": "code",
   "execution_count": 204,
   "id": "1c1f5fef",
   "metadata": {},
   "outputs": [
    {
     "name": "stderr",
     "output_type": "stream",
     "text": [
      "[Parallel(n_jobs=-1)]: Using backend LokyBackend with 4 concurrent workers.\n",
      "[Parallel(n_jobs=-1)]: Done  42 tasks      | elapsed: 22.6min\n",
      "[Parallel(n_jobs=-1)]: Done  50 out of  50 | elapsed: 26.5min finished\n"
     ]
    },
    {
     "name": "stdout",
     "output_type": "stream",
     "text": [
      "True score =  0.58 \n",
      "Y-randomization =  -0.13 \n",
      "p-value =  0.0196\n"
     ]
    }
   ],
   "source": [
    "permutations = 50\n",
    "score, permutation_scores, pvalue = permutation_test_score(best_RF, x_tr, y_tr,\n",
    "                                                           cv=cv, scoring='r2',\n",
    "                                                           n_permutations=permutations,\n",
    "                                                           n_jobs=-1,\n",
    "                                                           verbose=1,\n",
    "                                                           random_state=24)\n",
    "print('True score = ', score.round(2),\n",
    "      '\\nY-randomization = ', np.mean(permutation_scores).round(2),\n",
    "      '\\np-value = ', pvalue.round(4))"
   ]
  },
  {
   "cell_type": "markdown",
   "id": "d828b5f7",
   "metadata": {},
   "source": [
    "##  Estimating applicability domain. Method - Euclidian distances, K=1"
   ]
  },
  {
   "cell_type": "code",
   "execution_count": 205,
   "id": "7758ec50",
   "metadata": {},
   "outputs": [],
   "source": [
    "neighbors_k= pairwise_distances(x_tr, n_jobs=-1)\n",
    "neighbors_k.sort(0)"
   ]
  },
  {
   "cell_type": "code",
   "execution_count": 206,
   "id": "9a02dd8f",
   "metadata": {},
   "outputs": [
    {
     "data": {
      "text/html": [
       "<div>\n",
       "<style scoped>\n",
       "    .dataframe tbody tr th:only-of-type {\n",
       "        vertical-align: middle;\n",
       "    }\n",
       "\n",
       "    .dataframe tbody tr th {\n",
       "        vertical-align: top;\n",
       "    }\n",
       "\n",
       "    .dataframe thead th {\n",
       "        text-align: right;\n",
       "    }\n",
       "</style>\n",
       "<table border=\"1\" class=\"dataframe\">\n",
       "  <thead>\n",
       "    <tr style=\"text-align: right;\">\n",
       "      <th></th>\n",
       "      <th>0</th>\n",
       "      <th>1</th>\n",
       "      <th>2</th>\n",
       "      <th>3</th>\n",
       "      <th>4</th>\n",
       "      <th>5</th>\n",
       "      <th>6</th>\n",
       "      <th>7</th>\n",
       "      <th>8</th>\n",
       "      <th>9</th>\n",
       "      <th>...</th>\n",
       "      <th>7702</th>\n",
       "      <th>7703</th>\n",
       "      <th>7704</th>\n",
       "      <th>7705</th>\n",
       "      <th>7706</th>\n",
       "      <th>7707</th>\n",
       "      <th>7708</th>\n",
       "      <th>7709</th>\n",
       "      <th>7710</th>\n",
       "      <th>7711</th>\n",
       "    </tr>\n",
       "  </thead>\n",
       "  <tbody>\n",
       "    <tr>\n",
       "      <th>0</th>\n",
       "      <td>0.000000</td>\n",
       "      <td>0.000000</td>\n",
       "      <td>0.000000</td>\n",
       "      <td>0.000000</td>\n",
       "      <td>0.000000</td>\n",
       "      <td>0.000000</td>\n",
       "      <td>0.000000</td>\n",
       "      <td>0.000000</td>\n",
       "      <td>0.000000</td>\n",
       "      <td>0.000000</td>\n",
       "      <td>...</td>\n",
       "      <td>0.000000</td>\n",
       "      <td>0.000000</td>\n",
       "      <td>0.000000</td>\n",
       "      <td>0.000000</td>\n",
       "      <td>0.000000</td>\n",
       "      <td>0.000000</td>\n",
       "      <td>0.000000</td>\n",
       "      <td>0.000000</td>\n",
       "      <td>0.000000</td>\n",
       "      <td>0.000000</td>\n",
       "    </tr>\n",
       "    <tr>\n",
       "      <th>1</th>\n",
       "      <td>1.000000</td>\n",
       "      <td>4.000000</td>\n",
       "      <td>1.414214</td>\n",
       "      <td>2.236068</td>\n",
       "      <td>2.000000</td>\n",
       "      <td>2.645751</td>\n",
       "      <td>3.000000</td>\n",
       "      <td>2.645751</td>\n",
       "      <td>0.000000</td>\n",
       "      <td>0.000000</td>\n",
       "      <td>...</td>\n",
       "      <td>0.000000</td>\n",
       "      <td>1.000000</td>\n",
       "      <td>1.732051</td>\n",
       "      <td>3.162278</td>\n",
       "      <td>2.645751</td>\n",
       "      <td>2.000000</td>\n",
       "      <td>3.162278</td>\n",
       "      <td>2.449490</td>\n",
       "      <td>0.000000</td>\n",
       "      <td>3.000000</td>\n",
       "    </tr>\n",
       "    <tr>\n",
       "      <th>2</th>\n",
       "      <td>1.732051</td>\n",
       "      <td>4.242640</td>\n",
       "      <td>1.414214</td>\n",
       "      <td>2.236068</td>\n",
       "      <td>2.000000</td>\n",
       "      <td>2.828427</td>\n",
       "      <td>3.162278</td>\n",
       "      <td>2.828427</td>\n",
       "      <td>0.000000</td>\n",
       "      <td>0.000000</td>\n",
       "      <td>...</td>\n",
       "      <td>0.000000</td>\n",
       "      <td>2.449490</td>\n",
       "      <td>2.236068</td>\n",
       "      <td>3.162278</td>\n",
       "      <td>3.741657</td>\n",
       "      <td>2.449490</td>\n",
       "      <td>3.162278</td>\n",
       "      <td>2.449490</td>\n",
       "      <td>0.000000</td>\n",
       "      <td>3.162278</td>\n",
       "    </tr>\n",
       "    <tr>\n",
       "      <th>3</th>\n",
       "      <td>2.449490</td>\n",
       "      <td>4.358899</td>\n",
       "      <td>1.732051</td>\n",
       "      <td>2.449490</td>\n",
       "      <td>2.449490</td>\n",
       "      <td>3.162278</td>\n",
       "      <td>3.162278</td>\n",
       "      <td>3.000000</td>\n",
       "      <td>0.000000</td>\n",
       "      <td>0.000000</td>\n",
       "      <td>...</td>\n",
       "      <td>0.000000</td>\n",
       "      <td>3.000000</td>\n",
       "      <td>4.242640</td>\n",
       "      <td>3.464102</td>\n",
       "      <td>5.000000</td>\n",
       "      <td>2.449490</td>\n",
       "      <td>3.316625</td>\n",
       "      <td>3.000000</td>\n",
       "      <td>0.000000</td>\n",
       "      <td>3.162278</td>\n",
       "    </tr>\n",
       "    <tr>\n",
       "      <th>4</th>\n",
       "      <td>2.645751</td>\n",
       "      <td>4.690416</td>\n",
       "      <td>1.732051</td>\n",
       "      <td>2.645751</td>\n",
       "      <td>2.449490</td>\n",
       "      <td>3.162278</td>\n",
       "      <td>3.162278</td>\n",
       "      <td>3.000000</td>\n",
       "      <td>0.000000</td>\n",
       "      <td>0.000000</td>\n",
       "      <td>...</td>\n",
       "      <td>0.000000</td>\n",
       "      <td>3.162278</td>\n",
       "      <td>4.358899</td>\n",
       "      <td>3.464102</td>\n",
       "      <td>5.000000</td>\n",
       "      <td>2.449490</td>\n",
       "      <td>3.316625</td>\n",
       "      <td>3.464102</td>\n",
       "      <td>0.000000</td>\n",
       "      <td>3.316625</td>\n",
       "    </tr>\n",
       "    <tr>\n",
       "      <th>...</th>\n",
       "      <td>...</td>\n",
       "      <td>...</td>\n",
       "      <td>...</td>\n",
       "      <td>...</td>\n",
       "      <td>...</td>\n",
       "      <td>...</td>\n",
       "      <td>...</td>\n",
       "      <td>...</td>\n",
       "      <td>...</td>\n",
       "      <td>...</td>\n",
       "      <td>...</td>\n",
       "      <td>...</td>\n",
       "      <td>...</td>\n",
       "      <td>...</td>\n",
       "      <td>...</td>\n",
       "      <td>...</td>\n",
       "      <td>...</td>\n",
       "      <td>...</td>\n",
       "      <td>...</td>\n",
       "      <td>...</td>\n",
       "      <td>...</td>\n",
       "    </tr>\n",
       "    <tr>\n",
       "      <th>7707</th>\n",
       "      <td>8.246211</td>\n",
       "      <td>8.602325</td>\n",
       "      <td>9.219544</td>\n",
       "      <td>8.944272</td>\n",
       "      <td>9.165152</td>\n",
       "      <td>8.888194</td>\n",
       "      <td>9.000000</td>\n",
       "      <td>9.380832</td>\n",
       "      <td>9.110434</td>\n",
       "      <td>9.327379</td>\n",
       "      <td>...</td>\n",
       "      <td>9.000000</td>\n",
       "      <td>8.774964</td>\n",
       "      <td>8.544003</td>\n",
       "      <td>8.774964</td>\n",
       "      <td>8.306623</td>\n",
       "      <td>9.000000</td>\n",
       "      <td>8.774964</td>\n",
       "      <td>9.110434</td>\n",
       "      <td>9.000000</td>\n",
       "      <td>8.544003</td>\n",
       "    </tr>\n",
       "    <tr>\n",
       "      <th>7708</th>\n",
       "      <td>8.246211</td>\n",
       "      <td>8.602325</td>\n",
       "      <td>9.273619</td>\n",
       "      <td>9.000000</td>\n",
       "      <td>9.219544</td>\n",
       "      <td>8.888194</td>\n",
       "      <td>9.000000</td>\n",
       "      <td>9.380832</td>\n",
       "      <td>9.165152</td>\n",
       "      <td>9.327379</td>\n",
       "      <td>...</td>\n",
       "      <td>9.055386</td>\n",
       "      <td>8.831760</td>\n",
       "      <td>8.544003</td>\n",
       "      <td>8.774964</td>\n",
       "      <td>8.366600</td>\n",
       "      <td>9.000000</td>\n",
       "      <td>8.831760</td>\n",
       "      <td>9.110434</td>\n",
       "      <td>9.055386</td>\n",
       "      <td>8.544003</td>\n",
       "    </tr>\n",
       "    <tr>\n",
       "      <th>7709</th>\n",
       "      <td>8.306623</td>\n",
       "      <td>8.602325</td>\n",
       "      <td>9.327379</td>\n",
       "      <td>9.000000</td>\n",
       "      <td>9.219544</td>\n",
       "      <td>8.944272</td>\n",
       "      <td>9.000000</td>\n",
       "      <td>9.486833</td>\n",
       "      <td>9.219544</td>\n",
       "      <td>9.539392</td>\n",
       "      <td>...</td>\n",
       "      <td>9.110434</td>\n",
       "      <td>8.831760</td>\n",
       "      <td>8.602325</td>\n",
       "      <td>8.774964</td>\n",
       "      <td>8.426149</td>\n",
       "      <td>9.000000</td>\n",
       "      <td>8.831760</td>\n",
       "      <td>9.219544</td>\n",
       "      <td>9.110434</td>\n",
       "      <td>8.602325</td>\n",
       "    </tr>\n",
       "    <tr>\n",
       "      <th>7710</th>\n",
       "      <td>8.485281</td>\n",
       "      <td>8.717798</td>\n",
       "      <td>9.380832</td>\n",
       "      <td>9.000000</td>\n",
       "      <td>9.219544</td>\n",
       "      <td>8.944272</td>\n",
       "      <td>9.055386</td>\n",
       "      <td>9.539392</td>\n",
       "      <td>9.273619</td>\n",
       "      <td>9.539392</td>\n",
       "      <td>...</td>\n",
       "      <td>9.219544</td>\n",
       "      <td>8.888194</td>\n",
       "      <td>8.602325</td>\n",
       "      <td>8.888194</td>\n",
       "      <td>8.426149</td>\n",
       "      <td>9.000000</td>\n",
       "      <td>8.944272</td>\n",
       "      <td>9.273619</td>\n",
       "      <td>9.219544</td>\n",
       "      <td>8.774964</td>\n",
       "    </tr>\n",
       "    <tr>\n",
       "      <th>7711</th>\n",
       "      <td>8.544003</td>\n",
       "      <td>8.717798</td>\n",
       "      <td>9.433981</td>\n",
       "      <td>9.110434</td>\n",
       "      <td>9.327379</td>\n",
       "      <td>9.055386</td>\n",
       "      <td>9.055386</td>\n",
       "      <td>9.591663</td>\n",
       "      <td>9.327379</td>\n",
       "      <td>9.643651</td>\n",
       "      <td>...</td>\n",
       "      <td>9.273619</td>\n",
       "      <td>8.944272</td>\n",
       "      <td>8.602325</td>\n",
       "      <td>8.888194</td>\n",
       "      <td>8.485281</td>\n",
       "      <td>9.055386</td>\n",
       "      <td>8.944272</td>\n",
       "      <td>9.273619</td>\n",
       "      <td>9.273619</td>\n",
       "      <td>8.774964</td>\n",
       "    </tr>\n",
       "  </tbody>\n",
       "</table>\n",
       "<p>7712 rows × 7712 columns</p>\n",
       "</div>"
      ],
      "text/plain": [
       "          0         1         2         3         4         5         6     \\\n",
       "0     0.000000  0.000000  0.000000  0.000000  0.000000  0.000000  0.000000   \n",
       "1     1.000000  4.000000  1.414214  2.236068  2.000000  2.645751  3.000000   \n",
       "2     1.732051  4.242640  1.414214  2.236068  2.000000  2.828427  3.162278   \n",
       "3     2.449490  4.358899  1.732051  2.449490  2.449490  3.162278  3.162278   \n",
       "4     2.645751  4.690416  1.732051  2.645751  2.449490  3.162278  3.162278   \n",
       "...        ...       ...       ...       ...       ...       ...       ...   \n",
       "7707  8.246211  8.602325  9.219544  8.944272  9.165152  8.888194  9.000000   \n",
       "7708  8.246211  8.602325  9.273619  9.000000  9.219544  8.888194  9.000000   \n",
       "7709  8.306623  8.602325  9.327379  9.000000  9.219544  8.944272  9.000000   \n",
       "7710  8.485281  8.717798  9.380832  9.000000  9.219544  8.944272  9.055386   \n",
       "7711  8.544003  8.717798  9.433981  9.110434  9.327379  9.055386  9.055386   \n",
       "\n",
       "          7         8         9     ...      7702      7703      7704  \\\n",
       "0     0.000000  0.000000  0.000000  ...  0.000000  0.000000  0.000000   \n",
       "1     2.645751  0.000000  0.000000  ...  0.000000  1.000000  1.732051   \n",
       "2     2.828427  0.000000  0.000000  ...  0.000000  2.449490  2.236068   \n",
       "3     3.000000  0.000000  0.000000  ...  0.000000  3.000000  4.242640   \n",
       "4     3.000000  0.000000  0.000000  ...  0.000000  3.162278  4.358899   \n",
       "...        ...       ...       ...  ...       ...       ...       ...   \n",
       "7707  9.380832  9.110434  9.327379  ...  9.000000  8.774964  8.544003   \n",
       "7708  9.380832  9.165152  9.327379  ...  9.055386  8.831760  8.544003   \n",
       "7709  9.486833  9.219544  9.539392  ...  9.110434  8.831760  8.602325   \n",
       "7710  9.539392  9.273619  9.539392  ...  9.219544  8.888194  8.602325   \n",
       "7711  9.591663  9.327379  9.643651  ...  9.273619  8.944272  8.602325   \n",
       "\n",
       "          7705      7706      7707      7708      7709      7710      7711  \n",
       "0     0.000000  0.000000  0.000000  0.000000  0.000000  0.000000  0.000000  \n",
       "1     3.162278  2.645751  2.000000  3.162278  2.449490  0.000000  3.000000  \n",
       "2     3.162278  3.741657  2.449490  3.162278  2.449490  0.000000  3.162278  \n",
       "3     3.464102  5.000000  2.449490  3.316625  3.000000  0.000000  3.162278  \n",
       "4     3.464102  5.000000  2.449490  3.316625  3.464102  0.000000  3.316625  \n",
       "...        ...       ...       ...       ...       ...       ...       ...  \n",
       "7707  8.774964  8.306623  9.000000  8.774964  9.110434  9.000000  8.544003  \n",
       "7708  8.774964  8.366600  9.000000  8.831760  9.110434  9.055386  8.544003  \n",
       "7709  8.774964  8.426149  9.000000  8.831760  9.219544  9.110434  8.602325  \n",
       "7710  8.888194  8.426149  9.000000  8.944272  9.273619  9.219544  8.774964  \n",
       "7711  8.888194  8.485281  9.055386  8.944272  9.273619  9.273619  8.774964  \n",
       "\n",
       "[7712 rows x 7712 columns]"
      ]
     },
     "execution_count": 206,
     "metadata": {},
     "output_type": "execute_result"
    }
   ],
   "source": [
    "df_tr=pd.DataFrame(neighbors_k)\n",
    "df_tr"
   ]
  },
  {
   "cell_type": "code",
   "execution_count": 207,
   "id": "63d9d938",
   "metadata": {},
   "outputs": [],
   "source": [
    "similarity= neighbors_k"
   ]
  },
  {
   "cell_type": "code",
   "execution_count": 208,
   "id": "c1282180",
   "metadata": {},
   "outputs": [],
   "source": [
    "Dmean=np.mean(similarity[1,:])"
   ]
  },
  {
   "cell_type": "code",
   "execution_count": 209,
   "id": "76d4ef27",
   "metadata": {},
   "outputs": [
    {
     "data": {
      "text/plain": [
       "2.03"
      ]
     },
     "execution_count": 209,
     "metadata": {},
     "output_type": "execute_result"
    }
   ],
   "source": [
    "round(Dmean, 2)"
   ]
  },
  {
   "cell_type": "code",
   "execution_count": 210,
   "id": "9dede9ee",
   "metadata": {},
   "outputs": [],
   "source": [
    "std=np.std(similarity[1,:])"
   ]
  },
  {
   "cell_type": "code",
   "execution_count": 211,
   "id": "323fbc6a",
   "metadata": {},
   "outputs": [
    {
     "data": {
      "text/plain": [
       "1.11"
      ]
     },
     "execution_count": 211,
     "metadata": {},
     "output_type": "execute_result"
    }
   ],
   "source": [
    "round(std, 2)"
   ]
  },
  {
   "cell_type": "code",
   "execution_count": 212,
   "id": "8609fafb",
   "metadata": {},
   "outputs": [
    {
     "name": "stdout",
     "output_type": "stream",
     "text": [
      "2.59\n"
     ]
    }
   ],
   "source": [
    "model_AD_limit=Dmean+std*0.5\n",
    "print(np.round(model_AD_limit, 2))"
   ]
  },
  {
   "cell_type": "code",
   "execution_count": 213,
   "id": "48881b46",
   "metadata": {},
   "outputs": [],
   "source": [
    "neighbors_k_ts= pairwise_distances(x_tr,Y=x_ts, n_jobs=-1)\n",
    "neighbors_k_ts.sort(0)"
   ]
  },
  {
   "cell_type": "code",
   "execution_count": 214,
   "id": "2f2d5fd7",
   "metadata": {},
   "outputs": [
    {
     "data": {
      "text/html": [
       "<div>\n",
       "<style scoped>\n",
       "    .dataframe tbody tr th:only-of-type {\n",
       "        vertical-align: middle;\n",
       "    }\n",
       "\n",
       "    .dataframe tbody tr th {\n",
       "        vertical-align: top;\n",
       "    }\n",
       "\n",
       "    .dataframe thead th {\n",
       "        text-align: right;\n",
       "    }\n",
       "</style>\n",
       "<table border=\"1\" class=\"dataframe\">\n",
       "  <thead>\n",
       "    <tr style=\"text-align: right;\">\n",
       "      <th></th>\n",
       "      <th>0</th>\n",
       "      <th>1</th>\n",
       "      <th>2</th>\n",
       "      <th>3</th>\n",
       "      <th>4</th>\n",
       "      <th>5</th>\n",
       "      <th>6</th>\n",
       "      <th>7</th>\n",
       "      <th>8</th>\n",
       "      <th>9</th>\n",
       "      <th>...</th>\n",
       "      <th>1919</th>\n",
       "      <th>1920</th>\n",
       "      <th>1921</th>\n",
       "      <th>1922</th>\n",
       "      <th>1923</th>\n",
       "      <th>1924</th>\n",
       "      <th>1925</th>\n",
       "      <th>1926</th>\n",
       "      <th>1927</th>\n",
       "      <th>1928</th>\n",
       "    </tr>\n",
       "  </thead>\n",
       "  <tbody>\n",
       "    <tr>\n",
       "      <th>0</th>\n",
       "      <td>1.414214</td>\n",
       "      <td>2.236068</td>\n",
       "      <td>3.000000</td>\n",
       "      <td>0.000000</td>\n",
       "      <td>2.449490</td>\n",
       "      <td>2.000000</td>\n",
       "      <td>0.000000</td>\n",
       "      <td>1.414214</td>\n",
       "      <td>2.000000</td>\n",
       "      <td>2.236068</td>\n",
       "      <td>...</td>\n",
       "      <td>2.236068</td>\n",
       "      <td>2.000000</td>\n",
       "      <td>0.000000</td>\n",
       "      <td>3.162278</td>\n",
       "      <td>1.000000</td>\n",
       "      <td>0.000000</td>\n",
       "      <td>0.000000</td>\n",
       "      <td>2.449490</td>\n",
       "      <td>1.414214</td>\n",
       "      <td>2.236068</td>\n",
       "    </tr>\n",
       "    <tr>\n",
       "      <th>1</th>\n",
       "      <td>1.732051</td>\n",
       "      <td>2.828427</td>\n",
       "      <td>3.162278</td>\n",
       "      <td>0.000000</td>\n",
       "      <td>2.449490</td>\n",
       "      <td>2.000000</td>\n",
       "      <td>0.000000</td>\n",
       "      <td>1.732051</td>\n",
       "      <td>2.000000</td>\n",
       "      <td>2.828427</td>\n",
       "      <td>...</td>\n",
       "      <td>2.645751</td>\n",
       "      <td>2.645751</td>\n",
       "      <td>0.000000</td>\n",
       "      <td>3.605551</td>\n",
       "      <td>1.414214</td>\n",
       "      <td>1.732051</td>\n",
       "      <td>0.000000</td>\n",
       "      <td>2.449490</td>\n",
       "      <td>1.414214</td>\n",
       "      <td>2.449490</td>\n",
       "    </tr>\n",
       "    <tr>\n",
       "      <th>2</th>\n",
       "      <td>1.732051</td>\n",
       "      <td>3.000000</td>\n",
       "      <td>3.162278</td>\n",
       "      <td>0.000000</td>\n",
       "      <td>3.162278</td>\n",
       "      <td>2.000000</td>\n",
       "      <td>0.000000</td>\n",
       "      <td>1.732051</td>\n",
       "      <td>2.449490</td>\n",
       "      <td>2.828427</td>\n",
       "      <td>...</td>\n",
       "      <td>2.828427</td>\n",
       "      <td>3.316625</td>\n",
       "      <td>0.000000</td>\n",
       "      <td>3.605551</td>\n",
       "      <td>2.236068</td>\n",
       "      <td>2.449490</td>\n",
       "      <td>0.000000</td>\n",
       "      <td>2.645751</td>\n",
       "      <td>1.414214</td>\n",
       "      <td>2.449490</td>\n",
       "    </tr>\n",
       "    <tr>\n",
       "      <th>3</th>\n",
       "      <td>1.732051</td>\n",
       "      <td>3.162278</td>\n",
       "      <td>3.316625</td>\n",
       "      <td>0.000000</td>\n",
       "      <td>3.872983</td>\n",
       "      <td>2.000000</td>\n",
       "      <td>1.414214</td>\n",
       "      <td>1.732051</td>\n",
       "      <td>2.645751</td>\n",
       "      <td>2.828427</td>\n",
       "      <td>...</td>\n",
       "      <td>3.000000</td>\n",
       "      <td>3.605551</td>\n",
       "      <td>0.000000</td>\n",
       "      <td>3.605551</td>\n",
       "      <td>2.449490</td>\n",
       "      <td>2.645751</td>\n",
       "      <td>0.000000</td>\n",
       "      <td>2.645751</td>\n",
       "      <td>1.414214</td>\n",
       "      <td>2.645751</td>\n",
       "    </tr>\n",
       "    <tr>\n",
       "      <th>4</th>\n",
       "      <td>1.732051</td>\n",
       "      <td>3.162278</td>\n",
       "      <td>3.316625</td>\n",
       "      <td>0.000000</td>\n",
       "      <td>4.000000</td>\n",
       "      <td>2.000000</td>\n",
       "      <td>1.414214</td>\n",
       "      <td>2.000000</td>\n",
       "      <td>2.828427</td>\n",
       "      <td>2.828427</td>\n",
       "      <td>...</td>\n",
       "      <td>3.000000</td>\n",
       "      <td>4.000000</td>\n",
       "      <td>1.000000</td>\n",
       "      <td>3.741657</td>\n",
       "      <td>2.449490</td>\n",
       "      <td>2.828427</td>\n",
       "      <td>1.000000</td>\n",
       "      <td>2.645751</td>\n",
       "      <td>1.414214</td>\n",
       "      <td>2.645751</td>\n",
       "    </tr>\n",
       "    <tr>\n",
       "      <th>...</th>\n",
       "      <td>...</td>\n",
       "      <td>...</td>\n",
       "      <td>...</td>\n",
       "      <td>...</td>\n",
       "      <td>...</td>\n",
       "      <td>...</td>\n",
       "      <td>...</td>\n",
       "      <td>...</td>\n",
       "      <td>...</td>\n",
       "      <td>...</td>\n",
       "      <td>...</td>\n",
       "      <td>...</td>\n",
       "      <td>...</td>\n",
       "      <td>...</td>\n",
       "      <td>...</td>\n",
       "      <td>...</td>\n",
       "      <td>...</td>\n",
       "      <td>...</td>\n",
       "      <td>...</td>\n",
       "      <td>...</td>\n",
       "      <td>...</td>\n",
       "    </tr>\n",
       "    <tr>\n",
       "      <th>7707</th>\n",
       "      <td>9.165152</td>\n",
       "      <td>9.110434</td>\n",
       "      <td>8.660254</td>\n",
       "      <td>9.110434</td>\n",
       "      <td>8.602325</td>\n",
       "      <td>9.273619</td>\n",
       "      <td>9.110434</td>\n",
       "      <td>9.165152</td>\n",
       "      <td>9.110434</td>\n",
       "      <td>8.831760</td>\n",
       "      <td>...</td>\n",
       "      <td>8.944272</td>\n",
       "      <td>8.944272</td>\n",
       "      <td>8.660254</td>\n",
       "      <td>8.774964</td>\n",
       "      <td>9.000000</td>\n",
       "      <td>9.055386</td>\n",
       "      <td>8.660254</td>\n",
       "      <td>8.660254</td>\n",
       "      <td>9.110434</td>\n",
       "      <td>9.055386</td>\n",
       "    </tr>\n",
       "    <tr>\n",
       "      <th>7708</th>\n",
       "      <td>9.273619</td>\n",
       "      <td>9.165152</td>\n",
       "      <td>8.717798</td>\n",
       "      <td>9.165152</td>\n",
       "      <td>8.602325</td>\n",
       "      <td>9.273619</td>\n",
       "      <td>9.110434</td>\n",
       "      <td>9.219544</td>\n",
       "      <td>9.110434</td>\n",
       "      <td>8.888194</td>\n",
       "      <td>...</td>\n",
       "      <td>9.000000</td>\n",
       "      <td>9.110434</td>\n",
       "      <td>8.717798</td>\n",
       "      <td>8.774964</td>\n",
       "      <td>9.000000</td>\n",
       "      <td>9.055386</td>\n",
       "      <td>8.717798</td>\n",
       "      <td>8.660254</td>\n",
       "      <td>9.110434</td>\n",
       "      <td>9.055386</td>\n",
       "    </tr>\n",
       "    <tr>\n",
       "      <th>7709</th>\n",
       "      <td>9.380832</td>\n",
       "      <td>9.219544</td>\n",
       "      <td>8.717798</td>\n",
       "      <td>9.219544</td>\n",
       "      <td>8.660254</td>\n",
       "      <td>9.327379</td>\n",
       "      <td>9.327379</td>\n",
       "      <td>9.219544</td>\n",
       "      <td>9.165152</td>\n",
       "      <td>8.944272</td>\n",
       "      <td>...</td>\n",
       "      <td>9.055386</td>\n",
       "      <td>9.110434</td>\n",
       "      <td>8.831760</td>\n",
       "      <td>8.774964</td>\n",
       "      <td>9.055386</td>\n",
       "      <td>9.110434</td>\n",
       "      <td>8.831760</td>\n",
       "      <td>8.660254</td>\n",
       "      <td>9.110434</td>\n",
       "      <td>9.110434</td>\n",
       "    </tr>\n",
       "    <tr>\n",
       "      <th>7710</th>\n",
       "      <td>9.380832</td>\n",
       "      <td>9.273619</td>\n",
       "      <td>8.831760</td>\n",
       "      <td>9.273619</td>\n",
       "      <td>8.831760</td>\n",
       "      <td>9.486833</td>\n",
       "      <td>9.327379</td>\n",
       "      <td>9.327379</td>\n",
       "      <td>9.219544</td>\n",
       "      <td>9.000000</td>\n",
       "      <td>...</td>\n",
       "      <td>9.273619</td>\n",
       "      <td>9.110434</td>\n",
       "      <td>8.944272</td>\n",
       "      <td>8.774964</td>\n",
       "      <td>9.055386</td>\n",
       "      <td>9.165152</td>\n",
       "      <td>8.944272</td>\n",
       "      <td>8.660254</td>\n",
       "      <td>9.219544</td>\n",
       "      <td>9.219544</td>\n",
       "    </tr>\n",
       "    <tr>\n",
       "      <th>7711</th>\n",
       "      <td>9.433981</td>\n",
       "      <td>9.327379</td>\n",
       "      <td>9.055386</td>\n",
       "      <td>9.327379</td>\n",
       "      <td>8.888194</td>\n",
       "      <td>9.486833</td>\n",
       "      <td>9.327379</td>\n",
       "      <td>9.380832</td>\n",
       "      <td>9.273619</td>\n",
       "      <td>9.165152</td>\n",
       "      <td>...</td>\n",
       "      <td>9.273619</td>\n",
       "      <td>9.486833</td>\n",
       "      <td>9.055386</td>\n",
       "      <td>8.831760</td>\n",
       "      <td>9.165152</td>\n",
       "      <td>9.165152</td>\n",
       "      <td>9.055386</td>\n",
       "      <td>8.774964</td>\n",
       "      <td>9.273619</td>\n",
       "      <td>9.219544</td>\n",
       "    </tr>\n",
       "  </tbody>\n",
       "</table>\n",
       "<p>7712 rows × 1929 columns</p>\n",
       "</div>"
      ],
      "text/plain": [
       "          0         1         2         3         4         5         6     \\\n",
       "0     1.414214  2.236068  3.000000  0.000000  2.449490  2.000000  0.000000   \n",
       "1     1.732051  2.828427  3.162278  0.000000  2.449490  2.000000  0.000000   \n",
       "2     1.732051  3.000000  3.162278  0.000000  3.162278  2.000000  0.000000   \n",
       "3     1.732051  3.162278  3.316625  0.000000  3.872983  2.000000  1.414214   \n",
       "4     1.732051  3.162278  3.316625  0.000000  4.000000  2.000000  1.414214   \n",
       "...        ...       ...       ...       ...       ...       ...       ...   \n",
       "7707  9.165152  9.110434  8.660254  9.110434  8.602325  9.273619  9.110434   \n",
       "7708  9.273619  9.165152  8.717798  9.165152  8.602325  9.273619  9.110434   \n",
       "7709  9.380832  9.219544  8.717798  9.219544  8.660254  9.327379  9.327379   \n",
       "7710  9.380832  9.273619  8.831760  9.273619  8.831760  9.486833  9.327379   \n",
       "7711  9.433981  9.327379  9.055386  9.327379  8.888194  9.486833  9.327379   \n",
       "\n",
       "          7         8         9     ...      1919      1920      1921  \\\n",
       "0     1.414214  2.000000  2.236068  ...  2.236068  2.000000  0.000000   \n",
       "1     1.732051  2.000000  2.828427  ...  2.645751  2.645751  0.000000   \n",
       "2     1.732051  2.449490  2.828427  ...  2.828427  3.316625  0.000000   \n",
       "3     1.732051  2.645751  2.828427  ...  3.000000  3.605551  0.000000   \n",
       "4     2.000000  2.828427  2.828427  ...  3.000000  4.000000  1.000000   \n",
       "...        ...       ...       ...  ...       ...       ...       ...   \n",
       "7707  9.165152  9.110434  8.831760  ...  8.944272  8.944272  8.660254   \n",
       "7708  9.219544  9.110434  8.888194  ...  9.000000  9.110434  8.717798   \n",
       "7709  9.219544  9.165152  8.944272  ...  9.055386  9.110434  8.831760   \n",
       "7710  9.327379  9.219544  9.000000  ...  9.273619  9.110434  8.944272   \n",
       "7711  9.380832  9.273619  9.165152  ...  9.273619  9.486833  9.055386   \n",
       "\n",
       "          1922      1923      1924      1925      1926      1927      1928  \n",
       "0     3.162278  1.000000  0.000000  0.000000  2.449490  1.414214  2.236068  \n",
       "1     3.605551  1.414214  1.732051  0.000000  2.449490  1.414214  2.449490  \n",
       "2     3.605551  2.236068  2.449490  0.000000  2.645751  1.414214  2.449490  \n",
       "3     3.605551  2.449490  2.645751  0.000000  2.645751  1.414214  2.645751  \n",
       "4     3.741657  2.449490  2.828427  1.000000  2.645751  1.414214  2.645751  \n",
       "...        ...       ...       ...       ...       ...       ...       ...  \n",
       "7707  8.774964  9.000000  9.055386  8.660254  8.660254  9.110434  9.055386  \n",
       "7708  8.774964  9.000000  9.055386  8.717798  8.660254  9.110434  9.055386  \n",
       "7709  8.774964  9.055386  9.110434  8.831760  8.660254  9.110434  9.110434  \n",
       "7710  8.774964  9.055386  9.165152  8.944272  8.660254  9.219544  9.219544  \n",
       "7711  8.831760  9.165152  9.165152  9.055386  8.774964  9.273619  9.219544  \n",
       "\n",
       "[7712 rows x 1929 columns]"
      ]
     },
     "execution_count": 214,
     "metadata": {},
     "output_type": "execute_result"
    }
   ],
   "source": [
    "x_ts_AD=pd.DataFrame(neighbors_k_ts)\n",
    "x_ts_AD"
   ]
  },
  {
   "cell_type": "code",
   "execution_count": 215,
   "id": "5568b4e4",
   "metadata": {},
   "outputs": [
    {
     "name": "stdout",
     "output_type": "stream",
     "text": [
      "[1.414 2.236 3.    ... 2.449 1.414 2.236]\n"
     ]
    }
   ],
   "source": [
    "similarity_ts= neighbors_k_ts\n",
    "cpd_AD=similarity_ts[0,:]\n",
    "cpd_value = np.round(cpd_AD, 3)\n",
    "print(cpd_value)"
   ]
  },
  {
   "cell_type": "code",
   "execution_count": 216,
   "id": "f707437e",
   "metadata": {},
   "outputs": [
    {
     "name": "stdout",
     "output_type": "stream",
     "text": [
      "[ True  True False ...  True  True  True]\n"
     ]
    }
   ],
   "source": [
    "cpd_AD = np.where(cpd_value <= model_AD_limit, True, False)\n",
    "print(cpd_AD)"
   ]
  },
  {
   "cell_type": "code",
   "execution_count": 217,
   "id": "06782691",
   "metadata": {},
   "outputs": [
    {
     "name": "stdout",
     "output_type": "stream",
     "text": [
      "Coverage =  0.69\n"
     ]
    }
   ],
   "source": [
    "print(\"Coverage = \", round(sum(cpd_AD) / len(cpd_AD),2))"
   ]
  },
  {
   "cell_type": "code",
   "execution_count": 218,
   "id": "18847b28",
   "metadata": {},
   "outputs": [
    {
     "name": "stdout",
     "output_type": "stream",
     "text": [
      "Indices of substances included in AD =  [   0    1    3 ... 1926 1927 1928]\n"
     ]
    }
   ],
   "source": [
    "print(\"Indices of substances included in AD = \", np.where(cpd_AD != 0)[0])"
   ]
  },
  {
   "cell_type": "code",
   "execution_count": 219,
   "id": "d2af845d",
   "metadata": {},
   "outputs": [],
   "source": [
    "out_Ad=list(np.where(cpd_AD == 0)[0])"
   ]
  },
  {
   "cell_type": "markdown",
   "id": "730487d0",
   "metadata": {},
   "source": [
    "## Prediction only for molecules included in  AD"
   ]
  },
  {
   "cell_type": "code",
   "execution_count": 220,
   "id": "0460f76c",
   "metadata": {},
   "outputs": [],
   "source": [
    "y_pred_rf_ad=list(y_pred_rf)"
   ]
  },
  {
   "cell_type": "code",
   "execution_count": 221,
   "id": "7c107529",
   "metadata": {},
   "outputs": [],
   "source": [
    "y_pred_rf_ad[:] = [x for i,x in enumerate(y_pred_rf_ad) if i not in out_Ad]"
   ]
  },
  {
   "cell_type": "code",
   "execution_count": 222,
   "id": "1143da10",
   "metadata": {},
   "outputs": [
    {
     "data": {
      "text/plain": [
       "1332"
      ]
     },
     "execution_count": 222,
     "metadata": {},
     "output_type": "execute_result"
    }
   ],
   "source": [
    "len(y_pred_rf_ad)"
   ]
  },
  {
   "cell_type": "code",
   "execution_count": 223,
   "id": "044effeb",
   "metadata": {},
   "outputs": [],
   "source": [
    "y_ts_ad=list(y_ts)"
   ]
  },
  {
   "cell_type": "code",
   "execution_count": 224,
   "id": "f6d5c289",
   "metadata": {},
   "outputs": [],
   "source": [
    "y_ts_ad[:] = [x for i,x in enumerate(y_ts_ad) if i not in out_Ad]"
   ]
  },
  {
   "cell_type": "code",
   "execution_count": 225,
   "id": "a5995c33",
   "metadata": {},
   "outputs": [
    {
     "data": {
      "text/plain": [
       "1332"
      ]
     },
     "execution_count": 225,
     "metadata": {},
     "output_type": "execute_result"
    }
   ],
   "source": [
    "len(y_ts_ad)"
   ]
  },
  {
   "cell_type": "code",
   "execution_count": 226,
   "id": "900d0d29",
   "metadata": {},
   "outputs": [
    {
     "data": {
      "text/plain": [
       "0.65"
      ]
     },
     "execution_count": 226,
     "metadata": {},
     "output_type": "execute_result"
    }
   ],
   "source": [
    "Q2_TS = round(r2_score(y_ts_ad, y_pred_rf_ad), 2)\n",
    "Q2_TS"
   ]
  },
  {
   "cell_type": "code",
   "execution_count": 227,
   "id": "a5733d19",
   "metadata": {},
   "outputs": [
    {
     "data": {
      "text/plain": [
       "0.61"
      ]
     },
     "execution_count": 227,
     "metadata": {},
     "output_type": "execute_result"
    }
   ],
   "source": [
    "RMSE_TS=round(np.sqrt(mean_absolute_error(y_ts_ad, y_pred_rf_ad)), 2)\n",
    "RMSE_TS"
   ]
  },
  {
   "cell_type": "code",
   "execution_count": null,
   "id": "e45cf53b",
   "metadata": {},
   "outputs": [],
   "source": []
  },
  {
   "cell_type": "markdown",
   "id": "9874bf5b",
   "metadata": {},
   "source": [
    "# MACCS FP_SVM model building and validation"
   ]
  },
  {
   "cell_type": "code",
   "execution_count": 228,
   "id": "44530b70",
   "metadata": {},
   "outputs": [],
   "source": [
    "param_grid = {\"C\": [10 ** i for i in range(0, 5)],\n",
    "              \"gamma\": [10 ** i for i in range(-6, 0)]}"
   ]
  },
  {
   "cell_type": "code",
   "execution_count": 229,
   "id": "d29225f3",
   "metadata": {},
   "outputs": [],
   "source": [
    "seed = 42\n",
    "cv=KFold(n_splits=5, random_state=seed, shuffle=True)"
   ]
  },
  {
   "cell_type": "code",
   "execution_count": 230,
   "id": "75f2694e",
   "metadata": {},
   "outputs": [],
   "source": [
    "svm = GridSearchCV(SVR(C=1.0, epsilon=0.2), param_grid, n_jobs=2, cv=cv, verbose=1)"
   ]
  },
  {
   "cell_type": "code",
   "execution_count": 231,
   "id": "5d1b0ea7",
   "metadata": {},
   "outputs": [
    {
     "name": "stdout",
     "output_type": "stream",
     "text": [
      "Fitting 5 folds for each of 30 candidates, totalling 150 fits\n"
     ]
    },
    {
     "data": {
      "text/plain": [
       "GridSearchCV(cv=KFold(n_splits=5, random_state=42, shuffle=True),\n",
       "             estimator=SVR(epsilon=0.2), n_jobs=2,\n",
       "             param_grid={'C': [1, 10, 100, 1000, 10000],\n",
       "                         'gamma': [1e-06, 1e-05, 0.0001, 0.001, 0.01, 0.1]},\n",
       "             verbose=1)"
      ]
     },
     "execution_count": 231,
     "metadata": {},
     "output_type": "execute_result"
    }
   ],
   "source": [
    "svm.fit(x_tr, y_tr)"
   ]
  },
  {
   "cell_type": "code",
   "execution_count": 232,
   "id": "24b2ef53",
   "metadata": {},
   "outputs": [],
   "source": [
    "svm.best_params_\n",
    "best_svm = svm.best_estimator_"
   ]
  },
  {
   "cell_type": "code",
   "execution_count": 233,
   "id": "c7809dbc",
   "metadata": {},
   "outputs": [],
   "source": [
    "y_pred_CV_svm = cross_val_predict(best_svm, x_tr, y_tr, cv=cv)"
   ]
  },
  {
   "cell_type": "code",
   "execution_count": 234,
   "id": "42cf215f",
   "metadata": {},
   "outputs": [
    {
     "data": {
      "text/plain": [
       "0.56"
      ]
     },
     "execution_count": 234,
     "metadata": {},
     "output_type": "execute_result"
    }
   ],
   "source": [
    "Q2_CV = round(r2_score(y_tr, y_pred_CV_svm), 2)\n",
    "Q2_CV"
   ]
  },
  {
   "cell_type": "code",
   "execution_count": 235,
   "id": "e9712445",
   "metadata": {},
   "outputs": [
    {
     "data": {
      "text/plain": [
       "0.65"
      ]
     },
     "execution_count": 235,
     "metadata": {},
     "output_type": "execute_result"
    }
   ],
   "source": [
    "RMSE_CV=round(np.sqrt(mean_absolute_error(y_tr, y_pred_CV_svm)), 2)\n",
    "RMSE_CV"
   ]
  },
  {
   "cell_type": "markdown",
   "id": "44b11930",
   "metadata": {},
   "source": [
    "## Prediction for test set's molecules"
   ]
  },
  {
   "cell_type": "code",
   "execution_count": 236,
   "id": "ba5facd8",
   "metadata": {},
   "outputs": [],
   "source": [
    "x_ts = np.array(x_ts, dtype=np.float32)\n",
    "y_ts = np.array(y_ts, dtype=np.float32)"
   ]
  },
  {
   "cell_type": "code",
   "execution_count": 237,
   "id": "81370684",
   "metadata": {},
   "outputs": [],
   "source": [
    "y_pred_svm = best_svm.predict(x_ts)"
   ]
  },
  {
   "cell_type": "code",
   "execution_count": 238,
   "id": "9a5ab55f",
   "metadata": {},
   "outputs": [
    {
     "data": {
      "text/plain": [
       "0.58"
      ]
     },
     "execution_count": 238,
     "metadata": {},
     "output_type": "execute_result"
    }
   ],
   "source": [
    "Q2_TS = round(r2_score(y_ts, y_pred_svm), 2)\n",
    "Q2_TS"
   ]
  },
  {
   "cell_type": "code",
   "execution_count": 239,
   "id": "4cf8e859",
   "metadata": {},
   "outputs": [
    {
     "data": {
      "text/plain": [
       "0.64"
      ]
     },
     "execution_count": 239,
     "metadata": {},
     "output_type": "execute_result"
    }
   ],
   "source": [
    "RMSE_TS=round(np.sqrt(mean_absolute_error(y_ts, y_pred_svm)), 2)\n",
    "RMSE_TS"
   ]
  },
  {
   "cell_type": "markdown",
   "id": "c09a190d",
   "metadata": {},
   "source": [
    "save the model to disk"
   ]
  },
  {
   "cell_type": "code",
   "execution_count": 240,
   "id": "130e5c02",
   "metadata": {},
   "outputs": [],
   "source": [
    "pickle.dump(best_svm, open('Models/MACCS/LD50_rat_oral_SVM_MACCS.pkl', 'wb'))"
   ]
  },
  {
   "cell_type": "markdown",
   "id": "db975997",
   "metadata": {},
   "source": [
    "load the model from disk"
   ]
  },
  {
   "cell_type": "code",
   "execution_count": 241,
   "id": "3c789932",
   "metadata": {},
   "outputs": [],
   "source": [
    "best_svm = pickle.load(open('Models/MACCS/LD50_rat_oral_SVM_MACCS.pkl', 'rb'))"
   ]
  },
  {
   "cell_type": "markdown",
   "id": "3d548854",
   "metadata": {},
   "source": [
    "## Y-randomization SVM model"
   ]
  },
  {
   "cell_type": "code",
   "execution_count": 242,
   "id": "a7aa5a58",
   "metadata": {},
   "outputs": [
    {
     "name": "stderr",
     "output_type": "stream",
     "text": [
      "[Parallel(n_jobs=-1)]: Using backend LokyBackend with 4 concurrent workers.\n",
      "[Parallel(n_jobs=-1)]: Done  42 tasks      | elapsed: 13.2min\n"
     ]
    },
    {
     "name": "stdout",
     "output_type": "stream",
     "text": [
      "True score =  0.56 \n",
      "Y-randomization =  -0.1 \n",
      "p-value =  0.0196\n"
     ]
    },
    {
     "name": "stderr",
     "output_type": "stream",
     "text": [
      "[Parallel(n_jobs=-1)]: Done  50 out of  50 | elapsed: 15.2min finished\n"
     ]
    }
   ],
   "source": [
    "permutations = 50\n",
    "score, permutation_scores, pvalue = permutation_test_score(best_svm, x_tr, y_tr,\n",
    "                                                           cv=cv, scoring='r2',\n",
    "                                                           n_permutations=permutations,\n",
    "                                                           n_jobs=-1,\n",
    "                                                           verbose=1,\n",
    "                                                           random_state=24)\n",
    "print('True score = ', score.round(2),\n",
    "      '\\nY-randomization = ', np.mean(permutation_scores).round(2),\n",
    "      '\\np-value = ', pvalue.round(4))"
   ]
  },
  {
   "cell_type": "markdown",
   "id": "d1f8da2a",
   "metadata": {},
   "source": [
    "## Estimating applicability domain. Method - Euclidian distances, K=1"
   ]
  },
  {
   "cell_type": "code",
   "execution_count": 243,
   "id": "50a134d1",
   "metadata": {},
   "outputs": [],
   "source": [
    "neighbors_k= pairwise_distances(x_tr, n_jobs=-1)\n",
    "neighbors_k.sort(0)"
   ]
  },
  {
   "cell_type": "code",
   "execution_count": 244,
   "id": "fb147f60",
   "metadata": {},
   "outputs": [
    {
     "data": {
      "text/html": [
       "<div>\n",
       "<style scoped>\n",
       "    .dataframe tbody tr th:only-of-type {\n",
       "        vertical-align: middle;\n",
       "    }\n",
       "\n",
       "    .dataframe tbody tr th {\n",
       "        vertical-align: top;\n",
       "    }\n",
       "\n",
       "    .dataframe thead th {\n",
       "        text-align: right;\n",
       "    }\n",
       "</style>\n",
       "<table border=\"1\" class=\"dataframe\">\n",
       "  <thead>\n",
       "    <tr style=\"text-align: right;\">\n",
       "      <th></th>\n",
       "      <th>0</th>\n",
       "      <th>1</th>\n",
       "      <th>2</th>\n",
       "      <th>3</th>\n",
       "      <th>4</th>\n",
       "      <th>5</th>\n",
       "      <th>6</th>\n",
       "      <th>7</th>\n",
       "      <th>8</th>\n",
       "      <th>9</th>\n",
       "      <th>...</th>\n",
       "      <th>7702</th>\n",
       "      <th>7703</th>\n",
       "      <th>7704</th>\n",
       "      <th>7705</th>\n",
       "      <th>7706</th>\n",
       "      <th>7707</th>\n",
       "      <th>7708</th>\n",
       "      <th>7709</th>\n",
       "      <th>7710</th>\n",
       "      <th>7711</th>\n",
       "    </tr>\n",
       "  </thead>\n",
       "  <tbody>\n",
       "    <tr>\n",
       "      <th>0</th>\n",
       "      <td>0.000000</td>\n",
       "      <td>0.000000</td>\n",
       "      <td>0.000000</td>\n",
       "      <td>0.000000</td>\n",
       "      <td>0.000000</td>\n",
       "      <td>0.000000</td>\n",
       "      <td>0.000000</td>\n",
       "      <td>0.000000</td>\n",
       "      <td>0.000000</td>\n",
       "      <td>0.000000</td>\n",
       "      <td>...</td>\n",
       "      <td>0.000000</td>\n",
       "      <td>0.000000</td>\n",
       "      <td>0.000000</td>\n",
       "      <td>0.000000</td>\n",
       "      <td>0.000000</td>\n",
       "      <td>0.000000</td>\n",
       "      <td>0.000000</td>\n",
       "      <td>0.000000</td>\n",
       "      <td>0.000000</td>\n",
       "      <td>0.000000</td>\n",
       "    </tr>\n",
       "    <tr>\n",
       "      <th>1</th>\n",
       "      <td>1.000000</td>\n",
       "      <td>4.000000</td>\n",
       "      <td>1.414214</td>\n",
       "      <td>2.236068</td>\n",
       "      <td>2.000000</td>\n",
       "      <td>2.645751</td>\n",
       "      <td>3.000000</td>\n",
       "      <td>2.645751</td>\n",
       "      <td>0.000000</td>\n",
       "      <td>0.000000</td>\n",
       "      <td>...</td>\n",
       "      <td>0.000000</td>\n",
       "      <td>1.000000</td>\n",
       "      <td>1.732051</td>\n",
       "      <td>3.162278</td>\n",
       "      <td>2.645751</td>\n",
       "      <td>2.000000</td>\n",
       "      <td>3.162278</td>\n",
       "      <td>2.449490</td>\n",
       "      <td>0.000000</td>\n",
       "      <td>3.000000</td>\n",
       "    </tr>\n",
       "    <tr>\n",
       "      <th>2</th>\n",
       "      <td>1.732051</td>\n",
       "      <td>4.242640</td>\n",
       "      <td>1.414214</td>\n",
       "      <td>2.236068</td>\n",
       "      <td>2.000000</td>\n",
       "      <td>2.828427</td>\n",
       "      <td>3.162278</td>\n",
       "      <td>2.828427</td>\n",
       "      <td>0.000000</td>\n",
       "      <td>0.000000</td>\n",
       "      <td>...</td>\n",
       "      <td>0.000000</td>\n",
       "      <td>2.449490</td>\n",
       "      <td>2.236068</td>\n",
       "      <td>3.162278</td>\n",
       "      <td>3.741657</td>\n",
       "      <td>2.449490</td>\n",
       "      <td>3.162278</td>\n",
       "      <td>2.449490</td>\n",
       "      <td>0.000000</td>\n",
       "      <td>3.162278</td>\n",
       "    </tr>\n",
       "    <tr>\n",
       "      <th>3</th>\n",
       "      <td>2.449490</td>\n",
       "      <td>4.358899</td>\n",
       "      <td>1.732051</td>\n",
       "      <td>2.449490</td>\n",
       "      <td>2.449490</td>\n",
       "      <td>3.162278</td>\n",
       "      <td>3.162278</td>\n",
       "      <td>3.000000</td>\n",
       "      <td>0.000000</td>\n",
       "      <td>0.000000</td>\n",
       "      <td>...</td>\n",
       "      <td>0.000000</td>\n",
       "      <td>3.000000</td>\n",
       "      <td>4.242640</td>\n",
       "      <td>3.464102</td>\n",
       "      <td>5.000000</td>\n",
       "      <td>2.449490</td>\n",
       "      <td>3.316625</td>\n",
       "      <td>3.000000</td>\n",
       "      <td>0.000000</td>\n",
       "      <td>3.162278</td>\n",
       "    </tr>\n",
       "    <tr>\n",
       "      <th>4</th>\n",
       "      <td>2.645751</td>\n",
       "      <td>4.690416</td>\n",
       "      <td>1.732051</td>\n",
       "      <td>2.645751</td>\n",
       "      <td>2.449490</td>\n",
       "      <td>3.162278</td>\n",
       "      <td>3.162278</td>\n",
       "      <td>3.000000</td>\n",
       "      <td>0.000000</td>\n",
       "      <td>0.000000</td>\n",
       "      <td>...</td>\n",
       "      <td>0.000000</td>\n",
       "      <td>3.162278</td>\n",
       "      <td>4.358899</td>\n",
       "      <td>3.464102</td>\n",
       "      <td>5.000000</td>\n",
       "      <td>2.449490</td>\n",
       "      <td>3.316625</td>\n",
       "      <td>3.464102</td>\n",
       "      <td>0.000000</td>\n",
       "      <td>3.316625</td>\n",
       "    </tr>\n",
       "    <tr>\n",
       "      <th>...</th>\n",
       "      <td>...</td>\n",
       "      <td>...</td>\n",
       "      <td>...</td>\n",
       "      <td>...</td>\n",
       "      <td>...</td>\n",
       "      <td>...</td>\n",
       "      <td>...</td>\n",
       "      <td>...</td>\n",
       "      <td>...</td>\n",
       "      <td>...</td>\n",
       "      <td>...</td>\n",
       "      <td>...</td>\n",
       "      <td>...</td>\n",
       "      <td>...</td>\n",
       "      <td>...</td>\n",
       "      <td>...</td>\n",
       "      <td>...</td>\n",
       "      <td>...</td>\n",
       "      <td>...</td>\n",
       "      <td>...</td>\n",
       "      <td>...</td>\n",
       "    </tr>\n",
       "    <tr>\n",
       "      <th>7707</th>\n",
       "      <td>8.246211</td>\n",
       "      <td>8.602325</td>\n",
       "      <td>9.219544</td>\n",
       "      <td>8.944272</td>\n",
       "      <td>9.165152</td>\n",
       "      <td>8.888194</td>\n",
       "      <td>9.000000</td>\n",
       "      <td>9.380832</td>\n",
       "      <td>9.110434</td>\n",
       "      <td>9.327379</td>\n",
       "      <td>...</td>\n",
       "      <td>9.000000</td>\n",
       "      <td>8.774964</td>\n",
       "      <td>8.544003</td>\n",
       "      <td>8.774964</td>\n",
       "      <td>8.306623</td>\n",
       "      <td>9.000000</td>\n",
       "      <td>8.774964</td>\n",
       "      <td>9.110434</td>\n",
       "      <td>9.000000</td>\n",
       "      <td>8.544003</td>\n",
       "    </tr>\n",
       "    <tr>\n",
       "      <th>7708</th>\n",
       "      <td>8.246211</td>\n",
       "      <td>8.602325</td>\n",
       "      <td>9.273619</td>\n",
       "      <td>9.000000</td>\n",
       "      <td>9.219544</td>\n",
       "      <td>8.888194</td>\n",
       "      <td>9.000000</td>\n",
       "      <td>9.380832</td>\n",
       "      <td>9.165152</td>\n",
       "      <td>9.327379</td>\n",
       "      <td>...</td>\n",
       "      <td>9.055386</td>\n",
       "      <td>8.831760</td>\n",
       "      <td>8.544003</td>\n",
       "      <td>8.774964</td>\n",
       "      <td>8.366600</td>\n",
       "      <td>9.000000</td>\n",
       "      <td>8.831760</td>\n",
       "      <td>9.110434</td>\n",
       "      <td>9.055386</td>\n",
       "      <td>8.544003</td>\n",
       "    </tr>\n",
       "    <tr>\n",
       "      <th>7709</th>\n",
       "      <td>8.306623</td>\n",
       "      <td>8.602325</td>\n",
       "      <td>9.327379</td>\n",
       "      <td>9.000000</td>\n",
       "      <td>9.219544</td>\n",
       "      <td>8.944272</td>\n",
       "      <td>9.000000</td>\n",
       "      <td>9.486833</td>\n",
       "      <td>9.219544</td>\n",
       "      <td>9.539392</td>\n",
       "      <td>...</td>\n",
       "      <td>9.110434</td>\n",
       "      <td>8.831760</td>\n",
       "      <td>8.602325</td>\n",
       "      <td>8.774964</td>\n",
       "      <td>8.426149</td>\n",
       "      <td>9.000000</td>\n",
       "      <td>8.831760</td>\n",
       "      <td>9.219544</td>\n",
       "      <td>9.110434</td>\n",
       "      <td>8.602325</td>\n",
       "    </tr>\n",
       "    <tr>\n",
       "      <th>7710</th>\n",
       "      <td>8.485281</td>\n",
       "      <td>8.717798</td>\n",
       "      <td>9.380832</td>\n",
       "      <td>9.000000</td>\n",
       "      <td>9.219544</td>\n",
       "      <td>8.944272</td>\n",
       "      <td>9.055386</td>\n",
       "      <td>9.539392</td>\n",
       "      <td>9.273619</td>\n",
       "      <td>9.539392</td>\n",
       "      <td>...</td>\n",
       "      <td>9.219544</td>\n",
       "      <td>8.888194</td>\n",
       "      <td>8.602325</td>\n",
       "      <td>8.888194</td>\n",
       "      <td>8.426149</td>\n",
       "      <td>9.000000</td>\n",
       "      <td>8.944272</td>\n",
       "      <td>9.273619</td>\n",
       "      <td>9.219544</td>\n",
       "      <td>8.774964</td>\n",
       "    </tr>\n",
       "    <tr>\n",
       "      <th>7711</th>\n",
       "      <td>8.544003</td>\n",
       "      <td>8.717798</td>\n",
       "      <td>9.433981</td>\n",
       "      <td>9.110434</td>\n",
       "      <td>9.327379</td>\n",
       "      <td>9.055386</td>\n",
       "      <td>9.055386</td>\n",
       "      <td>9.591663</td>\n",
       "      <td>9.327379</td>\n",
       "      <td>9.643651</td>\n",
       "      <td>...</td>\n",
       "      <td>9.273619</td>\n",
       "      <td>8.944272</td>\n",
       "      <td>8.602325</td>\n",
       "      <td>8.888194</td>\n",
       "      <td>8.485281</td>\n",
       "      <td>9.055386</td>\n",
       "      <td>8.944272</td>\n",
       "      <td>9.273619</td>\n",
       "      <td>9.273619</td>\n",
       "      <td>8.774964</td>\n",
       "    </tr>\n",
       "  </tbody>\n",
       "</table>\n",
       "<p>7712 rows × 7712 columns</p>\n",
       "</div>"
      ],
      "text/plain": [
       "          0         1         2         3         4         5         6     \\\n",
       "0     0.000000  0.000000  0.000000  0.000000  0.000000  0.000000  0.000000   \n",
       "1     1.000000  4.000000  1.414214  2.236068  2.000000  2.645751  3.000000   \n",
       "2     1.732051  4.242640  1.414214  2.236068  2.000000  2.828427  3.162278   \n",
       "3     2.449490  4.358899  1.732051  2.449490  2.449490  3.162278  3.162278   \n",
       "4     2.645751  4.690416  1.732051  2.645751  2.449490  3.162278  3.162278   \n",
       "...        ...       ...       ...       ...       ...       ...       ...   \n",
       "7707  8.246211  8.602325  9.219544  8.944272  9.165152  8.888194  9.000000   \n",
       "7708  8.246211  8.602325  9.273619  9.000000  9.219544  8.888194  9.000000   \n",
       "7709  8.306623  8.602325  9.327379  9.000000  9.219544  8.944272  9.000000   \n",
       "7710  8.485281  8.717798  9.380832  9.000000  9.219544  8.944272  9.055386   \n",
       "7711  8.544003  8.717798  9.433981  9.110434  9.327379  9.055386  9.055386   \n",
       "\n",
       "          7         8         9     ...      7702      7703      7704  \\\n",
       "0     0.000000  0.000000  0.000000  ...  0.000000  0.000000  0.000000   \n",
       "1     2.645751  0.000000  0.000000  ...  0.000000  1.000000  1.732051   \n",
       "2     2.828427  0.000000  0.000000  ...  0.000000  2.449490  2.236068   \n",
       "3     3.000000  0.000000  0.000000  ...  0.000000  3.000000  4.242640   \n",
       "4     3.000000  0.000000  0.000000  ...  0.000000  3.162278  4.358899   \n",
       "...        ...       ...       ...  ...       ...       ...       ...   \n",
       "7707  9.380832  9.110434  9.327379  ...  9.000000  8.774964  8.544003   \n",
       "7708  9.380832  9.165152  9.327379  ...  9.055386  8.831760  8.544003   \n",
       "7709  9.486833  9.219544  9.539392  ...  9.110434  8.831760  8.602325   \n",
       "7710  9.539392  9.273619  9.539392  ...  9.219544  8.888194  8.602325   \n",
       "7711  9.591663  9.327379  9.643651  ...  9.273619  8.944272  8.602325   \n",
       "\n",
       "          7705      7706      7707      7708      7709      7710      7711  \n",
       "0     0.000000  0.000000  0.000000  0.000000  0.000000  0.000000  0.000000  \n",
       "1     3.162278  2.645751  2.000000  3.162278  2.449490  0.000000  3.000000  \n",
       "2     3.162278  3.741657  2.449490  3.162278  2.449490  0.000000  3.162278  \n",
       "3     3.464102  5.000000  2.449490  3.316625  3.000000  0.000000  3.162278  \n",
       "4     3.464102  5.000000  2.449490  3.316625  3.464102  0.000000  3.316625  \n",
       "...        ...       ...       ...       ...       ...       ...       ...  \n",
       "7707  8.774964  8.306623  9.000000  8.774964  9.110434  9.000000  8.544003  \n",
       "7708  8.774964  8.366600  9.000000  8.831760  9.110434  9.055386  8.544003  \n",
       "7709  8.774964  8.426149  9.000000  8.831760  9.219544  9.110434  8.602325  \n",
       "7710  8.888194  8.426149  9.000000  8.944272  9.273619  9.219544  8.774964  \n",
       "7711  8.888194  8.485281  9.055386  8.944272  9.273619  9.273619  8.774964  \n",
       "\n",
       "[7712 rows x 7712 columns]"
      ]
     },
     "execution_count": 244,
     "metadata": {},
     "output_type": "execute_result"
    }
   ],
   "source": [
    "df_tr=pd.DataFrame(neighbors_k)\n",
    "df_tr"
   ]
  },
  {
   "cell_type": "code",
   "execution_count": 245,
   "id": "07abe5fd",
   "metadata": {},
   "outputs": [],
   "source": [
    "similarity= neighbors_k"
   ]
  },
  {
   "cell_type": "code",
   "execution_count": 246,
   "id": "d35c8bea",
   "metadata": {},
   "outputs": [],
   "source": [
    "Dmean=np.mean(similarity[1,:])"
   ]
  },
  {
   "cell_type": "code",
   "execution_count": 247,
   "id": "4d3bc2c6",
   "metadata": {},
   "outputs": [
    {
     "data": {
      "text/plain": [
       "2.03"
      ]
     },
     "execution_count": 247,
     "metadata": {},
     "output_type": "execute_result"
    }
   ],
   "source": [
    "round(Dmean, 2)"
   ]
  },
  {
   "cell_type": "code",
   "execution_count": 248,
   "id": "747c19fe",
   "metadata": {},
   "outputs": [],
   "source": [
    "std=np.std(similarity[1,:])"
   ]
  },
  {
   "cell_type": "code",
   "execution_count": 249,
   "id": "4edd0966",
   "metadata": {},
   "outputs": [
    {
     "data": {
      "text/plain": [
       "1.11"
      ]
     },
     "execution_count": 249,
     "metadata": {},
     "output_type": "execute_result"
    }
   ],
   "source": [
    "round(std, 2)"
   ]
  },
  {
   "cell_type": "code",
   "execution_count": 250,
   "id": "49e08b42",
   "metadata": {},
   "outputs": [
    {
     "name": "stdout",
     "output_type": "stream",
     "text": [
      "2.59\n"
     ]
    }
   ],
   "source": [
    "model_AD_limit=Dmean+std*0.5\n",
    "print(np.round(model_AD_limit, 2))"
   ]
  },
  {
   "cell_type": "code",
   "execution_count": 251,
   "id": "fac8fcda",
   "metadata": {},
   "outputs": [],
   "source": [
    "neighbors_k_ts= pairwise_distances(x_tr,Y=x_ts, n_jobs=-1)\n",
    "neighbors_k_ts.sort(0)"
   ]
  },
  {
   "cell_type": "code",
   "execution_count": 252,
   "id": "b8f55612",
   "metadata": {},
   "outputs": [
    {
     "data": {
      "text/html": [
       "<div>\n",
       "<style scoped>\n",
       "    .dataframe tbody tr th:only-of-type {\n",
       "        vertical-align: middle;\n",
       "    }\n",
       "\n",
       "    .dataframe tbody tr th {\n",
       "        vertical-align: top;\n",
       "    }\n",
       "\n",
       "    .dataframe thead th {\n",
       "        text-align: right;\n",
       "    }\n",
       "</style>\n",
       "<table border=\"1\" class=\"dataframe\">\n",
       "  <thead>\n",
       "    <tr style=\"text-align: right;\">\n",
       "      <th></th>\n",
       "      <th>0</th>\n",
       "      <th>1</th>\n",
       "      <th>2</th>\n",
       "      <th>3</th>\n",
       "      <th>4</th>\n",
       "      <th>5</th>\n",
       "      <th>6</th>\n",
       "      <th>7</th>\n",
       "      <th>8</th>\n",
       "      <th>9</th>\n",
       "      <th>...</th>\n",
       "      <th>1919</th>\n",
       "      <th>1920</th>\n",
       "      <th>1921</th>\n",
       "      <th>1922</th>\n",
       "      <th>1923</th>\n",
       "      <th>1924</th>\n",
       "      <th>1925</th>\n",
       "      <th>1926</th>\n",
       "      <th>1927</th>\n",
       "      <th>1928</th>\n",
       "    </tr>\n",
       "  </thead>\n",
       "  <tbody>\n",
       "    <tr>\n",
       "      <th>0</th>\n",
       "      <td>1.414214</td>\n",
       "      <td>2.236068</td>\n",
       "      <td>3.000000</td>\n",
       "      <td>0.000000</td>\n",
       "      <td>2.449490</td>\n",
       "      <td>2.000000</td>\n",
       "      <td>0.000000</td>\n",
       "      <td>1.414214</td>\n",
       "      <td>2.000000</td>\n",
       "      <td>2.236068</td>\n",
       "      <td>...</td>\n",
       "      <td>2.236068</td>\n",
       "      <td>2.000000</td>\n",
       "      <td>0.000000</td>\n",
       "      <td>3.162278</td>\n",
       "      <td>1.000000</td>\n",
       "      <td>0.000000</td>\n",
       "      <td>0.000000</td>\n",
       "      <td>2.449490</td>\n",
       "      <td>1.414214</td>\n",
       "      <td>2.236068</td>\n",
       "    </tr>\n",
       "    <tr>\n",
       "      <th>1</th>\n",
       "      <td>1.732051</td>\n",
       "      <td>2.828427</td>\n",
       "      <td>3.162278</td>\n",
       "      <td>0.000000</td>\n",
       "      <td>2.449490</td>\n",
       "      <td>2.000000</td>\n",
       "      <td>0.000000</td>\n",
       "      <td>1.732051</td>\n",
       "      <td>2.000000</td>\n",
       "      <td>2.828427</td>\n",
       "      <td>...</td>\n",
       "      <td>2.645751</td>\n",
       "      <td>2.645751</td>\n",
       "      <td>0.000000</td>\n",
       "      <td>3.605551</td>\n",
       "      <td>1.414214</td>\n",
       "      <td>1.732051</td>\n",
       "      <td>0.000000</td>\n",
       "      <td>2.449490</td>\n",
       "      <td>1.414214</td>\n",
       "      <td>2.449490</td>\n",
       "    </tr>\n",
       "    <tr>\n",
       "      <th>2</th>\n",
       "      <td>1.732051</td>\n",
       "      <td>3.000000</td>\n",
       "      <td>3.162278</td>\n",
       "      <td>0.000000</td>\n",
       "      <td>3.162278</td>\n",
       "      <td>2.000000</td>\n",
       "      <td>0.000000</td>\n",
       "      <td>1.732051</td>\n",
       "      <td>2.449490</td>\n",
       "      <td>2.828427</td>\n",
       "      <td>...</td>\n",
       "      <td>2.828427</td>\n",
       "      <td>3.316625</td>\n",
       "      <td>0.000000</td>\n",
       "      <td>3.605551</td>\n",
       "      <td>2.236068</td>\n",
       "      <td>2.449490</td>\n",
       "      <td>0.000000</td>\n",
       "      <td>2.645751</td>\n",
       "      <td>1.414214</td>\n",
       "      <td>2.449490</td>\n",
       "    </tr>\n",
       "    <tr>\n",
       "      <th>3</th>\n",
       "      <td>1.732051</td>\n",
       "      <td>3.162278</td>\n",
       "      <td>3.316625</td>\n",
       "      <td>0.000000</td>\n",
       "      <td>3.872983</td>\n",
       "      <td>2.000000</td>\n",
       "      <td>1.414214</td>\n",
       "      <td>1.732051</td>\n",
       "      <td>2.645751</td>\n",
       "      <td>2.828427</td>\n",
       "      <td>...</td>\n",
       "      <td>3.000000</td>\n",
       "      <td>3.605551</td>\n",
       "      <td>0.000000</td>\n",
       "      <td>3.605551</td>\n",
       "      <td>2.449490</td>\n",
       "      <td>2.645751</td>\n",
       "      <td>0.000000</td>\n",
       "      <td>2.645751</td>\n",
       "      <td>1.414214</td>\n",
       "      <td>2.645751</td>\n",
       "    </tr>\n",
       "    <tr>\n",
       "      <th>4</th>\n",
       "      <td>1.732051</td>\n",
       "      <td>3.162278</td>\n",
       "      <td>3.316625</td>\n",
       "      <td>0.000000</td>\n",
       "      <td>4.000000</td>\n",
       "      <td>2.000000</td>\n",
       "      <td>1.414214</td>\n",
       "      <td>2.000000</td>\n",
       "      <td>2.828427</td>\n",
       "      <td>2.828427</td>\n",
       "      <td>...</td>\n",
       "      <td>3.000000</td>\n",
       "      <td>4.000000</td>\n",
       "      <td>1.000000</td>\n",
       "      <td>3.741657</td>\n",
       "      <td>2.449490</td>\n",
       "      <td>2.828427</td>\n",
       "      <td>1.000000</td>\n",
       "      <td>2.645751</td>\n",
       "      <td>1.414214</td>\n",
       "      <td>2.645751</td>\n",
       "    </tr>\n",
       "    <tr>\n",
       "      <th>...</th>\n",
       "      <td>...</td>\n",
       "      <td>...</td>\n",
       "      <td>...</td>\n",
       "      <td>...</td>\n",
       "      <td>...</td>\n",
       "      <td>...</td>\n",
       "      <td>...</td>\n",
       "      <td>...</td>\n",
       "      <td>...</td>\n",
       "      <td>...</td>\n",
       "      <td>...</td>\n",
       "      <td>...</td>\n",
       "      <td>...</td>\n",
       "      <td>...</td>\n",
       "      <td>...</td>\n",
       "      <td>...</td>\n",
       "      <td>...</td>\n",
       "      <td>...</td>\n",
       "      <td>...</td>\n",
       "      <td>...</td>\n",
       "      <td>...</td>\n",
       "    </tr>\n",
       "    <tr>\n",
       "      <th>7707</th>\n",
       "      <td>9.165152</td>\n",
       "      <td>9.110434</td>\n",
       "      <td>8.660254</td>\n",
       "      <td>9.110434</td>\n",
       "      <td>8.602325</td>\n",
       "      <td>9.273619</td>\n",
       "      <td>9.110434</td>\n",
       "      <td>9.165152</td>\n",
       "      <td>9.110434</td>\n",
       "      <td>8.831760</td>\n",
       "      <td>...</td>\n",
       "      <td>8.944272</td>\n",
       "      <td>8.944272</td>\n",
       "      <td>8.660254</td>\n",
       "      <td>8.774964</td>\n",
       "      <td>9.000000</td>\n",
       "      <td>9.055386</td>\n",
       "      <td>8.660254</td>\n",
       "      <td>8.660254</td>\n",
       "      <td>9.110434</td>\n",
       "      <td>9.055386</td>\n",
       "    </tr>\n",
       "    <tr>\n",
       "      <th>7708</th>\n",
       "      <td>9.273619</td>\n",
       "      <td>9.165152</td>\n",
       "      <td>8.717798</td>\n",
       "      <td>9.165152</td>\n",
       "      <td>8.602325</td>\n",
       "      <td>9.273619</td>\n",
       "      <td>9.110434</td>\n",
       "      <td>9.219544</td>\n",
       "      <td>9.110434</td>\n",
       "      <td>8.888194</td>\n",
       "      <td>...</td>\n",
       "      <td>9.000000</td>\n",
       "      <td>9.110434</td>\n",
       "      <td>8.717798</td>\n",
       "      <td>8.774964</td>\n",
       "      <td>9.000000</td>\n",
       "      <td>9.055386</td>\n",
       "      <td>8.717798</td>\n",
       "      <td>8.660254</td>\n",
       "      <td>9.110434</td>\n",
       "      <td>9.055386</td>\n",
       "    </tr>\n",
       "    <tr>\n",
       "      <th>7709</th>\n",
       "      <td>9.380832</td>\n",
       "      <td>9.219544</td>\n",
       "      <td>8.717798</td>\n",
       "      <td>9.219544</td>\n",
       "      <td>8.660254</td>\n",
       "      <td>9.327379</td>\n",
       "      <td>9.327379</td>\n",
       "      <td>9.219544</td>\n",
       "      <td>9.165152</td>\n",
       "      <td>8.944272</td>\n",
       "      <td>...</td>\n",
       "      <td>9.055386</td>\n",
       "      <td>9.110434</td>\n",
       "      <td>8.831760</td>\n",
       "      <td>8.774964</td>\n",
       "      <td>9.055386</td>\n",
       "      <td>9.110434</td>\n",
       "      <td>8.831760</td>\n",
       "      <td>8.660254</td>\n",
       "      <td>9.110434</td>\n",
       "      <td>9.110434</td>\n",
       "    </tr>\n",
       "    <tr>\n",
       "      <th>7710</th>\n",
       "      <td>9.380832</td>\n",
       "      <td>9.273619</td>\n",
       "      <td>8.831760</td>\n",
       "      <td>9.273619</td>\n",
       "      <td>8.831760</td>\n",
       "      <td>9.486833</td>\n",
       "      <td>9.327379</td>\n",
       "      <td>9.327379</td>\n",
       "      <td>9.219544</td>\n",
       "      <td>9.000000</td>\n",
       "      <td>...</td>\n",
       "      <td>9.273619</td>\n",
       "      <td>9.110434</td>\n",
       "      <td>8.944272</td>\n",
       "      <td>8.774964</td>\n",
       "      <td>9.055386</td>\n",
       "      <td>9.165152</td>\n",
       "      <td>8.944272</td>\n",
       "      <td>8.660254</td>\n",
       "      <td>9.219544</td>\n",
       "      <td>9.219544</td>\n",
       "    </tr>\n",
       "    <tr>\n",
       "      <th>7711</th>\n",
       "      <td>9.433981</td>\n",
       "      <td>9.327379</td>\n",
       "      <td>9.055386</td>\n",
       "      <td>9.327379</td>\n",
       "      <td>8.888194</td>\n",
       "      <td>9.486833</td>\n",
       "      <td>9.327379</td>\n",
       "      <td>9.380832</td>\n",
       "      <td>9.273619</td>\n",
       "      <td>9.165152</td>\n",
       "      <td>...</td>\n",
       "      <td>9.273619</td>\n",
       "      <td>9.486833</td>\n",
       "      <td>9.055386</td>\n",
       "      <td>8.831760</td>\n",
       "      <td>9.165152</td>\n",
       "      <td>9.165152</td>\n",
       "      <td>9.055386</td>\n",
       "      <td>8.774964</td>\n",
       "      <td>9.273619</td>\n",
       "      <td>9.219544</td>\n",
       "    </tr>\n",
       "  </tbody>\n",
       "</table>\n",
       "<p>7712 rows × 1929 columns</p>\n",
       "</div>"
      ],
      "text/plain": [
       "          0         1         2         3         4         5         6     \\\n",
       "0     1.414214  2.236068  3.000000  0.000000  2.449490  2.000000  0.000000   \n",
       "1     1.732051  2.828427  3.162278  0.000000  2.449490  2.000000  0.000000   \n",
       "2     1.732051  3.000000  3.162278  0.000000  3.162278  2.000000  0.000000   \n",
       "3     1.732051  3.162278  3.316625  0.000000  3.872983  2.000000  1.414214   \n",
       "4     1.732051  3.162278  3.316625  0.000000  4.000000  2.000000  1.414214   \n",
       "...        ...       ...       ...       ...       ...       ...       ...   \n",
       "7707  9.165152  9.110434  8.660254  9.110434  8.602325  9.273619  9.110434   \n",
       "7708  9.273619  9.165152  8.717798  9.165152  8.602325  9.273619  9.110434   \n",
       "7709  9.380832  9.219544  8.717798  9.219544  8.660254  9.327379  9.327379   \n",
       "7710  9.380832  9.273619  8.831760  9.273619  8.831760  9.486833  9.327379   \n",
       "7711  9.433981  9.327379  9.055386  9.327379  8.888194  9.486833  9.327379   \n",
       "\n",
       "          7         8         9     ...      1919      1920      1921  \\\n",
       "0     1.414214  2.000000  2.236068  ...  2.236068  2.000000  0.000000   \n",
       "1     1.732051  2.000000  2.828427  ...  2.645751  2.645751  0.000000   \n",
       "2     1.732051  2.449490  2.828427  ...  2.828427  3.316625  0.000000   \n",
       "3     1.732051  2.645751  2.828427  ...  3.000000  3.605551  0.000000   \n",
       "4     2.000000  2.828427  2.828427  ...  3.000000  4.000000  1.000000   \n",
       "...        ...       ...       ...  ...       ...       ...       ...   \n",
       "7707  9.165152  9.110434  8.831760  ...  8.944272  8.944272  8.660254   \n",
       "7708  9.219544  9.110434  8.888194  ...  9.000000  9.110434  8.717798   \n",
       "7709  9.219544  9.165152  8.944272  ...  9.055386  9.110434  8.831760   \n",
       "7710  9.327379  9.219544  9.000000  ...  9.273619  9.110434  8.944272   \n",
       "7711  9.380832  9.273619  9.165152  ...  9.273619  9.486833  9.055386   \n",
       "\n",
       "          1922      1923      1924      1925      1926      1927      1928  \n",
       "0     3.162278  1.000000  0.000000  0.000000  2.449490  1.414214  2.236068  \n",
       "1     3.605551  1.414214  1.732051  0.000000  2.449490  1.414214  2.449490  \n",
       "2     3.605551  2.236068  2.449490  0.000000  2.645751  1.414214  2.449490  \n",
       "3     3.605551  2.449490  2.645751  0.000000  2.645751  1.414214  2.645751  \n",
       "4     3.741657  2.449490  2.828427  1.000000  2.645751  1.414214  2.645751  \n",
       "...        ...       ...       ...       ...       ...       ...       ...  \n",
       "7707  8.774964  9.000000  9.055386  8.660254  8.660254  9.110434  9.055386  \n",
       "7708  8.774964  9.000000  9.055386  8.717798  8.660254  9.110434  9.055386  \n",
       "7709  8.774964  9.055386  9.110434  8.831760  8.660254  9.110434  9.110434  \n",
       "7710  8.774964  9.055386  9.165152  8.944272  8.660254  9.219544  9.219544  \n",
       "7711  8.831760  9.165152  9.165152  9.055386  8.774964  9.273619  9.219544  \n",
       "\n",
       "[7712 rows x 1929 columns]"
      ]
     },
     "execution_count": 252,
     "metadata": {},
     "output_type": "execute_result"
    }
   ],
   "source": [
    "x_ts_AD=pd.DataFrame(neighbors_k_ts)\n",
    "x_ts_AD"
   ]
  },
  {
   "cell_type": "code",
   "execution_count": 253,
   "id": "49378c44",
   "metadata": {},
   "outputs": [
    {
     "name": "stdout",
     "output_type": "stream",
     "text": [
      "[1.414 2.236 3.    ... 2.449 1.414 2.236]\n"
     ]
    }
   ],
   "source": [
    "similarity_ts= neighbors_k_ts\n",
    "cpd_AD=similarity_ts[0,:]\n",
    "cpd_value = np.round(cpd_AD, 3)\n",
    "print(cpd_value)"
   ]
  },
  {
   "cell_type": "code",
   "execution_count": 254,
   "id": "88fc911e",
   "metadata": {},
   "outputs": [
    {
     "name": "stdout",
     "output_type": "stream",
     "text": [
      "[ True  True False ...  True  True  True]\n"
     ]
    }
   ],
   "source": [
    "cpd_AD = np.where(cpd_value <= model_AD_limit, True, False)\n",
    "print(cpd_AD)"
   ]
  },
  {
   "cell_type": "code",
   "execution_count": 255,
   "id": "ef419713",
   "metadata": {},
   "outputs": [
    {
     "name": "stdout",
     "output_type": "stream",
     "text": [
      "Coverage =  0.6905132192846034\n"
     ]
    }
   ],
   "source": [
    "print(\"Coverage = \", sum(cpd_AD) / len(cpd_AD))"
   ]
  },
  {
   "cell_type": "code",
   "execution_count": 256,
   "id": "e255e405",
   "metadata": {},
   "outputs": [
    {
     "name": "stdout",
     "output_type": "stream",
     "text": [
      "Indices of substances included in AD =  [   0    1    3 ... 1926 1927 1928]\n"
     ]
    }
   ],
   "source": [
    "print(\"Indices of substances included in AD = \", np.where(cpd_AD != 0)[0])"
   ]
  },
  {
   "cell_type": "code",
   "execution_count": 257,
   "id": "7fe08a8a",
   "metadata": {},
   "outputs": [],
   "source": [
    "out_Ad=list(np.where(cpd_AD == 0)[0])"
   ]
  },
  {
   "cell_type": "markdown",
   "id": "0c73a366",
   "metadata": {},
   "source": [
    "##  Prediction only for molecules included in  AD"
   ]
  },
  {
   "cell_type": "code",
   "execution_count": 258,
   "id": "d6591da7",
   "metadata": {},
   "outputs": [],
   "source": [
    "y_pred_svm_ad=list(y_pred_svm)"
   ]
  },
  {
   "cell_type": "code",
   "execution_count": 259,
   "id": "677c2877",
   "metadata": {},
   "outputs": [],
   "source": [
    "y_pred_svm_ad[:] = [x for i,x in enumerate(y_pred_svm_ad) if i not in out_Ad]"
   ]
  },
  {
   "cell_type": "code",
   "execution_count": 260,
   "id": "7b44edd6",
   "metadata": {},
   "outputs": [
    {
     "data": {
      "text/plain": [
       "1332"
      ]
     },
     "execution_count": 260,
     "metadata": {},
     "output_type": "execute_result"
    }
   ],
   "source": [
    "len(y_pred_svm_ad)"
   ]
  },
  {
   "cell_type": "code",
   "execution_count": 261,
   "id": "13bb336d",
   "metadata": {},
   "outputs": [],
   "source": [
    "y_ts_ad=list(y_ts)"
   ]
  },
  {
   "cell_type": "code",
   "execution_count": 262,
   "id": "f780e94b",
   "metadata": {},
   "outputs": [],
   "source": [
    "y_ts_ad[:] = [x for i,x in enumerate(y_ts_ad) if i not in out_Ad]"
   ]
  },
  {
   "cell_type": "code",
   "execution_count": 263,
   "id": "825d48de",
   "metadata": {},
   "outputs": [
    {
     "data": {
      "text/plain": [
       "1332"
      ]
     },
     "execution_count": 263,
     "metadata": {},
     "output_type": "execute_result"
    }
   ],
   "source": [
    "len(y_ts_ad)"
   ]
  },
  {
   "cell_type": "code",
   "execution_count": 264,
   "id": "75ed2307",
   "metadata": {},
   "outputs": [
    {
     "data": {
      "text/plain": [
       "0.64"
      ]
     },
     "execution_count": 264,
     "metadata": {},
     "output_type": "execute_result"
    }
   ],
   "source": [
    "Q2_TS = round(r2_score(y_ts_ad, y_pred_svm_ad), 2)\n",
    "Q2_TS"
   ]
  },
  {
   "cell_type": "code",
   "execution_count": 265,
   "id": "b77c0b55",
   "metadata": {},
   "outputs": [
    {
     "data": {
      "text/plain": [
       "0.62"
      ]
     },
     "execution_count": 265,
     "metadata": {},
     "output_type": "execute_result"
    }
   ],
   "source": [
    "RMSE_TS=round(np.sqrt(mean_absolute_error(y_ts_ad, y_pred_svm_ad)), 2)\n",
    "RMSE_TS"
   ]
  },
  {
   "cell_type": "markdown",
   "id": "e8299d34",
   "metadata": {},
   "source": [
    "# Consensus"
   ]
  },
  {
   "cell_type": "markdown",
   "id": "2470fc69",
   "metadata": {},
   "source": [
    "##  load the models from disk"
   ]
  },
  {
   "cell_type": "code",
   "execution_count": 266,
   "id": "7e41e0d0",
   "metadata": {},
   "outputs": [],
   "source": [
    "best_svm = pickle.load(open('Models/MACCS/LD50_rat_oral_SVM_MACCS.pkl', 'rb'))"
   ]
  },
  {
   "cell_type": "code",
   "execution_count": 267,
   "id": "88904575",
   "metadata": {},
   "outputs": [],
   "source": [
    "best_rf = pickle.load(open('Models/MACCS/LD50_rat_oral_RF_MACCS.pkl', 'rb'))"
   ]
  },
  {
   "cell_type": "markdown",
   "id": "709396e2",
   "metadata": {},
   "source": [
    "## Prediction for CV"
   ]
  },
  {
   "cell_type": "code",
   "execution_count": 268,
   "id": "6446a674",
   "metadata": {},
   "outputs": [],
   "source": [
    "seed = 42\n",
    "cv=KFold(n_splits=5, random_state=seed, shuffle=True)"
   ]
  },
  {
   "cell_type": "code",
   "execution_count": 269,
   "id": "3d062e83",
   "metadata": {},
   "outputs": [],
   "source": [
    "y_pred_CV_svm = cross_val_predict(best_svm, x_tr, y_tr, cv=cv)"
   ]
  },
  {
   "cell_type": "code",
   "execution_count": 270,
   "id": "2fe85aa5",
   "metadata": {},
   "outputs": [],
   "source": [
    "y_pred_CV_rf = cross_val_predict(best_rf, x_tr, y_tr, cv=cv)"
   ]
  },
  {
   "cell_type": "code",
   "execution_count": 271,
   "id": "4e54a506",
   "metadata": {},
   "outputs": [],
   "source": [
    "y_pred_con=(y_pred_CV_svm+y_pred_CV_rf)/2"
   ]
  },
  {
   "cell_type": "code",
   "execution_count": 272,
   "id": "c9fbf7c3",
   "metadata": {},
   "outputs": [
    {
     "data": {
      "text/plain": [
       "0.58"
      ]
     },
     "execution_count": 272,
     "metadata": {},
     "output_type": "execute_result"
    }
   ],
   "source": [
    "Q2_CV = round(r2_score(y_tr, y_pred_con), 2)\n",
    "Q2_CV"
   ]
  },
  {
   "cell_type": "code",
   "execution_count": 273,
   "id": "5f568250",
   "metadata": {},
   "outputs": [
    {
     "data": {
      "text/plain": [
       "0.65"
      ]
     },
     "execution_count": 273,
     "metadata": {},
     "output_type": "execute_result"
    }
   ],
   "source": [
    "RMSE_CV=round(np.sqrt(mean_absolute_error(y_tr, y_pred_con)),2)\n",
    "RMSE_CV"
   ]
  },
  {
   "cell_type": "markdown",
   "id": "f56a6be2",
   "metadata": {},
   "source": [
    "## Prediction for test set's molecules"
   ]
  },
  {
   "cell_type": "code",
   "execution_count": 274,
   "id": "00362c06",
   "metadata": {},
   "outputs": [],
   "source": [
    "x_ts = np.array(x_ts, dtype=np.float32)\n",
    "y_ts = np.array(y_ts, dtype=np.float32)"
   ]
  },
  {
   "cell_type": "code",
   "execution_count": 275,
   "id": "d4bede08",
   "metadata": {},
   "outputs": [],
   "source": [
    "y_pred_svm = best_svm.predict(x_ts)"
   ]
  },
  {
   "cell_type": "code",
   "execution_count": 276,
   "id": "e2a0f4e4",
   "metadata": {},
   "outputs": [],
   "source": [
    "y_pred_rf = best_rf.predict(x_ts)"
   ]
  },
  {
   "cell_type": "code",
   "execution_count": 277,
   "id": "c46aed99",
   "metadata": {},
   "outputs": [
    {
     "data": {
      "text/plain": [
       "array([1.72010343, 1.88733118, 1.6128627 , ..., 3.55339399, 5.29791271,\n",
       "       2.28612094])"
      ]
     },
     "execution_count": 277,
     "metadata": {},
     "output_type": "execute_result"
    }
   ],
   "source": [
    "y_pred_rf"
   ]
  },
  {
   "cell_type": "code",
   "execution_count": 278,
   "id": "d25126af",
   "metadata": {},
   "outputs": [],
   "source": [
    "y_pred_con=(y_pred_svm+y_pred_rf)/2"
   ]
  },
  {
   "cell_type": "code",
   "execution_count": 279,
   "id": "35000d30",
   "metadata": {},
   "outputs": [
    {
     "data": {
      "text/plain": [
       "0.59"
      ]
     },
     "execution_count": 279,
     "metadata": {},
     "output_type": "execute_result"
    }
   ],
   "source": [
    "Q2_TS = round(r2_score(y_ts, y_pred_con), 2)\n",
    "Q2_TS"
   ]
  },
  {
   "cell_type": "code",
   "execution_count": 280,
   "id": "31146987",
   "metadata": {},
   "outputs": [
    {
     "data": {
      "text/plain": [
       "0.63"
      ]
     },
     "execution_count": 280,
     "metadata": {},
     "output_type": "execute_result"
    }
   ],
   "source": [
    "RMSE_TS=round(np.sqrt(mean_absolute_error(y_ts, y_pred_con)), 2)\n",
    "RMSE_TS"
   ]
  },
  {
   "cell_type": "markdown",
   "id": "355cf06c",
   "metadata": {},
   "source": [
    "## Estimating applicability domain. Method - Euclidian distances, K=1"
   ]
  },
  {
   "cell_type": "code",
   "execution_count": 281,
   "id": "23bb9746",
   "metadata": {},
   "outputs": [],
   "source": [
    "neighbors_k= pairwise_distances(x_tr, n_jobs=-1)\n",
    "neighbors_k.sort(0)"
   ]
  },
  {
   "cell_type": "code",
   "execution_count": 282,
   "id": "cfcaa036",
   "metadata": {},
   "outputs": [
    {
     "data": {
      "text/html": [
       "<div>\n",
       "<style scoped>\n",
       "    .dataframe tbody tr th:only-of-type {\n",
       "        vertical-align: middle;\n",
       "    }\n",
       "\n",
       "    .dataframe tbody tr th {\n",
       "        vertical-align: top;\n",
       "    }\n",
       "\n",
       "    .dataframe thead th {\n",
       "        text-align: right;\n",
       "    }\n",
       "</style>\n",
       "<table border=\"1\" class=\"dataframe\">\n",
       "  <thead>\n",
       "    <tr style=\"text-align: right;\">\n",
       "      <th></th>\n",
       "      <th>0</th>\n",
       "      <th>1</th>\n",
       "      <th>2</th>\n",
       "      <th>3</th>\n",
       "      <th>4</th>\n",
       "      <th>5</th>\n",
       "      <th>6</th>\n",
       "      <th>7</th>\n",
       "      <th>8</th>\n",
       "      <th>9</th>\n",
       "      <th>...</th>\n",
       "      <th>7702</th>\n",
       "      <th>7703</th>\n",
       "      <th>7704</th>\n",
       "      <th>7705</th>\n",
       "      <th>7706</th>\n",
       "      <th>7707</th>\n",
       "      <th>7708</th>\n",
       "      <th>7709</th>\n",
       "      <th>7710</th>\n",
       "      <th>7711</th>\n",
       "    </tr>\n",
       "  </thead>\n",
       "  <tbody>\n",
       "    <tr>\n",
       "      <th>0</th>\n",
       "      <td>0.000000</td>\n",
       "      <td>0.000000</td>\n",
       "      <td>0.000000</td>\n",
       "      <td>0.000000</td>\n",
       "      <td>0.000000</td>\n",
       "      <td>0.000000</td>\n",
       "      <td>0.000000</td>\n",
       "      <td>0.000000</td>\n",
       "      <td>0.000000</td>\n",
       "      <td>0.000000</td>\n",
       "      <td>...</td>\n",
       "      <td>0.000000</td>\n",
       "      <td>0.000000</td>\n",
       "      <td>0.000000</td>\n",
       "      <td>0.000000</td>\n",
       "      <td>0.000000</td>\n",
       "      <td>0.000000</td>\n",
       "      <td>0.000000</td>\n",
       "      <td>0.000000</td>\n",
       "      <td>0.000000</td>\n",
       "      <td>0.000000</td>\n",
       "    </tr>\n",
       "    <tr>\n",
       "      <th>1</th>\n",
       "      <td>1.000000</td>\n",
       "      <td>4.000000</td>\n",
       "      <td>1.414214</td>\n",
       "      <td>2.236068</td>\n",
       "      <td>2.000000</td>\n",
       "      <td>2.645751</td>\n",
       "      <td>3.000000</td>\n",
       "      <td>2.645751</td>\n",
       "      <td>0.000000</td>\n",
       "      <td>0.000000</td>\n",
       "      <td>...</td>\n",
       "      <td>0.000000</td>\n",
       "      <td>1.000000</td>\n",
       "      <td>1.732051</td>\n",
       "      <td>3.162278</td>\n",
       "      <td>2.645751</td>\n",
       "      <td>2.000000</td>\n",
       "      <td>3.162278</td>\n",
       "      <td>2.449490</td>\n",
       "      <td>0.000000</td>\n",
       "      <td>3.000000</td>\n",
       "    </tr>\n",
       "    <tr>\n",
       "      <th>2</th>\n",
       "      <td>1.732051</td>\n",
       "      <td>4.242640</td>\n",
       "      <td>1.414214</td>\n",
       "      <td>2.236068</td>\n",
       "      <td>2.000000</td>\n",
       "      <td>2.828427</td>\n",
       "      <td>3.162278</td>\n",
       "      <td>2.828427</td>\n",
       "      <td>0.000000</td>\n",
       "      <td>0.000000</td>\n",
       "      <td>...</td>\n",
       "      <td>0.000000</td>\n",
       "      <td>2.449490</td>\n",
       "      <td>2.236068</td>\n",
       "      <td>3.162278</td>\n",
       "      <td>3.741657</td>\n",
       "      <td>2.449490</td>\n",
       "      <td>3.162278</td>\n",
       "      <td>2.449490</td>\n",
       "      <td>0.000000</td>\n",
       "      <td>3.162278</td>\n",
       "    </tr>\n",
       "    <tr>\n",
       "      <th>3</th>\n",
       "      <td>2.449490</td>\n",
       "      <td>4.358899</td>\n",
       "      <td>1.732051</td>\n",
       "      <td>2.449490</td>\n",
       "      <td>2.449490</td>\n",
       "      <td>3.162278</td>\n",
       "      <td>3.162278</td>\n",
       "      <td>3.000000</td>\n",
       "      <td>0.000000</td>\n",
       "      <td>0.000000</td>\n",
       "      <td>...</td>\n",
       "      <td>0.000000</td>\n",
       "      <td>3.000000</td>\n",
       "      <td>4.242640</td>\n",
       "      <td>3.464102</td>\n",
       "      <td>5.000000</td>\n",
       "      <td>2.449490</td>\n",
       "      <td>3.316625</td>\n",
       "      <td>3.000000</td>\n",
       "      <td>0.000000</td>\n",
       "      <td>3.162278</td>\n",
       "    </tr>\n",
       "    <tr>\n",
       "      <th>4</th>\n",
       "      <td>2.645751</td>\n",
       "      <td>4.690416</td>\n",
       "      <td>1.732051</td>\n",
       "      <td>2.645751</td>\n",
       "      <td>2.449490</td>\n",
       "      <td>3.162278</td>\n",
       "      <td>3.162278</td>\n",
       "      <td>3.000000</td>\n",
       "      <td>0.000000</td>\n",
       "      <td>0.000000</td>\n",
       "      <td>...</td>\n",
       "      <td>0.000000</td>\n",
       "      <td>3.162278</td>\n",
       "      <td>4.358899</td>\n",
       "      <td>3.464102</td>\n",
       "      <td>5.000000</td>\n",
       "      <td>2.449490</td>\n",
       "      <td>3.316625</td>\n",
       "      <td>3.464102</td>\n",
       "      <td>0.000000</td>\n",
       "      <td>3.316625</td>\n",
       "    </tr>\n",
       "    <tr>\n",
       "      <th>...</th>\n",
       "      <td>...</td>\n",
       "      <td>...</td>\n",
       "      <td>...</td>\n",
       "      <td>...</td>\n",
       "      <td>...</td>\n",
       "      <td>...</td>\n",
       "      <td>...</td>\n",
       "      <td>...</td>\n",
       "      <td>...</td>\n",
       "      <td>...</td>\n",
       "      <td>...</td>\n",
       "      <td>...</td>\n",
       "      <td>...</td>\n",
       "      <td>...</td>\n",
       "      <td>...</td>\n",
       "      <td>...</td>\n",
       "      <td>...</td>\n",
       "      <td>...</td>\n",
       "      <td>...</td>\n",
       "      <td>...</td>\n",
       "      <td>...</td>\n",
       "    </tr>\n",
       "    <tr>\n",
       "      <th>7707</th>\n",
       "      <td>8.246211</td>\n",
       "      <td>8.602325</td>\n",
       "      <td>9.219544</td>\n",
       "      <td>8.944272</td>\n",
       "      <td>9.165152</td>\n",
       "      <td>8.888194</td>\n",
       "      <td>9.000000</td>\n",
       "      <td>9.380832</td>\n",
       "      <td>9.110434</td>\n",
       "      <td>9.327379</td>\n",
       "      <td>...</td>\n",
       "      <td>9.000000</td>\n",
       "      <td>8.774964</td>\n",
       "      <td>8.544003</td>\n",
       "      <td>8.774964</td>\n",
       "      <td>8.306623</td>\n",
       "      <td>9.000000</td>\n",
       "      <td>8.774964</td>\n",
       "      <td>9.110434</td>\n",
       "      <td>9.000000</td>\n",
       "      <td>8.544003</td>\n",
       "    </tr>\n",
       "    <tr>\n",
       "      <th>7708</th>\n",
       "      <td>8.246211</td>\n",
       "      <td>8.602325</td>\n",
       "      <td>9.273619</td>\n",
       "      <td>9.000000</td>\n",
       "      <td>9.219544</td>\n",
       "      <td>8.888194</td>\n",
       "      <td>9.000000</td>\n",
       "      <td>9.380832</td>\n",
       "      <td>9.165152</td>\n",
       "      <td>9.327379</td>\n",
       "      <td>...</td>\n",
       "      <td>9.055386</td>\n",
       "      <td>8.831760</td>\n",
       "      <td>8.544003</td>\n",
       "      <td>8.774964</td>\n",
       "      <td>8.366600</td>\n",
       "      <td>9.000000</td>\n",
       "      <td>8.831760</td>\n",
       "      <td>9.110434</td>\n",
       "      <td>9.055386</td>\n",
       "      <td>8.544003</td>\n",
       "    </tr>\n",
       "    <tr>\n",
       "      <th>7709</th>\n",
       "      <td>8.306623</td>\n",
       "      <td>8.602325</td>\n",
       "      <td>9.327379</td>\n",
       "      <td>9.000000</td>\n",
       "      <td>9.219544</td>\n",
       "      <td>8.944272</td>\n",
       "      <td>9.000000</td>\n",
       "      <td>9.486833</td>\n",
       "      <td>9.219544</td>\n",
       "      <td>9.539392</td>\n",
       "      <td>...</td>\n",
       "      <td>9.110434</td>\n",
       "      <td>8.831760</td>\n",
       "      <td>8.602325</td>\n",
       "      <td>8.774964</td>\n",
       "      <td>8.426149</td>\n",
       "      <td>9.000000</td>\n",
       "      <td>8.831760</td>\n",
       "      <td>9.219544</td>\n",
       "      <td>9.110434</td>\n",
       "      <td>8.602325</td>\n",
       "    </tr>\n",
       "    <tr>\n",
       "      <th>7710</th>\n",
       "      <td>8.485281</td>\n",
       "      <td>8.717798</td>\n",
       "      <td>9.380832</td>\n",
       "      <td>9.000000</td>\n",
       "      <td>9.219544</td>\n",
       "      <td>8.944272</td>\n",
       "      <td>9.055386</td>\n",
       "      <td>9.539392</td>\n",
       "      <td>9.273619</td>\n",
       "      <td>9.539392</td>\n",
       "      <td>...</td>\n",
       "      <td>9.219544</td>\n",
       "      <td>8.888194</td>\n",
       "      <td>8.602325</td>\n",
       "      <td>8.888194</td>\n",
       "      <td>8.426149</td>\n",
       "      <td>9.000000</td>\n",
       "      <td>8.944272</td>\n",
       "      <td>9.273619</td>\n",
       "      <td>9.219544</td>\n",
       "      <td>8.774964</td>\n",
       "    </tr>\n",
       "    <tr>\n",
       "      <th>7711</th>\n",
       "      <td>8.544003</td>\n",
       "      <td>8.717798</td>\n",
       "      <td>9.433981</td>\n",
       "      <td>9.110434</td>\n",
       "      <td>9.327379</td>\n",
       "      <td>9.055386</td>\n",
       "      <td>9.055386</td>\n",
       "      <td>9.591663</td>\n",
       "      <td>9.327379</td>\n",
       "      <td>9.643651</td>\n",
       "      <td>...</td>\n",
       "      <td>9.273619</td>\n",
       "      <td>8.944272</td>\n",
       "      <td>8.602325</td>\n",
       "      <td>8.888194</td>\n",
       "      <td>8.485281</td>\n",
       "      <td>9.055386</td>\n",
       "      <td>8.944272</td>\n",
       "      <td>9.273619</td>\n",
       "      <td>9.273619</td>\n",
       "      <td>8.774964</td>\n",
       "    </tr>\n",
       "  </tbody>\n",
       "</table>\n",
       "<p>7712 rows × 7712 columns</p>\n",
       "</div>"
      ],
      "text/plain": [
       "          0         1         2         3         4         5         6     \\\n",
       "0     0.000000  0.000000  0.000000  0.000000  0.000000  0.000000  0.000000   \n",
       "1     1.000000  4.000000  1.414214  2.236068  2.000000  2.645751  3.000000   \n",
       "2     1.732051  4.242640  1.414214  2.236068  2.000000  2.828427  3.162278   \n",
       "3     2.449490  4.358899  1.732051  2.449490  2.449490  3.162278  3.162278   \n",
       "4     2.645751  4.690416  1.732051  2.645751  2.449490  3.162278  3.162278   \n",
       "...        ...       ...       ...       ...       ...       ...       ...   \n",
       "7707  8.246211  8.602325  9.219544  8.944272  9.165152  8.888194  9.000000   \n",
       "7708  8.246211  8.602325  9.273619  9.000000  9.219544  8.888194  9.000000   \n",
       "7709  8.306623  8.602325  9.327379  9.000000  9.219544  8.944272  9.000000   \n",
       "7710  8.485281  8.717798  9.380832  9.000000  9.219544  8.944272  9.055386   \n",
       "7711  8.544003  8.717798  9.433981  9.110434  9.327379  9.055386  9.055386   \n",
       "\n",
       "          7         8         9     ...      7702      7703      7704  \\\n",
       "0     0.000000  0.000000  0.000000  ...  0.000000  0.000000  0.000000   \n",
       "1     2.645751  0.000000  0.000000  ...  0.000000  1.000000  1.732051   \n",
       "2     2.828427  0.000000  0.000000  ...  0.000000  2.449490  2.236068   \n",
       "3     3.000000  0.000000  0.000000  ...  0.000000  3.000000  4.242640   \n",
       "4     3.000000  0.000000  0.000000  ...  0.000000  3.162278  4.358899   \n",
       "...        ...       ...       ...  ...       ...       ...       ...   \n",
       "7707  9.380832  9.110434  9.327379  ...  9.000000  8.774964  8.544003   \n",
       "7708  9.380832  9.165152  9.327379  ...  9.055386  8.831760  8.544003   \n",
       "7709  9.486833  9.219544  9.539392  ...  9.110434  8.831760  8.602325   \n",
       "7710  9.539392  9.273619  9.539392  ...  9.219544  8.888194  8.602325   \n",
       "7711  9.591663  9.327379  9.643651  ...  9.273619  8.944272  8.602325   \n",
       "\n",
       "          7705      7706      7707      7708      7709      7710      7711  \n",
       "0     0.000000  0.000000  0.000000  0.000000  0.000000  0.000000  0.000000  \n",
       "1     3.162278  2.645751  2.000000  3.162278  2.449490  0.000000  3.000000  \n",
       "2     3.162278  3.741657  2.449490  3.162278  2.449490  0.000000  3.162278  \n",
       "3     3.464102  5.000000  2.449490  3.316625  3.000000  0.000000  3.162278  \n",
       "4     3.464102  5.000000  2.449490  3.316625  3.464102  0.000000  3.316625  \n",
       "...        ...       ...       ...       ...       ...       ...       ...  \n",
       "7707  8.774964  8.306623  9.000000  8.774964  9.110434  9.000000  8.544003  \n",
       "7708  8.774964  8.366600  9.000000  8.831760  9.110434  9.055386  8.544003  \n",
       "7709  8.774964  8.426149  9.000000  8.831760  9.219544  9.110434  8.602325  \n",
       "7710  8.888194  8.426149  9.000000  8.944272  9.273619  9.219544  8.774964  \n",
       "7711  8.888194  8.485281  9.055386  8.944272  9.273619  9.273619  8.774964  \n",
       "\n",
       "[7712 rows x 7712 columns]"
      ]
     },
     "execution_count": 282,
     "metadata": {},
     "output_type": "execute_result"
    }
   ],
   "source": [
    "df_tr=pd.DataFrame(neighbors_k)\n",
    "df_tr"
   ]
  },
  {
   "cell_type": "code",
   "execution_count": 283,
   "id": "fefd0fc9",
   "metadata": {},
   "outputs": [],
   "source": [
    "similarity= neighbors_k"
   ]
  },
  {
   "cell_type": "code",
   "execution_count": 284,
   "id": "048c7487",
   "metadata": {},
   "outputs": [],
   "source": [
    "Dmean=np.mean(similarity[1,:])"
   ]
  },
  {
   "cell_type": "code",
   "execution_count": 285,
   "id": "36135a82",
   "metadata": {},
   "outputs": [
    {
     "data": {
      "text/plain": [
       "2.03"
      ]
     },
     "execution_count": 285,
     "metadata": {},
     "output_type": "execute_result"
    }
   ],
   "source": [
    "round(Dmean, 2)"
   ]
  },
  {
   "cell_type": "code",
   "execution_count": 286,
   "id": "0e67d553",
   "metadata": {},
   "outputs": [],
   "source": [
    "std=np.std(similarity[1,:])"
   ]
  },
  {
   "cell_type": "code",
   "execution_count": 287,
   "id": "90822bff",
   "metadata": {},
   "outputs": [
    {
     "data": {
      "text/plain": [
       "1.11"
      ]
     },
     "execution_count": 287,
     "metadata": {},
     "output_type": "execute_result"
    }
   ],
   "source": [
    "round(std, 2)"
   ]
  },
  {
   "cell_type": "code",
   "execution_count": 288,
   "id": "2f60af3d",
   "metadata": {},
   "outputs": [
    {
     "name": "stdout",
     "output_type": "stream",
     "text": [
      "2.59\n"
     ]
    }
   ],
   "source": [
    "model_AD_limit=Dmean+std*0.5\n",
    "print(np.round(model_AD_limit, 2))"
   ]
  },
  {
   "cell_type": "code",
   "execution_count": 289,
   "id": "d50dcb49",
   "metadata": {},
   "outputs": [],
   "source": [
    "neighbors_k_ts= pairwise_distances(x_tr,Y=x_ts, n_jobs=-1)\n",
    "neighbors_k_ts.sort(0)"
   ]
  },
  {
   "cell_type": "code",
   "execution_count": 290,
   "id": "ec4139c8",
   "metadata": {},
   "outputs": [
    {
     "data": {
      "text/html": [
       "<div>\n",
       "<style scoped>\n",
       "    .dataframe tbody tr th:only-of-type {\n",
       "        vertical-align: middle;\n",
       "    }\n",
       "\n",
       "    .dataframe tbody tr th {\n",
       "        vertical-align: top;\n",
       "    }\n",
       "\n",
       "    .dataframe thead th {\n",
       "        text-align: right;\n",
       "    }\n",
       "</style>\n",
       "<table border=\"1\" class=\"dataframe\">\n",
       "  <thead>\n",
       "    <tr style=\"text-align: right;\">\n",
       "      <th></th>\n",
       "      <th>0</th>\n",
       "      <th>1</th>\n",
       "      <th>2</th>\n",
       "      <th>3</th>\n",
       "      <th>4</th>\n",
       "      <th>5</th>\n",
       "      <th>6</th>\n",
       "      <th>7</th>\n",
       "      <th>8</th>\n",
       "      <th>9</th>\n",
       "      <th>...</th>\n",
       "      <th>1919</th>\n",
       "      <th>1920</th>\n",
       "      <th>1921</th>\n",
       "      <th>1922</th>\n",
       "      <th>1923</th>\n",
       "      <th>1924</th>\n",
       "      <th>1925</th>\n",
       "      <th>1926</th>\n",
       "      <th>1927</th>\n",
       "      <th>1928</th>\n",
       "    </tr>\n",
       "  </thead>\n",
       "  <tbody>\n",
       "    <tr>\n",
       "      <th>0</th>\n",
       "      <td>1.414214</td>\n",
       "      <td>2.236068</td>\n",
       "      <td>3.000000</td>\n",
       "      <td>0.000000</td>\n",
       "      <td>2.449490</td>\n",
       "      <td>2.000000</td>\n",
       "      <td>0.000000</td>\n",
       "      <td>1.414214</td>\n",
       "      <td>2.000000</td>\n",
       "      <td>2.236068</td>\n",
       "      <td>...</td>\n",
       "      <td>2.236068</td>\n",
       "      <td>2.000000</td>\n",
       "      <td>0.000000</td>\n",
       "      <td>3.162278</td>\n",
       "      <td>1.000000</td>\n",
       "      <td>0.000000</td>\n",
       "      <td>0.000000</td>\n",
       "      <td>2.449490</td>\n",
       "      <td>1.414214</td>\n",
       "      <td>2.236068</td>\n",
       "    </tr>\n",
       "    <tr>\n",
       "      <th>1</th>\n",
       "      <td>1.732051</td>\n",
       "      <td>2.828427</td>\n",
       "      <td>3.162278</td>\n",
       "      <td>0.000000</td>\n",
       "      <td>2.449490</td>\n",
       "      <td>2.000000</td>\n",
       "      <td>0.000000</td>\n",
       "      <td>1.732051</td>\n",
       "      <td>2.000000</td>\n",
       "      <td>2.828427</td>\n",
       "      <td>...</td>\n",
       "      <td>2.645751</td>\n",
       "      <td>2.645751</td>\n",
       "      <td>0.000000</td>\n",
       "      <td>3.605551</td>\n",
       "      <td>1.414214</td>\n",
       "      <td>1.732051</td>\n",
       "      <td>0.000000</td>\n",
       "      <td>2.449490</td>\n",
       "      <td>1.414214</td>\n",
       "      <td>2.449490</td>\n",
       "    </tr>\n",
       "    <tr>\n",
       "      <th>2</th>\n",
       "      <td>1.732051</td>\n",
       "      <td>3.000000</td>\n",
       "      <td>3.162278</td>\n",
       "      <td>0.000000</td>\n",
       "      <td>3.162278</td>\n",
       "      <td>2.000000</td>\n",
       "      <td>0.000000</td>\n",
       "      <td>1.732051</td>\n",
       "      <td>2.449490</td>\n",
       "      <td>2.828427</td>\n",
       "      <td>...</td>\n",
       "      <td>2.828427</td>\n",
       "      <td>3.316625</td>\n",
       "      <td>0.000000</td>\n",
       "      <td>3.605551</td>\n",
       "      <td>2.236068</td>\n",
       "      <td>2.449490</td>\n",
       "      <td>0.000000</td>\n",
       "      <td>2.645751</td>\n",
       "      <td>1.414214</td>\n",
       "      <td>2.449490</td>\n",
       "    </tr>\n",
       "    <tr>\n",
       "      <th>3</th>\n",
       "      <td>1.732051</td>\n",
       "      <td>3.162278</td>\n",
       "      <td>3.316625</td>\n",
       "      <td>0.000000</td>\n",
       "      <td>3.872983</td>\n",
       "      <td>2.000000</td>\n",
       "      <td>1.414214</td>\n",
       "      <td>1.732051</td>\n",
       "      <td>2.645751</td>\n",
       "      <td>2.828427</td>\n",
       "      <td>...</td>\n",
       "      <td>3.000000</td>\n",
       "      <td>3.605551</td>\n",
       "      <td>0.000000</td>\n",
       "      <td>3.605551</td>\n",
       "      <td>2.449490</td>\n",
       "      <td>2.645751</td>\n",
       "      <td>0.000000</td>\n",
       "      <td>2.645751</td>\n",
       "      <td>1.414214</td>\n",
       "      <td>2.645751</td>\n",
       "    </tr>\n",
       "    <tr>\n",
       "      <th>4</th>\n",
       "      <td>1.732051</td>\n",
       "      <td>3.162278</td>\n",
       "      <td>3.316625</td>\n",
       "      <td>0.000000</td>\n",
       "      <td>4.000000</td>\n",
       "      <td>2.000000</td>\n",
       "      <td>1.414214</td>\n",
       "      <td>2.000000</td>\n",
       "      <td>2.828427</td>\n",
       "      <td>2.828427</td>\n",
       "      <td>...</td>\n",
       "      <td>3.000000</td>\n",
       "      <td>4.000000</td>\n",
       "      <td>1.000000</td>\n",
       "      <td>3.741657</td>\n",
       "      <td>2.449490</td>\n",
       "      <td>2.828427</td>\n",
       "      <td>1.000000</td>\n",
       "      <td>2.645751</td>\n",
       "      <td>1.414214</td>\n",
       "      <td>2.645751</td>\n",
       "    </tr>\n",
       "    <tr>\n",
       "      <th>...</th>\n",
       "      <td>...</td>\n",
       "      <td>...</td>\n",
       "      <td>...</td>\n",
       "      <td>...</td>\n",
       "      <td>...</td>\n",
       "      <td>...</td>\n",
       "      <td>...</td>\n",
       "      <td>...</td>\n",
       "      <td>...</td>\n",
       "      <td>...</td>\n",
       "      <td>...</td>\n",
       "      <td>...</td>\n",
       "      <td>...</td>\n",
       "      <td>...</td>\n",
       "      <td>...</td>\n",
       "      <td>...</td>\n",
       "      <td>...</td>\n",
       "      <td>...</td>\n",
       "      <td>...</td>\n",
       "      <td>...</td>\n",
       "      <td>...</td>\n",
       "    </tr>\n",
       "    <tr>\n",
       "      <th>7707</th>\n",
       "      <td>9.165152</td>\n",
       "      <td>9.110434</td>\n",
       "      <td>8.660254</td>\n",
       "      <td>9.110434</td>\n",
       "      <td>8.602325</td>\n",
       "      <td>9.273619</td>\n",
       "      <td>9.110434</td>\n",
       "      <td>9.165152</td>\n",
       "      <td>9.110434</td>\n",
       "      <td>8.831760</td>\n",
       "      <td>...</td>\n",
       "      <td>8.944272</td>\n",
       "      <td>8.944272</td>\n",
       "      <td>8.660254</td>\n",
       "      <td>8.774964</td>\n",
       "      <td>9.000000</td>\n",
       "      <td>9.055386</td>\n",
       "      <td>8.660254</td>\n",
       "      <td>8.660254</td>\n",
       "      <td>9.110434</td>\n",
       "      <td>9.055386</td>\n",
       "    </tr>\n",
       "    <tr>\n",
       "      <th>7708</th>\n",
       "      <td>9.273619</td>\n",
       "      <td>9.165152</td>\n",
       "      <td>8.717798</td>\n",
       "      <td>9.165152</td>\n",
       "      <td>8.602325</td>\n",
       "      <td>9.273619</td>\n",
       "      <td>9.110434</td>\n",
       "      <td>9.219544</td>\n",
       "      <td>9.110434</td>\n",
       "      <td>8.888194</td>\n",
       "      <td>...</td>\n",
       "      <td>9.000000</td>\n",
       "      <td>9.110434</td>\n",
       "      <td>8.717798</td>\n",
       "      <td>8.774964</td>\n",
       "      <td>9.000000</td>\n",
       "      <td>9.055386</td>\n",
       "      <td>8.717798</td>\n",
       "      <td>8.660254</td>\n",
       "      <td>9.110434</td>\n",
       "      <td>9.055386</td>\n",
       "    </tr>\n",
       "    <tr>\n",
       "      <th>7709</th>\n",
       "      <td>9.380832</td>\n",
       "      <td>9.219544</td>\n",
       "      <td>8.717798</td>\n",
       "      <td>9.219544</td>\n",
       "      <td>8.660254</td>\n",
       "      <td>9.327379</td>\n",
       "      <td>9.327379</td>\n",
       "      <td>9.219544</td>\n",
       "      <td>9.165152</td>\n",
       "      <td>8.944272</td>\n",
       "      <td>...</td>\n",
       "      <td>9.055386</td>\n",
       "      <td>9.110434</td>\n",
       "      <td>8.831760</td>\n",
       "      <td>8.774964</td>\n",
       "      <td>9.055386</td>\n",
       "      <td>9.110434</td>\n",
       "      <td>8.831760</td>\n",
       "      <td>8.660254</td>\n",
       "      <td>9.110434</td>\n",
       "      <td>9.110434</td>\n",
       "    </tr>\n",
       "    <tr>\n",
       "      <th>7710</th>\n",
       "      <td>9.380832</td>\n",
       "      <td>9.273619</td>\n",
       "      <td>8.831760</td>\n",
       "      <td>9.273619</td>\n",
       "      <td>8.831760</td>\n",
       "      <td>9.486833</td>\n",
       "      <td>9.327379</td>\n",
       "      <td>9.327379</td>\n",
       "      <td>9.219544</td>\n",
       "      <td>9.000000</td>\n",
       "      <td>...</td>\n",
       "      <td>9.273619</td>\n",
       "      <td>9.110434</td>\n",
       "      <td>8.944272</td>\n",
       "      <td>8.774964</td>\n",
       "      <td>9.055386</td>\n",
       "      <td>9.165152</td>\n",
       "      <td>8.944272</td>\n",
       "      <td>8.660254</td>\n",
       "      <td>9.219544</td>\n",
       "      <td>9.219544</td>\n",
       "    </tr>\n",
       "    <tr>\n",
       "      <th>7711</th>\n",
       "      <td>9.433981</td>\n",
       "      <td>9.327379</td>\n",
       "      <td>9.055386</td>\n",
       "      <td>9.327379</td>\n",
       "      <td>8.888194</td>\n",
       "      <td>9.486833</td>\n",
       "      <td>9.327379</td>\n",
       "      <td>9.380832</td>\n",
       "      <td>9.273619</td>\n",
       "      <td>9.165152</td>\n",
       "      <td>...</td>\n",
       "      <td>9.273619</td>\n",
       "      <td>9.486833</td>\n",
       "      <td>9.055386</td>\n",
       "      <td>8.831760</td>\n",
       "      <td>9.165152</td>\n",
       "      <td>9.165152</td>\n",
       "      <td>9.055386</td>\n",
       "      <td>8.774964</td>\n",
       "      <td>9.273619</td>\n",
       "      <td>9.219544</td>\n",
       "    </tr>\n",
       "  </tbody>\n",
       "</table>\n",
       "<p>7712 rows × 1929 columns</p>\n",
       "</div>"
      ],
      "text/plain": [
       "          0         1         2         3         4         5         6     \\\n",
       "0     1.414214  2.236068  3.000000  0.000000  2.449490  2.000000  0.000000   \n",
       "1     1.732051  2.828427  3.162278  0.000000  2.449490  2.000000  0.000000   \n",
       "2     1.732051  3.000000  3.162278  0.000000  3.162278  2.000000  0.000000   \n",
       "3     1.732051  3.162278  3.316625  0.000000  3.872983  2.000000  1.414214   \n",
       "4     1.732051  3.162278  3.316625  0.000000  4.000000  2.000000  1.414214   \n",
       "...        ...       ...       ...       ...       ...       ...       ...   \n",
       "7707  9.165152  9.110434  8.660254  9.110434  8.602325  9.273619  9.110434   \n",
       "7708  9.273619  9.165152  8.717798  9.165152  8.602325  9.273619  9.110434   \n",
       "7709  9.380832  9.219544  8.717798  9.219544  8.660254  9.327379  9.327379   \n",
       "7710  9.380832  9.273619  8.831760  9.273619  8.831760  9.486833  9.327379   \n",
       "7711  9.433981  9.327379  9.055386  9.327379  8.888194  9.486833  9.327379   \n",
       "\n",
       "          7         8         9     ...      1919      1920      1921  \\\n",
       "0     1.414214  2.000000  2.236068  ...  2.236068  2.000000  0.000000   \n",
       "1     1.732051  2.000000  2.828427  ...  2.645751  2.645751  0.000000   \n",
       "2     1.732051  2.449490  2.828427  ...  2.828427  3.316625  0.000000   \n",
       "3     1.732051  2.645751  2.828427  ...  3.000000  3.605551  0.000000   \n",
       "4     2.000000  2.828427  2.828427  ...  3.000000  4.000000  1.000000   \n",
       "...        ...       ...       ...  ...       ...       ...       ...   \n",
       "7707  9.165152  9.110434  8.831760  ...  8.944272  8.944272  8.660254   \n",
       "7708  9.219544  9.110434  8.888194  ...  9.000000  9.110434  8.717798   \n",
       "7709  9.219544  9.165152  8.944272  ...  9.055386  9.110434  8.831760   \n",
       "7710  9.327379  9.219544  9.000000  ...  9.273619  9.110434  8.944272   \n",
       "7711  9.380832  9.273619  9.165152  ...  9.273619  9.486833  9.055386   \n",
       "\n",
       "          1922      1923      1924      1925      1926      1927      1928  \n",
       "0     3.162278  1.000000  0.000000  0.000000  2.449490  1.414214  2.236068  \n",
       "1     3.605551  1.414214  1.732051  0.000000  2.449490  1.414214  2.449490  \n",
       "2     3.605551  2.236068  2.449490  0.000000  2.645751  1.414214  2.449490  \n",
       "3     3.605551  2.449490  2.645751  0.000000  2.645751  1.414214  2.645751  \n",
       "4     3.741657  2.449490  2.828427  1.000000  2.645751  1.414214  2.645751  \n",
       "...        ...       ...       ...       ...       ...       ...       ...  \n",
       "7707  8.774964  9.000000  9.055386  8.660254  8.660254  9.110434  9.055386  \n",
       "7708  8.774964  9.000000  9.055386  8.717798  8.660254  9.110434  9.055386  \n",
       "7709  8.774964  9.055386  9.110434  8.831760  8.660254  9.110434  9.110434  \n",
       "7710  8.774964  9.055386  9.165152  8.944272  8.660254  9.219544  9.219544  \n",
       "7711  8.831760  9.165152  9.165152  9.055386  8.774964  9.273619  9.219544  \n",
       "\n",
       "[7712 rows x 1929 columns]"
      ]
     },
     "execution_count": 290,
     "metadata": {},
     "output_type": "execute_result"
    }
   ],
   "source": [
    "x_ts_AD=pd.DataFrame(neighbors_k_ts)\n",
    "x_ts_AD"
   ]
  },
  {
   "cell_type": "code",
   "execution_count": 291,
   "id": "27dd74ae",
   "metadata": {},
   "outputs": [
    {
     "name": "stdout",
     "output_type": "stream",
     "text": [
      "[1.414 2.236 3.    ... 2.449 1.414 2.236]\n"
     ]
    }
   ],
   "source": [
    "similarity_ts= neighbors_k_ts\n",
    "cpd_AD=similarity_ts[0,:]\n",
    "cpd_value = np.round(cpd_AD, 3)\n",
    "print(cpd_value)"
   ]
  },
  {
   "cell_type": "code",
   "execution_count": 292,
   "id": "c37e87fa",
   "metadata": {},
   "outputs": [
    {
     "name": "stdout",
     "output_type": "stream",
     "text": [
      "[ True  True False ...  True  True  True]\n"
     ]
    }
   ],
   "source": [
    "cpd_AD = np.where(cpd_value <= model_AD_limit, True, False)\n",
    "print(cpd_AD)"
   ]
  },
  {
   "cell_type": "code",
   "execution_count": 293,
   "id": "da7c9ac6",
   "metadata": {},
   "outputs": [
    {
     "name": "stdout",
     "output_type": "stream",
     "text": [
      "Coverage =  0.6905132192846034\n"
     ]
    }
   ],
   "source": [
    "print(\"Coverage = \", sum(cpd_AD) / len(cpd_AD))"
   ]
  },
  {
   "cell_type": "code",
   "execution_count": 294,
   "id": "b522d6df",
   "metadata": {},
   "outputs": [
    {
     "name": "stdout",
     "output_type": "stream",
     "text": [
      "Indices of substances included in AD =  [   0    1    3 ... 1926 1927 1928]\n"
     ]
    }
   ],
   "source": [
    "print(\"Indices of substances included in AD = \", np.where(cpd_AD != 0)[0])"
   ]
  },
  {
   "cell_type": "code",
   "execution_count": 295,
   "id": "193764f0",
   "metadata": {},
   "outputs": [],
   "source": [
    "out_Ad=list(np.where(cpd_AD == 0)[0])"
   ]
  },
  {
   "cell_type": "markdown",
   "id": "44050c4e",
   "metadata": {},
   "source": [
    "## Prediction only for molecules included in  AD"
   ]
  },
  {
   "cell_type": "code",
   "execution_count": 296,
   "id": "95aed519",
   "metadata": {},
   "outputs": [],
   "source": [
    "y_pred_con_ad=list(y_pred_con)"
   ]
  },
  {
   "cell_type": "code",
   "execution_count": 297,
   "id": "6c311335",
   "metadata": {},
   "outputs": [],
   "source": [
    "y_pred_con_ad[:] = [x for i,x in enumerate(y_pred_con_ad) if i not in out_Ad]"
   ]
  },
  {
   "cell_type": "code",
   "execution_count": 298,
   "id": "9a34c1a8",
   "metadata": {},
   "outputs": [
    {
     "data": {
      "text/plain": [
       "1332"
      ]
     },
     "execution_count": 298,
     "metadata": {},
     "output_type": "execute_result"
    }
   ],
   "source": [
    "len(y_pred_con_ad)"
   ]
  },
  {
   "cell_type": "code",
   "execution_count": 299,
   "id": "043990dd",
   "metadata": {},
   "outputs": [],
   "source": [
    "y_ts_ad=list(y_ts)"
   ]
  },
  {
   "cell_type": "code",
   "execution_count": 300,
   "id": "b5179c24",
   "metadata": {},
   "outputs": [],
   "source": [
    "y_ts_ad[:] = [x for i,x in enumerate(y_ts_ad) if i not in out_Ad]"
   ]
  },
  {
   "cell_type": "code",
   "execution_count": 301,
   "id": "bda2fe4a",
   "metadata": {},
   "outputs": [
    {
     "data": {
      "text/plain": [
       "1332"
      ]
     },
     "execution_count": 301,
     "metadata": {},
     "output_type": "execute_result"
    }
   ],
   "source": [
    "len(y_ts_ad)"
   ]
  },
  {
   "cell_type": "code",
   "execution_count": 302,
   "id": "5e132347",
   "metadata": {},
   "outputs": [
    {
     "data": {
      "text/plain": [
       "0.65"
      ]
     },
     "execution_count": 302,
     "metadata": {},
     "output_type": "execute_result"
    }
   ],
   "source": [
    "Q2_TS = round(r2_score(y_ts_ad, y_pred_con_ad), 2)\n",
    "Q2_TS"
   ]
  },
  {
   "cell_type": "code",
   "execution_count": 303,
   "id": "e37dd997",
   "metadata": {},
   "outputs": [
    {
     "data": {
      "text/plain": [
       "0.61"
      ]
     },
     "execution_count": 303,
     "metadata": {},
     "output_type": "execute_result"
    }
   ],
   "source": [
    "RMSE_TS=round(np.sqrt(mean_absolute_error(y_ts_ad, y_pred_con_ad)), 2)\n",
    "RMSE_TS"
   ]
  },
  {
   "cell_type": "code",
   "execution_count": null,
   "id": "f8507a29",
   "metadata": {},
   "outputs": [],
   "source": []
  }
 ],
 "metadata": {
  "kernelspec": {
   "display_name": "Python3 (rdkit)",
   "language": "python",
   "name": "my-rdkit-env"
  },
  "language_info": {
   "codemirror_mode": {
    "name": "ipython",
    "version": 3
   },
   "file_extension": ".py",
   "mimetype": "text/x-python",
   "name": "python",
   "nbconvert_exporter": "python",
   "pygments_lexer": "ipython3",
   "version": "3.10.12"
  },
  "toc": {
   "base_numbering": 1,
   "nav_menu": {
    "height": "336.335px",
    "width": "851.591px"
   },
   "number_sections": true,
   "sideBar": true,
   "skip_h1_title": false,
   "title_cell": "Table of Contents",
   "title_sidebar": "Contents",
   "toc_cell": false,
   "toc_position": {
    "height": "calc(100% - 180px)",
    "left": "10px",
    "top": "150px",
    "width": "238.253px"
   },
   "toc_section_display": true,
   "toc_window_display": true
  }
 },
 "nbformat": 4,
 "nbformat_minor": 5
}
