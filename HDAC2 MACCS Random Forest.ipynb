{
 "cells": [
  {
   "cell_type": "markdown",
   "id": "d94b6983",
   "metadata": {},
   "source": [
    "# 1. Importing modules and functions"
   ]
  },
  {
   "cell_type": "code",
   "execution_count": 1,
   "id": "f5e0d5f3",
   "metadata": {},
   "outputs": [],
   "source": [
    "import numpy as np\n",
    "import pandas as pd\n",
    "from rdkit import Chem, DataStructs\n",
    "from rdkit.Chem import AllChem, Descriptors\n",
    "from rdkit.ML.Descriptors import MoleculeDescriptors\n",
    "from rdkit.Chem import MACCSkeys\n",
    "import chembl_structure_pipeline\n",
    "from molvs import standardize_smiles\n",
    "from sklearn.model_selection import KFold, GridSearchCV\n",
    "from sklearn.model_selection import permutation_test_score\n",
    "from sklearn.preprocessing import StandardScaler\n",
    "from sklearn.model_selection import cross_val_predict\n",
    "from sklearn import metrics\n",
    "from sklearn.metrics import pairwise_distances\n",
    "import joblib\n",
    "import pickle\n",
    "from numpy import savetxt\n",
    "from padelpy import from_sdf\n",
    "from IPython.display import HTML\n",
    "import matplotlib.pyplot as plt\n",
    "from sklearn.ensemble import RandomForestRegressor\n",
    "from sklearn.metrics import mean_squared_error\n",
    "from sklearn.metrics import mean_absolute_error\n",
    "from sklearn.metrics import r2_score\n",
    "from sklearn.neural_network import MLPRegressor"
   ]
  },
  {
   "cell_type": "markdown",
   "id": "48ae5356",
   "metadata": {},
   "source": [
    "# 2.Data entry and curation work set"
   ]
  },
  {
   "cell_type": "code",
   "execution_count": 2,
   "id": "ff202b89",
   "metadata": {},
   "outputs": [
    {
     "name": "stdout",
     "output_type": "stream",
     "text": [
      "Original data:  1288 molecules\n",
      "Failed data:  0 molecules\n"
     ]
    },
    {
     "data": {
      "text/html": [
       "<div>\n",
       "<style scoped>\n",
       "    .dataframe tbody tr th:only-of-type {\n",
       "        vertical-align: middle;\n",
       "    }\n",
       "\n",
       "    .dataframe tbody tr th {\n",
       "        vertical-align: top;\n",
       "    }\n",
       "\n",
       "    .dataframe thead th {\n",
       "        text-align: right;\n",
       "    }\n",
       "</style>\n",
       "<table border=\"1\" class=\"dataframe\">\n",
       "  <thead>\n",
       "    <tr style=\"text-align: right;\">\n",
       "      <th></th>\n",
       "      <th>No. failed molecule in original set</th>\n",
       "      <th>SMILES of wrong structure:</th>\n",
       "    </tr>\n",
       "    <tr>\n",
       "      <th>No.</th>\n",
       "      <th></th>\n",
       "      <th></th>\n",
       "    </tr>\n",
       "  </thead>\n",
       "  <tbody>\n",
       "  </tbody>\n",
       "</table>\n",
       "</div>"
      ],
      "text/plain": [
       "Empty DataFrame\n",
       "Columns: [No. failed molecule in original set, SMILES of wrong structure: ]\n",
       "Index: []"
      ]
     },
     "execution_count": 2,
     "metadata": {},
     "output_type": "execute_result"
    }
   ],
   "source": [
    "uploaded_file_ws=\"datasets/HDAC2_work.sdf\"\n",
    "supplier_ws = Chem.ForwardSDMolSupplier(uploaded_file_ws,sanitize=False)\n",
    "failed_mols_ws = []\n",
    "all_mols_ws =[]\n",
    "wrong_structure_ws=[]\n",
    "wrong_smiles_ws=[]\n",
    "y_tr = []\n",
    "y_bad_index=[]\n",
    "\n",
    "for i, m in enumerate(supplier_ws):\n",
    "    structure = Chem.Mol(m)\n",
    "    all_mols_ws.append(structure)\n",
    "    y_tr.append(m.GetProp(\"pchembl_value_mean\"))\n",
    "    try:\n",
    "        Chem.SanitizeMol(structure)\n",
    "    except:\n",
    "        failed_mols_ws.append(m)\n",
    "        wrong_smiles_ws.append(Chem.MolToSmiles(m))\n",
    "        wrong_structure_ws.append(str(i+1))\n",
    "        y_bad_index.append(i)\n",
    "print('Original data: ', len(all_mols_ws), 'molecules')\n",
    "print('Failed data: ', len(failed_mols_ws), 'molecules')\n",
    "number_ws =[]\n",
    "for i in range(len(failed_mols_ws)):\n",
    "        number_ws.append(str(i+1))\n",
    "bad_molecules_ws = pd.DataFrame({'No. failed molecule in original set': wrong_structure_ws, 'SMILES of wrong structure: ': wrong_smiles_ws, 'No.': number_ws}, index=None)\n",
    "bad_molecules_ws = bad_molecules_ws.set_index('No.')\n",
    "bad_molecules_ws"
   ]
  },
  {
   "cell_type": "markdown",
   "id": "1835cab2",
   "metadata": {},
   "source": [
    "deleting activity values for substances with incorrect structure"
   ]
  },
  {
   "cell_type": "code",
   "execution_count": 3,
   "id": "e5735c79",
   "metadata": {},
   "outputs": [],
   "source": [
    "y_tr[:] = [x for i,x in enumerate(y_tr) if i not in y_bad_index]"
   ]
  },
  {
   "cell_type": "code",
   "execution_count": 4,
   "id": "a4565b14",
   "metadata": {},
   "outputs": [
    {
     "data": {
      "text/plain": [
       "1288"
      ]
     },
     "execution_count": 4,
     "metadata": {},
     "output_type": "execute_result"
    }
   ],
   "source": [
    "len(y_tr)"
   ]
  },
  {
   "cell_type": "markdown",
   "id": "d487cee5",
   "metadata": {},
   "source": [
    "# 3.Standardization SDF file for work set"
   ]
  },
  {
   "cell_type": "code",
   "execution_count": 5,
   "id": "d850548f",
   "metadata": {},
   "outputs": [
    {
     "name": "stdout",
     "output_type": "stream",
     "text": [
      "Kept data:  1288 molecules\n"
     ]
    }
   ],
   "source": [
    "records_ws = []\n",
    "for i in range(len(all_mols_ws)):\n",
    "    record = Chem.MolToMolBlock(all_mols_ws[i])\n",
    "    records_ws.append(record)\n",
    "            \n",
    "mols_ws = []\n",
    "for i,record in enumerate(records_ws):\n",
    "    standard_record = chembl_structure_pipeline.standardize_molblock(record)\n",
    "    m = Chem.MolFromMolBlock(standard_record)\n",
    "    mols_ws.append(m)\n",
    "           \n",
    "moldf_ws = []\n",
    "for val in mols_ws:\n",
    "    if val != None:\n",
    "        moldf_ws.append(val)\n",
    "print('Kept data: ', len(moldf_ws), 'molecules')"
   ]
  },
  {
   "cell_type": "markdown",
   "id": "53d467e9",
   "metadata": {},
   "source": [
    "# 4.Data entry and curation test set"
   ]
  },
  {
   "cell_type": "code",
   "execution_count": 6,
   "id": "fa784c66",
   "metadata": {},
   "outputs": [
    {
     "name": "stdout",
     "output_type": "stream",
     "text": [
      "Original data:  323 molecules\n",
      "Failed data:  0 molecules\n"
     ]
    },
    {
     "data": {
      "text/html": [
       "<div>\n",
       "<style scoped>\n",
       "    .dataframe tbody tr th:only-of-type {\n",
       "        vertical-align: middle;\n",
       "    }\n",
       "\n",
       "    .dataframe tbody tr th {\n",
       "        vertical-align: top;\n",
       "    }\n",
       "\n",
       "    .dataframe thead th {\n",
       "        text-align: right;\n",
       "    }\n",
       "</style>\n",
       "<table border=\"1\" class=\"dataframe\">\n",
       "  <thead>\n",
       "    <tr style=\"text-align: right;\">\n",
       "      <th></th>\n",
       "      <th>No. failed molecule in original set</th>\n",
       "      <th>SMILES of wrong structure:</th>\n",
       "    </tr>\n",
       "    <tr>\n",
       "      <th>No.</th>\n",
       "      <th></th>\n",
       "      <th></th>\n",
       "    </tr>\n",
       "  </thead>\n",
       "  <tbody>\n",
       "  </tbody>\n",
       "</table>\n",
       "</div>"
      ],
      "text/plain": [
       "Empty DataFrame\n",
       "Columns: [No. failed molecule in original set, SMILES of wrong structure: ]\n",
       "Index: []"
      ]
     },
     "execution_count": 6,
     "metadata": {},
     "output_type": "execute_result"
    }
   ],
   "source": [
    "uploaded_file_ts=\"datasets/HDAC2_test.sdf\"\n",
    "supplier_ts = Chem.ForwardSDMolSupplier(uploaded_file_ts,sanitize=False)\n",
    "failed_mols_ts = []\n",
    "all_mols_ts =[]\n",
    "wrong_structure_ts=[]\n",
    "wrong_smiles_ts=[]\n",
    "y_ts = []\n",
    "y_bad_index=[]\n",
    "for i, m in enumerate(supplier_ts):\n",
    "    structure = Chem.Mol(m)\n",
    "    all_mols_ts.append(structure)\n",
    "    y_ts.append(m.GetProp(\"pchembl_value_mean\"))\n",
    "    try:\n",
    "        Chem.SanitizeMol(structure)\n",
    "    except:\n",
    "        failed_mols_ts.append(m)\n",
    "        wrong_smiles_ts.append(Chem.MolToSmiles(m))\n",
    "        wrong_structure_ts.append(str(i+1))\n",
    "        y_bad_index.append(i)\n",
    "print('Original data: ', len(all_mols_ts), 'molecules')\n",
    "print('Failed data: ', len(failed_mols_ts), 'molecules')\n",
    "number_ts =[]\n",
    "for i in range(len(failed_mols_ts)):\n",
    "        number_ts.append(str(i+1))\n",
    "bad_molecules_ts = pd.DataFrame({'No. failed molecule in original set': wrong_structure_ts, 'SMILES of wrong structure: ': wrong_smiles_ts, 'No.': number_ts}, index=None)\n",
    "bad_molecules_ts = bad_molecules_ts.set_index('No.')\n",
    "bad_molecules_ts"
   ]
  },
  {
   "cell_type": "markdown",
   "id": "93fb9001",
   "metadata": {},
   "source": [
    "deleting activity values for substances with incorrect structure"
   ]
  },
  {
   "cell_type": "code",
   "execution_count": 7,
   "id": "e3776377",
   "metadata": {},
   "outputs": [],
   "source": [
    "y_ts[:] = [x for i,x in enumerate(y_ts) if i not in y_bad_index]"
   ]
  },
  {
   "cell_type": "code",
   "execution_count": 8,
   "id": "6fe3f13b",
   "metadata": {},
   "outputs": [
    {
     "data": {
      "text/plain": [
       "323"
      ]
     },
     "execution_count": 8,
     "metadata": {},
     "output_type": "execute_result"
    }
   ],
   "source": [
    "len(y_ts)"
   ]
  },
  {
   "cell_type": "markdown",
   "id": "6c9a723f",
   "metadata": {},
   "source": [
    "# 5.Standardization SDF file for test set"
   ]
  },
  {
   "cell_type": "code",
   "execution_count": 9,
   "id": "c90a286a",
   "metadata": {},
   "outputs": [
    {
     "name": "stdout",
     "output_type": "stream",
     "text": [
      "Kept data:  323 molecules\n"
     ]
    }
   ],
   "source": [
    "records_ts = []\n",
    "for i in range(len(all_mols_ts)):\n",
    "    record = Chem.MolToMolBlock(all_mols_ts[i])\n",
    "    records_ts.append(record)\n",
    "            \n",
    "mols_ts = []\n",
    "for i,record in enumerate(records_ts):\n",
    "    standard_record = chembl_structure_pipeline.standardize_molblock(record)\n",
    "    m = Chem.MolFromMolBlock(standard_record)\n",
    "    mols_ts.append(m)\n",
    "           \n",
    "moldf_ts = []\n",
    "for val in mols_ts:\n",
    "    if val != None:\n",
    "        moldf_ts.append(val)\n",
    "print('Kept data: ', len(moldf_ts), 'molecules')"
   ]
  },
  {
   "cell_type": "markdown",
   "id": "54767dec",
   "metadata": {},
   "source": [
    "## Calculation MACCS Fingerprints for work set"
   ]
  },
  {
   "cell_type": "code",
   "execution_count": 10,
   "id": "a00a1d6e",
   "metadata": {},
   "outputs": [],
   "source": [
    "from rdkit.Chem import MACCSkeys"
   ]
  },
  {
   "cell_type": "code",
   "execution_count": 11,
   "id": "497974db",
   "metadata": {},
   "outputs": [],
   "source": [
    "fp_tr = [MACCSkeys.GenMACCSKeys(m) for m in moldf_ws]"
   ]
  },
  {
   "cell_type": "code",
   "execution_count": 12,
   "id": "12324890",
   "metadata": {},
   "outputs": [],
   "source": [
    "def rdkit_numpy_convert(fp_tr):\n",
    "    output = []\n",
    "    for f in fp_tr:\n",
    "        arr = np.zeros((1,))\n",
    "        DataStructs.ConvertToNumpyArray(f, arr)\n",
    "        output.append(arr)\n",
    "    return np.asarray(output)"
   ]
  },
  {
   "cell_type": "code",
   "execution_count": 13,
   "id": "3b5343f6",
   "metadata": {},
   "outputs": [],
   "source": [
    "from numpy import savetxt\n",
    "x_tr = rdkit_numpy_convert(fp_tr)"
   ]
  },
  {
   "cell_type": "code",
   "execution_count": 14,
   "id": "c033392e",
   "metadata": {},
   "outputs": [],
   "source": [
    "savetxt('Models/MACCS/x_tr_MACCS.csv', x_tr, delimiter=',')"
   ]
  },
  {
   "cell_type": "code",
   "execution_count": 15,
   "id": "ea6963b3",
   "metadata": {},
   "outputs": [
    {
     "data": {
      "text/plain": [
       "(1288, 167)"
      ]
     },
     "execution_count": 15,
     "metadata": {},
     "output_type": "execute_result"
    }
   ],
   "source": [
    "x_tr.shape"
   ]
  },
  {
   "cell_type": "markdown",
   "id": "3ec36c2a",
   "metadata": {},
   "source": [
    "## Calculation  MACCS Fingerprint for test set"
   ]
  },
  {
   "cell_type": "code",
   "execution_count": 16,
   "id": "1e568a0f",
   "metadata": {},
   "outputs": [],
   "source": [
    "fp_ts = [MACCSkeys.GenMACCSKeys(m) for m in moldf_ts]"
   ]
  },
  {
   "cell_type": "code",
   "execution_count": 17,
   "id": "1f5f2b73",
   "metadata": {},
   "outputs": [],
   "source": [
    "def rdkit_numpy_convert(fp_ts):\n",
    "    output = []\n",
    "    for f in fp_ts:\n",
    "        arr = np.zeros((1,))\n",
    "        DataStructs.ConvertToNumpyArray(f, arr)\n",
    "        output.append(arr)\n",
    "    return np.asarray(output)"
   ]
  },
  {
   "cell_type": "code",
   "execution_count": 18,
   "id": "b812f748",
   "metadata": {},
   "outputs": [],
   "source": [
    "x_ts = rdkit_numpy_convert(fp_ts)"
   ]
  },
  {
   "cell_type": "code",
   "execution_count": 19,
   "id": "229537ed",
   "metadata": {},
   "outputs": [
    {
     "data": {
      "text/plain": [
       "(323, 167)"
      ]
     },
     "execution_count": 19,
     "metadata": {},
     "output_type": "execute_result"
    }
   ],
   "source": [
    "x_ts.shape"
   ]
  },
  {
   "cell_type": "code",
   "execution_count": 20,
   "id": "382652e3",
   "metadata": {},
   "outputs": [],
   "source": [
    "x_tr = np.array(x_tr, dtype=np.float32)\n",
    "y_tr = np.array(y_tr, dtype=np.float32)"
   ]
  },
  {
   "cell_type": "code",
   "execution_count": null,
   "id": "47d16671",
   "metadata": {},
   "outputs": [],
   "source": []
  },
  {
   "cell_type": "code",
   "execution_count": null,
   "id": "3c13581a",
   "metadata": {},
   "outputs": [],
   "source": []
  },
  {
   "cell_type": "markdown",
   "id": "8a55120b",
   "metadata": {},
   "source": [
    "# 8. Random forest model building and validation"
   ]
  },
  {
   "cell_type": "code",
   "execution_count": 21,
   "id": "34a5213b",
   "metadata": {},
   "outputs": [],
   "source": [
    "seed = 42"
   ]
  },
  {
   "cell_type": "code",
   "execution_count": 22,
   "id": "7ae422a6",
   "metadata": {},
   "outputs": [],
   "source": [
    "cv=KFold(n_splits=5, random_state=seed, shuffle=True)"
   ]
  },
  {
   "cell_type": "code",
   "execution_count": 23,
   "id": "dd34a8ac",
   "metadata": {},
   "outputs": [],
   "source": [
    "param_grid = {\"max_features\": [x_tr.shape[1] // 10, x_tr.shape[1] // 7, x_tr.shape[1] // 5, x_tr.shape[1] // 3, x_tr.shape[1] // 2],\n",
    "              \"n_estimators\": [100, 250, 500, 1000]}"
   ]
  },
  {
   "cell_type": "code",
   "execution_count": 24,
   "id": "246342a4",
   "metadata": {},
   "outputs": [],
   "source": [
    "m = GridSearchCV(RandomForestRegressor(), param_grid, n_jobs=2, cv=cv, verbose=1)"
   ]
  },
  {
   "cell_type": "code",
   "execution_count": 25,
   "id": "a61a3265",
   "metadata": {},
   "outputs": [
    {
     "name": "stdout",
     "output_type": "stream",
     "text": [
      "Fitting 5 folds for each of 20 candidates, totalling 100 fits\n"
     ]
    },
    {
     "data": {
      "text/plain": [
       "GridSearchCV(cv=KFold(n_splits=5, random_state=42, shuffle=True),\n",
       "             estimator=RandomForestRegressor(), n_jobs=2,\n",
       "             param_grid={'max_features': [16, 23, 33, 55, 83],\n",
       "                         'n_estimators': [100, 250, 500, 1000]},\n",
       "             verbose=1)"
      ]
     },
     "execution_count": 25,
     "metadata": {},
     "output_type": "execute_result"
    }
   ],
   "source": [
    "m.fit(x_tr, y_tr)"
   ]
  },
  {
   "cell_type": "code",
   "execution_count": 26,
   "id": "098e7cd6",
   "metadata": {},
   "outputs": [],
   "source": [
    "m.best_params_\n",
    "best_RF = m.best_estimator_"
   ]
  },
  {
   "cell_type": "code",
   "execution_count": 27,
   "id": "716bb24d",
   "metadata": {},
   "outputs": [],
   "source": [
    "y_pred_CV_RF = cross_val_predict(best_RF, x_tr, y_tr, cv=cv)"
   ]
  },
  {
   "cell_type": "code",
   "execution_count": 28,
   "id": "03f14a66",
   "metadata": {},
   "outputs": [
    {
     "data": {
      "text/plain": [
       "array([5.13801312, 6.28675251, 5.88243634, ..., 7.43714888, 7.70960394,\n",
       "       7.99381461])"
      ]
     },
     "execution_count": 28,
     "metadata": {},
     "output_type": "execute_result"
    }
   ],
   "source": [
    "y_pred_CV_RF"
   ]
  },
  {
   "cell_type": "code",
   "execution_count": 29,
   "id": "2035f9d4",
   "metadata": {},
   "outputs": [
    {
     "data": {
      "text/plain": [
       "0.54"
      ]
     },
     "execution_count": 29,
     "metadata": {},
     "output_type": "execute_result"
    }
   ],
   "source": [
    "Q2_CV = round(r2_score(y_tr, y_pred_CV_RF), 2)\n",
    "Q2_CV"
   ]
  },
  {
   "cell_type": "code",
   "execution_count": 30,
   "id": "9daa68b5",
   "metadata": {},
   "outputs": [
    {
     "data": {
      "text/plain": [
       "0.74"
      ]
     },
     "execution_count": 30,
     "metadata": {},
     "output_type": "execute_result"
    }
   ],
   "source": [
    "RMSE_CV=round(np.sqrt(mean_absolute_error(y_tr, y_pred_CV_RF)), 2)\n",
    "RMSE_CV"
   ]
  },
  {
   "cell_type": "markdown",
   "id": "c4494290",
   "metadata": {},
   "source": [
    "# 9. Prediction for test set's molecules"
   ]
  },
  {
   "cell_type": "code",
   "execution_count": 31,
   "id": "ec9e8c94",
   "metadata": {},
   "outputs": [],
   "source": [
    "x_ts = np.array(x_ts, dtype=np.float32)\n",
    "y_ts = np.array(y_ts, dtype=np.float32)"
   ]
  },
  {
   "cell_type": "code",
   "execution_count": 32,
   "id": "794615fd",
   "metadata": {},
   "outputs": [],
   "source": [
    "y_pred_rf = best_RF.predict(x_ts)"
   ]
  },
  {
   "cell_type": "code",
   "execution_count": 33,
   "id": "241246a0",
   "metadata": {},
   "outputs": [
    {
     "data": {
      "text/plain": [
       "0.56"
      ]
     },
     "execution_count": 33,
     "metadata": {},
     "output_type": "execute_result"
    }
   ],
   "source": [
    "Q2_TS = round(r2_score(y_ts, y_pred_rf), 2)\n",
    "Q2_TS"
   ]
  },
  {
   "cell_type": "code",
   "execution_count": 34,
   "id": "81bb7456",
   "metadata": {},
   "outputs": [
    {
     "data": {
      "text/plain": [
       "0.73"
      ]
     },
     "execution_count": 34,
     "metadata": {},
     "output_type": "execute_result"
    }
   ],
   "source": [
    "RMSE_TS=round(np.sqrt(mean_absolute_error(y_ts, y_pred_rf)), 2)\n",
    "RMSE_TS"
   ]
  },
  {
   "cell_type": "markdown",
   "id": "fe88928b",
   "metadata": {},
   "source": [
    "# save the model to disk"
   ]
  },
  {
   "cell_type": "code",
   "execution_count": 35,
   "id": "303c52ea",
   "metadata": {},
   "outputs": [],
   "source": [
    "pickle.dump(best_RF, open('Models/MACCS/HDAC2_RF_MACCS.pkl', 'wb'))"
   ]
  },
  {
   "cell_type": "markdown",
   "id": "410e0628",
   "metadata": {},
   "source": [
    "# load the model from disk"
   ]
  },
  {
   "cell_type": "code",
   "execution_count": 36,
   "id": "6902590a",
   "metadata": {},
   "outputs": [],
   "source": [
    "best_RF = pickle.load(open('Models/MACCS/HDAC2_RF_MACCS.pkl', 'rb'))"
   ]
  },
  {
   "cell_type": "markdown",
   "id": "35b8d63e",
   "metadata": {},
   "source": [
    "# 10. Y-randomization RF model"
   ]
  },
  {
   "cell_type": "code",
   "execution_count": 37,
   "id": "80164417",
   "metadata": {},
   "outputs": [
    {
     "name": "stderr",
     "output_type": "stream",
     "text": [
      "[Parallel(n_jobs=-1)]: Using backend LokyBackend with 4 concurrent workers.\n",
      "[Parallel(n_jobs=-1)]: Done  42 tasks      | elapsed:  3.2min\n"
     ]
    },
    {
     "name": "stdout",
     "output_type": "stream",
     "text": [
      "True score =  0.53 \n",
      "Y-randomization =  -0.22 \n",
      "p-value =  0.0099\n"
     ]
    },
    {
     "name": "stderr",
     "output_type": "stream",
     "text": [
      "[Parallel(n_jobs=-1)]: Done 100 out of 100 | elapsed:  7.5min finished\n"
     ]
    }
   ],
   "source": [
    "permutations = 100\n",
    "score, permutation_scores, pvalue = permutation_test_score(best_RF, x_tr, y_tr,\n",
    "                                                           cv=cv, scoring='r2',\n",
    "                                                           n_permutations=permutations,\n",
    "                                                           n_jobs=-1,\n",
    "                                                           verbose=1,\n",
    "                                                           random_state=24)\n",
    "print('True score = ', score.round(2),\n",
    "      '\\nY-randomization = ', np.mean(permutation_scores).round(2),\n",
    "      '\\np-value = ', pvalue.round(4))"
   ]
  },
  {
   "cell_type": "markdown",
   "id": "f8d9c13c",
   "metadata": {},
   "source": [
    "# 11. Estimating applicability domain. Method - Euclidian distances, K=1"
   ]
  },
  {
   "cell_type": "code",
   "execution_count": 38,
   "id": "ea4f5c47",
   "metadata": {},
   "outputs": [],
   "source": [
    "neighbors_k= pairwise_distances(x_tr, n_jobs=-1)\n",
    "neighbors_k.sort(0)"
   ]
  },
  {
   "cell_type": "code",
   "execution_count": 39,
   "id": "f43cc41d",
   "metadata": {},
   "outputs": [
    {
     "data": {
      "text/html": [
       "<div>\n",
       "<style scoped>\n",
       "    .dataframe tbody tr th:only-of-type {\n",
       "        vertical-align: middle;\n",
       "    }\n",
       "\n",
       "    .dataframe tbody tr th {\n",
       "        vertical-align: top;\n",
       "    }\n",
       "\n",
       "    .dataframe thead th {\n",
       "        text-align: right;\n",
       "    }\n",
       "</style>\n",
       "<table border=\"1\" class=\"dataframe\">\n",
       "  <thead>\n",
       "    <tr style=\"text-align: right;\">\n",
       "      <th></th>\n",
       "      <th>0</th>\n",
       "      <th>1</th>\n",
       "      <th>2</th>\n",
       "      <th>3</th>\n",
       "      <th>4</th>\n",
       "      <th>5</th>\n",
       "      <th>6</th>\n",
       "      <th>7</th>\n",
       "      <th>8</th>\n",
       "      <th>9</th>\n",
       "      <th>...</th>\n",
       "      <th>1278</th>\n",
       "      <th>1279</th>\n",
       "      <th>1280</th>\n",
       "      <th>1281</th>\n",
       "      <th>1282</th>\n",
       "      <th>1283</th>\n",
       "      <th>1284</th>\n",
       "      <th>1285</th>\n",
       "      <th>1286</th>\n",
       "      <th>1287</th>\n",
       "    </tr>\n",
       "  </thead>\n",
       "  <tbody>\n",
       "    <tr>\n",
       "      <th>0</th>\n",
       "      <td>0.000000</td>\n",
       "      <td>0.000000</td>\n",
       "      <td>0.000000</td>\n",
       "      <td>0.000000</td>\n",
       "      <td>0.000000</td>\n",
       "      <td>0.000000</td>\n",
       "      <td>0.000000</td>\n",
       "      <td>0.000000</td>\n",
       "      <td>0.000000</td>\n",
       "      <td>0.000000</td>\n",
       "      <td>...</td>\n",
       "      <td>0.000000</td>\n",
       "      <td>0.000000</td>\n",
       "      <td>0.000000</td>\n",
       "      <td>0.000000</td>\n",
       "      <td>0.000000</td>\n",
       "      <td>0.000000</td>\n",
       "      <td>0.000000</td>\n",
       "      <td>0.000000</td>\n",
       "      <td>0.000000</td>\n",
       "      <td>0.000000</td>\n",
       "    </tr>\n",
       "    <tr>\n",
       "      <th>1</th>\n",
       "      <td>1.732051</td>\n",
       "      <td>4.795832</td>\n",
       "      <td>3.605551</td>\n",
       "      <td>4.358899</td>\n",
       "      <td>2.449490</td>\n",
       "      <td>3.162278</td>\n",
       "      <td>4.358899</td>\n",
       "      <td>1.414214</td>\n",
       "      <td>3.464102</td>\n",
       "      <td>4.000000</td>\n",
       "      <td>...</td>\n",
       "      <td>1.000000</td>\n",
       "      <td>1.414214</td>\n",
       "      <td>1.000000</td>\n",
       "      <td>0.000000</td>\n",
       "      <td>0.000000</td>\n",
       "      <td>3.162278</td>\n",
       "      <td>2.000000</td>\n",
       "      <td>1.000000</td>\n",
       "      <td>1.414214</td>\n",
       "      <td>2.236068</td>\n",
       "    </tr>\n",
       "    <tr>\n",
       "      <th>2</th>\n",
       "      <td>3.162278</td>\n",
       "      <td>4.795832</td>\n",
       "      <td>3.741657</td>\n",
       "      <td>4.898980</td>\n",
       "      <td>2.449490</td>\n",
       "      <td>3.872983</td>\n",
       "      <td>4.472136</td>\n",
       "      <td>2.000000</td>\n",
       "      <td>3.605551</td>\n",
       "      <td>5.291502</td>\n",
       "      <td>...</td>\n",
       "      <td>1.000000</td>\n",
       "      <td>2.236068</td>\n",
       "      <td>2.449490</td>\n",
       "      <td>0.000000</td>\n",
       "      <td>1.414214</td>\n",
       "      <td>3.464102</td>\n",
       "      <td>2.000000</td>\n",
       "      <td>2.236068</td>\n",
       "      <td>1.414214</td>\n",
       "      <td>2.236068</td>\n",
       "    </tr>\n",
       "    <tr>\n",
       "      <th>3</th>\n",
       "      <td>3.162278</td>\n",
       "      <td>5.196152</td>\n",
       "      <td>3.872983</td>\n",
       "      <td>4.898980</td>\n",
       "      <td>4.242640</td>\n",
       "      <td>3.872983</td>\n",
       "      <td>4.582576</td>\n",
       "      <td>2.236068</td>\n",
       "      <td>3.872983</td>\n",
       "      <td>5.477226</td>\n",
       "      <td>...</td>\n",
       "      <td>1.732051</td>\n",
       "      <td>2.449490</td>\n",
       "      <td>2.828427</td>\n",
       "      <td>1.000000</td>\n",
       "      <td>1.414214</td>\n",
       "      <td>3.605551</td>\n",
       "      <td>2.449490</td>\n",
       "      <td>2.645751</td>\n",
       "      <td>1.732051</td>\n",
       "      <td>2.236068</td>\n",
       "    </tr>\n",
       "    <tr>\n",
       "      <th>4</th>\n",
       "      <td>3.464102</td>\n",
       "      <td>5.196152</td>\n",
       "      <td>4.123106</td>\n",
       "      <td>4.898980</td>\n",
       "      <td>4.358899</td>\n",
       "      <td>4.000000</td>\n",
       "      <td>4.795832</td>\n",
       "      <td>3.000000</td>\n",
       "      <td>3.872983</td>\n",
       "      <td>5.656854</td>\n",
       "      <td>...</td>\n",
       "      <td>2.828427</td>\n",
       "      <td>4.242640</td>\n",
       "      <td>3.464102</td>\n",
       "      <td>1.000000</td>\n",
       "      <td>1.414214</td>\n",
       "      <td>3.741657</td>\n",
       "      <td>2.449490</td>\n",
       "      <td>3.605551</td>\n",
       "      <td>2.236068</td>\n",
       "      <td>2.236068</td>\n",
       "    </tr>\n",
       "    <tr>\n",
       "      <th>...</th>\n",
       "      <td>...</td>\n",
       "      <td>...</td>\n",
       "      <td>...</td>\n",
       "      <td>...</td>\n",
       "      <td>...</td>\n",
       "      <td>...</td>\n",
       "      <td>...</td>\n",
       "      <td>...</td>\n",
       "      <td>...</td>\n",
       "      <td>...</td>\n",
       "      <td>...</td>\n",
       "      <td>...</td>\n",
       "      <td>...</td>\n",
       "      <td>...</td>\n",
       "      <td>...</td>\n",
       "      <td>...</td>\n",
       "      <td>...</td>\n",
       "      <td>...</td>\n",
       "      <td>...</td>\n",
       "      <td>...</td>\n",
       "      <td>...</td>\n",
       "    </tr>\n",
       "    <tr>\n",
       "      <th>1283</th>\n",
       "      <td>7.745967</td>\n",
       "      <td>7.937254</td>\n",
       "      <td>8.062258</td>\n",
       "      <td>8.306623</td>\n",
       "      <td>8.366600</td>\n",
       "      <td>8.124039</td>\n",
       "      <td>8.124039</td>\n",
       "      <td>7.745967</td>\n",
       "      <td>8.246211</td>\n",
       "      <td>8.000000</td>\n",
       "      <td>...</td>\n",
       "      <td>7.874008</td>\n",
       "      <td>7.937254</td>\n",
       "      <td>8.185352</td>\n",
       "      <td>8.366600</td>\n",
       "      <td>8.366600</td>\n",
       "      <td>8.000000</td>\n",
       "      <td>8.124039</td>\n",
       "      <td>8.124039</td>\n",
       "      <td>7.937254</td>\n",
       "      <td>8.185352</td>\n",
       "    </tr>\n",
       "    <tr>\n",
       "      <th>1284</th>\n",
       "      <td>7.745967</td>\n",
       "      <td>7.937254</td>\n",
       "      <td>8.306623</td>\n",
       "      <td>8.306623</td>\n",
       "      <td>8.485281</td>\n",
       "      <td>8.124039</td>\n",
       "      <td>8.185352</td>\n",
       "      <td>7.745967</td>\n",
       "      <td>8.246211</td>\n",
       "      <td>8.000000</td>\n",
       "      <td>...</td>\n",
       "      <td>7.874008</td>\n",
       "      <td>7.937254</td>\n",
       "      <td>8.185352</td>\n",
       "      <td>8.426149</td>\n",
       "      <td>8.485281</td>\n",
       "      <td>8.062258</td>\n",
       "      <td>8.185352</td>\n",
       "      <td>8.124039</td>\n",
       "      <td>7.937254</td>\n",
       "      <td>8.185352</td>\n",
       "    </tr>\n",
       "    <tr>\n",
       "      <th>1285</th>\n",
       "      <td>7.810250</td>\n",
       "      <td>7.937254</td>\n",
       "      <td>8.306623</td>\n",
       "      <td>8.306623</td>\n",
       "      <td>8.485281</td>\n",
       "      <td>8.185352</td>\n",
       "      <td>8.246211</td>\n",
       "      <td>7.937254</td>\n",
       "      <td>8.246211</td>\n",
       "      <td>8.000000</td>\n",
       "      <td>...</td>\n",
       "      <td>8.000000</td>\n",
       "      <td>7.937254</td>\n",
       "      <td>8.185352</td>\n",
       "      <td>8.485281</td>\n",
       "      <td>8.485281</td>\n",
       "      <td>8.124039</td>\n",
       "      <td>8.246211</td>\n",
       "      <td>8.124039</td>\n",
       "      <td>7.937254</td>\n",
       "      <td>8.185352</td>\n",
       "    </tr>\n",
       "    <tr>\n",
       "      <th>1286</th>\n",
       "      <td>7.874008</td>\n",
       "      <td>8.000000</td>\n",
       "      <td>8.366600</td>\n",
       "      <td>8.366600</td>\n",
       "      <td>8.602325</td>\n",
       "      <td>8.185352</td>\n",
       "      <td>8.306623</td>\n",
       "      <td>8.246211</td>\n",
       "      <td>8.366600</td>\n",
       "      <td>8.000000</td>\n",
       "      <td>...</td>\n",
       "      <td>8.062258</td>\n",
       "      <td>8.185352</td>\n",
       "      <td>8.426149</td>\n",
       "      <td>8.544003</td>\n",
       "      <td>8.544003</td>\n",
       "      <td>8.246211</td>\n",
       "      <td>8.246211</td>\n",
       "      <td>8.366600</td>\n",
       "      <td>8.124039</td>\n",
       "      <td>8.366600</td>\n",
       "    </tr>\n",
       "    <tr>\n",
       "      <th>1287</th>\n",
       "      <td>7.874008</td>\n",
       "      <td>8.062258</td>\n",
       "      <td>8.426149</td>\n",
       "      <td>8.426149</td>\n",
       "      <td>8.602325</td>\n",
       "      <td>8.306623</td>\n",
       "      <td>8.366600</td>\n",
       "      <td>8.306623</td>\n",
       "      <td>8.544003</td>\n",
       "      <td>8.185352</td>\n",
       "      <td>...</td>\n",
       "      <td>8.246211</td>\n",
       "      <td>8.246211</td>\n",
       "      <td>8.485281</td>\n",
       "      <td>8.717798</td>\n",
       "      <td>8.717798</td>\n",
       "      <td>8.246211</td>\n",
       "      <td>8.306623</td>\n",
       "      <td>8.426149</td>\n",
       "      <td>8.185352</td>\n",
       "      <td>8.426149</td>\n",
       "    </tr>\n",
       "  </tbody>\n",
       "</table>\n",
       "<p>1288 rows × 1288 columns</p>\n",
       "</div>"
      ],
      "text/plain": [
       "          0         1         2         3         4         5         6     \\\n",
       "0     0.000000  0.000000  0.000000  0.000000  0.000000  0.000000  0.000000   \n",
       "1     1.732051  4.795832  3.605551  4.358899  2.449490  3.162278  4.358899   \n",
       "2     3.162278  4.795832  3.741657  4.898980  2.449490  3.872983  4.472136   \n",
       "3     3.162278  5.196152  3.872983  4.898980  4.242640  3.872983  4.582576   \n",
       "4     3.464102  5.196152  4.123106  4.898980  4.358899  4.000000  4.795832   \n",
       "...        ...       ...       ...       ...       ...       ...       ...   \n",
       "1283  7.745967  7.937254  8.062258  8.306623  8.366600  8.124039  8.124039   \n",
       "1284  7.745967  7.937254  8.306623  8.306623  8.485281  8.124039  8.185352   \n",
       "1285  7.810250  7.937254  8.306623  8.306623  8.485281  8.185352  8.246211   \n",
       "1286  7.874008  8.000000  8.366600  8.366600  8.602325  8.185352  8.306623   \n",
       "1287  7.874008  8.062258  8.426149  8.426149  8.602325  8.306623  8.366600   \n",
       "\n",
       "          7         8         9     ...      1278      1279      1280  \\\n",
       "0     0.000000  0.000000  0.000000  ...  0.000000  0.000000  0.000000   \n",
       "1     1.414214  3.464102  4.000000  ...  1.000000  1.414214  1.000000   \n",
       "2     2.000000  3.605551  5.291502  ...  1.000000  2.236068  2.449490   \n",
       "3     2.236068  3.872983  5.477226  ...  1.732051  2.449490  2.828427   \n",
       "4     3.000000  3.872983  5.656854  ...  2.828427  4.242640  3.464102   \n",
       "...        ...       ...       ...  ...       ...       ...       ...   \n",
       "1283  7.745967  8.246211  8.000000  ...  7.874008  7.937254  8.185352   \n",
       "1284  7.745967  8.246211  8.000000  ...  7.874008  7.937254  8.185352   \n",
       "1285  7.937254  8.246211  8.000000  ...  8.000000  7.937254  8.185352   \n",
       "1286  8.246211  8.366600  8.000000  ...  8.062258  8.185352  8.426149   \n",
       "1287  8.306623  8.544003  8.185352  ...  8.246211  8.246211  8.485281   \n",
       "\n",
       "          1281      1282      1283      1284      1285      1286      1287  \n",
       "0     0.000000  0.000000  0.000000  0.000000  0.000000  0.000000  0.000000  \n",
       "1     0.000000  0.000000  3.162278  2.000000  1.000000  1.414214  2.236068  \n",
       "2     0.000000  1.414214  3.464102  2.000000  2.236068  1.414214  2.236068  \n",
       "3     1.000000  1.414214  3.605551  2.449490  2.645751  1.732051  2.236068  \n",
       "4     1.000000  1.414214  3.741657  2.449490  3.605551  2.236068  2.236068  \n",
       "...        ...       ...       ...       ...       ...       ...       ...  \n",
       "1283  8.366600  8.366600  8.000000  8.124039  8.124039  7.937254  8.185352  \n",
       "1284  8.426149  8.485281  8.062258  8.185352  8.124039  7.937254  8.185352  \n",
       "1285  8.485281  8.485281  8.124039  8.246211  8.124039  7.937254  8.185352  \n",
       "1286  8.544003  8.544003  8.246211  8.246211  8.366600  8.124039  8.366600  \n",
       "1287  8.717798  8.717798  8.246211  8.306623  8.426149  8.185352  8.426149  \n",
       "\n",
       "[1288 rows x 1288 columns]"
      ]
     },
     "execution_count": 39,
     "metadata": {},
     "output_type": "execute_result"
    }
   ],
   "source": [
    "df_tr=pd.DataFrame(neighbors_k)\n",
    "df_tr"
   ]
  },
  {
   "cell_type": "code",
   "execution_count": 40,
   "id": "eb40987c",
   "metadata": {},
   "outputs": [],
   "source": [
    "similarity= neighbors_k"
   ]
  },
  {
   "cell_type": "code",
   "execution_count": 41,
   "id": "56b6f21c",
   "metadata": {},
   "outputs": [],
   "source": [
    "Dmean=np.mean(similarity[1,:])"
   ]
  },
  {
   "cell_type": "code",
   "execution_count": 42,
   "id": "f4086588",
   "metadata": {},
   "outputs": [
    {
     "data": {
      "text/plain": [
       "1.63"
      ]
     },
     "execution_count": 42,
     "metadata": {},
     "output_type": "execute_result"
    }
   ],
   "source": [
    "round(Dmean, 2)"
   ]
  },
  {
   "cell_type": "code",
   "execution_count": 43,
   "id": "b926f931",
   "metadata": {},
   "outputs": [],
   "source": [
    "std=np.std(similarity[1,:])"
   ]
  },
  {
   "cell_type": "code",
   "execution_count": 44,
   "id": "b95b11fe",
   "metadata": {},
   "outputs": [
    {
     "data": {
      "text/plain": [
       "1.19"
      ]
     },
     "execution_count": 44,
     "metadata": {},
     "output_type": "execute_result"
    }
   ],
   "source": [
    "round(std, 2)"
   ]
  },
  {
   "cell_type": "code",
   "execution_count": 45,
   "id": "46e79a67",
   "metadata": {},
   "outputs": [
    {
     "name": "stdout",
     "output_type": "stream",
     "text": [
      "2.22\n"
     ]
    }
   ],
   "source": [
    "model_AD_limit=Dmean+std*0.5\n",
    "print(np.round(model_AD_limit, 2))"
   ]
  },
  {
   "cell_type": "code",
   "execution_count": 46,
   "id": "5edc38d6",
   "metadata": {},
   "outputs": [],
   "source": [
    "neighbors_k_ts= pairwise_distances(x_tr,Y=x_ts, n_jobs=-1)\n",
    "neighbors_k_ts.sort(0)"
   ]
  },
  {
   "cell_type": "code",
   "execution_count": 47,
   "id": "a4569ca2",
   "metadata": {},
   "outputs": [
    {
     "data": {
      "text/html": [
       "<div>\n",
       "<style scoped>\n",
       "    .dataframe tbody tr th:only-of-type {\n",
       "        vertical-align: middle;\n",
       "    }\n",
       "\n",
       "    .dataframe tbody tr th {\n",
       "        vertical-align: top;\n",
       "    }\n",
       "\n",
       "    .dataframe thead th {\n",
       "        text-align: right;\n",
       "    }\n",
       "</style>\n",
       "<table border=\"1\" class=\"dataframe\">\n",
       "  <thead>\n",
       "    <tr style=\"text-align: right;\">\n",
       "      <th></th>\n",
       "      <th>0</th>\n",
       "      <th>1</th>\n",
       "      <th>2</th>\n",
       "      <th>3</th>\n",
       "      <th>4</th>\n",
       "      <th>5</th>\n",
       "      <th>6</th>\n",
       "      <th>7</th>\n",
       "      <th>8</th>\n",
       "      <th>9</th>\n",
       "      <th>...</th>\n",
       "      <th>313</th>\n",
       "      <th>314</th>\n",
       "      <th>315</th>\n",
       "      <th>316</th>\n",
       "      <th>317</th>\n",
       "      <th>318</th>\n",
       "      <th>319</th>\n",
       "      <th>320</th>\n",
       "      <th>321</th>\n",
       "      <th>322</th>\n",
       "    </tr>\n",
       "  </thead>\n",
       "  <tbody>\n",
       "    <tr>\n",
       "      <th>0</th>\n",
       "      <td>3.316625</td>\n",
       "      <td>3.464102</td>\n",
       "      <td>1.000000</td>\n",
       "      <td>3.464102</td>\n",
       "      <td>0.000000</td>\n",
       "      <td>0.000000</td>\n",
       "      <td>3.741657</td>\n",
       "      <td>1.000000</td>\n",
       "      <td>2.449490</td>\n",
       "      <td>1.000000</td>\n",
       "      <td>...</td>\n",
       "      <td>1.000000</td>\n",
       "      <td>1.414214</td>\n",
       "      <td>3.162278</td>\n",
       "      <td>0.000000</td>\n",
       "      <td>1.414214</td>\n",
       "      <td>1.414214</td>\n",
       "      <td>3.162278</td>\n",
       "      <td>2.645751</td>\n",
       "      <td>2.449490</td>\n",
       "      <td>1.000000</td>\n",
       "    </tr>\n",
       "    <tr>\n",
       "      <th>1</th>\n",
       "      <td>3.316625</td>\n",
       "      <td>3.605551</td>\n",
       "      <td>4.242640</td>\n",
       "      <td>4.242640</td>\n",
       "      <td>0.000000</td>\n",
       "      <td>0.000000</td>\n",
       "      <td>4.242640</td>\n",
       "      <td>2.449490</td>\n",
       "      <td>2.828427</td>\n",
       "      <td>1.414214</td>\n",
       "      <td>...</td>\n",
       "      <td>1.414214</td>\n",
       "      <td>2.645751</td>\n",
       "      <td>3.316625</td>\n",
       "      <td>1.414214</td>\n",
       "      <td>1.732051</td>\n",
       "      <td>2.000000</td>\n",
       "      <td>3.316625</td>\n",
       "      <td>2.828427</td>\n",
       "      <td>3.162278</td>\n",
       "      <td>1.000000</td>\n",
       "    </tr>\n",
       "    <tr>\n",
       "      <th>2</th>\n",
       "      <td>3.316625</td>\n",
       "      <td>4.123106</td>\n",
       "      <td>4.358899</td>\n",
       "      <td>4.795832</td>\n",
       "      <td>1.000000</td>\n",
       "      <td>1.414214</td>\n",
       "      <td>4.358899</td>\n",
       "      <td>3.162278</td>\n",
       "      <td>3.162278</td>\n",
       "      <td>2.236068</td>\n",
       "      <td>...</td>\n",
       "      <td>1.732051</td>\n",
       "      <td>3.464102</td>\n",
       "      <td>3.316625</td>\n",
       "      <td>1.414214</td>\n",
       "      <td>2.000000</td>\n",
       "      <td>2.449490</td>\n",
       "      <td>3.316625</td>\n",
       "      <td>3.000000</td>\n",
       "      <td>3.162278</td>\n",
       "      <td>1.414214</td>\n",
       "    </tr>\n",
       "    <tr>\n",
       "      <th>3</th>\n",
       "      <td>3.464102</td>\n",
       "      <td>4.242640</td>\n",
       "      <td>4.472136</td>\n",
       "      <td>4.898980</td>\n",
       "      <td>2.000000</td>\n",
       "      <td>2.236068</td>\n",
       "      <td>4.358899</td>\n",
       "      <td>3.872983</td>\n",
       "      <td>3.162278</td>\n",
       "      <td>2.645751</td>\n",
       "      <td>...</td>\n",
       "      <td>2.000000</td>\n",
       "      <td>3.741657</td>\n",
       "      <td>3.316625</td>\n",
       "      <td>1.414214</td>\n",
       "      <td>2.000000</td>\n",
       "      <td>2.449490</td>\n",
       "      <td>3.464102</td>\n",
       "      <td>3.162278</td>\n",
       "      <td>3.316625</td>\n",
       "      <td>1.732051</td>\n",
       "    </tr>\n",
       "    <tr>\n",
       "      <th>4</th>\n",
       "      <td>3.605551</td>\n",
       "      <td>4.795832</td>\n",
       "      <td>4.690416</td>\n",
       "      <td>5.000000</td>\n",
       "      <td>2.000000</td>\n",
       "      <td>2.449490</td>\n",
       "      <td>4.358899</td>\n",
       "      <td>4.795832</td>\n",
       "      <td>3.316625</td>\n",
       "      <td>3.872983</td>\n",
       "      <td>...</td>\n",
       "      <td>2.236068</td>\n",
       "      <td>4.123106</td>\n",
       "      <td>3.316625</td>\n",
       "      <td>1.732051</td>\n",
       "      <td>2.236068</td>\n",
       "      <td>2.645751</td>\n",
       "      <td>3.605551</td>\n",
       "      <td>3.464102</td>\n",
       "      <td>3.316625</td>\n",
       "      <td>1.732051</td>\n",
       "    </tr>\n",
       "    <tr>\n",
       "      <th>...</th>\n",
       "      <td>...</td>\n",
       "      <td>...</td>\n",
       "      <td>...</td>\n",
       "      <td>...</td>\n",
       "      <td>...</td>\n",
       "      <td>...</td>\n",
       "      <td>...</td>\n",
       "      <td>...</td>\n",
       "      <td>...</td>\n",
       "      <td>...</td>\n",
       "      <td>...</td>\n",
       "      <td>...</td>\n",
       "      <td>...</td>\n",
       "      <td>...</td>\n",
       "      <td>...</td>\n",
       "      <td>...</td>\n",
       "      <td>...</td>\n",
       "      <td>...</td>\n",
       "      <td>...</td>\n",
       "      <td>...</td>\n",
       "      <td>...</td>\n",
       "    </tr>\n",
       "    <tr>\n",
       "      <th>1283</th>\n",
       "      <td>7.937254</td>\n",
       "      <td>8.485281</td>\n",
       "      <td>8.185352</td>\n",
       "      <td>8.062258</td>\n",
       "      <td>7.937254</td>\n",
       "      <td>7.681146</td>\n",
       "      <td>8.124039</td>\n",
       "      <td>8.717798</td>\n",
       "      <td>7.810250</td>\n",
       "      <td>8.185352</td>\n",
       "      <td>...</td>\n",
       "      <td>8.185352</td>\n",
       "      <td>8.306623</td>\n",
       "      <td>8.306623</td>\n",
       "      <td>8.246211</td>\n",
       "      <td>8.246211</td>\n",
       "      <td>7.937254</td>\n",
       "      <td>7.937254</td>\n",
       "      <td>7.810250</td>\n",
       "      <td>8.246211</td>\n",
       "      <td>8.306623</td>\n",
       "    </tr>\n",
       "    <tr>\n",
       "      <th>1284</th>\n",
       "      <td>7.937254</td>\n",
       "      <td>8.485281</td>\n",
       "      <td>8.246211</td>\n",
       "      <td>8.062258</td>\n",
       "      <td>8.000000</td>\n",
       "      <td>7.745967</td>\n",
       "      <td>8.246211</td>\n",
       "      <td>8.774964</td>\n",
       "      <td>7.874008</td>\n",
       "      <td>8.185352</td>\n",
       "      <td>...</td>\n",
       "      <td>8.246211</td>\n",
       "      <td>8.366600</td>\n",
       "      <td>8.306623</td>\n",
       "      <td>8.246211</td>\n",
       "      <td>8.366600</td>\n",
       "      <td>8.000000</td>\n",
       "      <td>8.000000</td>\n",
       "      <td>7.937254</td>\n",
       "      <td>8.306623</td>\n",
       "      <td>8.426149</td>\n",
       "    </tr>\n",
       "    <tr>\n",
       "      <th>1285</th>\n",
       "      <td>8.000000</td>\n",
       "      <td>8.485281</td>\n",
       "      <td>8.306623</td>\n",
       "      <td>8.246211</td>\n",
       "      <td>8.062258</td>\n",
       "      <td>7.810250</td>\n",
       "      <td>8.306623</td>\n",
       "      <td>8.774964</td>\n",
       "      <td>7.937254</td>\n",
       "      <td>8.185352</td>\n",
       "      <td>...</td>\n",
       "      <td>8.246211</td>\n",
       "      <td>8.366600</td>\n",
       "      <td>8.306623</td>\n",
       "      <td>8.306623</td>\n",
       "      <td>8.366600</td>\n",
       "      <td>8.000000</td>\n",
       "      <td>8.000000</td>\n",
       "      <td>7.937254</td>\n",
       "      <td>8.306623</td>\n",
       "      <td>8.426149</td>\n",
       "    </tr>\n",
       "    <tr>\n",
       "      <th>1286</th>\n",
       "      <td>8.062258</td>\n",
       "      <td>8.544003</td>\n",
       "      <td>8.366600</td>\n",
       "      <td>8.366600</td>\n",
       "      <td>8.124039</td>\n",
       "      <td>7.810250</td>\n",
       "      <td>8.426149</td>\n",
       "      <td>8.831760</td>\n",
       "      <td>8.000000</td>\n",
       "      <td>8.185352</td>\n",
       "      <td>...</td>\n",
       "      <td>8.246211</td>\n",
       "      <td>8.426149</td>\n",
       "      <td>8.306623</td>\n",
       "      <td>8.306623</td>\n",
       "      <td>8.426149</td>\n",
       "      <td>8.000000</td>\n",
       "      <td>8.062258</td>\n",
       "      <td>8.000000</td>\n",
       "      <td>8.426149</td>\n",
       "      <td>8.485281</td>\n",
       "    </tr>\n",
       "    <tr>\n",
       "      <th>1287</th>\n",
       "      <td>8.185352</td>\n",
       "      <td>8.544003</td>\n",
       "      <td>8.426149</td>\n",
       "      <td>8.366600</td>\n",
       "      <td>8.185352</td>\n",
       "      <td>7.810250</td>\n",
       "      <td>8.426149</td>\n",
       "      <td>8.888194</td>\n",
       "      <td>8.000000</td>\n",
       "      <td>8.366600</td>\n",
       "      <td>...</td>\n",
       "      <td>8.426149</td>\n",
       "      <td>8.602325</td>\n",
       "      <td>8.426149</td>\n",
       "      <td>8.366600</td>\n",
       "      <td>8.602325</td>\n",
       "      <td>8.062258</td>\n",
       "      <td>8.185352</td>\n",
       "      <td>8.000000</td>\n",
       "      <td>8.426149</td>\n",
       "      <td>8.660254</td>\n",
       "    </tr>\n",
       "  </tbody>\n",
       "</table>\n",
       "<p>1288 rows × 323 columns</p>\n",
       "</div>"
      ],
      "text/plain": [
       "           0         1         2         3         4         5         6    \\\n",
       "0     3.316625  3.464102  1.000000  3.464102  0.000000  0.000000  3.741657   \n",
       "1     3.316625  3.605551  4.242640  4.242640  0.000000  0.000000  4.242640   \n",
       "2     3.316625  4.123106  4.358899  4.795832  1.000000  1.414214  4.358899   \n",
       "3     3.464102  4.242640  4.472136  4.898980  2.000000  2.236068  4.358899   \n",
       "4     3.605551  4.795832  4.690416  5.000000  2.000000  2.449490  4.358899   \n",
       "...        ...       ...       ...       ...       ...       ...       ...   \n",
       "1283  7.937254  8.485281  8.185352  8.062258  7.937254  7.681146  8.124039   \n",
       "1284  7.937254  8.485281  8.246211  8.062258  8.000000  7.745967  8.246211   \n",
       "1285  8.000000  8.485281  8.306623  8.246211  8.062258  7.810250  8.306623   \n",
       "1286  8.062258  8.544003  8.366600  8.366600  8.124039  7.810250  8.426149   \n",
       "1287  8.185352  8.544003  8.426149  8.366600  8.185352  7.810250  8.426149   \n",
       "\n",
       "           7         8         9    ...       313       314       315  \\\n",
       "0     1.000000  2.449490  1.000000  ...  1.000000  1.414214  3.162278   \n",
       "1     2.449490  2.828427  1.414214  ...  1.414214  2.645751  3.316625   \n",
       "2     3.162278  3.162278  2.236068  ...  1.732051  3.464102  3.316625   \n",
       "3     3.872983  3.162278  2.645751  ...  2.000000  3.741657  3.316625   \n",
       "4     4.795832  3.316625  3.872983  ...  2.236068  4.123106  3.316625   \n",
       "...        ...       ...       ...  ...       ...       ...       ...   \n",
       "1283  8.717798  7.810250  8.185352  ...  8.185352  8.306623  8.306623   \n",
       "1284  8.774964  7.874008  8.185352  ...  8.246211  8.366600  8.306623   \n",
       "1285  8.774964  7.937254  8.185352  ...  8.246211  8.366600  8.306623   \n",
       "1286  8.831760  8.000000  8.185352  ...  8.246211  8.426149  8.306623   \n",
       "1287  8.888194  8.000000  8.366600  ...  8.426149  8.602325  8.426149   \n",
       "\n",
       "           316       317       318       319       320       321       322  \n",
       "0     0.000000  1.414214  1.414214  3.162278  2.645751  2.449490  1.000000  \n",
       "1     1.414214  1.732051  2.000000  3.316625  2.828427  3.162278  1.000000  \n",
       "2     1.414214  2.000000  2.449490  3.316625  3.000000  3.162278  1.414214  \n",
       "3     1.414214  2.000000  2.449490  3.464102  3.162278  3.316625  1.732051  \n",
       "4     1.732051  2.236068  2.645751  3.605551  3.464102  3.316625  1.732051  \n",
       "...        ...       ...       ...       ...       ...       ...       ...  \n",
       "1283  8.246211  8.246211  7.937254  7.937254  7.810250  8.246211  8.306623  \n",
       "1284  8.246211  8.366600  8.000000  8.000000  7.937254  8.306623  8.426149  \n",
       "1285  8.306623  8.366600  8.000000  8.000000  7.937254  8.306623  8.426149  \n",
       "1286  8.306623  8.426149  8.000000  8.062258  8.000000  8.426149  8.485281  \n",
       "1287  8.366600  8.602325  8.062258  8.185352  8.000000  8.426149  8.660254  \n",
       "\n",
       "[1288 rows x 323 columns]"
      ]
     },
     "execution_count": 47,
     "metadata": {},
     "output_type": "execute_result"
    }
   ],
   "source": [
    "x_ts_AD=pd.DataFrame(neighbors_k_ts)\n",
    "x_ts_AD"
   ]
  },
  {
   "cell_type": "code",
   "execution_count": 48,
   "id": "45bb683c",
   "metadata": {},
   "outputs": [
    {
     "name": "stdout",
     "output_type": "stream",
     "text": [
      "[3.317 3.464 1.    3.464 0.    0.    3.742 1.    2.449 1.    1.732 3.\n",
      " 4.243 2.    1.414 1.    2.646 0.    4.123 0.    2.    3.162 1.732 3.162\n",
      " 1.414 2.646 0.    3.317 0.    2.    3.    1.    2.449 4.243 1.    1.414\n",
      " 2.236 1.732 0.    1.    1.    2.    2.646 1.414 3.162 1.    4.243 1.414\n",
      " 1.414 0.    3.873 1.    0.    0.    0.    1.414 2.236 0.    0.    1.\n",
      " 3.464 2.236 1.    2.    3.606 0.    1.732 2.    1.414 0.    1.732 0.\n",
      " 0.    0.    3.317 0.    0.    2.236 2.236 1.    1.732 2.    0.    2.236\n",
      " 1.414 2.646 1.    2.449 2.449 0.    1.    0.    3.162 3.464 2.    1.\n",
      " 0.    0.    0.    3.464 0.    2.449 0.    2.    2.236 3.742 0.    3.\n",
      " 1.414 3.    1.    1.414 1.414 0.    3.317 0.    1.    2.236 0.    1.414\n",
      " 1.732 1.732 2.236 3.873 1.414 0.    2.449 1.    2.    1.    3.162 0.\n",
      " 2.236 3.606 3.    4.359 2.236 0.    3.162 4.472 1.414 2.    2.236 0.\n",
      " 1.    1.414 2.646 2.    1.732 0.    1.414 1.    0.    1.414 1.    1.\n",
      " 2.449 2.449 2.828 2.646 2.449 2.    0.    0.    1.414 0.    0.    1.414\n",
      " 0.    1.414 2.646 2.236 0.    0.    1.414 2.828 0.    1.    1.    3.162\n",
      " 2.449 1.732 0.    2.646 0.    2.828 2.449 0.    1.732 1.    2.828 0.\n",
      " 1.    3.    1.732 2.449 1.    2.646 2.449 1.414 1.    1.    2.236 3.\n",
      " 2.449 1.    2.449 2.646 0.    0.    0.    1.414 0.    4.472 1.732 3.873\n",
      " 1.414 1.414 0.    1.414 2.449 1.414 2.236 1.414 4.123 2.449 1.414 3.162\n",
      " 0.    0.    0.    2.646 1.    1.732 2.    1.414 2.    1.    1.    0.\n",
      " 2.    2.    1.414 3.742 1.    1.414 1.732 2.    0.    0.    1.732 2.828\n",
      " 1.    0.    0.    1.    0.    1.414 3.742 2.236 0.    1.    1.732 1.732\n",
      " 2.    0.    2.449 0.    1.732 1.    2.    2.449 0.    0.    2.828 2.236\n",
      " 2.236 1.732 0.    1.732 2.449 1.    4.69  2.236 1.    0.    0.    1.414\n",
      " 1.414 0.    0.    1.414 0.    1.414 3.317 2.    2.236 4.69  0.    2.828\n",
      " 2.646 2.236 2.646 1.    1.    1.    2.828 2.    1.414 1.    2.828 3.606\n",
      " 0.    1.    1.414 3.162 0.    1.414 1.414 3.162 2.646 2.449 1.   ]\n"
     ]
    }
   ],
   "source": [
    "similarity_ts= neighbors_k_ts\n",
    "cpd_AD=similarity_ts[0,:]\n",
    "cpd_value = np.round(cpd_AD, 3)\n",
    "print(cpd_value)"
   ]
  },
  {
   "cell_type": "code",
   "execution_count": 49,
   "id": "f7f1a991",
   "metadata": {},
   "outputs": [
    {
     "name": "stdout",
     "output_type": "stream",
     "text": [
      "[False False  True False  True  True False  True False  True  True False\n",
      " False  True  True  True False  True False  True  True False  True False\n",
      "  True False  True False  True  True False  True False False  True  True\n",
      " False  True  True  True  True  True False  True False  True False  True\n",
      "  True  True False  True  True  True  True  True False  True  True  True\n",
      " False False  True  True False  True  True  True  True  True  True  True\n",
      "  True  True False  True  True False False  True  True  True  True False\n",
      "  True False  True False False  True  True  True False False  True  True\n",
      "  True  True  True False  True False  True  True False False  True False\n",
      "  True False  True  True  True  True False  True  True False  True  True\n",
      "  True  True False False  True  True False  True  True  True False  True\n",
      " False False False False False  True False False  True  True False  True\n",
      "  True  True False  True  True  True  True  True  True  True  True  True\n",
      " False False False False False  True  True  True  True  True  True  True\n",
      "  True  True False False  True  True  True False  True  True  True False\n",
      " False  True  True False  True False False  True  True  True False  True\n",
      "  True False  True False  True False False  True  True  True False False\n",
      " False  True False False  True  True  True  True  True False  True False\n",
      "  True  True  True  True False  True False  True False False  True False\n",
      "  True  True  True False  True  True  True  True  True  True  True  True\n",
      "  True  True  True False  True  True  True  True  True  True  True False\n",
      "  True  True  True  True  True  True False False  True  True  True  True\n",
      "  True  True False  True  True  True  True False  True  True False False\n",
      " False  True  True  True False  True False False  True  True  True  True\n",
      "  True  True  True  True  True  True False  True False False  True False\n",
      " False False False  True  True  True False  True  True  True False False\n",
      "  True  True  True False  True  True  True False False False  True]\n"
     ]
    }
   ],
   "source": [
    "cpd_AD = np.where(cpd_value <= model_AD_limit, True, False)\n",
    "print(cpd_AD)"
   ]
  },
  {
   "cell_type": "code",
   "execution_count": 50,
   "id": "b9f2e5e8",
   "metadata": {},
   "outputs": [
    {
     "name": "stdout",
     "output_type": "stream",
     "text": [
      "Coverage =  0.653250773993808\n"
     ]
    }
   ],
   "source": [
    "print(\"Coverage = \", sum(cpd_AD) / len(cpd_AD))"
   ]
  },
  {
   "cell_type": "code",
   "execution_count": 51,
   "id": "356ff3e9",
   "metadata": {},
   "outputs": [
    {
     "name": "stdout",
     "output_type": "stream",
     "text": [
      "Indices of substances included in AD =  [  2   4   5   7   9  10  13  14  15  17  19  20  22  24  26  28  29  31\n",
      "  34  35  37  38  39  40  41  43  45  47  48  49  51  52  53  54  55  57\n",
      "  58  59  62  63  65  66  67  68  69  70  71  72  73  75  76  79  80  81\n",
      "  82  84  86  89  90  91  94  95  96  97  98 100 102 103 106 108 110 111\n",
      " 112 113 115 116 118 119 120 121 124 125 127 128 129 131 137 140 141 143\n",
      " 144 145 147 148 149 150 151 152 153 154 155 161 162 163 164 165 166 167\n",
      " 168 169 172 173 174 176 177 178 181 182 184 187 188 189 191 192 194 196\n",
      " 199 200 201 205 208 209 210 211 212 214 216 217 218 219 221 223 226 228\n",
      " 229 230 232 233 234 235 236 237 238 239 240 241 242 244 245 246 247 248\n",
      " 249 250 252 253 254 255 256 257 260 261 262 263 264 265 267 268 269 270\n",
      " 272 273 277 278 279 281 284 285 286 287 288 289 290 291 292 293 295 298\n",
      " 303 304 305 307 308 309 312 313 314 316 317 318 322]\n"
     ]
    }
   ],
   "source": [
    "print(\"Indices of substances included in AD = \", np.where(cpd_AD != 0)[0])"
   ]
  },
  {
   "cell_type": "code",
   "execution_count": 52,
   "id": "a398b75c",
   "metadata": {},
   "outputs": [],
   "source": [
    "out_Ad=list(np.where(cpd_AD == 0)[0])"
   ]
  },
  {
   "cell_type": "markdown",
   "id": "4b67bdba",
   "metadata": {},
   "source": [
    "# 12. Prediction only for molecules included in  AD"
   ]
  },
  {
   "cell_type": "code",
   "execution_count": 53,
   "id": "e0c0b1fa",
   "metadata": {},
   "outputs": [],
   "source": [
    "y_pred_rf_ad=list(y_pred_rf)"
   ]
  },
  {
   "cell_type": "code",
   "execution_count": 54,
   "id": "203723f4",
   "metadata": {},
   "outputs": [],
   "source": [
    "y_pred_rf_ad[:] = [x for i,x in enumerate(y_pred_rf_ad) if i not in out_Ad]"
   ]
  },
  {
   "cell_type": "code",
   "execution_count": 55,
   "id": "08929ffe",
   "metadata": {},
   "outputs": [
    {
     "data": {
      "text/plain": [
       "211"
      ]
     },
     "execution_count": 55,
     "metadata": {},
     "output_type": "execute_result"
    }
   ],
   "source": [
    "len(y_pred_rf_ad)"
   ]
  },
  {
   "cell_type": "code",
   "execution_count": 56,
   "id": "610a0eb9",
   "metadata": {},
   "outputs": [],
   "source": [
    "y_ts_ad=list(y_ts)"
   ]
  },
  {
   "cell_type": "code",
   "execution_count": 57,
   "id": "540e76fa",
   "metadata": {},
   "outputs": [],
   "source": [
    "y_ts_ad[:] = [x for i,x in enumerate(y_ts_ad) if i not in out_Ad]"
   ]
  },
  {
   "cell_type": "code",
   "execution_count": 58,
   "id": "83a47f5a",
   "metadata": {},
   "outputs": [
    {
     "data": {
      "text/plain": [
       "211"
      ]
     },
     "execution_count": 58,
     "metadata": {},
     "output_type": "execute_result"
    }
   ],
   "source": [
    "len(y_ts_ad)"
   ]
  },
  {
   "cell_type": "code",
   "execution_count": 59,
   "id": "a5d02326",
   "metadata": {},
   "outputs": [
    {
     "data": {
      "text/plain": [
       "0.64"
      ]
     },
     "execution_count": 59,
     "metadata": {},
     "output_type": "execute_result"
    }
   ],
   "source": [
    "Q2_TS = round(r2_score(y_ts_ad, y_pred_rf_ad), 2)\n",
    "Q2_TS"
   ]
  },
  {
   "cell_type": "code",
   "execution_count": 60,
   "id": "2050015d",
   "metadata": {},
   "outputs": [
    {
     "data": {
      "text/plain": [
       "0.69"
      ]
     },
     "execution_count": 60,
     "metadata": {},
     "output_type": "execute_result"
    }
   ],
   "source": [
    "RMSE_TS=round(np.sqrt(mean_absolute_error(y_ts_ad, y_pred_rf_ad)), 2)\n",
    "RMSE_TS"
   ]
  },
  {
   "cell_type": "code",
   "execution_count": 61,
   "id": "5e748911",
   "metadata": {},
   "outputs": [
    {
     "data": {
      "text/plain": [
       "array([[0., 0., 0., ..., 1., 1., 0.],\n",
       "       [0., 0., 0., ..., 1., 1., 0.],\n",
       "       [0., 0., 0., ..., 1., 1., 0.],\n",
       "       ...,\n",
       "       [0., 0., 0., ..., 1., 1., 0.],\n",
       "       [0., 0., 0., ..., 1., 1., 0.],\n",
       "       [0., 0., 0., ..., 1., 1., 0.]], dtype=float32)"
      ]
     },
     "execution_count": 61,
     "metadata": {},
     "output_type": "execute_result"
    }
   ],
   "source": [
    "x_tr"
   ]
  },
  {
   "cell_type": "code",
   "execution_count": null,
   "id": "5a5349b4",
   "metadata": {},
   "outputs": [],
   "source": []
  }
 ],
 "metadata": {
  "kernelspec": {
   "display_name": "Python3 (rdkit)",
   "language": "python",
   "name": "my-rdkit-env"
  },
  "language_info": {
   "codemirror_mode": {
    "name": "ipython",
    "version": 3
   },
   "file_extension": ".py",
   "mimetype": "text/x-python",
   "name": "python",
   "nbconvert_exporter": "python",
   "pygments_lexer": "ipython3",
   "version": "3.7.1"
  },
  "toc": {
   "base_numbering": 1,
   "nav_menu": {},
   "number_sections": true,
   "sideBar": true,
   "skip_h1_title": false,
   "title_cell": "Table of Contents",
   "title_sidebar": "Contents",
   "toc_cell": false,
   "toc_position": {},
   "toc_section_display": true,
   "toc_window_display": true
  }
 },
 "nbformat": 4,
 "nbformat_minor": 5
}
