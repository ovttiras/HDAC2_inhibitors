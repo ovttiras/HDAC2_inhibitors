{
 "cells": [
  {
   "cell_type": "markdown",
   "metadata": {},
   "source": [
    "# 1. Importing modules and functions"
   ]
  },
  {
   "cell_type": "code",
   "execution_count": 1,
   "metadata": {},
   "outputs": [],
   "source": [
    "import numpy as np\n",
    "import pandas as pd\n",
    "from rdkit import Chem, DataStructs\n",
    "from rdkit.Chem import AllChem, Descriptors\n",
    "from rdkit.ML.Descriptors import MoleculeDescriptors\n",
    "import chembl_structure_pipeline\n",
    "from molvs import standardize_smiles\n",
    "from sklearn.model_selection import KFold, GridSearchCV\n",
    "from sklearn.model_selection import permutation_test_score\n",
    "from sklearn.preprocessing import StandardScaler\n",
    "from sklearn.model_selection import cross_val_predict\n",
    "from sklearn import metrics\n",
    "from sklearn.metrics import pairwise_distances\n",
    "import joblib\n",
    "import pickle\n",
    "from numpy import savetxt\n",
    "from padelpy import from_sdf\n",
    "from IPython.display import HTML\n",
    "import matplotlib.pyplot as plt\n",
    "from sklearn.ensemble import RandomForestRegressor\n",
    "from sklearn.metrics import mean_squared_error\n",
    "from sklearn.metrics import mean_absolute_error\n",
    "from sklearn.metrics import r2_score\n",
    "from sklearn.svm import SVR"
   ]
  },
  {
   "cell_type": "markdown",
   "metadata": {},
   "source": [
    "# 2.Data entry and curation work set"
   ]
  },
  {
   "cell_type": "code",
   "execution_count": 2,
   "metadata": {},
   "outputs": [
    {
     "name": "stdout",
     "output_type": "stream",
     "text": [
      "Original data:  1288 molecules\n",
      "Failed data:  0 molecules\n"
     ]
    },
    {
     "data": {
      "text/html": [
       "<div>\n",
       "<style scoped>\n",
       "    .dataframe tbody tr th:only-of-type {\n",
       "        vertical-align: middle;\n",
       "    }\n",
       "\n",
       "    .dataframe tbody tr th {\n",
       "        vertical-align: top;\n",
       "    }\n",
       "\n",
       "    .dataframe thead th {\n",
       "        text-align: right;\n",
       "    }\n",
       "</style>\n",
       "<table border=\"1\" class=\"dataframe\">\n",
       "  <thead>\n",
       "    <tr style=\"text-align: right;\">\n",
       "      <th></th>\n",
       "      <th>No. failed molecule in original set</th>\n",
       "      <th>SMILES of wrong structure:</th>\n",
       "    </tr>\n",
       "    <tr>\n",
       "      <th>No.</th>\n",
       "      <th></th>\n",
       "      <th></th>\n",
       "    </tr>\n",
       "  </thead>\n",
       "  <tbody>\n",
       "  </tbody>\n",
       "</table>\n",
       "</div>"
      ],
      "text/plain": [
       "Empty DataFrame\n",
       "Columns: [No. failed molecule in original set, SMILES of wrong structure: ]\n",
       "Index: []"
      ]
     },
     "execution_count": 2,
     "metadata": {},
     "output_type": "execute_result"
    }
   ],
   "source": [
    "uploaded_file_ws=\"datasets/HDAC2_work.sdf\"\n",
    "supplier_ws = Chem.ForwardSDMolSupplier(uploaded_file_ws,sanitize=False)\n",
    "failed_mols_ws = []\n",
    "all_mols_ws =[]\n",
    "wrong_structure_ws=[]\n",
    "wrong_smiles_ws=[]\n",
    "y_tr = []\n",
    "y_bad_index=[]\n",
    "\n",
    "for i, m in enumerate(supplier_ws):\n",
    "    structure = Chem.Mol(m)\n",
    "    all_mols_ws.append(structure)\n",
    "    y_tr.append(m.GetProp(\"pchembl_value_mean\"))\n",
    "    try:\n",
    "        Chem.SanitizeMol(structure)\n",
    "    except:\n",
    "        failed_mols_ws.append(m)\n",
    "        wrong_smiles_ws.append(Chem.MolToSmiles(m))\n",
    "        wrong_structure_ws.append(str(i+1))\n",
    "        y_bad_index.append(i)\n",
    "print('Original data: ', len(all_mols_ws), 'molecules')\n",
    "print('Failed data: ', len(failed_mols_ws), 'molecules')\n",
    "number_ws =[]\n",
    "for i in range(len(failed_mols_ws)):\n",
    "        number_ws.append(str(i+1))\n",
    "bad_molecules_ws = pd.DataFrame({'No. failed molecule in original set': wrong_structure_ws, 'SMILES of wrong structure: ': wrong_smiles_ws, 'No.': number_ws}, index=None)\n",
    "bad_molecules_ws = bad_molecules_ws.set_index('No.')\n",
    "bad_molecules_ws"
   ]
  },
  {
   "cell_type": "markdown",
   "metadata": {},
   "source": [
    "deleting activity values for substances with incorrect structure"
   ]
  },
  {
   "cell_type": "code",
   "execution_count": 3,
   "metadata": {},
   "outputs": [],
   "source": [
    "y_tr[:] = [x for i,x in enumerate(y_tr) if i not in y_bad_index]"
   ]
  },
  {
   "cell_type": "code",
   "execution_count": 4,
   "metadata": {},
   "outputs": [
    {
     "data": {
      "text/plain": [
       "1288"
      ]
     },
     "execution_count": 4,
     "metadata": {},
     "output_type": "execute_result"
    }
   ],
   "source": [
    "len(y_tr)"
   ]
  },
  {
   "cell_type": "markdown",
   "metadata": {},
   "source": [
    "# 3.Standardization SDF file for work set"
   ]
  },
  {
   "cell_type": "code",
   "execution_count": 5,
   "metadata": {},
   "outputs": [
    {
     "name": "stdout",
     "output_type": "stream",
     "text": [
      "Kept data:  1288 molecules\n"
     ]
    }
   ],
   "source": [
    "records_ws = []\n",
    "for i in range(len(all_mols_ws)):\n",
    "    record = Chem.MolToMolBlock(all_mols_ws[i])\n",
    "    records_ws.append(record)\n",
    "            \n",
    "mols_ws = []\n",
    "for i,record in enumerate(records_ws):\n",
    "    standard_record = chembl_structure_pipeline.standardize_molblock(record)\n",
    "    m = Chem.MolFromMolBlock(standard_record)\n",
    "    mols_ws.append(m)\n",
    "           \n",
    "moldf_ws = []\n",
    "for val in mols_ws:\n",
    "    if val != None:\n",
    "        moldf_ws.append(val)\n",
    "print('Kept data: ', len(moldf_ws), 'molecules')"
   ]
  },
  {
   "cell_type": "markdown",
   "metadata": {},
   "source": [
    "# 4.Data entry and curation test set"
   ]
  },
  {
   "cell_type": "code",
   "execution_count": 6,
   "metadata": {},
   "outputs": [
    {
     "name": "stdout",
     "output_type": "stream",
     "text": [
      "Original data:  323 molecules\n",
      "Failed data:  0 molecules\n"
     ]
    },
    {
     "data": {
      "text/html": [
       "<div>\n",
       "<style scoped>\n",
       "    .dataframe tbody tr th:only-of-type {\n",
       "        vertical-align: middle;\n",
       "    }\n",
       "\n",
       "    .dataframe tbody tr th {\n",
       "        vertical-align: top;\n",
       "    }\n",
       "\n",
       "    .dataframe thead th {\n",
       "        text-align: right;\n",
       "    }\n",
       "</style>\n",
       "<table border=\"1\" class=\"dataframe\">\n",
       "  <thead>\n",
       "    <tr style=\"text-align: right;\">\n",
       "      <th></th>\n",
       "      <th>No. failed molecule in original set</th>\n",
       "      <th>SMILES of wrong structure:</th>\n",
       "    </tr>\n",
       "    <tr>\n",
       "      <th>No.</th>\n",
       "      <th></th>\n",
       "      <th></th>\n",
       "    </tr>\n",
       "  </thead>\n",
       "  <tbody>\n",
       "  </tbody>\n",
       "</table>\n",
       "</div>"
      ],
      "text/plain": [
       "Empty DataFrame\n",
       "Columns: [No. failed molecule in original set, SMILES of wrong structure: ]\n",
       "Index: []"
      ]
     },
     "execution_count": 6,
     "metadata": {},
     "output_type": "execute_result"
    }
   ],
   "source": [
    "uploaded_file_ts=\"datasets/HDAC2_test.sdf\"\n",
    "supplier_ts = Chem.ForwardSDMolSupplier(uploaded_file_ts,sanitize=False)\n",
    "failed_mols_ts = []\n",
    "all_mols_ts =[]\n",
    "wrong_structure_ts=[]\n",
    "wrong_smiles_ts=[]\n",
    "y_ts = []\n",
    "y_bad_index=[]\n",
    "for i, m in enumerate(supplier_ts):\n",
    "    structure = Chem.Mol(m)\n",
    "    all_mols_ts.append(structure)\n",
    "    y_ts.append(m.GetProp(\"pchembl_value_mean\"))\n",
    "    try:\n",
    "        Chem.SanitizeMol(structure)\n",
    "    except:\n",
    "        failed_mols_ts.append(m)\n",
    "        wrong_smiles_ts.append(Chem.MolToSmiles(m))\n",
    "        wrong_structure_ts.append(str(i+1))\n",
    "        y_bad_index.append(i)\n",
    "print('Original data: ', len(all_mols_ts), 'molecules')\n",
    "print('Failed data: ', len(failed_mols_ts), 'molecules')\n",
    "number_ts =[]\n",
    "for i in range(len(failed_mols_ts)):\n",
    "        number_ts.append(str(i+1))\n",
    "bad_molecules_ts = pd.DataFrame({'No. failed molecule in original set': wrong_structure_ts, 'SMILES of wrong structure: ': wrong_smiles_ts, 'No.': number_ts}, index=None)\n",
    "bad_molecules_ts = bad_molecules_ts.set_index('No.')\n",
    "bad_molecules_ts"
   ]
  },
  {
   "cell_type": "markdown",
   "metadata": {},
   "source": [
    "deleting activity values for substances with incorrect structure"
   ]
  },
  {
   "cell_type": "code",
   "execution_count": 7,
   "metadata": {},
   "outputs": [],
   "source": [
    "y_ts[:] = [x for i,x in enumerate(y_ts) if i not in y_bad_index]"
   ]
  },
  {
   "cell_type": "code",
   "execution_count": 8,
   "metadata": {},
   "outputs": [
    {
     "data": {
      "text/plain": [
       "323"
      ]
     },
     "execution_count": 8,
     "metadata": {},
     "output_type": "execute_result"
    }
   ],
   "source": [
    "len(y_ts)"
   ]
  },
  {
   "cell_type": "markdown",
   "metadata": {},
   "source": [
    "# 5.Standardization SDF file for test set"
   ]
  },
  {
   "cell_type": "code",
   "execution_count": 9,
   "metadata": {},
   "outputs": [
    {
     "name": "stdout",
     "output_type": "stream",
     "text": [
      "Kept data:  323 molecules\n"
     ]
    }
   ],
   "source": [
    "records_ts = []\n",
    "for i in range(len(all_mols_ts)):\n",
    "    record = Chem.MolToMolBlock(all_mols_ts[i])\n",
    "    records_ts.append(record)\n",
    "            \n",
    "mols_ts = []\n",
    "for i,record in enumerate(records_ts):\n",
    "    standard_record = chembl_structure_pipeline.standardize_molblock(record)\n",
    "    m = Chem.MolFromMolBlock(standard_record)\n",
    "    mols_ts.append(m)\n",
    "           \n",
    "moldf_ts = []\n",
    "for val in mols_ts:\n",
    "    if val != None:\n",
    "        moldf_ts.append(val)\n",
    "print('Kept data: ', len(moldf_ts), 'molecules')"
   ]
  },
  {
   "cell_type": "markdown",
   "metadata": {},
   "source": [
    "# 6.Descriptor calculation for work set"
   ]
  },
  {
   "cell_type": "code",
   "execution_count": 10,
   "metadata": {},
   "outputs": [],
   "source": [
    "fp_tr = [Chem.RDKFingerprint(m) for m in moldf_ws]"
   ]
  },
  {
   "cell_type": "code",
   "execution_count": 11,
   "metadata": {},
   "outputs": [],
   "source": [
    "def rdkit_numpy_convert(fp_tr):\n",
    "    output = []\n",
    "    for f in fp_tr:\n",
    "        arr = np.zeros((1,))\n",
    "        DataStructs.ConvertToNumpyArray(f, arr)\n",
    "        output.append(arr)\n",
    "    return np.asarray(output)"
   ]
  },
  {
   "cell_type": "code",
   "execution_count": 12,
   "metadata": {},
   "outputs": [],
   "source": [
    "from numpy import savetxt\n",
    "x_tr = rdkit_numpy_convert(fp_tr)"
   ]
  },
  {
   "cell_type": "code",
   "execution_count": 13,
   "metadata": {},
   "outputs": [],
   "source": [
    "x_tr = pd.DataFrame(np.array(x_tr)) "
   ]
  },
  {
   "cell_type": "code",
   "execution_count": 14,
   "metadata": {},
   "outputs": [
    {
     "data": {
      "text/html": [
       "<div>\n",
       "<style scoped>\n",
       "    .dataframe tbody tr th:only-of-type {\n",
       "        vertical-align: middle;\n",
       "    }\n",
       "\n",
       "    .dataframe tbody tr th {\n",
       "        vertical-align: top;\n",
       "    }\n",
       "\n",
       "    .dataframe thead th {\n",
       "        text-align: right;\n",
       "    }\n",
       "</style>\n",
       "<table border=\"1\" class=\"dataframe\">\n",
       "  <thead>\n",
       "    <tr style=\"text-align: right;\">\n",
       "      <th></th>\n",
       "      <th>0</th>\n",
       "      <th>1</th>\n",
       "      <th>2</th>\n",
       "      <th>3</th>\n",
       "      <th>4</th>\n",
       "      <th>5</th>\n",
       "      <th>6</th>\n",
       "      <th>7</th>\n",
       "      <th>8</th>\n",
       "      <th>9</th>\n",
       "      <th>...</th>\n",
       "      <th>2038</th>\n",
       "      <th>2039</th>\n",
       "      <th>2040</th>\n",
       "      <th>2041</th>\n",
       "      <th>2042</th>\n",
       "      <th>2043</th>\n",
       "      <th>2044</th>\n",
       "      <th>2045</th>\n",
       "      <th>2046</th>\n",
       "      <th>2047</th>\n",
       "    </tr>\n",
       "  </thead>\n",
       "  <tbody>\n",
       "    <tr>\n",
       "      <th>0</th>\n",
       "      <td>0.0</td>\n",
       "      <td>1.0</td>\n",
       "      <td>1.0</td>\n",
       "      <td>0.0</td>\n",
       "      <td>0.0</td>\n",
       "      <td>0.0</td>\n",
       "      <td>0.0</td>\n",
       "      <td>0.0</td>\n",
       "      <td>1.0</td>\n",
       "      <td>0.0</td>\n",
       "      <td>...</td>\n",
       "      <td>1.0</td>\n",
       "      <td>0.0</td>\n",
       "      <td>0.0</td>\n",
       "      <td>0.0</td>\n",
       "      <td>0.0</td>\n",
       "      <td>1.0</td>\n",
       "      <td>1.0</td>\n",
       "      <td>1.0</td>\n",
       "      <td>0.0</td>\n",
       "      <td>1.0</td>\n",
       "    </tr>\n",
       "    <tr>\n",
       "      <th>1</th>\n",
       "      <td>1.0</td>\n",
       "      <td>0.0</td>\n",
       "      <td>0.0</td>\n",
       "      <td>1.0</td>\n",
       "      <td>1.0</td>\n",
       "      <td>1.0</td>\n",
       "      <td>1.0</td>\n",
       "      <td>0.0</td>\n",
       "      <td>0.0</td>\n",
       "      <td>0.0</td>\n",
       "      <td>...</td>\n",
       "      <td>0.0</td>\n",
       "      <td>1.0</td>\n",
       "      <td>0.0</td>\n",
       "      <td>1.0</td>\n",
       "      <td>0.0</td>\n",
       "      <td>0.0</td>\n",
       "      <td>0.0</td>\n",
       "      <td>0.0</td>\n",
       "      <td>0.0</td>\n",
       "      <td>1.0</td>\n",
       "    </tr>\n",
       "    <tr>\n",
       "      <th>2</th>\n",
       "      <td>0.0</td>\n",
       "      <td>0.0</td>\n",
       "      <td>0.0</td>\n",
       "      <td>0.0</td>\n",
       "      <td>0.0</td>\n",
       "      <td>0.0</td>\n",
       "      <td>0.0</td>\n",
       "      <td>0.0</td>\n",
       "      <td>0.0</td>\n",
       "      <td>0.0</td>\n",
       "      <td>...</td>\n",
       "      <td>1.0</td>\n",
       "      <td>0.0</td>\n",
       "      <td>0.0</td>\n",
       "      <td>0.0</td>\n",
       "      <td>1.0</td>\n",
       "      <td>1.0</td>\n",
       "      <td>0.0</td>\n",
       "      <td>0.0</td>\n",
       "      <td>0.0</td>\n",
       "      <td>1.0</td>\n",
       "    </tr>\n",
       "    <tr>\n",
       "      <th>3</th>\n",
       "      <td>1.0</td>\n",
       "      <td>0.0</td>\n",
       "      <td>0.0</td>\n",
       "      <td>0.0</td>\n",
       "      <td>0.0</td>\n",
       "      <td>0.0</td>\n",
       "      <td>0.0</td>\n",
       "      <td>0.0</td>\n",
       "      <td>1.0</td>\n",
       "      <td>0.0</td>\n",
       "      <td>...</td>\n",
       "      <td>1.0</td>\n",
       "      <td>0.0</td>\n",
       "      <td>0.0</td>\n",
       "      <td>1.0</td>\n",
       "      <td>0.0</td>\n",
       "      <td>0.0</td>\n",
       "      <td>0.0</td>\n",
       "      <td>0.0</td>\n",
       "      <td>0.0</td>\n",
       "      <td>1.0</td>\n",
       "    </tr>\n",
       "    <tr>\n",
       "      <th>4</th>\n",
       "      <td>1.0</td>\n",
       "      <td>1.0</td>\n",
       "      <td>0.0</td>\n",
       "      <td>0.0</td>\n",
       "      <td>1.0</td>\n",
       "      <td>1.0</td>\n",
       "      <td>1.0</td>\n",
       "      <td>1.0</td>\n",
       "      <td>0.0</td>\n",
       "      <td>0.0</td>\n",
       "      <td>...</td>\n",
       "      <td>1.0</td>\n",
       "      <td>1.0</td>\n",
       "      <td>0.0</td>\n",
       "      <td>1.0</td>\n",
       "      <td>1.0</td>\n",
       "      <td>1.0</td>\n",
       "      <td>0.0</td>\n",
       "      <td>0.0</td>\n",
       "      <td>0.0</td>\n",
       "      <td>1.0</td>\n",
       "    </tr>\n",
       "    <tr>\n",
       "      <th>...</th>\n",
       "      <td>...</td>\n",
       "      <td>...</td>\n",
       "      <td>...</td>\n",
       "      <td>...</td>\n",
       "      <td>...</td>\n",
       "      <td>...</td>\n",
       "      <td>...</td>\n",
       "      <td>...</td>\n",
       "      <td>...</td>\n",
       "      <td>...</td>\n",
       "      <td>...</td>\n",
       "      <td>...</td>\n",
       "      <td>...</td>\n",
       "      <td>...</td>\n",
       "      <td>...</td>\n",
       "      <td>...</td>\n",
       "      <td>...</td>\n",
       "      <td>...</td>\n",
       "      <td>...</td>\n",
       "      <td>...</td>\n",
       "      <td>...</td>\n",
       "    </tr>\n",
       "    <tr>\n",
       "      <th>1283</th>\n",
       "      <td>1.0</td>\n",
       "      <td>1.0</td>\n",
       "      <td>1.0</td>\n",
       "      <td>0.0</td>\n",
       "      <td>0.0</td>\n",
       "      <td>1.0</td>\n",
       "      <td>1.0</td>\n",
       "      <td>1.0</td>\n",
       "      <td>1.0</td>\n",
       "      <td>0.0</td>\n",
       "      <td>...</td>\n",
       "      <td>1.0</td>\n",
       "      <td>1.0</td>\n",
       "      <td>1.0</td>\n",
       "      <td>1.0</td>\n",
       "      <td>1.0</td>\n",
       "      <td>1.0</td>\n",
       "      <td>0.0</td>\n",
       "      <td>1.0</td>\n",
       "      <td>0.0</td>\n",
       "      <td>1.0</td>\n",
       "    </tr>\n",
       "    <tr>\n",
       "      <th>1284</th>\n",
       "      <td>1.0</td>\n",
       "      <td>0.0</td>\n",
       "      <td>1.0</td>\n",
       "      <td>0.0</td>\n",
       "      <td>0.0</td>\n",
       "      <td>1.0</td>\n",
       "      <td>0.0</td>\n",
       "      <td>0.0</td>\n",
       "      <td>0.0</td>\n",
       "      <td>0.0</td>\n",
       "      <td>...</td>\n",
       "      <td>1.0</td>\n",
       "      <td>0.0</td>\n",
       "      <td>1.0</td>\n",
       "      <td>0.0</td>\n",
       "      <td>0.0</td>\n",
       "      <td>1.0</td>\n",
       "      <td>1.0</td>\n",
       "      <td>1.0</td>\n",
       "      <td>0.0</td>\n",
       "      <td>1.0</td>\n",
       "    </tr>\n",
       "    <tr>\n",
       "      <th>1285</th>\n",
       "      <td>1.0</td>\n",
       "      <td>1.0</td>\n",
       "      <td>1.0</td>\n",
       "      <td>0.0</td>\n",
       "      <td>0.0</td>\n",
       "      <td>1.0</td>\n",
       "      <td>1.0</td>\n",
       "      <td>1.0</td>\n",
       "      <td>0.0</td>\n",
       "      <td>1.0</td>\n",
       "      <td>...</td>\n",
       "      <td>1.0</td>\n",
       "      <td>0.0</td>\n",
       "      <td>0.0</td>\n",
       "      <td>0.0</td>\n",
       "      <td>1.0</td>\n",
       "      <td>0.0</td>\n",
       "      <td>1.0</td>\n",
       "      <td>0.0</td>\n",
       "      <td>1.0</td>\n",
       "      <td>1.0</td>\n",
       "    </tr>\n",
       "    <tr>\n",
       "      <th>1286</th>\n",
       "      <td>1.0</td>\n",
       "      <td>1.0</td>\n",
       "      <td>1.0</td>\n",
       "      <td>0.0</td>\n",
       "      <td>0.0</td>\n",
       "      <td>1.0</td>\n",
       "      <td>0.0</td>\n",
       "      <td>1.0</td>\n",
       "      <td>0.0</td>\n",
       "      <td>0.0</td>\n",
       "      <td>...</td>\n",
       "      <td>1.0</td>\n",
       "      <td>0.0</td>\n",
       "      <td>0.0</td>\n",
       "      <td>1.0</td>\n",
       "      <td>0.0</td>\n",
       "      <td>0.0</td>\n",
       "      <td>0.0</td>\n",
       "      <td>0.0</td>\n",
       "      <td>0.0</td>\n",
       "      <td>1.0</td>\n",
       "    </tr>\n",
       "    <tr>\n",
       "      <th>1287</th>\n",
       "      <td>1.0</td>\n",
       "      <td>1.0</td>\n",
       "      <td>1.0</td>\n",
       "      <td>0.0</td>\n",
       "      <td>0.0</td>\n",
       "      <td>1.0</td>\n",
       "      <td>1.0</td>\n",
       "      <td>1.0</td>\n",
       "      <td>0.0</td>\n",
       "      <td>0.0</td>\n",
       "      <td>...</td>\n",
       "      <td>1.0</td>\n",
       "      <td>0.0</td>\n",
       "      <td>0.0</td>\n",
       "      <td>1.0</td>\n",
       "      <td>0.0</td>\n",
       "      <td>0.0</td>\n",
       "      <td>0.0</td>\n",
       "      <td>0.0</td>\n",
       "      <td>0.0</td>\n",
       "      <td>1.0</td>\n",
       "    </tr>\n",
       "  </tbody>\n",
       "</table>\n",
       "<p>1288 rows × 2048 columns</p>\n",
       "</div>"
      ],
      "text/plain": [
       "      0     1     2     3     4     5     6     7     8     9     ...  2038  \\\n",
       "0      0.0   1.0   1.0   0.0   0.0   0.0   0.0   0.0   1.0   0.0  ...   1.0   \n",
       "1      1.0   0.0   0.0   1.0   1.0   1.0   1.0   0.0   0.0   0.0  ...   0.0   \n",
       "2      0.0   0.0   0.0   0.0   0.0   0.0   0.0   0.0   0.0   0.0  ...   1.0   \n",
       "3      1.0   0.0   0.0   0.0   0.0   0.0   0.0   0.0   1.0   0.0  ...   1.0   \n",
       "4      1.0   1.0   0.0   0.0   1.0   1.0   1.0   1.0   0.0   0.0  ...   1.0   \n",
       "...    ...   ...   ...   ...   ...   ...   ...   ...   ...   ...  ...   ...   \n",
       "1283   1.0   1.0   1.0   0.0   0.0   1.0   1.0   1.0   1.0   0.0  ...   1.0   \n",
       "1284   1.0   0.0   1.0   0.0   0.0   1.0   0.0   0.0   0.0   0.0  ...   1.0   \n",
       "1285   1.0   1.0   1.0   0.0   0.0   1.0   1.0   1.0   0.0   1.0  ...   1.0   \n",
       "1286   1.0   1.0   1.0   0.0   0.0   1.0   0.0   1.0   0.0   0.0  ...   1.0   \n",
       "1287   1.0   1.0   1.0   0.0   0.0   1.0   1.0   1.0   0.0   0.0  ...   1.0   \n",
       "\n",
       "      2039  2040  2041  2042  2043  2044  2045  2046  2047  \n",
       "0      0.0   0.0   0.0   0.0   1.0   1.0   1.0   0.0   1.0  \n",
       "1      1.0   0.0   1.0   0.0   0.0   0.0   0.0   0.0   1.0  \n",
       "2      0.0   0.0   0.0   1.0   1.0   0.0   0.0   0.0   1.0  \n",
       "3      0.0   0.0   1.0   0.0   0.0   0.0   0.0   0.0   1.0  \n",
       "4      1.0   0.0   1.0   1.0   1.0   0.0   0.0   0.0   1.0  \n",
       "...    ...   ...   ...   ...   ...   ...   ...   ...   ...  \n",
       "1283   1.0   1.0   1.0   1.0   1.0   0.0   1.0   0.0   1.0  \n",
       "1284   0.0   1.0   0.0   0.0   1.0   1.0   1.0   0.0   1.0  \n",
       "1285   0.0   0.0   0.0   1.0   0.0   1.0   0.0   1.0   1.0  \n",
       "1286   0.0   0.0   1.0   0.0   0.0   0.0   0.0   0.0   1.0  \n",
       "1287   0.0   0.0   1.0   0.0   0.0   0.0   0.0   0.0   1.0  \n",
       "\n",
       "[1288 rows x 2048 columns]"
      ]
     },
     "execution_count": 14,
     "metadata": {},
     "output_type": "execute_result"
    }
   ],
   "source": [
    "x_tr"
   ]
  },
  {
   "cell_type": "code",
   "execution_count": 15,
   "metadata": {},
   "outputs": [],
   "source": [
    "x_tr.to_csv('Models/Topological_fingerprints/x_ts_TP.csv', index=True)"
   ]
  },
  {
   "cell_type": "code",
   "execution_count": 16,
   "metadata": {},
   "outputs": [
    {
     "data": {
      "text/plain": [
       "(1288, 2048)"
      ]
     },
     "execution_count": 16,
     "metadata": {},
     "output_type": "execute_result"
    }
   ],
   "source": [
    "x_tr.shape"
   ]
  },
  {
   "cell_type": "markdown",
   "metadata": {},
   "source": [
    "# 7.Descriptor calculation for test set"
   ]
  },
  {
   "cell_type": "code",
   "execution_count": 17,
   "metadata": {},
   "outputs": [],
   "source": [
    "fp_ts = [Chem.RDKFingerprint(m) for m in moldf_ts]"
   ]
  },
  {
   "cell_type": "code",
   "execution_count": 18,
   "metadata": {},
   "outputs": [],
   "source": [
    "def rdkit_numpy_convert(fp_ts):\n",
    "    output = []\n",
    "    for f in fp_ts:\n",
    "        arr = np.zeros((1,))\n",
    "        DataStructs.ConvertToNumpyArray(f, arr)\n",
    "        output.append(arr)\n",
    "    return np.asarray(output)"
   ]
  },
  {
   "cell_type": "code",
   "execution_count": 19,
   "metadata": {},
   "outputs": [],
   "source": [
    "x_ts = rdkit_numpy_convert(fp_ts)"
   ]
  },
  {
   "cell_type": "code",
   "execution_count": 20,
   "metadata": {},
   "outputs": [],
   "source": [
    "x_ts = pd.DataFrame(np.array(x_ts)) "
   ]
  },
  {
   "cell_type": "code",
   "execution_count": 21,
   "metadata": {},
   "outputs": [
    {
     "data": {
      "text/html": [
       "<div>\n",
       "<style scoped>\n",
       "    .dataframe tbody tr th:only-of-type {\n",
       "        vertical-align: middle;\n",
       "    }\n",
       "\n",
       "    .dataframe tbody tr th {\n",
       "        vertical-align: top;\n",
       "    }\n",
       "\n",
       "    .dataframe thead th {\n",
       "        text-align: right;\n",
       "    }\n",
       "</style>\n",
       "<table border=\"1\" class=\"dataframe\">\n",
       "  <thead>\n",
       "    <tr style=\"text-align: right;\">\n",
       "      <th></th>\n",
       "      <th>0</th>\n",
       "      <th>1</th>\n",
       "      <th>2</th>\n",
       "      <th>3</th>\n",
       "      <th>4</th>\n",
       "      <th>5</th>\n",
       "      <th>6</th>\n",
       "      <th>7</th>\n",
       "      <th>8</th>\n",
       "      <th>9</th>\n",
       "      <th>...</th>\n",
       "      <th>2038</th>\n",
       "      <th>2039</th>\n",
       "      <th>2040</th>\n",
       "      <th>2041</th>\n",
       "      <th>2042</th>\n",
       "      <th>2043</th>\n",
       "      <th>2044</th>\n",
       "      <th>2045</th>\n",
       "      <th>2046</th>\n",
       "      <th>2047</th>\n",
       "    </tr>\n",
       "  </thead>\n",
       "  <tbody>\n",
       "    <tr>\n",
       "      <th>0</th>\n",
       "      <td>0.0</td>\n",
       "      <td>0.0</td>\n",
       "      <td>0.0</td>\n",
       "      <td>0.0</td>\n",
       "      <td>0.0</td>\n",
       "      <td>0.0</td>\n",
       "      <td>0.0</td>\n",
       "      <td>0.0</td>\n",
       "      <td>0.0</td>\n",
       "      <td>0.0</td>\n",
       "      <td>...</td>\n",
       "      <td>0.0</td>\n",
       "      <td>0.0</td>\n",
       "      <td>0.0</td>\n",
       "      <td>0.0</td>\n",
       "      <td>0.0</td>\n",
       "      <td>0.0</td>\n",
       "      <td>0.0</td>\n",
       "      <td>0.0</td>\n",
       "      <td>0.0</td>\n",
       "      <td>1.0</td>\n",
       "    </tr>\n",
       "    <tr>\n",
       "      <th>1</th>\n",
       "      <td>1.0</td>\n",
       "      <td>0.0</td>\n",
       "      <td>0.0</td>\n",
       "      <td>0.0</td>\n",
       "      <td>0.0</td>\n",
       "      <td>0.0</td>\n",
       "      <td>0.0</td>\n",
       "      <td>0.0</td>\n",
       "      <td>1.0</td>\n",
       "      <td>0.0</td>\n",
       "      <td>...</td>\n",
       "      <td>1.0</td>\n",
       "      <td>0.0</td>\n",
       "      <td>0.0</td>\n",
       "      <td>1.0</td>\n",
       "      <td>0.0</td>\n",
       "      <td>0.0</td>\n",
       "      <td>0.0</td>\n",
       "      <td>0.0</td>\n",
       "      <td>0.0</td>\n",
       "      <td>1.0</td>\n",
       "    </tr>\n",
       "    <tr>\n",
       "      <th>2</th>\n",
       "      <td>0.0</td>\n",
       "      <td>0.0</td>\n",
       "      <td>1.0</td>\n",
       "      <td>0.0</td>\n",
       "      <td>0.0</td>\n",
       "      <td>0.0</td>\n",
       "      <td>0.0</td>\n",
       "      <td>0.0</td>\n",
       "      <td>1.0</td>\n",
       "      <td>0.0</td>\n",
       "      <td>...</td>\n",
       "      <td>1.0</td>\n",
       "      <td>0.0</td>\n",
       "      <td>0.0</td>\n",
       "      <td>0.0</td>\n",
       "      <td>0.0</td>\n",
       "      <td>1.0</td>\n",
       "      <td>1.0</td>\n",
       "      <td>0.0</td>\n",
       "      <td>0.0</td>\n",
       "      <td>1.0</td>\n",
       "    </tr>\n",
       "    <tr>\n",
       "      <th>3</th>\n",
       "      <td>1.0</td>\n",
       "      <td>0.0</td>\n",
       "      <td>0.0</td>\n",
       "      <td>1.0</td>\n",
       "      <td>0.0</td>\n",
       "      <td>1.0</td>\n",
       "      <td>0.0</td>\n",
       "      <td>0.0</td>\n",
       "      <td>0.0</td>\n",
       "      <td>0.0</td>\n",
       "      <td>...</td>\n",
       "      <td>0.0</td>\n",
       "      <td>0.0</td>\n",
       "      <td>0.0</td>\n",
       "      <td>0.0</td>\n",
       "      <td>1.0</td>\n",
       "      <td>0.0</td>\n",
       "      <td>0.0</td>\n",
       "      <td>0.0</td>\n",
       "      <td>0.0</td>\n",
       "      <td>0.0</td>\n",
       "    </tr>\n",
       "    <tr>\n",
       "      <th>4</th>\n",
       "      <td>0.0</td>\n",
       "      <td>0.0</td>\n",
       "      <td>0.0</td>\n",
       "      <td>0.0</td>\n",
       "      <td>0.0</td>\n",
       "      <td>0.0</td>\n",
       "      <td>0.0</td>\n",
       "      <td>0.0</td>\n",
       "      <td>0.0</td>\n",
       "      <td>0.0</td>\n",
       "      <td>...</td>\n",
       "      <td>0.0</td>\n",
       "      <td>0.0</td>\n",
       "      <td>0.0</td>\n",
       "      <td>0.0</td>\n",
       "      <td>0.0</td>\n",
       "      <td>0.0</td>\n",
       "      <td>0.0</td>\n",
       "      <td>0.0</td>\n",
       "      <td>0.0</td>\n",
       "      <td>1.0</td>\n",
       "    </tr>\n",
       "    <tr>\n",
       "      <th>...</th>\n",
       "      <td>...</td>\n",
       "      <td>...</td>\n",
       "      <td>...</td>\n",
       "      <td>...</td>\n",
       "      <td>...</td>\n",
       "      <td>...</td>\n",
       "      <td>...</td>\n",
       "      <td>...</td>\n",
       "      <td>...</td>\n",
       "      <td>...</td>\n",
       "      <td>...</td>\n",
       "      <td>...</td>\n",
       "      <td>...</td>\n",
       "      <td>...</td>\n",
       "      <td>...</td>\n",
       "      <td>...</td>\n",
       "      <td>...</td>\n",
       "      <td>...</td>\n",
       "      <td>...</td>\n",
       "      <td>...</td>\n",
       "      <td>...</td>\n",
       "    </tr>\n",
       "    <tr>\n",
       "      <th>318</th>\n",
       "      <td>1.0</td>\n",
       "      <td>0.0</td>\n",
       "      <td>1.0</td>\n",
       "      <td>0.0</td>\n",
       "      <td>0.0</td>\n",
       "      <td>1.0</td>\n",
       "      <td>0.0</td>\n",
       "      <td>0.0</td>\n",
       "      <td>1.0</td>\n",
       "      <td>0.0</td>\n",
       "      <td>...</td>\n",
       "      <td>1.0</td>\n",
       "      <td>0.0</td>\n",
       "      <td>1.0</td>\n",
       "      <td>0.0</td>\n",
       "      <td>0.0</td>\n",
       "      <td>1.0</td>\n",
       "      <td>1.0</td>\n",
       "      <td>1.0</td>\n",
       "      <td>0.0</td>\n",
       "      <td>1.0</td>\n",
       "    </tr>\n",
       "    <tr>\n",
       "      <th>319</th>\n",
       "      <td>1.0</td>\n",
       "      <td>0.0</td>\n",
       "      <td>0.0</td>\n",
       "      <td>0.0</td>\n",
       "      <td>0.0</td>\n",
       "      <td>1.0</td>\n",
       "      <td>0.0</td>\n",
       "      <td>0.0</td>\n",
       "      <td>0.0</td>\n",
       "      <td>0.0</td>\n",
       "      <td>...</td>\n",
       "      <td>1.0</td>\n",
       "      <td>1.0</td>\n",
       "      <td>0.0</td>\n",
       "      <td>1.0</td>\n",
       "      <td>0.0</td>\n",
       "      <td>1.0</td>\n",
       "      <td>0.0</td>\n",
       "      <td>1.0</td>\n",
       "      <td>0.0</td>\n",
       "      <td>1.0</td>\n",
       "    </tr>\n",
       "    <tr>\n",
       "      <th>320</th>\n",
       "      <td>0.0</td>\n",
       "      <td>1.0</td>\n",
       "      <td>1.0</td>\n",
       "      <td>0.0</td>\n",
       "      <td>0.0</td>\n",
       "      <td>0.0</td>\n",
       "      <td>0.0</td>\n",
       "      <td>0.0</td>\n",
       "      <td>0.0</td>\n",
       "      <td>0.0</td>\n",
       "      <td>...</td>\n",
       "      <td>1.0</td>\n",
       "      <td>0.0</td>\n",
       "      <td>0.0</td>\n",
       "      <td>0.0</td>\n",
       "      <td>0.0</td>\n",
       "      <td>1.0</td>\n",
       "      <td>0.0</td>\n",
       "      <td>1.0</td>\n",
       "      <td>1.0</td>\n",
       "      <td>1.0</td>\n",
       "    </tr>\n",
       "    <tr>\n",
       "      <th>321</th>\n",
       "      <td>1.0</td>\n",
       "      <td>0.0</td>\n",
       "      <td>1.0</td>\n",
       "      <td>1.0</td>\n",
       "      <td>0.0</td>\n",
       "      <td>1.0</td>\n",
       "      <td>0.0</td>\n",
       "      <td>0.0</td>\n",
       "      <td>1.0</td>\n",
       "      <td>1.0</td>\n",
       "      <td>...</td>\n",
       "      <td>0.0</td>\n",
       "      <td>0.0</td>\n",
       "      <td>1.0</td>\n",
       "      <td>1.0</td>\n",
       "      <td>0.0</td>\n",
       "      <td>0.0</td>\n",
       "      <td>0.0</td>\n",
       "      <td>0.0</td>\n",
       "      <td>0.0</td>\n",
       "      <td>1.0</td>\n",
       "    </tr>\n",
       "    <tr>\n",
       "      <th>322</th>\n",
       "      <td>1.0</td>\n",
       "      <td>1.0</td>\n",
       "      <td>0.0</td>\n",
       "      <td>0.0</td>\n",
       "      <td>0.0</td>\n",
       "      <td>1.0</td>\n",
       "      <td>1.0</td>\n",
       "      <td>1.0</td>\n",
       "      <td>0.0</td>\n",
       "      <td>0.0</td>\n",
       "      <td>...</td>\n",
       "      <td>1.0</td>\n",
       "      <td>0.0</td>\n",
       "      <td>0.0</td>\n",
       "      <td>1.0</td>\n",
       "      <td>0.0</td>\n",
       "      <td>0.0</td>\n",
       "      <td>0.0</td>\n",
       "      <td>0.0</td>\n",
       "      <td>0.0</td>\n",
       "      <td>1.0</td>\n",
       "    </tr>\n",
       "  </tbody>\n",
       "</table>\n",
       "<p>323 rows × 2048 columns</p>\n",
       "</div>"
      ],
      "text/plain": [
       "     0     1     2     3     4     5     6     7     8     9     ...  2038  \\\n",
       "0     0.0   0.0   0.0   0.0   0.0   0.0   0.0   0.0   0.0   0.0  ...   0.0   \n",
       "1     1.0   0.0   0.0   0.0   0.0   0.0   0.0   0.0   1.0   0.0  ...   1.0   \n",
       "2     0.0   0.0   1.0   0.0   0.0   0.0   0.0   0.0   1.0   0.0  ...   1.0   \n",
       "3     1.0   0.0   0.0   1.0   0.0   1.0   0.0   0.0   0.0   0.0  ...   0.0   \n",
       "4     0.0   0.0   0.0   0.0   0.0   0.0   0.0   0.0   0.0   0.0  ...   0.0   \n",
       "..    ...   ...   ...   ...   ...   ...   ...   ...   ...   ...  ...   ...   \n",
       "318   1.0   0.0   1.0   0.0   0.0   1.0   0.0   0.0   1.0   0.0  ...   1.0   \n",
       "319   1.0   0.0   0.0   0.0   0.0   1.0   0.0   0.0   0.0   0.0  ...   1.0   \n",
       "320   0.0   1.0   1.0   0.0   0.0   0.0   0.0   0.0   0.0   0.0  ...   1.0   \n",
       "321   1.0   0.0   1.0   1.0   0.0   1.0   0.0   0.0   1.0   1.0  ...   0.0   \n",
       "322   1.0   1.0   0.0   0.0   0.0   1.0   1.0   1.0   0.0   0.0  ...   1.0   \n",
       "\n",
       "     2039  2040  2041  2042  2043  2044  2045  2046  2047  \n",
       "0     0.0   0.0   0.0   0.0   0.0   0.0   0.0   0.0   1.0  \n",
       "1     0.0   0.0   1.0   0.0   0.0   0.0   0.0   0.0   1.0  \n",
       "2     0.0   0.0   0.0   0.0   1.0   1.0   0.0   0.0   1.0  \n",
       "3     0.0   0.0   0.0   1.0   0.0   0.0   0.0   0.0   0.0  \n",
       "4     0.0   0.0   0.0   0.0   0.0   0.0   0.0   0.0   1.0  \n",
       "..    ...   ...   ...   ...   ...   ...   ...   ...   ...  \n",
       "318   0.0   1.0   0.0   0.0   1.0   1.0   1.0   0.0   1.0  \n",
       "319   1.0   0.0   1.0   0.0   1.0   0.0   1.0   0.0   1.0  \n",
       "320   0.0   0.0   0.0   0.0   1.0   0.0   1.0   1.0   1.0  \n",
       "321   0.0   1.0   1.0   0.0   0.0   0.0   0.0   0.0   1.0  \n",
       "322   0.0   0.0   1.0   0.0   0.0   0.0   0.0   0.0   1.0  \n",
       "\n",
       "[323 rows x 2048 columns]"
      ]
     },
     "execution_count": 21,
     "metadata": {},
     "output_type": "execute_result"
    }
   ],
   "source": [
    "x_ts"
   ]
  },
  {
   "cell_type": "code",
   "execution_count": 22,
   "metadata": {},
   "outputs": [],
   "source": [
    "x_ts.to_csv('Models/Topological_fingerprints/x_ts_TP.csv', index=True)"
   ]
  },
  {
   "cell_type": "code",
   "execution_count": 23,
   "metadata": {},
   "outputs": [
    {
     "data": {
      "text/plain": [
       "(323, 2048)"
      ]
     },
     "execution_count": 23,
     "metadata": {},
     "output_type": "execute_result"
    }
   ],
   "source": [
    "x_ts.shape"
   ]
  },
  {
   "cell_type": "code",
   "execution_count": 24,
   "metadata": {},
   "outputs": [],
   "source": [
    "x_tr = np.array(x_tr, dtype=np.float32)\n",
    "y_tr = np.array(y_tr, dtype=np.float32)"
   ]
  },
  {
   "cell_type": "markdown",
   "metadata": {},
   "source": [
    "# 8. Random forest model building and validation"
   ]
  },
  {
   "cell_type": "code",
   "execution_count": 25,
   "metadata": {},
   "outputs": [],
   "source": [
    "seed = 42"
   ]
  },
  {
   "cell_type": "code",
   "execution_count": 26,
   "metadata": {},
   "outputs": [],
   "source": [
    "cv=KFold(n_splits=5, random_state=seed, shuffle=True)"
   ]
  },
  {
   "cell_type": "code",
   "execution_count": 27,
   "metadata": {},
   "outputs": [],
   "source": [
    "param_grid = {\"max_features\": [x_tr.shape[1] // 10, x_tr.shape[1] // 7, x_tr.shape[1] // 5, x_tr.shape[1] // 3, x_tr.shape[1] // 2],\n",
    "              \"n_estimators\": [100, 250, 500, 1000]}"
   ]
  },
  {
   "cell_type": "code",
   "execution_count": 28,
   "metadata": {},
   "outputs": [],
   "source": [
    "m = GridSearchCV(RandomForestRegressor(), param_grid, n_jobs=2, cv=cv, verbose=1)"
   ]
  },
  {
   "cell_type": "code",
   "execution_count": 29,
   "metadata": {},
   "outputs": [
    {
     "name": "stdout",
     "output_type": "stream",
     "text": [
      "Fitting 5 folds for each of 20 candidates, totalling 100 fits\n"
     ]
    },
    {
     "data": {
      "text/plain": [
       "GridSearchCV(cv=KFold(n_splits=5, random_state=42, shuffle=True),\n",
       "             estimator=RandomForestRegressor(), n_jobs=2,\n",
       "             param_grid={'max_features': [204, 292, 409, 682, 1024],\n",
       "                         'n_estimators': [100, 250, 500, 1000]},\n",
       "             verbose=1)"
      ]
     },
     "execution_count": 29,
     "metadata": {},
     "output_type": "execute_result"
    }
   ],
   "source": [
    "m.fit(x_tr, y_tr)"
   ]
  },
  {
   "cell_type": "code",
   "execution_count": 30,
   "metadata": {},
   "outputs": [],
   "source": [
    "m.best_params_\n",
    "best_RF = m.best_estimator_"
   ]
  },
  {
   "cell_type": "code",
   "execution_count": 31,
   "metadata": {},
   "outputs": [],
   "source": [
    "y_pred_CV_RF = cross_val_predict(best_RF, x_tr, y_tr, cv=cv)"
   ]
  },
  {
   "cell_type": "code",
   "execution_count": 32,
   "metadata": {},
   "outputs": [
    {
     "data": {
      "text/plain": [
       "array([4.81018917, 6.41538472, 6.34974898, ..., 7.23449827, 8.02977996,\n",
       "       7.79158994])"
      ]
     },
     "execution_count": 32,
     "metadata": {},
     "output_type": "execute_result"
    }
   ],
   "source": [
    "y_pred_CV_RF"
   ]
  },
  {
   "cell_type": "code",
   "execution_count": 33,
   "metadata": {},
   "outputs": [
    {
     "data": {
      "text/plain": [
       "0.54"
      ]
     },
     "execution_count": 33,
     "metadata": {},
     "output_type": "execute_result"
    }
   ],
   "source": [
    "Q2_CV = round(r2_score(y_tr, y_pred_CV_RF), 2)\n",
    "Q2_CV"
   ]
  },
  {
   "cell_type": "code",
   "execution_count": 34,
   "metadata": {},
   "outputs": [
    {
     "data": {
      "text/plain": [
       "0.74"
      ]
     },
     "execution_count": 34,
     "metadata": {},
     "output_type": "execute_result"
    }
   ],
   "source": [
    "RMSE_CV=round(np.sqrt(mean_absolute_error(y_tr, y_pred_CV_RF)), 2)\n",
    "RMSE_CV"
   ]
  },
  {
   "cell_type": "markdown",
   "metadata": {},
   "source": [
    "# 9. Prediction for test set's molecules"
   ]
  },
  {
   "cell_type": "code",
   "execution_count": 45,
   "metadata": {},
   "outputs": [],
   "source": [
    "x_ts = np.array(x_ts, dtype=np.float32)\n",
    "y_ts = np.array(y_ts, dtype=np.float32)"
   ]
  },
  {
   "cell_type": "code",
   "execution_count": 46,
   "metadata": {},
   "outputs": [],
   "source": [
    "y_pred_rf = best_RF.predict(x_ts)"
   ]
  },
  {
   "cell_type": "code",
   "execution_count": 47,
   "metadata": {},
   "outputs": [
    {
     "data": {
      "text/plain": [
       "0.58"
      ]
     },
     "execution_count": 47,
     "metadata": {},
     "output_type": "execute_result"
    }
   ],
   "source": [
    "Q2_TS = round(r2_score(y_ts, y_pred_rf), 2)\n",
    "Q2_TS"
   ]
  },
  {
   "cell_type": "code",
   "execution_count": 48,
   "metadata": {},
   "outputs": [
    {
     "data": {
      "text/plain": [
       "0.72"
      ]
     },
     "execution_count": 48,
     "metadata": {},
     "output_type": "execute_result"
    }
   ],
   "source": [
    "RMSE_TS=round(np.sqrt(mean_absolute_error(y_ts, y_pred_rf)), 2)\n",
    "RMSE_TS"
   ]
  },
  {
   "cell_type": "markdown",
   "metadata": {},
   "source": [
    "# save the model to disk"
   ]
  },
  {
   "cell_type": "code",
   "execution_count": 39,
   "metadata": {},
   "outputs": [],
   "source": [
    "pickle.dump(best_RF, open('Models/Topological_fingerprints/HDAC2_RF_TF.pkl', 'wb'))"
   ]
  },
  {
   "cell_type": "markdown",
   "metadata": {},
   "source": [
    "# load the model from disk"
   ]
  },
  {
   "cell_type": "code",
   "execution_count": 27,
   "metadata": {},
   "outputs": [],
   "source": [
    "best_RF = pickle.load(open('Models/Topological_fingerprints/HDAC2_RF_TF.pkl', 'rb'))"
   ]
  },
  {
   "cell_type": "markdown",
   "metadata": {},
   "source": [
    "# 10. Y-randomization RF model"
   ]
  },
  {
   "cell_type": "code",
   "execution_count": 28,
   "metadata": {},
   "outputs": [
    {
     "name": "stderr",
     "output_type": "stream",
     "text": [
      "[Parallel(n_jobs=-1)]: Using backend LokyBackend with 4 concurrent workers.\n",
      "[Parallel(n_jobs=-1)]: Done  42 tasks      | elapsed: 74.4min\n"
     ]
    },
    {
     "name": "stdout",
     "output_type": "stream",
     "text": [
      "True score =  0.54 \n",
      "Y-randomization =  -0.17 \n",
      "p-value =  0.0099\n"
     ]
    },
    {
     "name": "stderr",
     "output_type": "stream",
     "text": [
      "[Parallel(n_jobs=-1)]: Done 100 out of 100 | elapsed: 156.3min finished\n"
     ]
    }
   ],
   "source": [
    "permutations = 100\n",
    "score, permutation_scores, pvalue = permutation_test_score(best_RF, x_tr, y_tr,\n",
    "                                                           cv=cv, scoring='r2',\n",
    "                                                           n_permutations=permutations,\n",
    "                                                           n_jobs=-1,\n",
    "                                                           verbose=1,\n",
    "                                                           random_state=24)\n",
    "print('True score = ', score.round(2),\n",
    "      '\\nY-randomization = ', np.mean(permutation_scores).round(2),\n",
    "      '\\np-value = ', pvalue.round(4))"
   ]
  },
  {
   "cell_type": "markdown",
   "metadata": {},
   "source": [
    "# Estimating applicability domain. Method - Euclidian distances, K=1"
   ]
  },
  {
   "cell_type": "code",
   "execution_count": 49,
   "metadata": {},
   "outputs": [],
   "source": [
    "neighbors_k= pairwise_distances(x_tr, n_jobs=-1)\n",
    "neighbors_k.sort(0)"
   ]
  },
  {
   "cell_type": "code",
   "execution_count": 50,
   "metadata": {},
   "outputs": [
    {
     "data": {
      "text/html": [
       "<div>\n",
       "<style scoped>\n",
       "    .dataframe tbody tr th:only-of-type {\n",
       "        vertical-align: middle;\n",
       "    }\n",
       "\n",
       "    .dataframe tbody tr th {\n",
       "        vertical-align: top;\n",
       "    }\n",
       "\n",
       "    .dataframe thead th {\n",
       "        text-align: right;\n",
       "    }\n",
       "</style>\n",
       "<table border=\"1\" class=\"dataframe\">\n",
       "  <thead>\n",
       "    <tr style=\"text-align: right;\">\n",
       "      <th></th>\n",
       "      <th>0</th>\n",
       "      <th>1</th>\n",
       "      <th>2</th>\n",
       "      <th>3</th>\n",
       "      <th>4</th>\n",
       "      <th>5</th>\n",
       "      <th>6</th>\n",
       "      <th>7</th>\n",
       "      <th>8</th>\n",
       "      <th>9</th>\n",
       "      <th>...</th>\n",
       "      <th>1278</th>\n",
       "      <th>1279</th>\n",
       "      <th>1280</th>\n",
       "      <th>1281</th>\n",
       "      <th>1282</th>\n",
       "      <th>1283</th>\n",
       "      <th>1284</th>\n",
       "      <th>1285</th>\n",
       "      <th>1286</th>\n",
       "      <th>1287</th>\n",
       "    </tr>\n",
       "  </thead>\n",
       "  <tbody>\n",
       "    <tr>\n",
       "      <th>0</th>\n",
       "      <td>0.000000</td>\n",
       "      <td>0.000000</td>\n",
       "      <td>0.000000</td>\n",
       "      <td>0.000000</td>\n",
       "      <td>0.000000</td>\n",
       "      <td>0.000000</td>\n",
       "      <td>0.000000</td>\n",
       "      <td>0.000000</td>\n",
       "      <td>0.000000</td>\n",
       "      <td>0.000000</td>\n",
       "      <td>...</td>\n",
       "      <td>0.000000</td>\n",
       "      <td>0.000000</td>\n",
       "      <td>0.000000</td>\n",
       "      <td>0.000000</td>\n",
       "      <td>0.000000</td>\n",
       "      <td>0.000000</td>\n",
       "      <td>0.000000</td>\n",
       "      <td>0.000000</td>\n",
       "      <td>0.000000</td>\n",
       "      <td>0.000000</td>\n",
       "    </tr>\n",
       "    <tr>\n",
       "      <th>1</th>\n",
       "      <td>9.273619</td>\n",
       "      <td>23.853722</td>\n",
       "      <td>19.924858</td>\n",
       "      <td>11.747340</td>\n",
       "      <td>7.937254</td>\n",
       "      <td>12.961481</td>\n",
       "      <td>21.095022</td>\n",
       "      <td>15.716233</td>\n",
       "      <td>22.248596</td>\n",
       "      <td>19.131126</td>\n",
       "      <td>...</td>\n",
       "      <td>6.082763</td>\n",
       "      <td>20.396078</td>\n",
       "      <td>7.348469</td>\n",
       "      <td>6.708204</td>\n",
       "      <td>2.000000</td>\n",
       "      <td>11.532562</td>\n",
       "      <td>4.582576</td>\n",
       "      <td>7.348469</td>\n",
       "      <td>7.416198</td>\n",
       "      <td>12.649111</td>\n",
       "    </tr>\n",
       "    <tr>\n",
       "      <th>2</th>\n",
       "      <td>10.630146</td>\n",
       "      <td>24.228083</td>\n",
       "      <td>20.024984</td>\n",
       "      <td>19.183327</td>\n",
       "      <td>10.099504</td>\n",
       "      <td>14.832397</td>\n",
       "      <td>21.377558</td>\n",
       "      <td>20.880613</td>\n",
       "      <td>22.671568</td>\n",
       "      <td>20.832666</td>\n",
       "      <td>...</td>\n",
       "      <td>14.866069</td>\n",
       "      <td>21.863211</td>\n",
       "      <td>15.066519</td>\n",
       "      <td>6.855655</td>\n",
       "      <td>3.162278</td>\n",
       "      <td>22.956480</td>\n",
       "      <td>5.656854</td>\n",
       "      <td>13.152946</td>\n",
       "      <td>7.681146</td>\n",
       "      <td>14.177447</td>\n",
       "    </tr>\n",
       "    <tr>\n",
       "      <th>3</th>\n",
       "      <td>11.269427</td>\n",
       "      <td>24.576412</td>\n",
       "      <td>20.124611</td>\n",
       "      <td>19.287302</td>\n",
       "      <td>12.369317</td>\n",
       "      <td>15.297058</td>\n",
       "      <td>22.248596</td>\n",
       "      <td>22.068077</td>\n",
       "      <td>22.912878</td>\n",
       "      <td>21.071308</td>\n",
       "      <td>...</td>\n",
       "      <td>16.911535</td>\n",
       "      <td>22.271057</td>\n",
       "      <td>17.691807</td>\n",
       "      <td>15.748015</td>\n",
       "      <td>3.605551</td>\n",
       "      <td>24.979992</td>\n",
       "      <td>6.480741</td>\n",
       "      <td>16.093477</td>\n",
       "      <td>8.831760</td>\n",
       "      <td>14.798649</td>\n",
       "    </tr>\n",
       "    <tr>\n",
       "      <th>4</th>\n",
       "      <td>12.767145</td>\n",
       "      <td>24.617067</td>\n",
       "      <td>20.297783</td>\n",
       "      <td>19.442223</td>\n",
       "      <td>13.527749</td>\n",
       "      <td>15.811388</td>\n",
       "      <td>22.627417</td>\n",
       "      <td>22.978251</td>\n",
       "      <td>23.086792</td>\n",
       "      <td>21.563858</td>\n",
       "      <td>...</td>\n",
       "      <td>20.174240</td>\n",
       "      <td>22.449944</td>\n",
       "      <td>19.364916</td>\n",
       "      <td>15.779734</td>\n",
       "      <td>4.242640</td>\n",
       "      <td>25.787594</td>\n",
       "      <td>6.633250</td>\n",
       "      <td>18.357559</td>\n",
       "      <td>8.888194</td>\n",
       "      <td>15.066519</td>\n",
       "    </tr>\n",
       "    <tr>\n",
       "      <th>...</th>\n",
       "      <td>...</td>\n",
       "      <td>...</td>\n",
       "      <td>...</td>\n",
       "      <td>...</td>\n",
       "      <td>...</td>\n",
       "      <td>...</td>\n",
       "      <td>...</td>\n",
       "      <td>...</td>\n",
       "      <td>...</td>\n",
       "      <td>...</td>\n",
       "      <td>...</td>\n",
       "      <td>...</td>\n",
       "      <td>...</td>\n",
       "      <td>...</td>\n",
       "      <td>...</td>\n",
       "      <td>...</td>\n",
       "      <td>...</td>\n",
       "      <td>...</td>\n",
       "      <td>...</td>\n",
       "      <td>...</td>\n",
       "      <td>...</td>\n",
       "    </tr>\n",
       "    <tr>\n",
       "      <th>1283</th>\n",
       "      <td>33.704597</td>\n",
       "      <td>33.045422</td>\n",
       "      <td>34.322006</td>\n",
       "      <td>36.523964</td>\n",
       "      <td>33.660065</td>\n",
       "      <td>34.928497</td>\n",
       "      <td>33.674915</td>\n",
       "      <td>33.926392</td>\n",
       "      <td>32.155869</td>\n",
       "      <td>36.069378</td>\n",
       "      <td>...</td>\n",
       "      <td>33.778690</td>\n",
       "      <td>32.218006</td>\n",
       "      <td>32.295509</td>\n",
       "      <td>34.554306</td>\n",
       "      <td>33.075672</td>\n",
       "      <td>33.911652</td>\n",
       "      <td>34.452866</td>\n",
       "      <td>32.434551</td>\n",
       "      <td>32.403702</td>\n",
       "      <td>34.044090</td>\n",
       "    </tr>\n",
       "    <tr>\n",
       "      <th>1284</th>\n",
       "      <td>33.778690</td>\n",
       "      <td>33.120991</td>\n",
       "      <td>34.510868</td>\n",
       "      <td>37.242451</td>\n",
       "      <td>33.704597</td>\n",
       "      <td>34.957115</td>\n",
       "      <td>33.749073</td>\n",
       "      <td>33.970577</td>\n",
       "      <td>32.171417</td>\n",
       "      <td>36.715118</td>\n",
       "      <td>...</td>\n",
       "      <td>33.808285</td>\n",
       "      <td>32.233524</td>\n",
       "      <td>32.326458</td>\n",
       "      <td>34.626579</td>\n",
       "      <td>33.196384</td>\n",
       "      <td>34.044090</td>\n",
       "      <td>34.452866</td>\n",
       "      <td>32.496155</td>\n",
       "      <td>32.511536</td>\n",
       "      <td>34.073448</td>\n",
       "    </tr>\n",
       "    <tr>\n",
       "      <th>1285</th>\n",
       "      <td>34.117443</td>\n",
       "      <td>33.181320</td>\n",
       "      <td>34.525352</td>\n",
       "      <td>37.443291</td>\n",
       "      <td>33.719429</td>\n",
       "      <td>35.128338</td>\n",
       "      <td>33.763885</td>\n",
       "      <td>34.263683</td>\n",
       "      <td>32.280025</td>\n",
       "      <td>36.945908</td>\n",
       "      <td>...</td>\n",
       "      <td>34.073448</td>\n",
       "      <td>32.249031</td>\n",
       "      <td>32.326458</td>\n",
       "      <td>34.655445</td>\n",
       "      <td>33.226494</td>\n",
       "      <td>34.044090</td>\n",
       "      <td>34.496376</td>\n",
       "      <td>32.603680</td>\n",
       "      <td>32.572994</td>\n",
       "      <td>34.146744</td>\n",
       "    </tr>\n",
       "    <tr>\n",
       "      <th>1286</th>\n",
       "      <td>34.971416</td>\n",
       "      <td>33.585712</td>\n",
       "      <td>35.958309</td>\n",
       "      <td>37.960506</td>\n",
       "      <td>33.985291</td>\n",
       "      <td>36.565010</td>\n",
       "      <td>34.828148</td>\n",
       "      <td>34.684292</td>\n",
       "      <td>32.280025</td>\n",
       "      <td>38.209946</td>\n",
       "      <td>...</td>\n",
       "      <td>34.088120</td>\n",
       "      <td>32.280025</td>\n",
       "      <td>32.388271</td>\n",
       "      <td>34.669872</td>\n",
       "      <td>33.241539</td>\n",
       "      <td>34.088120</td>\n",
       "      <td>34.597687</td>\n",
       "      <td>32.756680</td>\n",
       "      <td>32.603680</td>\n",
       "      <td>34.249088</td>\n",
       "    </tr>\n",
       "    <tr>\n",
       "      <th>1287</th>\n",
       "      <td>35.057095</td>\n",
       "      <td>33.645206</td>\n",
       "      <td>36.097092</td>\n",
       "      <td>38.091995</td>\n",
       "      <td>34.322006</td>\n",
       "      <td>36.646965</td>\n",
       "      <td>34.828148</td>\n",
       "      <td>34.741905</td>\n",
       "      <td>32.496155</td>\n",
       "      <td>38.288380</td>\n",
       "      <td>...</td>\n",
       "      <td>34.117443</td>\n",
       "      <td>32.295509</td>\n",
       "      <td>32.403702</td>\n",
       "      <td>34.756294</td>\n",
       "      <td>33.406586</td>\n",
       "      <td>34.249088</td>\n",
       "      <td>34.641018</td>\n",
       "      <td>32.756680</td>\n",
       "      <td>32.603680</td>\n",
       "      <td>34.438351</td>\n",
       "    </tr>\n",
       "  </tbody>\n",
       "</table>\n",
       "<p>1288 rows × 1288 columns</p>\n",
       "</div>"
      ],
      "text/plain": [
       "           0          1          2          3          4          5     \\\n",
       "0      0.000000   0.000000   0.000000   0.000000   0.000000   0.000000   \n",
       "1      9.273619  23.853722  19.924858  11.747340   7.937254  12.961481   \n",
       "2     10.630146  24.228083  20.024984  19.183327  10.099504  14.832397   \n",
       "3     11.269427  24.576412  20.124611  19.287302  12.369317  15.297058   \n",
       "4     12.767145  24.617067  20.297783  19.442223  13.527749  15.811388   \n",
       "...         ...        ...        ...        ...        ...        ...   \n",
       "1283  33.704597  33.045422  34.322006  36.523964  33.660065  34.928497   \n",
       "1284  33.778690  33.120991  34.510868  37.242451  33.704597  34.957115   \n",
       "1285  34.117443  33.181320  34.525352  37.443291  33.719429  35.128338   \n",
       "1286  34.971416  33.585712  35.958309  37.960506  33.985291  36.565010   \n",
       "1287  35.057095  33.645206  36.097092  38.091995  34.322006  36.646965   \n",
       "\n",
       "           6          7          8          9     ...       1278       1279  \\\n",
       "0      0.000000   0.000000   0.000000   0.000000  ...   0.000000   0.000000   \n",
       "1     21.095022  15.716233  22.248596  19.131126  ...   6.082763  20.396078   \n",
       "2     21.377558  20.880613  22.671568  20.832666  ...  14.866069  21.863211   \n",
       "3     22.248596  22.068077  22.912878  21.071308  ...  16.911535  22.271057   \n",
       "4     22.627417  22.978251  23.086792  21.563858  ...  20.174240  22.449944   \n",
       "...         ...        ...        ...        ...  ...        ...        ...   \n",
       "1283  33.674915  33.926392  32.155869  36.069378  ...  33.778690  32.218006   \n",
       "1284  33.749073  33.970577  32.171417  36.715118  ...  33.808285  32.233524   \n",
       "1285  33.763885  34.263683  32.280025  36.945908  ...  34.073448  32.249031   \n",
       "1286  34.828148  34.684292  32.280025  38.209946  ...  34.088120  32.280025   \n",
       "1287  34.828148  34.741905  32.496155  38.288380  ...  34.117443  32.295509   \n",
       "\n",
       "           1280       1281       1282       1283       1284       1285  \\\n",
       "0      0.000000   0.000000   0.000000   0.000000   0.000000   0.000000   \n",
       "1      7.348469   6.708204   2.000000  11.532562   4.582576   7.348469   \n",
       "2     15.066519   6.855655   3.162278  22.956480   5.656854  13.152946   \n",
       "3     17.691807  15.748015   3.605551  24.979992   6.480741  16.093477   \n",
       "4     19.364916  15.779734   4.242640  25.787594   6.633250  18.357559   \n",
       "...         ...        ...        ...        ...        ...        ...   \n",
       "1283  32.295509  34.554306  33.075672  33.911652  34.452866  32.434551   \n",
       "1284  32.326458  34.626579  33.196384  34.044090  34.452866  32.496155   \n",
       "1285  32.326458  34.655445  33.226494  34.044090  34.496376  32.603680   \n",
       "1286  32.388271  34.669872  33.241539  34.088120  34.597687  32.756680   \n",
       "1287  32.403702  34.756294  33.406586  34.249088  34.641018  32.756680   \n",
       "\n",
       "           1286       1287  \n",
       "0      0.000000   0.000000  \n",
       "1      7.416198  12.649111  \n",
       "2      7.681146  14.177447  \n",
       "3      8.831760  14.798649  \n",
       "4      8.888194  15.066519  \n",
       "...         ...        ...  \n",
       "1283  32.403702  34.044090  \n",
       "1284  32.511536  34.073448  \n",
       "1285  32.572994  34.146744  \n",
       "1286  32.603680  34.249088  \n",
       "1287  32.603680  34.438351  \n",
       "\n",
       "[1288 rows x 1288 columns]"
      ]
     },
     "execution_count": 50,
     "metadata": {},
     "output_type": "execute_result"
    }
   ],
   "source": [
    "df_tr=pd.DataFrame(neighbors_k)\n",
    "df_tr"
   ]
  },
  {
   "cell_type": "code",
   "execution_count": 51,
   "metadata": {},
   "outputs": [],
   "source": [
    "similarity= neighbors_k"
   ]
  },
  {
   "cell_type": "code",
   "execution_count": 52,
   "metadata": {},
   "outputs": [],
   "source": [
    "Dmean=np.mean(similarity[1,:])"
   ]
  },
  {
   "cell_type": "code",
   "execution_count": 53,
   "metadata": {},
   "outputs": [
    {
     "data": {
      "text/plain": [
       "10.38"
      ]
     },
     "execution_count": 53,
     "metadata": {},
     "output_type": "execute_result"
    }
   ],
   "source": [
    "round(Dmean, 2)"
   ]
  },
  {
   "cell_type": "code",
   "execution_count": 54,
   "metadata": {},
   "outputs": [],
   "source": [
    "std=np.std(similarity[1,:])"
   ]
  },
  {
   "cell_type": "code",
   "execution_count": 55,
   "metadata": {},
   "outputs": [
    {
     "data": {
      "text/plain": [
       "5.45"
      ]
     },
     "execution_count": 55,
     "metadata": {},
     "output_type": "execute_result"
    }
   ],
   "source": [
    "round(std, 2)"
   ]
  },
  {
   "cell_type": "code",
   "execution_count": 56,
   "metadata": {},
   "outputs": [
    {
     "name": "stdout",
     "output_type": "stream",
     "text": [
      "13.1\n"
     ]
    }
   ],
   "source": [
    "model_AD_limit=Dmean+std*0.5\n",
    "print(np.round(model_AD_limit, 2))"
   ]
  },
  {
   "cell_type": "code",
   "execution_count": 57,
   "metadata": {},
   "outputs": [],
   "source": [
    "neighbors_k_ts= pairwise_distances(x_tr,Y=x_ts, n_jobs=-1)\n",
    "neighbors_k_ts.sort(0)"
   ]
  },
  {
   "cell_type": "code",
   "execution_count": 58,
   "metadata": {},
   "outputs": [
    {
     "data": {
      "text/html": [
       "<div>\n",
       "<style scoped>\n",
       "    .dataframe tbody tr th:only-of-type {\n",
       "        vertical-align: middle;\n",
       "    }\n",
       "\n",
       "    .dataframe tbody tr th {\n",
       "        vertical-align: top;\n",
       "    }\n",
       "\n",
       "    .dataframe thead th {\n",
       "        text-align: right;\n",
       "    }\n",
       "</style>\n",
       "<table border=\"1\" class=\"dataframe\">\n",
       "  <thead>\n",
       "    <tr style=\"text-align: right;\">\n",
       "      <th></th>\n",
       "      <th>0</th>\n",
       "      <th>1</th>\n",
       "      <th>2</th>\n",
       "      <th>3</th>\n",
       "      <th>4</th>\n",
       "      <th>5</th>\n",
       "      <th>6</th>\n",
       "      <th>7</th>\n",
       "      <th>8</th>\n",
       "      <th>9</th>\n",
       "      <th>...</th>\n",
       "      <th>313</th>\n",
       "      <th>314</th>\n",
       "      <th>315</th>\n",
       "      <th>316</th>\n",
       "      <th>317</th>\n",
       "      <th>318</th>\n",
       "      <th>319</th>\n",
       "      <th>320</th>\n",
       "      <th>321</th>\n",
       "      <th>322</th>\n",
       "    </tr>\n",
       "  </thead>\n",
       "  <tbody>\n",
       "    <tr>\n",
       "      <th>0</th>\n",
       "      <td>11.747340</td>\n",
       "      <td>9.848858</td>\n",
       "      <td>11.704700</td>\n",
       "      <td>11.789826</td>\n",
       "      <td>7.000000</td>\n",
       "      <td>8.660254</td>\n",
       "      <td>6.480741</td>\n",
       "      <td>12.206555</td>\n",
       "      <td>16.613247</td>\n",
       "      <td>6.480741</td>\n",
       "      <td>...</td>\n",
       "      <td>15.264338</td>\n",
       "      <td>5.291502</td>\n",
       "      <td>13.304134</td>\n",
       "      <td>3.162278</td>\n",
       "      <td>12.409674</td>\n",
       "      <td>4.472136</td>\n",
       "      <td>20.199009</td>\n",
       "      <td>21.283796</td>\n",
       "      <td>9.797959</td>\n",
       "      <td>11.618950</td>\n",
       "    </tr>\n",
       "    <tr>\n",
       "      <th>1</th>\n",
       "      <td>11.832160</td>\n",
       "      <td>12.688578</td>\n",
       "      <td>20.832666</td>\n",
       "      <td>17.464249</td>\n",
       "      <td>7.000000</td>\n",
       "      <td>10.862781</td>\n",
       "      <td>15.132746</td>\n",
       "      <td>24.617067</td>\n",
       "      <td>17.262676</td>\n",
       "      <td>18.601076</td>\n",
       "      <td>...</td>\n",
       "      <td>16.186415</td>\n",
       "      <td>14.594520</td>\n",
       "      <td>13.304134</td>\n",
       "      <td>3.316625</td>\n",
       "      <td>12.884099</td>\n",
       "      <td>12.649111</td>\n",
       "      <td>20.904545</td>\n",
       "      <td>21.307276</td>\n",
       "      <td>21.260292</td>\n",
       "      <td>14.352700</td>\n",
       "    </tr>\n",
       "    <tr>\n",
       "      <th>2</th>\n",
       "      <td>11.832160</td>\n",
       "      <td>19.467922</td>\n",
       "      <td>20.880613</td>\n",
       "      <td>21.377558</td>\n",
       "      <td>7.141428</td>\n",
       "      <td>12.288206</td>\n",
       "      <td>23.366642</td>\n",
       "      <td>25.019993</td>\n",
       "      <td>17.291616</td>\n",
       "      <td>19.849434</td>\n",
       "      <td>...</td>\n",
       "      <td>18.110771</td>\n",
       "      <td>21.610184</td>\n",
       "      <td>13.341664</td>\n",
       "      <td>4.898980</td>\n",
       "      <td>13.379088</td>\n",
       "      <td>13.076696</td>\n",
       "      <td>21.047565</td>\n",
       "      <td>21.447611</td>\n",
       "      <td>21.470911</td>\n",
       "      <td>14.798649</td>\n",
       "    </tr>\n",
       "    <tr>\n",
       "      <th>3</th>\n",
       "      <td>11.832160</td>\n",
       "      <td>19.974985</td>\n",
       "      <td>21.095022</td>\n",
       "      <td>21.470911</td>\n",
       "      <td>7.280110</td>\n",
       "      <td>12.529964</td>\n",
       "      <td>23.579653</td>\n",
       "      <td>25.059929</td>\n",
       "      <td>17.320509</td>\n",
       "      <td>20.928450</td>\n",
       "      <td>...</td>\n",
       "      <td>18.220867</td>\n",
       "      <td>21.863211</td>\n",
       "      <td>13.711309</td>\n",
       "      <td>5.656854</td>\n",
       "      <td>14.317822</td>\n",
       "      <td>13.527749</td>\n",
       "      <td>21.447611</td>\n",
       "      <td>21.494184</td>\n",
       "      <td>22.158520</td>\n",
       "      <td>14.832397</td>\n",
       "    </tr>\n",
       "    <tr>\n",
       "      <th>4</th>\n",
       "      <td>11.916375</td>\n",
       "      <td>19.974985</td>\n",
       "      <td>21.166010</td>\n",
       "      <td>21.656408</td>\n",
       "      <td>9.327379</td>\n",
       "      <td>12.569805</td>\n",
       "      <td>24.310492</td>\n",
       "      <td>25.298222</td>\n",
       "      <td>17.320509</td>\n",
       "      <td>23.853722</td>\n",
       "      <td>...</td>\n",
       "      <td>18.220867</td>\n",
       "      <td>22.693611</td>\n",
       "      <td>14.628738</td>\n",
       "      <td>5.830952</td>\n",
       "      <td>16.031219</td>\n",
       "      <td>13.674794</td>\n",
       "      <td>21.840330</td>\n",
       "      <td>21.587032</td>\n",
       "      <td>22.583179</td>\n",
       "      <td>14.866069</td>\n",
       "    </tr>\n",
       "    <tr>\n",
       "      <th>...</th>\n",
       "      <td>...</td>\n",
       "      <td>...</td>\n",
       "      <td>...</td>\n",
       "      <td>...</td>\n",
       "      <td>...</td>\n",
       "      <td>...</td>\n",
       "      <td>...</td>\n",
       "      <td>...</td>\n",
       "      <td>...</td>\n",
       "      <td>...</td>\n",
       "      <td>...</td>\n",
       "      <td>...</td>\n",
       "      <td>...</td>\n",
       "      <td>...</td>\n",
       "      <td>...</td>\n",
       "      <td>...</td>\n",
       "      <td>...</td>\n",
       "      <td>...</td>\n",
       "      <td>...</td>\n",
       "      <td>...</td>\n",
       "      <td>...</td>\n",
       "    </tr>\n",
       "    <tr>\n",
       "      <th>1283</th>\n",
       "      <td>36.755951</td>\n",
       "      <td>36.646965</td>\n",
       "      <td>34.132095</td>\n",
       "      <td>35.213634</td>\n",
       "      <td>36.905285</td>\n",
       "      <td>33.763885</td>\n",
       "      <td>38.716923</td>\n",
       "      <td>33.466400</td>\n",
       "      <td>35.902645</td>\n",
       "      <td>33.763885</td>\n",
       "      <td>...</td>\n",
       "      <td>32.572994</td>\n",
       "      <td>33.808285</td>\n",
       "      <td>36.428013</td>\n",
       "      <td>34.336571</td>\n",
       "      <td>33.015148</td>\n",
       "      <td>35.185223</td>\n",
       "      <td>32.924156</td>\n",
       "      <td>34.292858</td>\n",
       "      <td>33.256577</td>\n",
       "      <td>32.572994</td>\n",
       "    </tr>\n",
       "    <tr>\n",
       "      <th>1284</th>\n",
       "      <td>37.121422</td>\n",
       "      <td>37.013512</td>\n",
       "      <td>34.234486</td>\n",
       "      <td>36.097092</td>\n",
       "      <td>37.269291</td>\n",
       "      <td>33.896904</td>\n",
       "      <td>38.781441</td>\n",
       "      <td>33.481339</td>\n",
       "      <td>36.180103</td>\n",
       "      <td>33.778690</td>\n",
       "      <td>...</td>\n",
       "      <td>32.603680</td>\n",
       "      <td>33.852623</td>\n",
       "      <td>36.441734</td>\n",
       "      <td>34.336571</td>\n",
       "      <td>33.151169</td>\n",
       "      <td>35.213634</td>\n",
       "      <td>32.924156</td>\n",
       "      <td>34.583233</td>\n",
       "      <td>33.301651</td>\n",
       "      <td>32.603680</td>\n",
       "    </tr>\n",
       "    <tr>\n",
       "      <th>1285</th>\n",
       "      <td>37.296112</td>\n",
       "      <td>37.242451</td>\n",
       "      <td>34.307434</td>\n",
       "      <td>36.304268</td>\n",
       "      <td>37.549965</td>\n",
       "      <td>34.336571</td>\n",
       "      <td>38.820099</td>\n",
       "      <td>33.555923</td>\n",
       "      <td>36.221542</td>\n",
       "      <td>33.793491</td>\n",
       "      <td>...</td>\n",
       "      <td>32.619015</td>\n",
       "      <td>33.867390</td>\n",
       "      <td>36.932369</td>\n",
       "      <td>34.380226</td>\n",
       "      <td>33.151169</td>\n",
       "      <td>35.242020</td>\n",
       "      <td>32.939339</td>\n",
       "      <td>34.756294</td>\n",
       "      <td>33.346664</td>\n",
       "      <td>32.634338</td>\n",
       "    </tr>\n",
       "    <tr>\n",
       "      <th>1286</th>\n",
       "      <td>38.522720</td>\n",
       "      <td>37.709415</td>\n",
       "      <td>35.608986</td>\n",
       "      <td>37.376465</td>\n",
       "      <td>39.127995</td>\n",
       "      <td>35.156792</td>\n",
       "      <td>39.433487</td>\n",
       "      <td>33.896904</td>\n",
       "      <td>36.796738</td>\n",
       "      <td>33.867390</td>\n",
       "      <td>...</td>\n",
       "      <td>32.726135</td>\n",
       "      <td>33.896904</td>\n",
       "      <td>38.223030</td>\n",
       "      <td>34.452866</td>\n",
       "      <td>33.256577</td>\n",
       "      <td>35.763111</td>\n",
       "      <td>33.181320</td>\n",
       "      <td>35.874783</td>\n",
       "      <td>33.451458</td>\n",
       "      <td>32.664967</td>\n",
       "    </tr>\n",
       "    <tr>\n",
       "      <th>1287</th>\n",
       "      <td>38.678158</td>\n",
       "      <td>37.841774</td>\n",
       "      <td>35.608986</td>\n",
       "      <td>37.456642</td>\n",
       "      <td>39.281040</td>\n",
       "      <td>35.242020</td>\n",
       "      <td>39.623226</td>\n",
       "      <td>33.926392</td>\n",
       "      <td>36.932369</td>\n",
       "      <td>34.014702</td>\n",
       "      <td>...</td>\n",
       "      <td>32.741409</td>\n",
       "      <td>33.970577</td>\n",
       "      <td>38.379681</td>\n",
       "      <td>34.496376</td>\n",
       "      <td>33.436508</td>\n",
       "      <td>35.805027</td>\n",
       "      <td>33.301651</td>\n",
       "      <td>35.986107</td>\n",
       "      <td>33.541019</td>\n",
       "      <td>32.893768</td>\n",
       "    </tr>\n",
       "  </tbody>\n",
       "</table>\n",
       "<p>1288 rows × 323 columns</p>\n",
       "</div>"
      ],
      "text/plain": [
       "            0          1          2          3          4          5    \\\n",
       "0     11.747340   9.848858  11.704700  11.789826   7.000000   8.660254   \n",
       "1     11.832160  12.688578  20.832666  17.464249   7.000000  10.862781   \n",
       "2     11.832160  19.467922  20.880613  21.377558   7.141428  12.288206   \n",
       "3     11.832160  19.974985  21.095022  21.470911   7.280110  12.529964   \n",
       "4     11.916375  19.974985  21.166010  21.656408   9.327379  12.569805   \n",
       "...         ...        ...        ...        ...        ...        ...   \n",
       "1283  36.755951  36.646965  34.132095  35.213634  36.905285  33.763885   \n",
       "1284  37.121422  37.013512  34.234486  36.097092  37.269291  33.896904   \n",
       "1285  37.296112  37.242451  34.307434  36.304268  37.549965  34.336571   \n",
       "1286  38.522720  37.709415  35.608986  37.376465  39.127995  35.156792   \n",
       "1287  38.678158  37.841774  35.608986  37.456642  39.281040  35.242020   \n",
       "\n",
       "            6          7          8          9    ...        313        314  \\\n",
       "0      6.480741  12.206555  16.613247   6.480741  ...  15.264338   5.291502   \n",
       "1     15.132746  24.617067  17.262676  18.601076  ...  16.186415  14.594520   \n",
       "2     23.366642  25.019993  17.291616  19.849434  ...  18.110771  21.610184   \n",
       "3     23.579653  25.059929  17.320509  20.928450  ...  18.220867  21.863211   \n",
       "4     24.310492  25.298222  17.320509  23.853722  ...  18.220867  22.693611   \n",
       "...         ...        ...        ...        ...  ...        ...        ...   \n",
       "1283  38.716923  33.466400  35.902645  33.763885  ...  32.572994  33.808285   \n",
       "1284  38.781441  33.481339  36.180103  33.778690  ...  32.603680  33.852623   \n",
       "1285  38.820099  33.555923  36.221542  33.793491  ...  32.619015  33.867390   \n",
       "1286  39.433487  33.896904  36.796738  33.867390  ...  32.726135  33.896904   \n",
       "1287  39.623226  33.926392  36.932369  34.014702  ...  32.741409  33.970577   \n",
       "\n",
       "            315        316        317        318        319        320  \\\n",
       "0     13.304134   3.162278  12.409674   4.472136  20.199009  21.283796   \n",
       "1     13.304134   3.316625  12.884099  12.649111  20.904545  21.307276   \n",
       "2     13.341664   4.898980  13.379088  13.076696  21.047565  21.447611   \n",
       "3     13.711309   5.656854  14.317822  13.527749  21.447611  21.494184   \n",
       "4     14.628738   5.830952  16.031219  13.674794  21.840330  21.587032   \n",
       "...         ...        ...        ...        ...        ...        ...   \n",
       "1283  36.428013  34.336571  33.015148  35.185223  32.924156  34.292858   \n",
       "1284  36.441734  34.336571  33.151169  35.213634  32.924156  34.583233   \n",
       "1285  36.932369  34.380226  33.151169  35.242020  32.939339  34.756294   \n",
       "1286  38.223030  34.452866  33.256577  35.763111  33.181320  35.874783   \n",
       "1287  38.379681  34.496376  33.436508  35.805027  33.301651  35.986107   \n",
       "\n",
       "            321        322  \n",
       "0      9.797959  11.618950  \n",
       "1     21.260292  14.352700  \n",
       "2     21.470911  14.798649  \n",
       "3     22.158520  14.832397  \n",
       "4     22.583179  14.866069  \n",
       "...         ...        ...  \n",
       "1283  33.256577  32.572994  \n",
       "1284  33.301651  32.603680  \n",
       "1285  33.346664  32.634338  \n",
       "1286  33.451458  32.664967  \n",
       "1287  33.541019  32.893768  \n",
       "\n",
       "[1288 rows x 323 columns]"
      ]
     },
     "execution_count": 58,
     "metadata": {},
     "output_type": "execute_result"
    }
   ],
   "source": [
    "x_ts_AD=pd.DataFrame(neighbors_k_ts)\n",
    "x_ts_AD"
   ]
  },
  {
   "cell_type": "code",
   "execution_count": 59,
   "metadata": {},
   "outputs": [
    {
     "name": "stdout",
     "output_type": "stream",
     "text": [
      "[11.747  9.849 11.705 11.79   7.     8.66   6.481 12.207 16.613  6.481\n",
      "  5.831  6.856 11.747  7.28  12.45   6.782  9.849  3.    18.     4.796\n",
      "  8.888 15.937  8.718 14.629 12.166  7.071  8.718 15.652  6.083  6.481\n",
      " 26.627 12.     5.385 16.125 10.63   6.481 22.869  6.481 11.489 11.79\n",
      "  6.856  6.928  7.416  5.568  2.646 14.071 19.925  9.327 12.923  8.66\n",
      " 23.324  0.     8.602  1.414  3.    15.166  8.602  1.     6.    10.247\n",
      " 15.875 14.107  2.646  9.274 12.083  5.196  7.348 12.767  5.099  5.196\n",
      "  6.782  5.831  1.     7.746 24.413  8.775  5.099 12.288 15.297 11.358\n",
      " 11.18   6.633  2.    15.843  5.657 12.53  19.494  6.245 20.469  1.414\n",
      "  8.775  3.606 14.213  4.899  1.414  1.414  8.062  3.317  1.414  8.888\n",
      "  8.185 10.44   9.22   9.055 20.224 28.337  4.583  4.243 17.378 12.689\n",
      "  3.162  5.385  5.916  0.    17.635  9.274  8.775 12.57   6.928  6.782\n",
      " 15.199 12.961  7.874 27.423  9.487  1.414 12.689 11.874 12.728  5.831\n",
      " 10.909  1.414 13.748 14.629  8.062 28.054 20.712 11.916 12.923 24.413\n",
      "  5.099  7.616 16.613  5.568  2.828  5.196 13.304  9.165  6.708  6.856\n",
      "  5.477  8.246  6.164 12.961  7.211  5.    14.56  17.72  20.199 10.677\n",
      "  5.657 14.248  6.325  8.     9.274  7.681  7.746 11.     7.483  2.449\n",
      " 16.643 13.454 10.198  2.646  5.657  7.071  9.434  9.381  3.317 11.225\n",
      " 15.652 15.811  4.69  19.925  6.083 14.629 16.432  2.236  6.245  6.557\n",
      "  8.888  9.165  9.381  5.099 12.57   8.185  9.592 14.967  5.745  7.616\n",
      "  6.245  4.123 16.125 17.578 11.489  3.873  8.185 10.677  8.307  4.123\n",
      "  8.124 12.45   5.745 14.422  3.317 11.091  7.55   9.899  9.95   8.832\n",
      " 13.266  7.483  5.657  1.732 22.891  3.873  2.646 13.304  3.742  8.307\n",
      "  9.899 19.235  3.162  8.66  16.432  5.477  3.464  8.185  8.124 18.166\n",
      "  7.071 19.442 12.    22.804  5.196  8.602 14.967 19.824  9.747  4.583\n",
      "  4.69   8.66  15.297  9.381 19.647  3.606  6.245 18.628 14.353 20.445\n",
      "  5.568  8.246 11.489  6.164  5.     1.    18.547  8.124 11.533  9.539\n",
      "  7.071  4.583 16.733  5.477  9.592 16.248 17.635  9.11   8.944 13.304\n",
      " 21.494 14.    19.824  6.403  8.367  5.292  8.485 15.556  8.944  6.164\n",
      "  7.55   4.472 13.304  1.414  8.    10.863 19.053 22.517  4.359 12.166\n",
      " 11.874 20.05  11.705  7.483  3.     7.937 25.199  4.    20.075  6.708\n",
      " 23.216  4.899 10.536 15.264  5.292 13.304  3.162 12.41   4.472 20.199\n",
      " 21.284  9.798 11.619]\n"
     ]
    }
   ],
   "source": [
    "similarity_ts= neighbors_k_ts\n",
    "cpd_AD=similarity_ts[0,:]\n",
    "cpd_value = np.round(cpd_AD, 3)\n",
    "print(cpd_value)"
   ]
  },
  {
   "cell_type": "code",
   "execution_count": 60,
   "metadata": {},
   "outputs": [
    {
     "name": "stdout",
     "output_type": "stream",
     "text": [
      "[ True  True  True  True  True  True  True  True False  True  True  True\n",
      "  True  True  True  True  True  True False  True  True False  True False\n",
      "  True  True  True False  True  True False  True  True False  True  True\n",
      " False  True  True  True  True  True  True  True  True False False  True\n",
      "  True  True False  True  True  True  True False  True  True  True  True\n",
      " False False  True  True  True  True  True  True  True  True  True  True\n",
      "  True  True False  True  True  True False  True  True  True  True False\n",
      "  True  True False  True False  True  True  True False  True  True  True\n",
      "  True  True  True  True  True  True  True  True False False  True  True\n",
      " False  True  True  True  True  True False  True  True  True  True  True\n",
      " False  True  True False  True  True  True  True  True  True  True  True\n",
      " False False  True False False  True  True False  True  True False  True\n",
      "  True  True False  True  True  True  True  True  True  True  True  True\n",
      " False False False  True  True False  True  True  True  True  True  True\n",
      "  True  True False False  True  True  True  True  True  True  True  True\n",
      " False False  True False  True False False  True  True  True  True  True\n",
      "  True  True  True  True  True False  True  True  True  True False False\n",
      "  True  True  True  True  True  True  True  True  True False  True  True\n",
      "  True  True  True  True False  True  True  True False  True  True False\n",
      "  True  True  True False  True  True False  True  True  True  True False\n",
      "  True False  True False  True  True False False  True  True  True  True\n",
      " False  True False  True  True False False False  True  True  True  True\n",
      "  True  True False  True  True  True  True  True False  True  True False\n",
      " False  True  True False False False False  True  True  True  True False\n",
      "  True  True  True  True False  True  True  True False False  True  True\n",
      "  True False  True  True  True  True False  True False  True False  True\n",
      "  True False  True False  True  True  True False False  True  True]\n"
     ]
    }
   ],
   "source": [
    "cpd_AD = np.where(cpd_value <= model_AD_limit, True, False)\n",
    "print(cpd_AD)"
   ]
  },
  {
   "cell_type": "code",
   "execution_count": 61,
   "metadata": {},
   "outputs": [
    {
     "name": "stdout",
     "output_type": "stream",
     "text": [
      "Coverage =  0.7430340557275542\n"
     ]
    }
   ],
   "source": [
    "print(\"Coverage = \", sum(cpd_AD) / len(cpd_AD))"
   ]
  },
  {
   "cell_type": "code",
   "execution_count": 62,
   "metadata": {},
   "outputs": [
    {
     "name": "stdout",
     "output_type": "stream",
     "text": [
      "Indices of substances included in AD =  [  0   1   2   3   4   5   6   7   9  10  11  12  13  14  15  16  17  19\n",
      "  20  22  24  25  26  28  29  31  32  34  35  37  38  39  40  41  42  43\n",
      "  44  47  48  49  51  52  53  54  56  57  58  59  62  63  64  65  66  67\n",
      "  68  69  70  71  72  73  75  76  77  79  80  81  82  84  85  87  89  90\n",
      "  91  93  94  95  96  97  98  99 100 101 102 103 106 107 109 110 111 112\n",
      " 113 115 116 117 118 119 121 122 124 125 126 127 128 129 130 131 134 137\n",
      " 138 140 141 143 144 145 147 148 149 150 151 152 153 154 155 159 160 162\n",
      " 163 164 165 166 167 168 169 172 173 174 175 176 177 178 179 182 184 187\n",
      " 188 189 190 191 192 193 194 195 196 198 199 200 201 204 205 206 207 208\n",
      " 209 210 211 212 214 215 216 217 218 219 221 222 223 225 226 228 229 230\n",
      " 232 233 235 236 237 238 240 242 244 245 248 249 250 251 253 255 256 260\n",
      " 261 262 263 264 265 267 268 269 270 271 273 274 277 278 283 284 285 286\n",
      " 288 289 290 291 293 294 295 298 299 300 302 303 304 305 307 309 311 312\n",
      " 314 316 317 318 321 322]\n"
     ]
    }
   ],
   "source": [
    "print(\"Indices of substances included in AD = \", np.where(cpd_AD != 0)[0])"
   ]
  },
  {
   "cell_type": "code",
   "execution_count": 63,
   "metadata": {},
   "outputs": [],
   "source": [
    "out_Ad=list(np.where(cpd_AD == 0)[0])"
   ]
  },
  {
   "cell_type": "markdown",
   "metadata": {},
   "source": [
    "# Prediction only for molecules included in  AD"
   ]
  },
  {
   "cell_type": "code",
   "execution_count": 64,
   "metadata": {},
   "outputs": [],
   "source": [
    "y_pred_rf_ad=list(y_pred_rf)"
   ]
  },
  {
   "cell_type": "code",
   "execution_count": 65,
   "metadata": {},
   "outputs": [],
   "source": [
    "y_pred_rf_ad[:] = [x for i,x in enumerate(y_pred_rf_ad) if i not in out_Ad]"
   ]
  },
  {
   "cell_type": "code",
   "execution_count": 66,
   "metadata": {},
   "outputs": [
    {
     "data": {
      "text/plain": [
       "240"
      ]
     },
     "execution_count": 66,
     "metadata": {},
     "output_type": "execute_result"
    }
   ],
   "source": [
    "len(y_pred_rf_ad)"
   ]
  },
  {
   "cell_type": "code",
   "execution_count": 67,
   "metadata": {},
   "outputs": [],
   "source": [
    "y_ts_ad=list(y_ts)"
   ]
  },
  {
   "cell_type": "code",
   "execution_count": 68,
   "metadata": {},
   "outputs": [],
   "source": [
    "y_ts_ad[:] = [x for i,x in enumerate(y_ts_ad) if i not in out_Ad]"
   ]
  },
  {
   "cell_type": "code",
   "execution_count": 69,
   "metadata": {},
   "outputs": [
    {
     "data": {
      "text/plain": [
       "240"
      ]
     },
     "execution_count": 69,
     "metadata": {},
     "output_type": "execute_result"
    }
   ],
   "source": [
    "len(y_ts_ad)"
   ]
  },
  {
   "cell_type": "code",
   "execution_count": 70,
   "metadata": {},
   "outputs": [
    {
     "data": {
      "text/plain": [
       "0.66"
      ]
     },
     "execution_count": 70,
     "metadata": {},
     "output_type": "execute_result"
    }
   ],
   "source": [
    "Q2_TS = round(r2_score(y_ts_ad, y_pred_rf_ad), 2)\n",
    "Q2_TS"
   ]
  },
  {
   "cell_type": "code",
   "execution_count": 71,
   "metadata": {},
   "outputs": [
    {
     "data": {
      "text/plain": [
       "0.68"
      ]
     },
     "execution_count": 71,
     "metadata": {},
     "output_type": "execute_result"
    }
   ],
   "source": [
    "RMSE_TS=round(np.sqrt(mean_absolute_error(y_ts_ad, y_pred_rf_ad)), 2)\n",
    "RMSE_TS"
   ]
  },
  {
   "cell_type": "code",
   "execution_count": 72,
   "metadata": {},
   "outputs": [
    {
     "data": {
      "text/plain": [
       "array([[0., 1., 1., ..., 1., 0., 1.],\n",
       "       [1., 0., 0., ..., 0., 0., 1.],\n",
       "       [0., 0., 0., ..., 0., 0., 1.],\n",
       "       ...,\n",
       "       [1., 1., 1., ..., 0., 1., 1.],\n",
       "       [1., 1., 1., ..., 0., 0., 1.],\n",
       "       [1., 1., 1., ..., 0., 0., 1.]], dtype=float32)"
      ]
     },
     "execution_count": 72,
     "metadata": {},
     "output_type": "execute_result"
    }
   ],
   "source": [
    "x_tr"
   ]
  }
 ],
 "metadata": {
  "kernelspec": {
   "display_name": "Python3 (rdkit)",
   "language": "python",
   "name": "my-rdkit-env"
  },
  "language_info": {
   "codemirror_mode": {
    "name": "ipython",
    "version": 3
   },
   "file_extension": ".py",
   "mimetype": "text/x-python",
   "name": "python",
   "nbconvert_exporter": "python",
   "pygments_lexer": "ipython3",
   "version": "3.7.1"
  },
  "toc": {
   "base_numbering": 1,
   "nav_menu": {},
   "number_sections": true,
   "sideBar": true,
   "skip_h1_title": false,
   "title_cell": "Table of Contents",
   "title_sidebar": "Contents",
   "toc_cell": false,
   "toc_position": {},
   "toc_section_display": true,
   "toc_window_display": false
  }
 },
 "nbformat": 4,
 "nbformat_minor": 2
}
