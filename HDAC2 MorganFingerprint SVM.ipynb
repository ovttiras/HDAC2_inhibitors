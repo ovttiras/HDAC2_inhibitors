{
 "cells": [
  {
   "cell_type": "markdown",
   "metadata": {},
   "source": [
    "# 1. Importing modules and functions"
   ]
  },
  {
   "cell_type": "code",
   "execution_count": 26,
   "metadata": {},
   "outputs": [],
   "source": [
    "import numpy as np\n",
    "import pandas as pd\n",
    "from rdkit import Chem, DataStructs\n",
    "from rdkit.Chem import AllChem, Descriptors\n",
    "from rdkit.ML.Descriptors import MoleculeDescriptors\n",
    "import chembl_structure_pipeline\n",
    "from molvs import standardize_smiles\n",
    "from sklearn.model_selection import KFold, GridSearchCV\n",
    "from sklearn.model_selection import permutation_test_score\n",
    "from sklearn.preprocessing import StandardScaler\n",
    "from sklearn.model_selection import cross_val_predict\n",
    "from sklearn import metrics\n",
    "from sklearn.metrics import pairwise_distances\n",
    "import joblib\n",
    "import pickle\n",
    "from numpy import savetxt\n",
    "from padelpy import from_sdf\n",
    "from IPython.display import HTML\n",
    "import matplotlib.pyplot as plt\n",
    "from sklearn.ensemble import RandomForestRegressor\n",
    "from sklearn.metrics import mean_squared_error\n",
    "from sklearn.metrics import mean_absolute_error\n",
    "from sklearn.metrics import r2_score\n",
    "from sklearn.svm import SVR"
   ]
  },
  {
   "cell_type": "markdown",
   "metadata": {},
   "source": [
    "# 2.Data entry and curation work set"
   ]
  },
  {
   "cell_type": "code",
   "execution_count": 2,
   "metadata": {},
   "outputs": [
    {
     "name": "stdout",
     "output_type": "stream",
     "text": [
      "Original data:  1288 molecules\n",
      "Failed data:  0 molecules\n"
     ]
    },
    {
     "data": {
      "text/html": [
       "<div>\n",
       "<style scoped>\n",
       "    .dataframe tbody tr th:only-of-type {\n",
       "        vertical-align: middle;\n",
       "    }\n",
       "\n",
       "    .dataframe tbody tr th {\n",
       "        vertical-align: top;\n",
       "    }\n",
       "\n",
       "    .dataframe thead th {\n",
       "        text-align: right;\n",
       "    }\n",
       "</style>\n",
       "<table border=\"1\" class=\"dataframe\">\n",
       "  <thead>\n",
       "    <tr style=\"text-align: right;\">\n",
       "      <th></th>\n",
       "      <th>No. failed molecule in original set</th>\n",
       "      <th>SMILES of wrong structure:</th>\n",
       "    </tr>\n",
       "    <tr>\n",
       "      <th>No.</th>\n",
       "      <th></th>\n",
       "      <th></th>\n",
       "    </tr>\n",
       "  </thead>\n",
       "  <tbody>\n",
       "  </tbody>\n",
       "</table>\n",
       "</div>"
      ],
      "text/plain": [
       "Empty DataFrame\n",
       "Columns: [No. failed molecule in original set, SMILES of wrong structure: ]\n",
       "Index: []"
      ]
     },
     "execution_count": 2,
     "metadata": {},
     "output_type": "execute_result"
    }
   ],
   "source": [
    "uploaded_file_ws=\"datasets/HDAC2_work.sdf\"\n",
    "supplier_ws = Chem.ForwardSDMolSupplier(uploaded_file_ws,sanitize=False)\n",
    "failed_mols_ws = []\n",
    "all_mols_ws =[]\n",
    "wrong_structure_ws=[]\n",
    "wrong_smiles_ws=[]\n",
    "y_tr = []\n",
    "y_bad_index=[]\n",
    "\n",
    "for i, m in enumerate(supplier_ws):\n",
    "    structure = Chem.Mol(m)\n",
    "    all_mols_ws.append(structure)\n",
    "    y_tr.append(m.GetProp(\"pchembl_value_mean\"))\n",
    "    try:\n",
    "        Chem.SanitizeMol(structure)\n",
    "    except:\n",
    "        failed_mols_ws.append(m)\n",
    "        wrong_smiles_ws.append(Chem.MolToSmiles(m))\n",
    "        wrong_structure_ws.append(str(i+1))\n",
    "        y_bad_index.append(i)\n",
    "print('Original data: ', len(all_mols_ws), 'molecules')\n",
    "print('Failed data: ', len(failed_mols_ws), 'molecules')\n",
    "number_ws =[]\n",
    "for i in range(len(failed_mols_ws)):\n",
    "        number_ws.append(str(i+1))\n",
    "bad_molecules_ws = pd.DataFrame({'No. failed molecule in original set': wrong_structure_ws, 'SMILES of wrong structure: ': wrong_smiles_ws, 'No.': number_ws}, index=None)\n",
    "bad_molecules_ws = bad_molecules_ws.set_index('No.')\n",
    "bad_molecules_ws"
   ]
  },
  {
   "cell_type": "markdown",
   "metadata": {},
   "source": [
    "deleting activity values for substances with incorrect structure"
   ]
  },
  {
   "cell_type": "code",
   "execution_count": 3,
   "metadata": {},
   "outputs": [],
   "source": [
    "y_tr[:] = [x for i,x in enumerate(y_tr) if i not in y_bad_index]"
   ]
  },
  {
   "cell_type": "code",
   "execution_count": 4,
   "metadata": {},
   "outputs": [
    {
     "data": {
      "text/plain": [
       "1288"
      ]
     },
     "execution_count": 4,
     "metadata": {},
     "output_type": "execute_result"
    }
   ],
   "source": [
    "len(y_tr)"
   ]
  },
  {
   "cell_type": "markdown",
   "metadata": {},
   "source": [
    "# 3.Standardization SDF file for work set"
   ]
  },
  {
   "cell_type": "code",
   "execution_count": 5,
   "metadata": {},
   "outputs": [
    {
     "name": "stdout",
     "output_type": "stream",
     "text": [
      "Kept data:  1288 molecules\n"
     ]
    }
   ],
   "source": [
    "records_ws = []\n",
    "for i in range(len(all_mols_ws)):\n",
    "    record = Chem.MolToMolBlock(all_mols_ws[i])\n",
    "    records_ws.append(record)\n",
    "            \n",
    "mols_ws = []\n",
    "for i,record in enumerate(records_ws):\n",
    "    standard_record = chembl_structure_pipeline.standardize_molblock(record)\n",
    "    m = Chem.MolFromMolBlock(standard_record)\n",
    "    mols_ws.append(m)\n",
    "           \n",
    "moldf_ws = []\n",
    "for val in mols_ws:\n",
    "    if val != None:\n",
    "        moldf_ws.append(val)\n",
    "print('Kept data: ', len(moldf_ws), 'molecules')"
   ]
  },
  {
   "cell_type": "markdown",
   "metadata": {},
   "source": [
    "# 4.Data entry and curation test set"
   ]
  },
  {
   "cell_type": "code",
   "execution_count": 6,
   "metadata": {},
   "outputs": [
    {
     "name": "stdout",
     "output_type": "stream",
     "text": [
      "Original data:  323 molecules\n",
      "Failed data:  0 molecules\n"
     ]
    },
    {
     "data": {
      "text/html": [
       "<div>\n",
       "<style scoped>\n",
       "    .dataframe tbody tr th:only-of-type {\n",
       "        vertical-align: middle;\n",
       "    }\n",
       "\n",
       "    .dataframe tbody tr th {\n",
       "        vertical-align: top;\n",
       "    }\n",
       "\n",
       "    .dataframe thead th {\n",
       "        text-align: right;\n",
       "    }\n",
       "</style>\n",
       "<table border=\"1\" class=\"dataframe\">\n",
       "  <thead>\n",
       "    <tr style=\"text-align: right;\">\n",
       "      <th></th>\n",
       "      <th>No. failed molecule in original set</th>\n",
       "      <th>SMILES of wrong structure:</th>\n",
       "    </tr>\n",
       "    <tr>\n",
       "      <th>No.</th>\n",
       "      <th></th>\n",
       "      <th></th>\n",
       "    </tr>\n",
       "  </thead>\n",
       "  <tbody>\n",
       "  </tbody>\n",
       "</table>\n",
       "</div>"
      ],
      "text/plain": [
       "Empty DataFrame\n",
       "Columns: [No. failed molecule in original set, SMILES of wrong structure: ]\n",
       "Index: []"
      ]
     },
     "execution_count": 6,
     "metadata": {},
     "output_type": "execute_result"
    }
   ],
   "source": [
    "uploaded_file_ts=\"datasets/HDAC2_test.sdf\"\n",
    "supplier_ts = Chem.ForwardSDMolSupplier(uploaded_file_ts,sanitize=False)\n",
    "failed_mols_ts = []\n",
    "all_mols_ts =[]\n",
    "wrong_structure_ts=[]\n",
    "wrong_smiles_ts=[]\n",
    "y_ts = []\n",
    "y_bad_index=[]\n",
    "for i, m in enumerate(supplier_ts):\n",
    "    structure = Chem.Mol(m)\n",
    "    all_mols_ts.append(structure)\n",
    "    y_ts.append(m.GetProp(\"pchembl_value_mean\"))\n",
    "    try:\n",
    "        Chem.SanitizeMol(structure)\n",
    "    except:\n",
    "        failed_mols_ts.append(m)\n",
    "        wrong_smiles_ts.append(Chem.MolToSmiles(m))\n",
    "        wrong_structure_ts.append(str(i+1))\n",
    "        y_bad_index.append(i)\n",
    "print('Original data: ', len(all_mols_ts), 'molecules')\n",
    "print('Failed data: ', len(failed_mols_ts), 'molecules')\n",
    "number_ts =[]\n",
    "for i in range(len(failed_mols_ts)):\n",
    "        number_ts.append(str(i+1))\n",
    "bad_molecules_ts = pd.DataFrame({'No. failed molecule in original set': wrong_structure_ts, 'SMILES of wrong structure: ': wrong_smiles_ts, 'No.': number_ts}, index=None)\n",
    "bad_molecules_ts = bad_molecules_ts.set_index('No.')\n",
    "bad_molecules_ts"
   ]
  },
  {
   "cell_type": "markdown",
   "metadata": {},
   "source": [
    "deleting activity values for substances with incorrect structure"
   ]
  },
  {
   "cell_type": "code",
   "execution_count": 7,
   "metadata": {},
   "outputs": [],
   "source": [
    "y_ts[:] = [x for i,x in enumerate(y_ts) if i not in y_bad_index]"
   ]
  },
  {
   "cell_type": "code",
   "execution_count": 8,
   "metadata": {},
   "outputs": [
    {
     "data": {
      "text/plain": [
       "323"
      ]
     },
     "execution_count": 8,
     "metadata": {},
     "output_type": "execute_result"
    }
   ],
   "source": [
    "len(y_ts)"
   ]
  },
  {
   "cell_type": "markdown",
   "metadata": {},
   "source": [
    "# 5.Standardization SDF file for test set"
   ]
  },
  {
   "cell_type": "code",
   "execution_count": 9,
   "metadata": {},
   "outputs": [
    {
     "name": "stdout",
     "output_type": "stream",
     "text": [
      "Kept data:  323 molecules\n"
     ]
    }
   ],
   "source": [
    "records_ts = []\n",
    "for i in range(len(all_mols_ts)):\n",
    "    record = Chem.MolToMolBlock(all_mols_ts[i])\n",
    "    records_ts.append(record)\n",
    "            \n",
    "mols_ts = []\n",
    "for i,record in enumerate(records_ts):\n",
    "    standard_record = chembl_structure_pipeline.standardize_molblock(record)\n",
    "    m = Chem.MolFromMolBlock(standard_record)\n",
    "    mols_ts.append(m)\n",
    "           \n",
    "moldf_ts = []\n",
    "for val in mols_ts:\n",
    "    if val != None:\n",
    "        moldf_ts.append(val)\n",
    "print('Kept data: ', len(moldf_ts), 'molecules')"
   ]
  },
  {
   "cell_type": "markdown",
   "metadata": {},
   "source": [
    "# 6.Calculation MorganFingerprint for work set"
   ]
  },
  {
   "cell_type": "code",
   "execution_count": 10,
   "metadata": {},
   "outputs": [],
   "source": [
    "fp_tr = [AllChem.GetMorganFingerprintAsBitVect(m, radius=2,nBits=1024,useFeatures=False,useChirality = False) for m in moldf_ws]"
   ]
  },
  {
   "cell_type": "code",
   "execution_count": 11,
   "metadata": {},
   "outputs": [],
   "source": [
    "def rdkit_numpy_convert(fp_tr):\n",
    "    output = []\n",
    "    for f in fp_tr:\n",
    "        arr = np.zeros((1,))\n",
    "        DataStructs.ConvertToNumpyArray(f, arr)\n",
    "        output.append(arr)\n",
    "    return np.asarray(output)"
   ]
  },
  {
   "cell_type": "code",
   "execution_count": 12,
   "metadata": {},
   "outputs": [],
   "source": [
    "from numpy import savetxt\n",
    "x_tr = rdkit_numpy_convert(fp_tr)"
   ]
  },
  {
   "cell_type": "code",
   "execution_count": 13,
   "metadata": {},
   "outputs": [],
   "source": [
    "savetxt('Models/ECFP4/x_tr.csv', x_tr, delimiter=',')"
   ]
  },
  {
   "cell_type": "code",
   "execution_count": 14,
   "metadata": {},
   "outputs": [
    {
     "data": {
      "text/plain": [
       "(1288, 1024)"
      ]
     },
     "execution_count": 14,
     "metadata": {},
     "output_type": "execute_result"
    }
   ],
   "source": [
    "x_tr.shape"
   ]
  },
  {
   "cell_type": "markdown",
   "metadata": {},
   "source": [
    "# 7.Calculation MorganFingerprint for test set"
   ]
  },
  {
   "cell_type": "code",
   "execution_count": 15,
   "metadata": {},
   "outputs": [],
   "source": [
    "fp_ts = [AllChem.GetMorganFingerprintAsBitVect(m, radius=2,nBits=1024,useFeatures=False,useChirality = False) for m in moldf_ts]"
   ]
  },
  {
   "cell_type": "code",
   "execution_count": 16,
   "metadata": {},
   "outputs": [],
   "source": [
    "def rdkit_numpy_convert(fp_ts):\n",
    "    output = []\n",
    "    for f in fp_ts:\n",
    "        arr = np.zeros((1,))\n",
    "        DataStructs.ConvertToNumpyArray(f, arr)\n",
    "        output.append(arr)\n",
    "    return np.asarray(output)"
   ]
  },
  {
   "cell_type": "code",
   "execution_count": 17,
   "metadata": {},
   "outputs": [],
   "source": [
    "x_ts = rdkit_numpy_convert(fp_ts)"
   ]
  },
  {
   "cell_type": "code",
   "execution_count": 18,
   "metadata": {},
   "outputs": [
    {
     "data": {
      "text/plain": [
       "(323, 1024)"
      ]
     },
     "execution_count": 18,
     "metadata": {},
     "output_type": "execute_result"
    }
   ],
   "source": [
    "x_ts.shape"
   ]
  },
  {
   "cell_type": "code",
   "execution_count": 19,
   "metadata": {},
   "outputs": [
    {
     "data": {
      "text/plain": [
       "numpy.ndarray"
      ]
     },
     "execution_count": 19,
     "metadata": {},
     "output_type": "execute_result"
    }
   ],
   "source": [
    "type(x_tr)"
   ]
  },
  {
   "cell_type": "code",
   "execution_count": 20,
   "metadata": {},
   "outputs": [
    {
     "data": {
      "text/plain": [
       "array([[0., 0., 0., ..., 0., 0., 0.],\n",
       "       [0., 1., 0., ..., 0., 0., 0.],\n",
       "       [0., 1., 0., ..., 0., 0., 0.],\n",
       "       ...,\n",
       "       [0., 1., 0., ..., 0., 0., 0.],\n",
       "       [0., 0., 1., ..., 0., 0., 0.],\n",
       "       [0., 0., 1., ..., 0., 0., 0.]])"
      ]
     },
     "execution_count": 20,
     "metadata": {},
     "output_type": "execute_result"
    }
   ],
   "source": [
    "x_tr"
   ]
  },
  {
   "cell_type": "code",
   "execution_count": 21,
   "metadata": {},
   "outputs": [],
   "source": [
    "x_tr = np.array(x_tr, dtype=np.float32)\n",
    "y_tr = np.array(y_tr, dtype=np.float32)"
   ]
  },
  {
   "cell_type": "code",
   "execution_count": 22,
   "metadata": {},
   "outputs": [
    {
     "data": {
      "text/plain": [
       "array([4.  , 4.02, 4.02, ..., 9.33, 9.37, 9.51], dtype=float32)"
      ]
     },
     "execution_count": 22,
     "metadata": {},
     "output_type": "execute_result"
    }
   ],
   "source": [
    "y_tr"
   ]
  },
  {
   "cell_type": "markdown",
   "metadata": {},
   "source": [
    "# 8. SVM model building and validation"
   ]
  },
  {
   "cell_type": "code",
   "execution_count": 22,
   "metadata": {},
   "outputs": [],
   "source": [
    "param_grid = {\"C\": [10 ** i for i in range(0, 5)],\n",
    "              \"gamma\": [10 ** i for i in range(-6, 0)]}"
   ]
  },
  {
   "cell_type": "code",
   "execution_count": 24,
   "metadata": {},
   "outputs": [],
   "source": [
    "seed = 42\n",
    "cv=KFold(n_splits=5, random_state=seed, shuffle=True)"
   ]
  },
  {
   "cell_type": "code",
   "execution_count": 27,
   "metadata": {},
   "outputs": [],
   "source": [
    "svm = GridSearchCV(SVR(C=1.0, epsilon=0.2), param_grid, n_jobs=2, cv=cv, verbose=1)"
   ]
  },
  {
   "cell_type": "code",
   "execution_count": 28,
   "metadata": {},
   "outputs": [
    {
     "name": "stdout",
     "output_type": "stream",
     "text": [
      "Fitting 5 folds for each of 30 candidates, totalling 150 fits\n"
     ]
    },
    {
     "data": {
      "text/plain": [
       "GridSearchCV(cv=KFold(n_splits=5, random_state=42, shuffle=True),\n",
       "             estimator=SVR(epsilon=0.2), n_jobs=2,\n",
       "             param_grid={'C': [1, 10, 100, 1000, 10000],\n",
       "                         'gamma': [1e-06, 1e-05, 0.0001, 0.001, 0.01, 0.1]},\n",
       "             verbose=1)"
      ]
     },
     "execution_count": 28,
     "metadata": {},
     "output_type": "execute_result"
    }
   ],
   "source": [
    "svm.fit(x_tr, y_tr)"
   ]
  },
  {
   "cell_type": "code",
   "execution_count": 29,
   "metadata": {},
   "outputs": [],
   "source": [
    "svm.best_params_\n",
    "best_svm = svm.best_estimator_"
   ]
  },
  {
   "cell_type": "code",
   "execution_count": 30,
   "metadata": {},
   "outputs": [],
   "source": [
    "y_pred_CV_svm = cross_val_predict(best_svm, x_tr, y_tr, cv=cv)"
   ]
  },
  {
   "cell_type": "code",
   "execution_count": 33,
   "metadata": {},
   "outputs": [
    {
     "data": {
      "text/plain": [
       "0.6"
      ]
     },
     "execution_count": 33,
     "metadata": {},
     "output_type": "execute_result"
    }
   ],
   "source": [
    "Q2_CV = round(r2_score(y_tr, y_pred_CV_svm), 2)\n",
    "Q2_CV"
   ]
  },
  {
   "cell_type": "code",
   "execution_count": 34,
   "metadata": {},
   "outputs": [
    {
     "data": {
      "text/plain": [
       "0.72"
      ]
     },
     "execution_count": 34,
     "metadata": {},
     "output_type": "execute_result"
    }
   ],
   "source": [
    "RMSE_CV=round(np.sqrt(mean_absolute_error(y_tr, y_pred_CV_svm)), 2)\n",
    "RMSE_CV"
   ]
  },
  {
   "cell_type": "markdown",
   "metadata": {},
   "source": [
    "# 9. Prediction for test set's molecules"
   ]
  },
  {
   "cell_type": "code",
   "execution_count": 35,
   "metadata": {},
   "outputs": [],
   "source": [
    "x_ts = np.array(x_ts, dtype=np.float32)\n",
    "y_ts = np.array(y_ts, dtype=np.float32)"
   ]
  },
  {
   "cell_type": "code",
   "execution_count": 36,
   "metadata": {},
   "outputs": [],
   "source": [
    "y_pred_svm = best_svm.predict(x_ts)"
   ]
  },
  {
   "cell_type": "code",
   "execution_count": 37,
   "metadata": {},
   "outputs": [
    {
     "data": {
      "text/plain": [
       "0.63"
      ]
     },
     "execution_count": 37,
     "metadata": {},
     "output_type": "execute_result"
    }
   ],
   "source": [
    "Q2_TS = round(r2_score(y_ts, y_pred_svm), 2)\n",
    "Q2_TS"
   ]
  },
  {
   "cell_type": "code",
   "execution_count": 38,
   "metadata": {},
   "outputs": [
    {
     "data": {
      "text/plain": [
       "0.69"
      ]
     },
     "execution_count": 38,
     "metadata": {},
     "output_type": "execute_result"
    }
   ],
   "source": [
    "RMSE_TS=round(np.sqrt(mean_absolute_error(y_ts, y_pred_svm)), 2)\n",
    "RMSE_TS"
   ]
  },
  {
   "cell_type": "markdown",
   "metadata": {},
   "source": [
    "save the model to disk"
   ]
  },
  {
   "cell_type": "code",
   "execution_count": 40,
   "metadata": {},
   "outputs": [],
   "source": [
    "pickle.dump(best_svm, open('Models/ECFP4/HDAC2_SVM_ECFP4.pkl', 'wb'))"
   ]
  },
  {
   "cell_type": "markdown",
   "metadata": {},
   "source": [
    "load the model from disk"
   ]
  },
  {
   "cell_type": "code",
   "execution_count": null,
   "metadata": {},
   "outputs": [],
   "source": [
    "best_svm = pickle.load(open('Models/ECFP4/HDAC2_SVM_ECFP4.pkl', 'rb'))"
   ]
  },
  {
   "cell_type": "markdown",
   "metadata": {},
   "source": [
    "# 10. Y-randomization RF model"
   ]
  },
  {
   "cell_type": "code",
   "execution_count": 41,
   "metadata": {},
   "outputs": [
    {
     "name": "stderr",
     "output_type": "stream",
     "text": [
      "[Parallel(n_jobs=-1)]: Using backend LokyBackend with 4 concurrent workers.\n",
      "[Parallel(n_jobs=-1)]: Done  42 tasks      | elapsed:  2.2min\n"
     ]
    },
    {
     "name": "stdout",
     "output_type": "stream",
     "text": [
      "True score =  0.6 \n",
      "Y-randomization =  -0.33 \n",
      "p-value =  0.0099\n"
     ]
    },
    {
     "name": "stderr",
     "output_type": "stream",
     "text": [
      "[Parallel(n_jobs=-1)]: Done 100 out of 100 | elapsed:  5.0min finished\n"
     ]
    }
   ],
   "source": [
    "permutations = 100\n",
    "score, permutation_scores, pvalue = permutation_test_score(best_svm, x_tr, y_tr,\n",
    "                                                           cv=cv, scoring='r2',\n",
    "                                                           n_permutations=permutations,\n",
    "                                                           n_jobs=-1,\n",
    "                                                           verbose=1,\n",
    "                                                           random_state=24)\n",
    "print('True score = ', score.round(2),\n",
    "      '\\nY-randomization = ', np.mean(permutation_scores).round(2),\n",
    "      '\\np-value = ', pvalue.round(4))"
   ]
  },
  {
   "cell_type": "markdown",
   "metadata": {},
   "source": [
    "# 11. Estimating applicability domain. Method - Euclidian distances, K=1"
   ]
  },
  {
   "cell_type": "code",
   "execution_count": 42,
   "metadata": {},
   "outputs": [],
   "source": [
    "neighbors_k= pairwise_distances(x_tr, n_jobs=-1)\n",
    "neighbors_k.sort(0)"
   ]
  },
  {
   "cell_type": "code",
   "execution_count": 43,
   "metadata": {},
   "outputs": [
    {
     "data": {
      "text/html": [
       "<div>\n",
       "<style scoped>\n",
       "    .dataframe tbody tr th:only-of-type {\n",
       "        vertical-align: middle;\n",
       "    }\n",
       "\n",
       "    .dataframe tbody tr th {\n",
       "        vertical-align: top;\n",
       "    }\n",
       "\n",
       "    .dataframe thead th {\n",
       "        text-align: right;\n",
       "    }\n",
       "</style>\n",
       "<table border=\"1\" class=\"dataframe\">\n",
       "  <thead>\n",
       "    <tr style=\"text-align: right;\">\n",
       "      <th></th>\n",
       "      <th>0</th>\n",
       "      <th>1</th>\n",
       "      <th>2</th>\n",
       "      <th>3</th>\n",
       "      <th>4</th>\n",
       "      <th>5</th>\n",
       "      <th>6</th>\n",
       "      <th>7</th>\n",
       "      <th>8</th>\n",
       "      <th>9</th>\n",
       "      <th>...</th>\n",
       "      <th>1278</th>\n",
       "      <th>1279</th>\n",
       "      <th>1280</th>\n",
       "      <th>1281</th>\n",
       "      <th>1282</th>\n",
       "      <th>1283</th>\n",
       "      <th>1284</th>\n",
       "      <th>1285</th>\n",
       "      <th>1286</th>\n",
       "      <th>1287</th>\n",
       "    </tr>\n",
       "  </thead>\n",
       "  <tbody>\n",
       "    <tr>\n",
       "      <th>0</th>\n",
       "      <td>0.000000</td>\n",
       "      <td>0.000000</td>\n",
       "      <td>0.000000</td>\n",
       "      <td>0.000000</td>\n",
       "      <td>0.000000</td>\n",
       "      <td>0.000000</td>\n",
       "      <td>0.000000</td>\n",
       "      <td>0.000000</td>\n",
       "      <td>0.000000</td>\n",
       "      <td>0.000000</td>\n",
       "      <td>...</td>\n",
       "      <td>0.000000</td>\n",
       "      <td>0.000000</td>\n",
       "      <td>0.000000</td>\n",
       "      <td>0.000000</td>\n",
       "      <td>0.000000</td>\n",
       "      <td>0.000000</td>\n",
       "      <td>0.000000</td>\n",
       "      <td>0.000000</td>\n",
       "      <td>0.000000</td>\n",
       "      <td>0.000000</td>\n",
       "    </tr>\n",
       "    <tr>\n",
       "      <th>1</th>\n",
       "      <td>3.605551</td>\n",
       "      <td>5.291502</td>\n",
       "      <td>6.324555</td>\n",
       "      <td>5.744563</td>\n",
       "      <td>3.605551</td>\n",
       "      <td>5.744563</td>\n",
       "      <td>6.782330</td>\n",
       "      <td>3.162278</td>\n",
       "      <td>5.477226</td>\n",
       "      <td>5.000000</td>\n",
       "      <td>...</td>\n",
       "      <td>3.464102</td>\n",
       "      <td>4.000000</td>\n",
       "      <td>3.872983</td>\n",
       "      <td>4.898980</td>\n",
       "      <td>3.464102</td>\n",
       "      <td>4.898980</td>\n",
       "      <td>3.000000</td>\n",
       "      <td>3.872983</td>\n",
       "      <td>2.449490</td>\n",
       "      <td>4.358899</td>\n",
       "    </tr>\n",
       "    <tr>\n",
       "      <th>2</th>\n",
       "      <td>3.872983</td>\n",
       "      <td>5.385165</td>\n",
       "      <td>6.403124</td>\n",
       "      <td>7.280110</td>\n",
       "      <td>4.582576</td>\n",
       "      <td>5.830952</td>\n",
       "      <td>6.782330</td>\n",
       "      <td>5.000000</td>\n",
       "      <td>5.830952</td>\n",
       "      <td>6.244998</td>\n",
       "      <td>...</td>\n",
       "      <td>5.477226</td>\n",
       "      <td>4.472136</td>\n",
       "      <td>5.830952</td>\n",
       "      <td>5.099020</td>\n",
       "      <td>3.741657</td>\n",
       "      <td>6.708204</td>\n",
       "      <td>4.000000</td>\n",
       "      <td>4.472136</td>\n",
       "      <td>3.000000</td>\n",
       "      <td>5.000000</td>\n",
       "    </tr>\n",
       "    <tr>\n",
       "      <th>3</th>\n",
       "      <td>4.358899</td>\n",
       "      <td>5.744563</td>\n",
       "      <td>6.403124</td>\n",
       "      <td>7.280110</td>\n",
       "      <td>5.385165</td>\n",
       "      <td>5.830952</td>\n",
       "      <td>6.928203</td>\n",
       "      <td>5.196152</td>\n",
       "      <td>5.916080</td>\n",
       "      <td>6.480741</td>\n",
       "      <td>...</td>\n",
       "      <td>5.744563</td>\n",
       "      <td>5.916080</td>\n",
       "      <td>5.916080</td>\n",
       "      <td>5.656854</td>\n",
       "      <td>3.872983</td>\n",
       "      <td>7.211102</td>\n",
       "      <td>4.472136</td>\n",
       "      <td>4.898980</td>\n",
       "      <td>3.464102</td>\n",
       "      <td>5.291502</td>\n",
       "    </tr>\n",
       "    <tr>\n",
       "      <th>4</th>\n",
       "      <td>4.358899</td>\n",
       "      <td>5.830952</td>\n",
       "      <td>6.480741</td>\n",
       "      <td>7.416198</td>\n",
       "      <td>5.477226</td>\n",
       "      <td>6.000000</td>\n",
       "      <td>7.000000</td>\n",
       "      <td>5.196152</td>\n",
       "      <td>6.082763</td>\n",
       "      <td>6.557438</td>\n",
       "      <td>...</td>\n",
       "      <td>5.916080</td>\n",
       "      <td>6.403124</td>\n",
       "      <td>6.164414</td>\n",
       "      <td>5.830952</td>\n",
       "      <td>3.872983</td>\n",
       "      <td>7.483315</td>\n",
       "      <td>4.472136</td>\n",
       "      <td>5.000000</td>\n",
       "      <td>4.358899</td>\n",
       "      <td>5.567764</td>\n",
       "    </tr>\n",
       "    <tr>\n",
       "      <th>...</th>\n",
       "      <td>...</td>\n",
       "      <td>...</td>\n",
       "      <td>...</td>\n",
       "      <td>...</td>\n",
       "      <td>...</td>\n",
       "      <td>...</td>\n",
       "      <td>...</td>\n",
       "      <td>...</td>\n",
       "      <td>...</td>\n",
       "      <td>...</td>\n",
       "      <td>...</td>\n",
       "      <td>...</td>\n",
       "      <td>...</td>\n",
       "      <td>...</td>\n",
       "      <td>...</td>\n",
       "      <td>...</td>\n",
       "      <td>...</td>\n",
       "      <td>...</td>\n",
       "      <td>...</td>\n",
       "      <td>...</td>\n",
       "      <td>...</td>\n",
       "    </tr>\n",
       "    <tr>\n",
       "      <th>1283</th>\n",
       "      <td>10.392304</td>\n",
       "      <td>10.246951</td>\n",
       "      <td>10.583005</td>\n",
       "      <td>10.862781</td>\n",
       "      <td>11.135529</td>\n",
       "      <td>10.583005</td>\n",
       "      <td>10.770329</td>\n",
       "      <td>10.246951</td>\n",
       "      <td>10.723805</td>\n",
       "      <td>10.049875</td>\n",
       "      <td>...</td>\n",
       "      <td>11.090536</td>\n",
       "      <td>10.862781</td>\n",
       "      <td>10.816654</td>\n",
       "      <td>11.313708</td>\n",
       "      <td>11.357817</td>\n",
       "      <td>10.908712</td>\n",
       "      <td>11.224972</td>\n",
       "      <td>10.862781</td>\n",
       "      <td>11.224972</td>\n",
       "      <td>11.313708</td>\n",
       "    </tr>\n",
       "    <tr>\n",
       "      <th>1284</th>\n",
       "      <td>10.440307</td>\n",
       "      <td>10.295630</td>\n",
       "      <td>10.723805</td>\n",
       "      <td>10.954452</td>\n",
       "      <td>11.135529</td>\n",
       "      <td>10.630146</td>\n",
       "      <td>10.770329</td>\n",
       "      <td>10.246951</td>\n",
       "      <td>10.816654</td>\n",
       "      <td>10.198039</td>\n",
       "      <td>...</td>\n",
       "      <td>11.180340</td>\n",
       "      <td>10.908712</td>\n",
       "      <td>10.862781</td>\n",
       "      <td>11.357817</td>\n",
       "      <td>11.401754</td>\n",
       "      <td>10.908712</td>\n",
       "      <td>11.269427</td>\n",
       "      <td>10.908712</td>\n",
       "      <td>11.313708</td>\n",
       "      <td>11.357817</td>\n",
       "    </tr>\n",
       "    <tr>\n",
       "      <th>1285</th>\n",
       "      <td>10.488089</td>\n",
       "      <td>10.344080</td>\n",
       "      <td>10.862781</td>\n",
       "      <td>11.000000</td>\n",
       "      <td>11.135529</td>\n",
       "      <td>10.816654</td>\n",
       "      <td>10.816654</td>\n",
       "      <td>10.295630</td>\n",
       "      <td>10.816654</td>\n",
       "      <td>10.246951</td>\n",
       "      <td>...</td>\n",
       "      <td>11.180340</td>\n",
       "      <td>11.045361</td>\n",
       "      <td>10.954452</td>\n",
       "      <td>11.445523</td>\n",
       "      <td>11.575837</td>\n",
       "      <td>10.954452</td>\n",
       "      <td>11.269427</td>\n",
       "      <td>10.954452</td>\n",
       "      <td>11.313708</td>\n",
       "      <td>11.445523</td>\n",
       "    </tr>\n",
       "    <tr>\n",
       "      <th>1286</th>\n",
       "      <td>10.583005</td>\n",
       "      <td>10.488089</td>\n",
       "      <td>10.862781</td>\n",
       "      <td>11.045361</td>\n",
       "      <td>11.180340</td>\n",
       "      <td>10.862781</td>\n",
       "      <td>10.816654</td>\n",
       "      <td>10.488089</td>\n",
       "      <td>10.908712</td>\n",
       "      <td>10.344080</td>\n",
       "      <td>...</td>\n",
       "      <td>11.489125</td>\n",
       "      <td>11.045361</td>\n",
       "      <td>11.180340</td>\n",
       "      <td>11.575837</td>\n",
       "      <td>11.575837</td>\n",
       "      <td>11.045361</td>\n",
       "      <td>11.269427</td>\n",
       "      <td>11.313708</td>\n",
       "      <td>11.445523</td>\n",
       "      <td>11.575837</td>\n",
       "    </tr>\n",
       "    <tr>\n",
       "      <th>1287</th>\n",
       "      <td>10.630146</td>\n",
       "      <td>10.723805</td>\n",
       "      <td>11.000000</td>\n",
       "      <td>11.045361</td>\n",
       "      <td>11.269427</td>\n",
       "      <td>10.908712</td>\n",
       "      <td>11.045361</td>\n",
       "      <td>10.630146</td>\n",
       "      <td>11.000000</td>\n",
       "      <td>10.344080</td>\n",
       "      <td>...</td>\n",
       "      <td>11.618950</td>\n",
       "      <td>11.269427</td>\n",
       "      <td>11.401754</td>\n",
       "      <td>11.618950</td>\n",
       "      <td>11.661903</td>\n",
       "      <td>11.135529</td>\n",
       "      <td>11.269427</td>\n",
       "      <td>11.532562</td>\n",
       "      <td>11.575837</td>\n",
       "      <td>11.704700</td>\n",
       "    </tr>\n",
       "  </tbody>\n",
       "</table>\n",
       "<p>1288 rows × 1288 columns</p>\n",
       "</div>"
      ],
      "text/plain": [
       "           0          1          2          3          4          5     \\\n",
       "0      0.000000   0.000000   0.000000   0.000000   0.000000   0.000000   \n",
       "1      3.605551   5.291502   6.324555   5.744563   3.605551   5.744563   \n",
       "2      3.872983   5.385165   6.403124   7.280110   4.582576   5.830952   \n",
       "3      4.358899   5.744563   6.403124   7.280110   5.385165   5.830952   \n",
       "4      4.358899   5.830952   6.480741   7.416198   5.477226   6.000000   \n",
       "...         ...        ...        ...        ...        ...        ...   \n",
       "1283  10.392304  10.246951  10.583005  10.862781  11.135529  10.583005   \n",
       "1284  10.440307  10.295630  10.723805  10.954452  11.135529  10.630146   \n",
       "1285  10.488089  10.344080  10.862781  11.000000  11.135529  10.816654   \n",
       "1286  10.583005  10.488089  10.862781  11.045361  11.180340  10.862781   \n",
       "1287  10.630146  10.723805  11.000000  11.045361  11.269427  10.908712   \n",
       "\n",
       "           6          7          8          9     ...       1278       1279  \\\n",
       "0      0.000000   0.000000   0.000000   0.000000  ...   0.000000   0.000000   \n",
       "1      6.782330   3.162278   5.477226   5.000000  ...   3.464102   4.000000   \n",
       "2      6.782330   5.000000   5.830952   6.244998  ...   5.477226   4.472136   \n",
       "3      6.928203   5.196152   5.916080   6.480741  ...   5.744563   5.916080   \n",
       "4      7.000000   5.196152   6.082763   6.557438  ...   5.916080   6.403124   \n",
       "...         ...        ...        ...        ...  ...        ...        ...   \n",
       "1283  10.770329  10.246951  10.723805  10.049875  ...  11.090536  10.862781   \n",
       "1284  10.770329  10.246951  10.816654  10.198039  ...  11.180340  10.908712   \n",
       "1285  10.816654  10.295630  10.816654  10.246951  ...  11.180340  11.045361   \n",
       "1286  10.816654  10.488089  10.908712  10.344080  ...  11.489125  11.045361   \n",
       "1287  11.045361  10.630146  11.000000  10.344080  ...  11.618950  11.269427   \n",
       "\n",
       "           1280       1281       1282       1283       1284       1285  \\\n",
       "0      0.000000   0.000000   0.000000   0.000000   0.000000   0.000000   \n",
       "1      3.872983   4.898980   3.464102   4.898980   3.000000   3.872983   \n",
       "2      5.830952   5.099020   3.741657   6.708204   4.000000   4.472136   \n",
       "3      5.916080   5.656854   3.872983   7.211102   4.472136   4.898980   \n",
       "4      6.164414   5.830952   3.872983   7.483315   4.472136   5.000000   \n",
       "...         ...        ...        ...        ...        ...        ...   \n",
       "1283  10.816654  11.313708  11.357817  10.908712  11.224972  10.862781   \n",
       "1284  10.862781  11.357817  11.401754  10.908712  11.269427  10.908712   \n",
       "1285  10.954452  11.445523  11.575837  10.954452  11.269427  10.954452   \n",
       "1286  11.180340  11.575837  11.575837  11.045361  11.269427  11.313708   \n",
       "1287  11.401754  11.618950  11.661903  11.135529  11.269427  11.532562   \n",
       "\n",
       "           1286       1287  \n",
       "0      0.000000   0.000000  \n",
       "1      2.449490   4.358899  \n",
       "2      3.000000   5.000000  \n",
       "3      3.464102   5.291502  \n",
       "4      4.358899   5.567764  \n",
       "...         ...        ...  \n",
       "1283  11.224972  11.313708  \n",
       "1284  11.313708  11.357817  \n",
       "1285  11.313708  11.445523  \n",
       "1286  11.445523  11.575837  \n",
       "1287  11.575837  11.704700  \n",
       "\n",
       "[1288 rows x 1288 columns]"
      ]
     },
     "execution_count": 43,
     "metadata": {},
     "output_type": "execute_result"
    }
   ],
   "source": [
    "df_tr=pd.DataFrame(neighbors_k)\n",
    "df_tr"
   ]
  },
  {
   "cell_type": "code",
   "execution_count": 45,
   "metadata": {},
   "outputs": [],
   "source": [
    "similarity= neighbors_k"
   ]
  },
  {
   "cell_type": "code",
   "execution_count": 46,
   "metadata": {},
   "outputs": [],
   "source": [
    "Dmean=np.mean(similarity[1,:])"
   ]
  },
  {
   "cell_type": "code",
   "execution_count": 47,
   "metadata": {},
   "outputs": [
    {
     "data": {
      "text/plain": [
       "3.64"
      ]
     },
     "execution_count": 47,
     "metadata": {},
     "output_type": "execute_result"
    }
   ],
   "source": [
    "round(Dmean, 2)"
   ]
  },
  {
   "cell_type": "code",
   "execution_count": 48,
   "metadata": {},
   "outputs": [],
   "source": [
    "std=np.std(similarity[1,:])"
   ]
  },
  {
   "cell_type": "code",
   "execution_count": 49,
   "metadata": {},
   "outputs": [
    {
     "data": {
      "text/plain": [
       "1.29"
      ]
     },
     "execution_count": 49,
     "metadata": {},
     "output_type": "execute_result"
    }
   ],
   "source": [
    "round(std, 2)"
   ]
  },
  {
   "cell_type": "code",
   "execution_count": 50,
   "metadata": {},
   "outputs": [
    {
     "name": "stdout",
     "output_type": "stream",
     "text": [
      "4.28\n"
     ]
    }
   ],
   "source": [
    "model_AD_limit=Dmean+std*0.5\n",
    "print(np.round(model_AD_limit, 2))"
   ]
  },
  {
   "cell_type": "code",
   "execution_count": 51,
   "metadata": {},
   "outputs": [],
   "source": [
    "neighbors_k_ts= pairwise_distances(x_tr,Y=x_ts, n_jobs=-1)\n",
    "neighbors_k_ts.sort(0)"
   ]
  },
  {
   "cell_type": "code",
   "execution_count": 52,
   "metadata": {},
   "outputs": [
    {
     "data": {
      "text/html": [
       "<div>\n",
       "<style scoped>\n",
       "    .dataframe tbody tr th:only-of-type {\n",
       "        vertical-align: middle;\n",
       "    }\n",
       "\n",
       "    .dataframe tbody tr th {\n",
       "        vertical-align: top;\n",
       "    }\n",
       "\n",
       "    .dataframe thead th {\n",
       "        text-align: right;\n",
       "    }\n",
       "</style>\n",
       "<table border=\"1\" class=\"dataframe\">\n",
       "  <thead>\n",
       "    <tr style=\"text-align: right;\">\n",
       "      <th></th>\n",
       "      <th>0</th>\n",
       "      <th>1</th>\n",
       "      <th>2</th>\n",
       "      <th>3</th>\n",
       "      <th>4</th>\n",
       "      <th>5</th>\n",
       "      <th>6</th>\n",
       "      <th>7</th>\n",
       "      <th>8</th>\n",
       "      <th>9</th>\n",
       "      <th>...</th>\n",
       "      <th>313</th>\n",
       "      <th>314</th>\n",
       "      <th>315</th>\n",
       "      <th>316</th>\n",
       "      <th>317</th>\n",
       "      <th>318</th>\n",
       "      <th>319</th>\n",
       "      <th>320</th>\n",
       "      <th>321</th>\n",
       "      <th>322</th>\n",
       "    </tr>\n",
       "  </thead>\n",
       "  <tbody>\n",
       "    <tr>\n",
       "      <th>0</th>\n",
       "      <td>4.123106</td>\n",
       "      <td>4.472136</td>\n",
       "      <td>3.464102</td>\n",
       "      <td>3.605551</td>\n",
       "      <td>3.872983</td>\n",
       "      <td>2.449490</td>\n",
       "      <td>4.000000</td>\n",
       "      <td>5.656854</td>\n",
       "      <td>4.795832</td>\n",
       "      <td>4.242640</td>\n",
       "      <td>...</td>\n",
       "      <td>4.690416</td>\n",
       "      <td>2.828427</td>\n",
       "      <td>4.472136</td>\n",
       "      <td>3.000000</td>\n",
       "      <td>3.872983</td>\n",
       "      <td>3.000000</td>\n",
       "      <td>6.324555</td>\n",
       "      <td>4.472136</td>\n",
       "      <td>4.690416</td>\n",
       "      <td>4.000000</td>\n",
       "    </tr>\n",
       "    <tr>\n",
       "      <th>1</th>\n",
       "      <td>4.242640</td>\n",
       "      <td>5.567764</td>\n",
       "      <td>6.480741</td>\n",
       "      <td>4.898980</td>\n",
       "      <td>3.872983</td>\n",
       "      <td>3.464102</td>\n",
       "      <td>7.810250</td>\n",
       "      <td>6.244998</td>\n",
       "      <td>5.291502</td>\n",
       "      <td>4.358899</td>\n",
       "      <td>...</td>\n",
       "      <td>5.099020</td>\n",
       "      <td>5.477226</td>\n",
       "      <td>4.472136</td>\n",
       "      <td>3.162278</td>\n",
       "      <td>4.123106</td>\n",
       "      <td>3.872983</td>\n",
       "      <td>6.324555</td>\n",
       "      <td>4.582576</td>\n",
       "      <td>5.916080</td>\n",
       "      <td>5.291502</td>\n",
       "    </tr>\n",
       "    <tr>\n",
       "      <th>2</th>\n",
       "      <td>4.242640</td>\n",
       "      <td>7.280110</td>\n",
       "      <td>6.633250</td>\n",
       "      <td>6.244998</td>\n",
       "      <td>4.000000</td>\n",
       "      <td>3.464102</td>\n",
       "      <td>8.000000</td>\n",
       "      <td>6.403124</td>\n",
       "      <td>5.291502</td>\n",
       "      <td>4.582576</td>\n",
       "      <td>...</td>\n",
       "      <td>5.099020</td>\n",
       "      <td>5.567764</td>\n",
       "      <td>4.582576</td>\n",
       "      <td>3.872983</td>\n",
       "      <td>4.795832</td>\n",
       "      <td>4.123106</td>\n",
       "      <td>6.403124</td>\n",
       "      <td>4.690416</td>\n",
       "      <td>5.916080</td>\n",
       "      <td>5.385165</td>\n",
       "    </tr>\n",
       "    <tr>\n",
       "      <th>3</th>\n",
       "      <td>4.242640</td>\n",
       "      <td>7.348469</td>\n",
       "      <td>6.633250</td>\n",
       "      <td>6.324555</td>\n",
       "      <td>4.358899</td>\n",
       "      <td>3.872983</td>\n",
       "      <td>8.062258</td>\n",
       "      <td>6.480741</td>\n",
       "      <td>5.291502</td>\n",
       "      <td>6.244998</td>\n",
       "      <td>...</td>\n",
       "      <td>5.291502</td>\n",
       "      <td>6.782330</td>\n",
       "      <td>4.582576</td>\n",
       "      <td>4.000000</td>\n",
       "      <td>5.196152</td>\n",
       "      <td>4.358899</td>\n",
       "      <td>6.403124</td>\n",
       "      <td>4.690416</td>\n",
       "      <td>6.082763</td>\n",
       "      <td>5.385165</td>\n",
       "    </tr>\n",
       "    <tr>\n",
       "      <th>4</th>\n",
       "      <td>4.472136</td>\n",
       "      <td>7.416198</td>\n",
       "      <td>6.633250</td>\n",
       "      <td>6.403124</td>\n",
       "      <td>4.472136</td>\n",
       "      <td>4.000000</td>\n",
       "      <td>8.246211</td>\n",
       "      <td>6.557438</td>\n",
       "      <td>5.291502</td>\n",
       "      <td>6.324555</td>\n",
       "      <td>...</td>\n",
       "      <td>5.291502</td>\n",
       "      <td>6.782330</td>\n",
       "      <td>4.898980</td>\n",
       "      <td>4.123106</td>\n",
       "      <td>5.656854</td>\n",
       "      <td>4.472136</td>\n",
       "      <td>6.480741</td>\n",
       "      <td>4.795832</td>\n",
       "      <td>6.244998</td>\n",
       "      <td>5.477226</td>\n",
       "    </tr>\n",
       "    <tr>\n",
       "      <th>...</th>\n",
       "      <td>...</td>\n",
       "      <td>...</td>\n",
       "      <td>...</td>\n",
       "      <td>...</td>\n",
       "      <td>...</td>\n",
       "      <td>...</td>\n",
       "      <td>...</td>\n",
       "      <td>...</td>\n",
       "      <td>...</td>\n",
       "      <td>...</td>\n",
       "      <td>...</td>\n",
       "      <td>...</td>\n",
       "      <td>...</td>\n",
       "      <td>...</td>\n",
       "      <td>...</td>\n",
       "      <td>...</td>\n",
       "      <td>...</td>\n",
       "      <td>...</td>\n",
       "      <td>...</td>\n",
       "      <td>...</td>\n",
       "      <td>...</td>\n",
       "    </tr>\n",
       "    <tr>\n",
       "      <th>1283</th>\n",
       "      <td>9.899495</td>\n",
       "      <td>10.862781</td>\n",
       "      <td>10.630146</td>\n",
       "      <td>10.099504</td>\n",
       "      <td>9.899495</td>\n",
       "      <td>10.392304</td>\n",
       "      <td>11.269427</td>\n",
       "      <td>10.535654</td>\n",
       "      <td>9.848858</td>\n",
       "      <td>11.357817</td>\n",
       "      <td>...</td>\n",
       "      <td>11.045361</td>\n",
       "      <td>11.090536</td>\n",
       "      <td>10.198039</td>\n",
       "      <td>11.135529</td>\n",
       "      <td>11.180340</td>\n",
       "      <td>11.224972</td>\n",
       "      <td>10.440307</td>\n",
       "      <td>9.899495</td>\n",
       "      <td>10.630146</td>\n",
       "      <td>11.357817</td>\n",
       "    </tr>\n",
       "    <tr>\n",
       "      <th>1284</th>\n",
       "      <td>9.949874</td>\n",
       "      <td>10.954452</td>\n",
       "      <td>10.630146</td>\n",
       "      <td>10.392304</td>\n",
       "      <td>10.049875</td>\n",
       "      <td>10.488089</td>\n",
       "      <td>11.269427</td>\n",
       "      <td>10.535654</td>\n",
       "      <td>9.949874</td>\n",
       "      <td>11.401754</td>\n",
       "      <td>...</td>\n",
       "      <td>11.045361</td>\n",
       "      <td>11.090536</td>\n",
       "      <td>10.246951</td>\n",
       "      <td>11.224972</td>\n",
       "      <td>11.224972</td>\n",
       "      <td>11.224972</td>\n",
       "      <td>10.488089</td>\n",
       "      <td>10.049875</td>\n",
       "      <td>10.630146</td>\n",
       "      <td>11.661903</td>\n",
       "    </tr>\n",
       "    <tr>\n",
       "      <th>1285</th>\n",
       "      <td>10.000000</td>\n",
       "      <td>10.954452</td>\n",
       "      <td>10.630146</td>\n",
       "      <td>10.440307</td>\n",
       "      <td>10.049875</td>\n",
       "      <td>10.535654</td>\n",
       "      <td>11.357817</td>\n",
       "      <td>10.535654</td>\n",
       "      <td>10.099504</td>\n",
       "      <td>11.401754</td>\n",
       "      <td>...</td>\n",
       "      <td>11.045361</td>\n",
       "      <td>11.357817</td>\n",
       "      <td>10.295630</td>\n",
       "      <td>11.224972</td>\n",
       "      <td>11.269427</td>\n",
       "      <td>11.313708</td>\n",
       "      <td>10.488089</td>\n",
       "      <td>10.148891</td>\n",
       "      <td>10.630146</td>\n",
       "      <td>11.704700</td>\n",
       "    </tr>\n",
       "    <tr>\n",
       "      <th>1286</th>\n",
       "      <td>10.000000</td>\n",
       "      <td>11.090536</td>\n",
       "      <td>10.677078</td>\n",
       "      <td>10.440307</td>\n",
       "      <td>10.099504</td>\n",
       "      <td>10.630146</td>\n",
       "      <td>11.357817</td>\n",
       "      <td>10.583005</td>\n",
       "      <td>10.148891</td>\n",
       "      <td>11.445523</td>\n",
       "      <td>...</td>\n",
       "      <td>11.224972</td>\n",
       "      <td>11.489125</td>\n",
       "      <td>10.295630</td>\n",
       "      <td>11.532562</td>\n",
       "      <td>11.445523</td>\n",
       "      <td>11.313708</td>\n",
       "      <td>10.677078</td>\n",
       "      <td>10.148891</td>\n",
       "      <td>10.954452</td>\n",
       "      <td>11.747340</td>\n",
       "    </tr>\n",
       "    <tr>\n",
       "      <th>1287</th>\n",
       "      <td>10.148891</td>\n",
       "      <td>11.135529</td>\n",
       "      <td>10.862781</td>\n",
       "      <td>10.440307</td>\n",
       "      <td>10.099504</td>\n",
       "      <td>10.677078</td>\n",
       "      <td>11.401754</td>\n",
       "      <td>10.630146</td>\n",
       "      <td>10.392304</td>\n",
       "      <td>11.445523</td>\n",
       "      <td>...</td>\n",
       "      <td>11.532562</td>\n",
       "      <td>11.532562</td>\n",
       "      <td>10.440307</td>\n",
       "      <td>11.575837</td>\n",
       "      <td>11.489125</td>\n",
       "      <td>11.357817</td>\n",
       "      <td>11.000000</td>\n",
       "      <td>10.198039</td>\n",
       "      <td>11.090536</td>\n",
       "      <td>11.832160</td>\n",
       "    </tr>\n",
       "  </tbody>\n",
       "</table>\n",
       "<p>1288 rows × 323 columns</p>\n",
       "</div>"
      ],
      "text/plain": [
       "            0          1          2          3          4          5    \\\n",
       "0      4.123106   4.472136   3.464102   3.605551   3.872983   2.449490   \n",
       "1      4.242640   5.567764   6.480741   4.898980   3.872983   3.464102   \n",
       "2      4.242640   7.280110   6.633250   6.244998   4.000000   3.464102   \n",
       "3      4.242640   7.348469   6.633250   6.324555   4.358899   3.872983   \n",
       "4      4.472136   7.416198   6.633250   6.403124   4.472136   4.000000   \n",
       "...         ...        ...        ...        ...        ...        ...   \n",
       "1283   9.899495  10.862781  10.630146  10.099504   9.899495  10.392304   \n",
       "1284   9.949874  10.954452  10.630146  10.392304  10.049875  10.488089   \n",
       "1285  10.000000  10.954452  10.630146  10.440307  10.049875  10.535654   \n",
       "1286  10.000000  11.090536  10.677078  10.440307  10.099504  10.630146   \n",
       "1287  10.148891  11.135529  10.862781  10.440307  10.099504  10.677078   \n",
       "\n",
       "            6          7          8          9    ...        313        314  \\\n",
       "0      4.000000   5.656854   4.795832   4.242640  ...   4.690416   2.828427   \n",
       "1      7.810250   6.244998   5.291502   4.358899  ...   5.099020   5.477226   \n",
       "2      8.000000   6.403124   5.291502   4.582576  ...   5.099020   5.567764   \n",
       "3      8.062258   6.480741   5.291502   6.244998  ...   5.291502   6.782330   \n",
       "4      8.246211   6.557438   5.291502   6.324555  ...   5.291502   6.782330   \n",
       "...         ...        ...        ...        ...  ...        ...        ...   \n",
       "1283  11.269427  10.535654   9.848858  11.357817  ...  11.045361  11.090536   \n",
       "1284  11.269427  10.535654   9.949874  11.401754  ...  11.045361  11.090536   \n",
       "1285  11.357817  10.535654  10.099504  11.401754  ...  11.045361  11.357817   \n",
       "1286  11.357817  10.583005  10.148891  11.445523  ...  11.224972  11.489125   \n",
       "1287  11.401754  10.630146  10.392304  11.445523  ...  11.532562  11.532562   \n",
       "\n",
       "            315        316        317        318        319        320  \\\n",
       "0      4.472136   3.000000   3.872983   3.000000   6.324555   4.472136   \n",
       "1      4.472136   3.162278   4.123106   3.872983   6.324555   4.582576   \n",
       "2      4.582576   3.872983   4.795832   4.123106   6.403124   4.690416   \n",
       "3      4.582576   4.000000   5.196152   4.358899   6.403124   4.690416   \n",
       "4      4.898980   4.123106   5.656854   4.472136   6.480741   4.795832   \n",
       "...         ...        ...        ...        ...        ...        ...   \n",
       "1283  10.198039  11.135529  11.180340  11.224972  10.440307   9.899495   \n",
       "1284  10.246951  11.224972  11.224972  11.224972  10.488089  10.049875   \n",
       "1285  10.295630  11.224972  11.269427  11.313708  10.488089  10.148891   \n",
       "1286  10.295630  11.532562  11.445523  11.313708  10.677078  10.148891   \n",
       "1287  10.440307  11.575837  11.489125  11.357817  11.000000  10.198039   \n",
       "\n",
       "            321        322  \n",
       "0      4.690416   4.000000  \n",
       "1      5.916080   5.291502  \n",
       "2      5.916080   5.385165  \n",
       "3      6.082763   5.385165  \n",
       "4      6.244998   5.477226  \n",
       "...         ...        ...  \n",
       "1283  10.630146  11.357817  \n",
       "1284  10.630146  11.661903  \n",
       "1285  10.630146  11.704700  \n",
       "1286  10.954452  11.747340  \n",
       "1287  11.090536  11.832160  \n",
       "\n",
       "[1288 rows x 323 columns]"
      ]
     },
     "execution_count": 52,
     "metadata": {},
     "output_type": "execute_result"
    }
   ],
   "source": [
    "x_ts_AD=pd.DataFrame(neighbors_k_ts)\n",
    "x_ts_AD"
   ]
  },
  {
   "cell_type": "code",
   "execution_count": 53,
   "metadata": {},
   "outputs": [
    {
     "name": "stdout",
     "output_type": "stream",
     "text": [
      "[4.123 4.472 3.464 3.606 3.873 2.449 4.    5.657 4.796 4.243 3.464 3.606\n",
      " 3.873 3.742 4.69  2.    4.123 0.    5.292 3.    3.873 4.123 3.464 5.099\n",
      " 4.243 3.606 3.    4.472 2.449 3.162 6.557 4.    3.    4.69  3.162 3.\n",
      " 4.583 3.317 2.646 3.317 3.317 3.162 4.123 2.646 3.317 4.69  5.568 3.873\n",
      " 4.796 4.123 5.831 2.646 2.449 2.236 0.    4.69  3.464 0.    3.464 3.873\n",
      " 4.123 3.873 1.    4.123 5.099 1.    3.    3.873 2.    1.    3.    1.\n",
      " 0.    3.162 6.164 2.828 2.646 3.606 3.742 3.742 4.243 3.    0.    4.\n",
      " 3.162 4.    5.385 4.123 4.899 0.    3.    1.732 4.69  3.    3.317 3.162\n",
      " 3.606 3.    0.    4.123 3.162 3.873 2.646 3.    5.    6.782 3.317 3.464\n",
      " 5.099 3.742 1.    2.646 1.    0.    5.831 3.464 3.317 3.742 3.    4.472\n",
      " 4.123 2.828 3.464 6.245 3.742 0.    4.123 3.742 3.873 2.646 3.873 0.\n",
      " 4.472 4.69  3.464 7.141 5.831 2.646 4.472 6.782 2.646 3.464 4.123 2.828\n",
      " 1.    3.606 3.742 3.742 3.606 4.    2.646 3.    3.162 3.    3.317 1.\n",
      " 3.873 4.899 6.403 4.    3.606 3.162 3.464 3.317 3.464 3.162 3.162 4.123\n",
      " 2.236 1.414 4.    3.162 3.873 0.    3.162 3.    3.464 3.    3.    4.583\n",
      " 4.243 4.359 2.    3.873 3.162 5.385 4.359 0.    3.606 4.243 3.873 3.464\n",
      " 3.    3.317 3.162 3.464 3.606 5.196 3.873 3.464 2.646 3.162 4.359 5.568\n",
      " 4.472 1.414 3.    4.583 3.464 1.    3.    4.69  3.    6.    2.    3.162\n",
      " 3.606 4.123 3.317 3.    4.    2.646 2.828 3.162 5.292 2.828 1.732 4.899\n",
      " 2.646 3.742 4.123 5.099 3.    4.796 4.583 3.    2.828 2.    3.742 4.472\n",
      " 2.449 4.899 4.69  6.083 3.606 3.873 3.742 4.    3.464 1.    3.162 3.606\n",
      " 4.    3.    4.472 2.646 4.243 4.69  3.742 4.359 3.317 3.606 4.359 3.873\n",
      " 2.828 0.    5.385 2.    4.583 3.606 3.    3.464 4.69  3.464 3.464 4.243\n",
      " 5.    4.    3.162 4.359 4.796 4.359 5.292 3.606 4.359 2.646 2.828 5.\n",
      " 3.162 2.449 3.162 3.317 3.606 3.    2.828 4.243 4.583 6.    2.449 4.899\n",
      " 3.606 5.916 3.162 2.828 3.    3.317 5.099 3.162 5.099 3.317 6.708 3.\n",
      " 3.606 4.69  2.828 4.472 3.    3.873 3.    6.325 4.472 4.69  4.   ]\n"
     ]
    }
   ],
   "source": [
    "similarity_ts= neighbors_k_ts\n",
    "cpd_AD=similarity_ts[0,:]\n",
    "cpd_value = np.round(cpd_AD, 3)\n",
    "print(cpd_value)"
   ]
  },
  {
   "cell_type": "code",
   "execution_count": 54,
   "metadata": {},
   "outputs": [
    {
     "name": "stdout",
     "output_type": "stream",
     "text": [
      "[ True False  True  True  True  True  True False False  True  True  True\n",
      "  True  True False  True  True  True False  True  True  True  True False\n",
      "  True  True  True False  True  True False  True  True False  True  True\n",
      " False  True  True  True  True  True  True  True  True False False  True\n",
      " False  True False  True  True  True  True False  True  True  True  True\n",
      "  True  True  True  True False  True  True  True  True  True  True  True\n",
      "  True  True False  True  True  True  True  True  True  True  True  True\n",
      "  True  True False  True False  True  True  True False  True  True  True\n",
      "  True  True  True  True  True  True  True  True False False  True  True\n",
      " False  True  True  True  True  True False  True  True  True  True False\n",
      "  True  True  True False  True  True  True  True  True  True  True  True\n",
      " False False  True False False  True False False  True  True  True  True\n",
      "  True  True  True  True  True  True  True  True  True  True  True  True\n",
      "  True False False  True  True  True  True  True  True  True  True  True\n",
      "  True  True  True  True  True  True  True  True  True  True  True False\n",
      "  True False  True  True  True False False  True  True  True  True  True\n",
      "  True  True  True  True  True False  True  True  True  True False False\n",
      " False  True  True False  True  True  True False  True False  True  True\n",
      "  True  True  True  True  True  True  True  True False  True  True False\n",
      "  True  True  True False  True False False  True  True  True  True False\n",
      "  True False False False  True  True  True  True  True  True  True  True\n",
      "  True  True False  True  True False  True False  True  True False  True\n",
      "  True  True False  True False  True  True  True False  True  True  True\n",
      " False  True  True False False False False  True False  True  True False\n",
      "  True  True  True  True  True  True  True  True False False  True False\n",
      "  True False  True  True  True  True False  True False  True False  True\n",
      "  True False  True False  True  True  True False False False  True]\n"
     ]
    }
   ],
   "source": [
    "cpd_AD = np.where(cpd_value <= model_AD_limit, True, False)\n",
    "print(cpd_AD)"
   ]
  },
  {
   "cell_type": "code",
   "execution_count": 55,
   "metadata": {},
   "outputs": [
    {
     "name": "stdout",
     "output_type": "stream",
     "text": [
      "Coverage =  0.7523219814241486\n"
     ]
    }
   ],
   "source": [
    "print(\"Coverage = \", sum(cpd_AD) / len(cpd_AD))"
   ]
  },
  {
   "cell_type": "code",
   "execution_count": 56,
   "metadata": {},
   "outputs": [
    {
     "name": "stdout",
     "output_type": "stream",
     "text": [
      "Indices of substances included in AD =  [  0   2   3   4   5   6   9  10  11  12  13  15  16  17  19  20  21  22\n",
      "  24  25  26  28  29  31  32  34  35  37  38  39  40  41  42  43  44  47\n",
      "  49  51  52  53  54  56  57  58  59  60  61  62  63  65  66  67  68  69\n",
      "  70  71  72  73  75  76  77  78  79  80  81  82  83  84  85  87  89  90\n",
      "  91  93  94  95  96  97  98  99 100 101 102 103 106 107 109 110 111 112\n",
      " 113 115 116 117 118 120 121 122 124 125 126 127 128 129 130 131 134 137\n",
      " 140 141 142 143 144 145 146 147 148 149 150 151 152 153 154 155 156 159\n",
      " 160 161 162 163 164 165 166 167 168 169 170 171 172 173 174 175 176 177\n",
      " 178 180 182 183 184 187 188 189 190 191 192 193 194 195 196 198 199 200\n",
      " 201 205 206 208 209 210 212 214 215 216 217 218 219 220 221 222 223 225\n",
      " 226 228 229 230 232 235 236 237 238 240 244 245 246 247 248 249 250 251\n",
      " 252 253 255 256 258 260 261 263 264 265 267 269 270 271 273 274 275 277\n",
      " 278 283 285 286 288 289 290 291 292 293 294 295 298 300 302 303 304 305\n",
      " 307 309 311 312 314 316 317 318 322]\n"
     ]
    }
   ],
   "source": [
    "print(\"Indices of substances included in AD = \", np.where(cpd_AD != 0)[0])"
   ]
  },
  {
   "cell_type": "code",
   "execution_count": 57,
   "metadata": {},
   "outputs": [],
   "source": [
    "out_Ad=list(np.where(cpd_AD == 0)[0])"
   ]
  },
  {
   "cell_type": "markdown",
   "metadata": {},
   "source": [
    "# 12. Prediction only for molecules included in  AD"
   ]
  },
  {
   "cell_type": "code",
   "execution_count": 59,
   "metadata": {},
   "outputs": [],
   "source": [
    "y_pred_svm_ad=list(y_pred_svm)"
   ]
  },
  {
   "cell_type": "code",
   "execution_count": 60,
   "metadata": {},
   "outputs": [],
   "source": [
    "y_pred_svm_ad[:] = [x for i,x in enumerate(y_pred_svm_ad) if i not in out_Ad]"
   ]
  },
  {
   "cell_type": "code",
   "execution_count": 61,
   "metadata": {},
   "outputs": [
    {
     "data": {
      "text/plain": [
       "243"
      ]
     },
     "execution_count": 61,
     "metadata": {},
     "output_type": "execute_result"
    }
   ],
   "source": [
    "len(y_pred_svm_ad)"
   ]
  },
  {
   "cell_type": "code",
   "execution_count": 62,
   "metadata": {},
   "outputs": [],
   "source": [
    "y_ts_ad=list(y_ts)"
   ]
  },
  {
   "cell_type": "code",
   "execution_count": 63,
   "metadata": {},
   "outputs": [],
   "source": [
    "y_ts_ad[:] = [x for i,x in enumerate(y_ts_ad) if i not in out_Ad]"
   ]
  },
  {
   "cell_type": "code",
   "execution_count": 64,
   "metadata": {},
   "outputs": [
    {
     "data": {
      "text/plain": [
       "243"
      ]
     },
     "execution_count": 64,
     "metadata": {},
     "output_type": "execute_result"
    }
   ],
   "source": [
    "len(y_ts_ad)"
   ]
  },
  {
   "cell_type": "code",
   "execution_count": 65,
   "metadata": {},
   "outputs": [
    {
     "data": {
      "text/plain": [
       "0.7"
      ]
     },
     "execution_count": 65,
     "metadata": {},
     "output_type": "execute_result"
    }
   ],
   "source": [
    "Q2_TS = round(r2_score(y_ts_ad, y_pred_svm_ad), 2)\n",
    "Q2_TS"
   ]
  },
  {
   "cell_type": "code",
   "execution_count": 66,
   "metadata": {},
   "outputs": [
    {
     "data": {
      "text/plain": [
       "0.65"
      ]
     },
     "execution_count": 66,
     "metadata": {},
     "output_type": "execute_result"
    }
   ],
   "source": [
    "RMSE_TS=round(np.sqrt(mean_absolute_error(y_ts_ad, y_pred_svm_ad)), 2)\n",
    "RMSE_TS"
   ]
  }
 ],
 "metadata": {
  "kernelspec": {
   "display_name": "Python3 (rdkit)",
   "language": "python",
   "name": "my-rdkit-env"
  },
  "language_info": {
   "codemirror_mode": {
    "name": "ipython",
    "version": 3
   },
   "file_extension": ".py",
   "mimetype": "text/x-python",
   "name": "python",
   "nbconvert_exporter": "python",
   "pygments_lexer": "ipython3",
   "version": "3.7.13"
  }
 },
 "nbformat": 4,
 "nbformat_minor": 2
}
